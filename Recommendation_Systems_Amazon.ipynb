{
  "cells": [
    {
      "cell_type": "markdown",
      "metadata": {
        "id": "view-in-github",
        "colab_type": "text"
      },
      "source": [
        "<a href=\"https://colab.research.google.com/github/melakefissuh/Amazon_recom_system/blob/main/Recommendation_Systems_Amazon.ipynb\" target=\"_parent\"><img src=\"https://colab.research.google.com/assets/colab-badge.svg\" alt=\"Open In Colab\"/></a>"
      ]
    },
    {
      "cell_type": "markdown",
      "metadata": {
        "id": "pXQzH0nC5JtP"
      },
      "source": [
        "# **Project: Amazon Product Recommendation System**\n",
        "\n",
        "\n",
        "\n",
        "Welcome to the project on Recommendation Systems. We will work with the Amazon product reviews dataset for this project. The dataset contains ratings of different electronic products. It does not include information about the products or reviews to avoid bias while building the model.\n",
        "\n",
        "--------------\n",
        "## **Context:**\n",
        "--------------\n",
        "\n",
        "Today, information is growing exponentially with volume, velocity and variety throughout the globe. This has lead to information overload, and too many choices for the consumer of any business. It represents a real dilemma for these consumers and they often turn to denial. Recommender Systems are one of the best tools that help recommending products to consumers while they are browsing online. Providing personalized recommendations which is most relevant for the user is what's most likely to keep them engaged and help business.\n",
        "\n",
        "E-commerce websites like Amazon, Walmart, Target and Etsy use different recommendation models to provide personalized suggestions to different users. These companies spend millions of dollars to come up with algorithmic techniques that can provide personalized recommendations to their users.\n",
        "\n",
        "Amazon, for example, is well-known for its accurate selection of recommendations in its online site. Amazon's recommendation system is capable of intelligently analyzing and predicting customers' shopping preferences in order to offer them a list of recommended products. Amazon's recommendation algorithm is therefore a key element in using AI to improve the personalization of its website. For example, one of the baseline recommendation models that Amazon uses is item-to-item collaborative filtering, which scales to massive data sets and produces high-quality recommendations in real-time.\n",
        "\n",
        "----------------\n",
        "## **Objective:**\n",
        "----------------\n",
        "\n",
        "You are a Data Science Manager at Amazon, and have been given the task of building a recommendation system to recommend products to customers based on their previous ratings for other products. You have a collection of labeled data of Amazon reviews of products. The goal is to extract meaningful insights from the data and build a recommendation system that helps in recommending products to online consumers.\n",
        "\n",
        "-----------------------------\n",
        "## **Dataset:**\n",
        "-----------------------------\n",
        "\n",
        "The Amazon dataset contains the following attributes:\n",
        "\n",
        "- **userId:** Every user identified with a unique id\n",
        "- **productId:** Every product identified with a unique id\n",
        "- **Rating:** The rating of the corresponding product by the corresponding user\n",
        "- **timestamp:** Time of the rating. We **will not use this column** to solve the current problem"
      ]
    },
    {
      "cell_type": "markdown",
      "metadata": {
        "id": "nmdPxJ2Q7W7p"
      },
      "source": [
        "**Note:** The code has some user defined functions that will be usefull while making recommendations and measure model performance, you can use these functions or can create your own functions."
      ]
    },
    {
      "cell_type": "markdown",
      "metadata": {
        "id": "UoRfgjS2yekq"
      },
      "source": [
        "Sometimes, the installation of the surprise library, which is used to build recommendation systems, faces issues in Jupyter. To avoid any issues, it is advised to use **Google Colab** for this project.\n",
        "\n",
        "Let's start by mounting the Google drive on Colab."
      ]
    },
    {
      "cell_type": "code",
      "execution_count": null,
      "metadata": {
        "id": "GZ0YAszcT4zK",
        "colab": {
          "base_uri": "https://localhost:8080/"
        },
        "outputId": "978c4a80-6870-499f-82ab-f4761e65d25e"
      },
      "outputs": [
        {
          "output_type": "stream",
          "name": "stdout",
          "text": [
            "Drive already mounted at /content/drive; to attempt to forcibly remount, call drive.mount(\"/content/drive\", force_remount=True).\n"
          ]
        }
      ],
      "source": [
        "from google.colab import drive\n",
        "drive.mount('/content/drive')"
      ]
    },
    {
      "cell_type": "markdown",
      "metadata": {
        "id": "0Ibk07-Cyekt"
      },
      "source": [
        "**Installing surprise library**"
      ]
    },
    {
      "cell_type": "code",
      "execution_count": 1,
      "metadata": {
        "id": "05HQoiZYlsbB",
        "colab": {
          "base_uri": "https://localhost:8080/"
        },
        "outputId": "b0ad44a9-52a5-4cef-fb55-7699abd0fe31"
      },
      "outputs": [
        {
          "output_type": "stream",
          "name": "stdout",
          "text": [
            "Collecting surprise\n",
            "  Downloading surprise-0.1-py2.py3-none-any.whl.metadata (327 bytes)\n",
            "Collecting scikit-surprise (from surprise)\n",
            "  Downloading scikit_surprise-1.1.4.tar.gz (154 kB)\n",
            "\u001b[2K     \u001b[90m━━━━━━━━━━━━━━━━━━━━━━━━━━━━━━━━━━━━━━━━\u001b[0m \u001b[32m154.4/154.4 kB\u001b[0m \u001b[31m3.6 MB/s\u001b[0m eta \u001b[36m0:00:00\u001b[0m\n",
            "\u001b[?25h  Installing build dependencies ... \u001b[?25l\u001b[?25hdone\n",
            "  Getting requirements to build wheel ... \u001b[?25l\u001b[?25hdone\n",
            "  Preparing metadata (pyproject.toml) ... \u001b[?25l\u001b[?25hdone\n",
            "Requirement already satisfied: joblib>=1.2.0 in /usr/local/lib/python3.10/dist-packages (from scikit-surprise->surprise) (1.4.2)\n",
            "Requirement already satisfied: numpy>=1.19.5 in /usr/local/lib/python3.10/dist-packages (from scikit-surprise->surprise) (1.26.4)\n",
            "Requirement already satisfied: scipy>=1.6.0 in /usr/local/lib/python3.10/dist-packages (from scikit-surprise->surprise) (1.13.1)\n",
            "Downloading surprise-0.1-py2.py3-none-any.whl (1.8 kB)\n",
            "Building wheels for collected packages: scikit-surprise\n",
            "  Building wheel for scikit-surprise (pyproject.toml) ... \u001b[?25l\u001b[?25hdone\n",
            "  Created wheel for scikit-surprise: filename=scikit_surprise-1.1.4-cp310-cp310-linux_x86_64.whl size=2357247 sha256=aa446db60e21cb03cd87efe67f191b3d3b8c814169f4cfc1292e85cc88415edf\n",
            "  Stored in directory: /root/.cache/pip/wheels/4b/3f/df/6acbf0a40397d9bf3ff97f582cc22fb9ce66adde75bc71fd54\n",
            "Successfully built scikit-surprise\n",
            "Installing collected packages: scikit-surprise, surprise\n",
            "Successfully installed scikit-surprise-1.1.4 surprise-0.1\n"
          ]
        }
      ],
      "source": [
        "pip install surprise"
      ]
    },
    {
      "cell_type": "markdown",
      "metadata": {
        "id": "7fIt4jcFIm76"
      },
      "source": [
        "## **Importing the necessary libraries and overview of the dataset**"
      ]
    },
    {
      "cell_type": "code",
      "execution_count": 2,
      "metadata": {
        "id": "jzu2P-TT5JtP"
      },
      "outputs": [],
      "source": [
        "# Used to ignore the warning given as output of the code\n",
        "import warnings\n",
        "warnings.filterwarnings('ignore')\n",
        "\n",
        "# Basic libraries of python for numeric and dataframe computations\n",
        "import numpy as np, pandas as pd\n",
        "\n",
        "# Basic library for data visualization\n",
        "import matplotlib.pyplot as plt\n",
        "\n",
        "# Slightly advanced library for data visualization\n",
        "import seaborn as sns\n",
        "\n",
        "# A dictionary output that does not raise a key error\n",
        "from collections import defaultdict\n",
        "\n",
        "# A performance metrics in sklearn\n",
        "from sklearn.metrics import mean_squared_error"
      ]
    },
    {
      "cell_type": "markdown",
      "metadata": {
        "id": "NrXYJAv95JtP"
      },
      "source": [
        "### **Loading the data**\n",
        "- Import the Dataset\n",
        "- Add column names ['user_id', 'prod_id', 'rating', 'timestamp']\n",
        "- Drop the column timestamp\n",
        "- Copy the data to another DataFrame called **df**"
      ]
    },
    {
      "cell_type": "code",
      "execution_count": 3,
      "metadata": {
        "id": "JGb-Hk1B5JtP"
      },
      "outputs": [],
      "source": [
        "df = pd.read_csv('/content/ratings_Electronics.csv', header = None) # There are no headers in the data file\n",
        "\n",
        "df.columns = ['user_id', 'prod_id', 'rating', 'timestamp'] # Adding column names\n",
        "\n",
        "df = df.drop('timestamp', axis = 1) # Dropping timestamp\n",
        "\n",
        "df_copy = df.copy(deep = True) # Copying the data to another DataFrame"
      ]
    },
    {
      "cell_type": "code",
      "source": [
        "df.shape"
      ],
      "metadata": {
        "colab": {
          "base_uri": "https://localhost:8080/"
        },
        "id": "PmF9YHfMz4RW",
        "outputId": "75065b63-bb1b-422e-87c9-2f0fcd1d341a"
      },
      "execution_count": 4,
      "outputs": [
        {
          "output_type": "execute_result",
          "data": {
            "text/plain": [
              "(7824482, 3)"
            ]
          },
          "metadata": {},
          "execution_count": 4
        }
      ]
    },
    {
      "cell_type": "markdown",
      "metadata": {
        "id": "OVQnSG5g_9uX"
      },
      "source": [
        "**As this dataset is very large and has 7,824,482 observations, it is not computationally possible to build a model using this. Moreover, many users have only rated a few products and also some products are rated by very few users. Hence, we can reduce the dataset by considering certain logical assumptions.**\n",
        "\n",
        "Here, we will be taking users who have given at least 50 ratings, and the products that have at least 5 ratings, as when we shop online we prefer to have some number of ratings of a product."
      ]
    },
    {
      "cell_type": "code",
      "execution_count": 5,
      "metadata": {
        "id": "4yt9W7Q32EQQ"
      },
      "outputs": [],
      "source": [
        "# Get the column containing the users\n",
        "users = df.user_id\n",
        "\n",
        "# Create a dictionary from users to their number of ratings\n",
        "ratings_count = dict()\n",
        "\n",
        "for user in users:\n",
        "\n",
        "    # If we already have the user, just add 1 to their rating count\n",
        "    if user in ratings_count:\n",
        "        ratings_count[user] += 1\n",
        "\n",
        "    # Otherwise, set their rating count to 1\n",
        "    else:\n",
        "        ratings_count[user] = 1"
      ]
    },
    {
      "cell_type": "code",
      "execution_count": 6,
      "metadata": {
        "id": "19XB60dq2EQR"
      },
      "outputs": [],
      "source": [
        "# We want our users to have at least 50 ratings to be considered\n",
        "RATINGS_CUTOFF = 50\n",
        "\n",
        "remove_users = []\n",
        "\n",
        "for user, num_ratings in ratings_count.items():\n",
        "    if num_ratings < RATINGS_CUTOFF:\n",
        "        remove_users.append(user)\n",
        "\n",
        "df = df.loc[ ~ df.user_id.isin(remove_users)]"
      ]
    },
    {
      "cell_type": "code",
      "execution_count": 7,
      "metadata": {
        "id": "33UzK1D82EQS"
      },
      "outputs": [],
      "source": [
        "# Get the column containing the products\n",
        "prods = df.prod_id\n",
        "\n",
        "# Create a dictionary from products to their number of ratings\n",
        "ratings_count = dict()\n",
        "\n",
        "for prod in prods:\n",
        "\n",
        "    # If we already have the product, just add 1 to its rating count\n",
        "    if prod in ratings_count:\n",
        "        ratings_count[prod] += 1\n",
        "\n",
        "    # Otherwise, set their rating count to 1\n",
        "    else:\n",
        "        ratings_count[prod] = 1"
      ]
    },
    {
      "cell_type": "code",
      "execution_count": 8,
      "metadata": {
        "id": "u6YE-lUp2EQT"
      },
      "outputs": [],
      "source": [
        "# We want our item to have at least 5 ratings to be considered\n",
        "RATINGS_CUTOFF = 5\n",
        "\n",
        "remove_users = []\n",
        "\n",
        "for user, num_ratings in ratings_count.items():\n",
        "    if num_ratings < RATINGS_CUTOFF:\n",
        "        remove_users.append(user)\n",
        "\n",
        "df_final = df.loc[~ df.prod_id.isin(remove_users)]"
      ]
    },
    {
      "cell_type": "code",
      "execution_count": 9,
      "metadata": {
        "id": "aL1JZ00o5JtQ",
        "colab": {
          "base_uri": "https://localhost:8080/",
          "height": 1000
        },
        "outputId": "533ba82f-8bee-42fe-d36c-0b1936e4c92b"
      },
      "outputs": [
        {
          "output_type": "execute_result",
          "data": {
            "text/plain": [
              "             user_id     prod_id  rating\n",
              "1310  A3LDPF5FMB782Z  1400501466     5.0\n",
              "1322  A1A5KUIIIHFF4U  1400501466     1.0\n",
              "1335  A2XIOXRRYX0KZY  1400501466     3.0\n",
              "1451   AW3LX47IHPFRL  1400501466     5.0\n",
              "1456  A1E3OB6QMBKRYZ  1400501466     1.0\n",
              "1485  A19N3S7CBSU6O7  1400501466     5.0\n",
              "2082  A2ZR3YTMEEIIZ4  1400532655     5.0\n",
              "2150  A3CLWR1UUZT6TG  1400532655     5.0\n",
              "2162   A5JLAU2ARJ0BO  1400532655     1.0\n",
              "2228  A1P4XD7IORSEFN  1400532655     4.0\n",
              "2363  A341HCMGNZCBIT  1400532655     5.0\n",
              "2437  A3HPCRD9RX351S  1400532655     3.0\n",
              "3007  A1DQHS7MOVYYYA  1400599997     5.0\n",
              "3050   ALUNVOQRXOZIA  1400599997     1.0\n",
              "3178  A19N3S7CBSU6O7  1400599997     5.0"
            ],
            "text/html": [
              "\n",
              "  <div id=\"df-b9e17ec9-38c3-4ae0-bf8d-15d9333422f9\" class=\"colab-df-container\">\n",
              "    <div>\n",
              "<style scoped>\n",
              "    .dataframe tbody tr th:only-of-type {\n",
              "        vertical-align: middle;\n",
              "    }\n",
              "\n",
              "    .dataframe tbody tr th {\n",
              "        vertical-align: top;\n",
              "    }\n",
              "\n",
              "    .dataframe thead th {\n",
              "        text-align: right;\n",
              "    }\n",
              "</style>\n",
              "<table border=\"1\" class=\"dataframe\">\n",
              "  <thead>\n",
              "    <tr style=\"text-align: right;\">\n",
              "      <th></th>\n",
              "      <th>user_id</th>\n",
              "      <th>prod_id</th>\n",
              "      <th>rating</th>\n",
              "    </tr>\n",
              "  </thead>\n",
              "  <tbody>\n",
              "    <tr>\n",
              "      <th>1310</th>\n",
              "      <td>A3LDPF5FMB782Z</td>\n",
              "      <td>1400501466</td>\n",
              "      <td>5.0</td>\n",
              "    </tr>\n",
              "    <tr>\n",
              "      <th>1322</th>\n",
              "      <td>A1A5KUIIIHFF4U</td>\n",
              "      <td>1400501466</td>\n",
              "      <td>1.0</td>\n",
              "    </tr>\n",
              "    <tr>\n",
              "      <th>1335</th>\n",
              "      <td>A2XIOXRRYX0KZY</td>\n",
              "      <td>1400501466</td>\n",
              "      <td>3.0</td>\n",
              "    </tr>\n",
              "    <tr>\n",
              "      <th>1451</th>\n",
              "      <td>AW3LX47IHPFRL</td>\n",
              "      <td>1400501466</td>\n",
              "      <td>5.0</td>\n",
              "    </tr>\n",
              "    <tr>\n",
              "      <th>1456</th>\n",
              "      <td>A1E3OB6QMBKRYZ</td>\n",
              "      <td>1400501466</td>\n",
              "      <td>1.0</td>\n",
              "    </tr>\n",
              "    <tr>\n",
              "      <th>1485</th>\n",
              "      <td>A19N3S7CBSU6O7</td>\n",
              "      <td>1400501466</td>\n",
              "      <td>5.0</td>\n",
              "    </tr>\n",
              "    <tr>\n",
              "      <th>2082</th>\n",
              "      <td>A2ZR3YTMEEIIZ4</td>\n",
              "      <td>1400532655</td>\n",
              "      <td>5.0</td>\n",
              "    </tr>\n",
              "    <tr>\n",
              "      <th>2150</th>\n",
              "      <td>A3CLWR1UUZT6TG</td>\n",
              "      <td>1400532655</td>\n",
              "      <td>5.0</td>\n",
              "    </tr>\n",
              "    <tr>\n",
              "      <th>2162</th>\n",
              "      <td>A5JLAU2ARJ0BO</td>\n",
              "      <td>1400532655</td>\n",
              "      <td>1.0</td>\n",
              "    </tr>\n",
              "    <tr>\n",
              "      <th>2228</th>\n",
              "      <td>A1P4XD7IORSEFN</td>\n",
              "      <td>1400532655</td>\n",
              "      <td>4.0</td>\n",
              "    </tr>\n",
              "    <tr>\n",
              "      <th>2363</th>\n",
              "      <td>A341HCMGNZCBIT</td>\n",
              "      <td>1400532655</td>\n",
              "      <td>5.0</td>\n",
              "    </tr>\n",
              "    <tr>\n",
              "      <th>2437</th>\n",
              "      <td>A3HPCRD9RX351S</td>\n",
              "      <td>1400532655</td>\n",
              "      <td>3.0</td>\n",
              "    </tr>\n",
              "    <tr>\n",
              "      <th>3007</th>\n",
              "      <td>A1DQHS7MOVYYYA</td>\n",
              "      <td>1400599997</td>\n",
              "      <td>5.0</td>\n",
              "    </tr>\n",
              "    <tr>\n",
              "      <th>3050</th>\n",
              "      <td>ALUNVOQRXOZIA</td>\n",
              "      <td>1400599997</td>\n",
              "      <td>1.0</td>\n",
              "    </tr>\n",
              "    <tr>\n",
              "      <th>3178</th>\n",
              "      <td>A19N3S7CBSU6O7</td>\n",
              "      <td>1400599997</td>\n",
              "      <td>5.0</td>\n",
              "    </tr>\n",
              "  </tbody>\n",
              "</table>\n",
              "</div>\n",
              "    <div class=\"colab-df-buttons\">\n",
              "\n",
              "  <div class=\"colab-df-container\">\n",
              "    <button class=\"colab-df-convert\" onclick=\"convertToInteractive('df-b9e17ec9-38c3-4ae0-bf8d-15d9333422f9')\"\n",
              "            title=\"Convert this dataframe to an interactive table.\"\n",
              "            style=\"display:none;\">\n",
              "\n",
              "  <svg xmlns=\"http://www.w3.org/2000/svg\" height=\"24px\" viewBox=\"0 -960 960 960\">\n",
              "    <path d=\"M120-120v-720h720v720H120Zm60-500h600v-160H180v160Zm220 220h160v-160H400v160Zm0 220h160v-160H400v160ZM180-400h160v-160H180v160Zm440 0h160v-160H620v160ZM180-180h160v-160H180v160Zm440 0h160v-160H620v160Z\"/>\n",
              "  </svg>\n",
              "    </button>\n",
              "\n",
              "  <style>\n",
              "    .colab-df-container {\n",
              "      display:flex;\n",
              "      gap: 12px;\n",
              "    }\n",
              "\n",
              "    .colab-df-convert {\n",
              "      background-color: #E8F0FE;\n",
              "      border: none;\n",
              "      border-radius: 50%;\n",
              "      cursor: pointer;\n",
              "      display: none;\n",
              "      fill: #1967D2;\n",
              "      height: 32px;\n",
              "      padding: 0 0 0 0;\n",
              "      width: 32px;\n",
              "    }\n",
              "\n",
              "    .colab-df-convert:hover {\n",
              "      background-color: #E2EBFA;\n",
              "      box-shadow: 0px 1px 2px rgba(60, 64, 67, 0.3), 0px 1px 3px 1px rgba(60, 64, 67, 0.15);\n",
              "      fill: #174EA6;\n",
              "    }\n",
              "\n",
              "    .colab-df-buttons div {\n",
              "      margin-bottom: 4px;\n",
              "    }\n",
              "\n",
              "    [theme=dark] .colab-df-convert {\n",
              "      background-color: #3B4455;\n",
              "      fill: #D2E3FC;\n",
              "    }\n",
              "\n",
              "    [theme=dark] .colab-df-convert:hover {\n",
              "      background-color: #434B5C;\n",
              "      box-shadow: 0px 1px 3px 1px rgba(0, 0, 0, 0.15);\n",
              "      filter: drop-shadow(0px 1px 2px rgba(0, 0, 0, 0.3));\n",
              "      fill: #FFFFFF;\n",
              "    }\n",
              "  </style>\n",
              "\n",
              "    <script>\n",
              "      const buttonEl =\n",
              "        document.querySelector('#df-b9e17ec9-38c3-4ae0-bf8d-15d9333422f9 button.colab-df-convert');\n",
              "      buttonEl.style.display =\n",
              "        google.colab.kernel.accessAllowed ? 'block' : 'none';\n",
              "\n",
              "      async function convertToInteractive(key) {\n",
              "        const element = document.querySelector('#df-b9e17ec9-38c3-4ae0-bf8d-15d9333422f9');\n",
              "        const dataTable =\n",
              "          await google.colab.kernel.invokeFunction('convertToInteractive',\n",
              "                                                    [key], {});\n",
              "        if (!dataTable) return;\n",
              "\n",
              "        const docLinkHtml = 'Like what you see? Visit the ' +\n",
              "          '<a target=\"_blank\" href=https://colab.research.google.com/notebooks/data_table.ipynb>data table notebook</a>'\n",
              "          + ' to learn more about interactive tables.';\n",
              "        element.innerHTML = '';\n",
              "        dataTable['output_type'] = 'display_data';\n",
              "        await google.colab.output.renderOutput(dataTable, element);\n",
              "        const docLink = document.createElement('div');\n",
              "        docLink.innerHTML = docLinkHtml;\n",
              "        element.appendChild(docLink);\n",
              "      }\n",
              "    </script>\n",
              "  </div>\n",
              "\n",
              "\n",
              "<div id=\"df-0a37a8b6-3b58-485d-9de3-f57c31812287\">\n",
              "  <button class=\"colab-df-quickchart\" onclick=\"quickchart('df-0a37a8b6-3b58-485d-9de3-f57c31812287')\"\n",
              "            title=\"Suggest charts\"\n",
              "            style=\"display:none;\">\n",
              "\n",
              "<svg xmlns=\"http://www.w3.org/2000/svg\" height=\"24px\"viewBox=\"0 0 24 24\"\n",
              "     width=\"24px\">\n",
              "    <g>\n",
              "        <path d=\"M19 3H5c-1.1 0-2 .9-2 2v14c0 1.1.9 2 2 2h14c1.1 0 2-.9 2-2V5c0-1.1-.9-2-2-2zM9 17H7v-7h2v7zm4 0h-2V7h2v10zm4 0h-2v-4h2v4z\"/>\n",
              "    </g>\n",
              "</svg>\n",
              "  </button>\n",
              "\n",
              "<style>\n",
              "  .colab-df-quickchart {\n",
              "      --bg-color: #E8F0FE;\n",
              "      --fill-color: #1967D2;\n",
              "      --hover-bg-color: #E2EBFA;\n",
              "      --hover-fill-color: #174EA6;\n",
              "      --disabled-fill-color: #AAA;\n",
              "      --disabled-bg-color: #DDD;\n",
              "  }\n",
              "\n",
              "  [theme=dark] .colab-df-quickchart {\n",
              "      --bg-color: #3B4455;\n",
              "      --fill-color: #D2E3FC;\n",
              "      --hover-bg-color: #434B5C;\n",
              "      --hover-fill-color: #FFFFFF;\n",
              "      --disabled-bg-color: #3B4455;\n",
              "      --disabled-fill-color: #666;\n",
              "  }\n",
              "\n",
              "  .colab-df-quickchart {\n",
              "    background-color: var(--bg-color);\n",
              "    border: none;\n",
              "    border-radius: 50%;\n",
              "    cursor: pointer;\n",
              "    display: none;\n",
              "    fill: var(--fill-color);\n",
              "    height: 32px;\n",
              "    padding: 0;\n",
              "    width: 32px;\n",
              "  }\n",
              "\n",
              "  .colab-df-quickchart:hover {\n",
              "    background-color: var(--hover-bg-color);\n",
              "    box-shadow: 0 1px 2px rgba(60, 64, 67, 0.3), 0 1px 3px 1px rgba(60, 64, 67, 0.15);\n",
              "    fill: var(--button-hover-fill-color);\n",
              "  }\n",
              "\n",
              "  .colab-df-quickchart-complete:disabled,\n",
              "  .colab-df-quickchart-complete:disabled:hover {\n",
              "    background-color: var(--disabled-bg-color);\n",
              "    fill: var(--disabled-fill-color);\n",
              "    box-shadow: none;\n",
              "  }\n",
              "\n",
              "  .colab-df-spinner {\n",
              "    border: 2px solid var(--fill-color);\n",
              "    border-color: transparent;\n",
              "    border-bottom-color: var(--fill-color);\n",
              "    animation:\n",
              "      spin 1s steps(1) infinite;\n",
              "  }\n",
              "\n",
              "  @keyframes spin {\n",
              "    0% {\n",
              "      border-color: transparent;\n",
              "      border-bottom-color: var(--fill-color);\n",
              "      border-left-color: var(--fill-color);\n",
              "    }\n",
              "    20% {\n",
              "      border-color: transparent;\n",
              "      border-left-color: var(--fill-color);\n",
              "      border-top-color: var(--fill-color);\n",
              "    }\n",
              "    30% {\n",
              "      border-color: transparent;\n",
              "      border-left-color: var(--fill-color);\n",
              "      border-top-color: var(--fill-color);\n",
              "      border-right-color: var(--fill-color);\n",
              "    }\n",
              "    40% {\n",
              "      border-color: transparent;\n",
              "      border-right-color: var(--fill-color);\n",
              "      border-top-color: var(--fill-color);\n",
              "    }\n",
              "    60% {\n",
              "      border-color: transparent;\n",
              "      border-right-color: var(--fill-color);\n",
              "    }\n",
              "    80% {\n",
              "      border-color: transparent;\n",
              "      border-right-color: var(--fill-color);\n",
              "      border-bottom-color: var(--fill-color);\n",
              "    }\n",
              "    90% {\n",
              "      border-color: transparent;\n",
              "      border-bottom-color: var(--fill-color);\n",
              "    }\n",
              "  }\n",
              "</style>\n",
              "\n",
              "  <script>\n",
              "    async function quickchart(key) {\n",
              "      const quickchartButtonEl =\n",
              "        document.querySelector('#' + key + ' button');\n",
              "      quickchartButtonEl.disabled = true;  // To prevent multiple clicks.\n",
              "      quickchartButtonEl.classList.add('colab-df-spinner');\n",
              "      try {\n",
              "        const charts = await google.colab.kernel.invokeFunction(\n",
              "            'suggestCharts', [key], {});\n",
              "      } catch (error) {\n",
              "        console.error('Error during call to suggestCharts:', error);\n",
              "      }\n",
              "      quickchartButtonEl.classList.remove('colab-df-spinner');\n",
              "      quickchartButtonEl.classList.add('colab-df-quickchart-complete');\n",
              "    }\n",
              "    (() => {\n",
              "      let quickchartButtonEl =\n",
              "        document.querySelector('#df-0a37a8b6-3b58-485d-9de3-f57c31812287 button');\n",
              "      quickchartButtonEl.style.display =\n",
              "        google.colab.kernel.accessAllowed ? 'block' : 'none';\n",
              "    })();\n",
              "  </script>\n",
              "</div>\n",
              "\n",
              "    </div>\n",
              "  </div>\n"
            ],
            "application/vnd.google.colaboratory.intrinsic+json": {
              "type": "dataframe",
              "variable_name": "df_final",
              "summary": "{\n  \"name\": \"df_final\",\n  \"rows\": 65290,\n  \"fields\": [\n    {\n      \"column\": \"user_id\",\n      \"properties\": {\n        \"dtype\": \"category\",\n        \"num_unique_values\": 1540,\n        \"samples\": [\n          \"A1VJ0V58N0698J\",\n          \"A14X244VGHWPSX\",\n          \"A14JBDSWKPKTZA\"\n        ],\n        \"semantic_type\": \"\",\n        \"description\": \"\"\n      }\n    },\n    {\n      \"column\": \"prod_id\",\n      \"properties\": {\n        \"dtype\": \"category\",\n        \"num_unique_values\": 5689,\n        \"samples\": [\n          \"B005EOWBHC\",\n          \"B00BB72WX4\",\n          \"B00B9AB26G\"\n        ],\n        \"semantic_type\": \"\",\n        \"description\": \"\"\n      }\n    },\n    {\n      \"column\": \"rating\",\n      \"properties\": {\n        \"dtype\": \"number\",\n        \"std\": 0.9889148020336815,\n        \"min\": 1.0,\n        \"max\": 5.0,\n        \"num_unique_values\": 5,\n        \"samples\": [\n          1.0,\n          2.0,\n          3.0\n        ],\n        \"semantic_type\": \"\",\n        \"description\": \"\"\n      }\n    }\n  ]\n}"
            }
          },
          "metadata": {},
          "execution_count": 9
        },
        {
          "output_type": "display_data",
          "data": {
            "text/plain": [
              "<google.colab._quickchart_helpers.SectionTitle at 0x7e96067bb430>"
            ],
            "text/html": [
              "<h4 class=\"colab-quickchart-section-title\">Distributions</h4>\n",
              "<style>\n",
              "  .colab-quickchart-section-title {\n",
              "      clear: both;\n",
              "  }\n",
              "</style>"
            ]
          },
          "metadata": {}
        },
        {
          "output_type": "display_data",
          "data": {
            "text/plain": [
              "from matplotlib import pyplot as plt\n",
              "_df_0['rating'].plot(kind='hist', bins=20, title='rating')\n",
              "plt.gca().spines[['top', 'right',]].set_visible(False)"
            ],
            "text/html": [
              "      <div class=\"colab-quickchart-chart-with-code\" id=\"chart-5226375f-c113-41fa-abe7-f4ff0fe6a61a\">\n",
              "        <img style=\"width: 180px;\" src=\"data:image/png;base64,iVBORw0KGgoAAAANSUhEUgAAAiAAAAGrCAYAAAD5FiyaAAAAOXRFWHRTb2Z0d2FyZQBNYXRwbG90\n",
              "bGliIHZlcnNpb24zLjcuMSwgaHR0cHM6Ly9tYXRwbG90bGliLm9yZy/bCgiHAAAACXBIWXMAAA9h\n",
              "AAAPYQGoP6dpAAAejklEQVR4nO3de5CV9X348c/ZxRwvATbclHANyiVeuNYdqvHSONpCWqBoknoJ\n",
              "eCGYGIY46sQwmkZShzUzyqhYDTqExGbGYgPKiKIdGYy2NiFeqybFgiyIoqQIu2rgKMvz+8Nxf26A\n",
              "uAf3+R7O+nrNnBnOs0+e5/MdfPSdc549p5BlWRYAAAnVVHoAAODTR4AAAMkJEAAgOQECACQnQACA\n",
              "5AQIAJCcAAEAkhMgAEByAgQASE6AAEnNmzcvzjrrrEqPAVRYwUexA3kZPHhwXHvttTFjxoxKjwIc\n",
              "ZLwCAhyQ9957r9IjAFVMgADtcvrpp8esWbPiH/7hH+Jzn/tczJ49O7761a9Gv379omvXrjF8+PD4\n",
              "53/+59b9J0yYEJs2bYpZs2bFZz/72TjuuOMiIuK6666LL33pS22O+93vfjfOO++86N69ewwYMCDu\n",
              "uOOONudevHhxHHPMMdG1a9eYOnVqzJo1K04//fQk6wbyIUCAdlu8eHFMmzYttm3bFjfddFNMnDgx\n",
              "XnrppWhqaor58+fHFVdcEY888khERKxcuTIGDhwYt912W7zzzjvx0ksv7fe4P/vZz2LGjBmxffv2\n",
              "uPnmm2PWrFmxbt26iIh4/PHH41vf+lYsWLAgduzYETNmzIif/vSnSdYL5EeAAO02adKkmDhxYtTU\n",
              "1MQRRxwRF110UdTV1UVNTU185Stfib/5m7+Jf//3fy/7uGeffXZ8+ctfjpqamjj77LOjR48e8fTT\n",
              "T0dExN133x2TJ0+OCRMmRG1tbUycODEmTpzY0UsDEhMgQLt94QtfaP1zqVSKq666KoYNGxbdu3eP\n",
              "urq6WLlyZWzdurXs437+859v8/yII46It99+OyIiXnvttRg0aFCbnw8ePLj84YGDigAB2q2m5v//\n",
              "K2P+/PnxwAMPxAMPPBDbt2+PHTt2xIQJE+Kjv1j30f0PVL9+/WLjxo1ttv3pc6D6CBDggDQ1NUWx\n",
              "WIzevXvHnj174t/+7d/2evvlqKOOirVr136i83zjG9+I5cuXxyOPPBItLS3x8MMPx0MPPfSJjglU\n",
              "ngABDshVV10VAwYMiEGDBsXnP//5WLVqVUyZMqXNPv/4j/8Yy5cvj7q6uhg5cuQBnee0006L22+/\n",
              "PS677LKoq6uLhQsXxvnnnx+HHnpoB6wCqBQfRAZUnSlTpsSRRx4ZCxcurPQowAHyCghw0Fu6dGk0\n",
              "NzfH+++/H0uWLIkVK1bE+eefX+mxgE+gS6UHAPg4DzzwQHzzm9+M9957LwYNGhQ//elP49RTT630\n",
              "WMAn4C0YACA5b8EAAMkJEAAgOQECACQnQACA5A7aALnlllsqPQIAkJODNkB81wMAdF4HbYAAAJ2X\n",
              "AAEAkhMgAEByAgQASE6AAADJCRAAIDkBAgAkJ0AAgOQECACQnAABAJITIABAcgIEAEgu1wB56KGH\n",
              "YuzYsTF69Og4/vjj4+c//3mepwMAqkSXvA6cZVlccMEF8dhjj8XIkSOjsbExRowYEVOnTo2uXbvm\n",
              "dVoAoArkFiAREYVCIXbs2BEREc3NzdGzZ88oFot77VcqlaJUKrXZ1tLSkudoAEAF5RYghUIhlixZ\n",
              "ElOnTo0jjjgitm/fHsuWLYvPfOYze+3b0NAQc+fObbNt/PjxeY0GAFVh8PcfzO3YjTd8Jbdjt0du\n",
              "94Ds3r07rr/++li2bFls3LgxVq1aFd/4xjfi//7v//bad86cOdHU1NTmUV9fn9doAECF5RYgzz33\n",
              "XLz++utx6qmnRkTEiSeeGP37949nn312r32LxWJ069atzaO2tjav0QCACsstQAYMGBBbtmyJ3//+\n",
              "9xERsW7duli/fn0MHz48r1MCAFUit3tAjjzyyLjzzjvja1/7WtTU1MSePXvitttui4EDB+Z1SgCg\n",
              "SuT6WzDnnntunHvuuXmeAgCoQj4JFQBIToAAAMkJEAAgOQECACQnQACA5AQIAJCcAAEAkhMgAEBy\n",
              "AgQASE6AAADJCRAAIDkBAgAkJ0AAgOQECACQnAABAJITIABAcgIEAEhOgAAAyQkQACA5AQIAJCdA\n",
              "AIDkBAgAkJwAAQCSEyAAQHICBABIToAAAMkJEAAgOQECACQnQACA5AQIAJCcAAEAkhMgAEByAgQA\n",
              "SE6AAADJCRAAILkueR1427ZtccYZZ7Q+/+Mf/xivvPJKbN26NXr06JHXaQGAKpBbgPTs2TOee+65\n",
              "1uc33nhj/OpXvxIfAEB+AfKnFi1aFA0NDfv8WalUilKp1GZbS0tLirEAgApIcg/Ik08+Gdu3b4+/\n",
              "/du/3efPGxoaonv37m0ea9asSTEaAFABSQJk0aJFMW3atOjSZd8vuMyZMyeampraPOrr61OMBgBU\n",
              "QO5vwbzzzjtx7733xm9/+9v97lMsFqNYLLbZVltbm/doAECF5P4KyJIlS2LUqFExYsSIvE8FAFSJ\n",
              "3ANk0aJFcckll+R9GgCgiuT+FsyTTz6Z9ykAgCrjk1ABgOQECACQnAABAJITIABAcgIEAEhOgAAA\n",
              "yQkQACA5AQIAJCdAAIDkBAgAkJwAAQCSEyAAQHICBABIToAAAMkJEAAgOQECACQnQACA5AQIAJCc\n",
              "AAEAkhMgAEByAgQASE6AAADJCRAAIDkBAgAkJ0AAgOQECACQnAABAJITIABAcgIEAEhOgAAAyQkQ\n",
              "ACA5AQIAJCdAAIDkBAgAkJwAAQCSyzVASqVSzJo1K4YOHRonnHBCXHDBBXmeDgCoEl3yPPj3v//9\n",
              "KBQK8fLLL0ehUIg33ngjz9MBAFUitwB59913Y9GiRbF58+YoFAoREXHUUUftc99SqRSlUqnNtpaW\n",
              "lrxGAwAqLLe3YNavXx89evSIefPmxV/8xV/EKaecEqtWrdrnvg0NDdG9e/c2jzVr1uQ1GgBQYbkF\n",
              "yO7du2Pjxo1x7LHHxlNPPRW33nprfP3rX48333xzr33nzJkTTU1NbR719fV5jQYAVFhub8EMHDgw\n",
              "ampq4vzzz4+IiDFjxsQXvvCFeOGFF+LII49ss2+xWIxisdhmW21tbV6jAQAVltsrIL169Yozzjgj\n",
              "HnnkkYiI2LBhQ2zYsCG++MUv5nVKAKBK5PpbMD/5yU/ikksuiauvvjpqampi4cKF0a9fvzxPCQBU\n",
              "gVwDZMiQIbF69eo8TwEAVCGfhAoAJCdAAIDkBAgAkJwAAQCSEyAAQHICBABIToAAAMkJEAAgOQEC\n",
              "ACQnQACA5AQIAJCcAAEAkhMgAEByAgQASE6AAADJCRAAIDkBAgAkJ0AAgOQECACQnAABAJITIABA\n",
              "cgIEAEhOgAAAyQkQACA5AQIAJCdAAIDkBAgAkJwAAQCSEyAAQHICBABIToAAAMkJEAAgOQECACQn\n",
              "QACA5AQIAJBcrgEyePDgGD58eIwePTpGjx4dS5YsyfN0AECV6JL3CZYsWRKjR4/O+zQAQBXJPUDa\n",
              "o1QqRalUarOtpaWlQtMAAHnL/R6QadOmxQknnBCXXHJJ/OEPf9jnPg0NDdG9e/c2jzVr1uQ9GgBQ\n",
              "IbkGyOOPPx7//d//Hc8880z06tUrpk+fvs/95syZE01NTW0e9fX1eY4GAFRQrm/BDBw4MCIiDjnk\n",
              "kLj88stj2LBh+9yvWCxGsVhss622tjbP0QCACsrtFZB33303duzY0fr8nnvuiTFjxuR1OgCgiuT2\n",
              "Csibb74ZZ599drS0tESWZTFkyJC4++678zodAFBFcguQIUOGxLPPPpvX4QGAKuaTUAGA5AQIAJCc\n",
              "AAEAkhMgAEByZQfII488ksccAMCnSNkB8qMf/SiGDx8et9xySzQ3N+cxEwDQyZUdIP/5n/8Z//qv\n",
              "/xovvvhiDBs2LC677LL43e9+l8dsAEAndUD3gIwZMybuuuuuePjhh2PFihUxcuTIOPPMM+OFF17o\n",
              "6PkAgE7ogALk0UcfjcmTJ8fUqVPjO9/5Trzxxhtx6aWXxt///d939HwAQCdU9iehfvGLX4xevXrF\n",
              "7NmzY+rUqa1fGnfOOefEokWLOnxAAKDzKTtAfvGLX8S4ceP2+bOVK1d+4oEAgM6v7Ldgnn766Xjr\n",
              "rbdan2/bti3uuuuuDh0KAOjcyg6Q22+/PXr06NH6vGfPnnH77bd36FAAQOdWdoBkWbbXtpaWlg4Z\n",
              "BgD4dCg7QPr27Rv33ntv6/MlS5ZE3759O3QoAKBzK/sm1JtvvjkmT54c3/ve9yIi4vDDD4/ly5d3\n",
              "+GAAQOdVdoCMGDEifve738XatWsjImL48OGtv4oLANAeZQdIREShUIi6urrYvXt3vPbaaxERMXDg\n",
              "wA4dDADovMoOkJ/97Gcxe/bsOOSQQ6Km5oNbSAqFQmzdurXDhwMAOqeyA+Sf/umf4re//W0MHz48\n",
              "j3kAgE+Bsn8LplevXuIDAPhEyg6QKVOmxM033xxbt26N5ubm1gcAQHuV/RbMNddcExERV1xxRRQK\n",
              "hciyLAqFgg8jAwDarewA2bNnTx5zAACfImW/BRPxwRfS/cu//EtEROzYsSO2bNnSoUMBAJ3bAX0Z\n",
              "3cUXXxzXXXddRHzwbbjnnXdeR88FAHRiZQfInXfeGb/+9a+jW7duERFx9NFHxx/+8IcOHwwA6LzK\n",
              "DpBisRiHHXZYm21duhzQB6oCAJ9SZQdI79694+WXX45CoRARH3wyqo9hBwDKcUDfhnvuuefG//zP\n",
              "/8SAAQOiW7dusWLFijxmAwA6qbID5Jhjjonf/OY3sXbt2siyzLfhAgBlKztANm3aFBERRxxxRESE\n",
              "b8MFAMpWdoCMGzeu9RNQd+3aFX/84x+jZ8+evg0XAGi3sgPkT3/ldtmyZfH888932EAAQOd3QJ+E\n",
              "+lFTp06NBx98sCNmAQA+JcoOkI9+A+727dvj4Ycf/thvw128eHEUCoW4//77D3ROAKATKfstmLq6\n",
              "utZ7QGpra2Po0KFx66237nf/xsbGuOuuu2L8+PGfaFAAoPPI9dtw9+zZEzNmzIgFCxbElVdeud/9\n",
              "SqVSlEqlNttaWlrKHQ0AqBK5fob6/Pnz4+STT45x48b92f0aGhpi7ty5bbbl+YrJ4O/nc89K4w1f\n",
              "yeW4ANDZlH0PSE1NTdTW1u71+HD7h1588cVYunRpXHvttR97zDlz5kRTU1ObR319fbmjAQBVouxX\n",
              "QH70ox/Fzp0749vf/nZERPzkJz+Jww47LC6//PI2+z3xxBPR2NgYQ4cOjYiIN954I2bOnBlbtmxp\n",
              "/d9+qFgsRrFYbLPNp6sCQOdVdoDcd9998fTTT7c+v/7662PcuHFxzTXXtNnv29/+dpvQOP300+Py\n",
              "yy+PKVOmHPi0AECnUPZbMG+//XabTz3dunVrvP322x06FADQuZX9CsiVV14Zo0aNiokTJ0ZExMMP\n",
              "PxzXXXfdx/7vHnvssXJPBQB0UmUHyKWXXhonn3xyrF69OiIirrjiijjuuOM6fDAAoPM6oF/D7dmz\n",
              "Z5xwwglx+umnx+7du+O9996Lz3zmMx09GwDQSZV9D8gvf/nLGD9+fFx00UUREfHSSy+5sRQAKEvZ\n",
              "AdLQ0BDPPPNM1NXVRUTEqFGjYuPGjR09FwDQiZUdILW1tdGzZ88227z9AgCUo+wA6dq1a7z55ptR\n",
              "KBQiImLVqlXRo0ePDh8MAOi8yr4J9cc//nFMmDAhXnnllfjSl74UGzZsiAcfzOe7VQCAzqmsANmz\n",
              "Z0+0tLTE6tWr48knn4wsy+Kkk05qvR8EAKA9ygqQmpqamDlzZjz//PMxYcKEvGYCADq5su8BGTp0\n",
              "aKxbty6PWQCAT4my7wF56623YvTo0XHSSSfFZz/72dbty5Yt69DBAIDOq90BMnPmzLjzzjtj+vTp\n",
              "MWnSpPjc5z6X51wAQCfW7gB56qmnIiJi+vTpMXbs2HjmmWdyGwoA6NzKvgckIiLLso6eAwD4FGn3\n",
              "KyA7d+6MF154IbIsi127drX++UMjR47MZUAAoPMpK0AmTZrU+vyjfy4UCvHKK6907GQAQKfV7gBp\n",
              "bGzMcQwA4NPkgO4BAQD4JAQIAJCcAAEAkhMgAEByAgQASE6AAADJCRAAIDkBAgAkJ0AAgOQECACQ\n",
              "nAABAJITIABAcgIEAEhOgAAAyQkQACA5AQIAJCdAAIDkBAgAkFyXPA9+1llnxRtvvBE1NTXRtWvX\n",
              "uPXWW2PMmDF5nhIAqAK5Bsi9994bdXV1ERFx3333xYUXXhjPP/98nqcEAKpArgHyYXxERDQ1NUWh\n",
              "UNjnfqVSKUqlUpttLS0teY4GAFRQrgESETFt2rRYvXp1REQ89NBD+9ynoaEh5s6d22bb+PHj8x4N\n",
              "AKiQ3G9Cvfvuu+PVV1+N66+/Pq6++up97jNnzpxoampq86ivr897NACgQpL9Fsz06dNj9erVsW3b\n",
              "tr1+ViwWo1u3bm0etbW1qUYDABLLLUB27NgRr7/+euvz+++/P3r27Bk9evTI65QAQJXI7R6Qpqam\n",
              "+OpXvxo7d+6Mmpqa6N27d6xYsWK/N6ICAJ8euQXIoEGDYs2aNXkdHgCoYj4JFQBIToAAAMkJEAAg\n",
              "OQECACQnQACA5AQIAJCcAAEAkhMgAEByAgQASE6AAADJCRAAIDkBAgAkJ0AAgOQECACQnAABAJIT\n",
              "IABAcgIEAEhOgAAAyQkQACA5AQIAJCdAAIDkBAgAkJwAAQCSEyAAQHICBABIToAAAMkJEAAgOQEC\n",
              "ACQnQACA5AQIAJCcAAEAkhMgAEByAgQASE6AAADJCRAAILncAmTXrl0xZcqUGDZsWIwaNSrOPPPM\n",
              "WLduXV6nAwCqSK6vgMycOTPWrl0bzz//fEyePDlmzJiR5+kAgCqRW4AceuihMXHixCgUChERMX78\n",
              "+GhsbNznvqVSKZqbm9s8Wlpa8hoNAKiwLqlOdMstt8TkyZP3+bOGhoaYO3dum23jx49PMRZQAYO/\n",
              "/2Bux2684Su5HRvoOEluQp03b16sW7cuGhoa9vnzOXPmRFNTU5tHfX19itEAgArI/RWQG2+8MZYt\n",
              "WxaPPvpoHH744fvcp1gsRrFYbLOttrY279EAgArJNUDmz58f99xzTzz66KNRV1eX56kAgCqSW4Bs\n",
              "3rw5rrzyyhgyZEj81V/9VUR88ErHb37zm7xOCQBUidwCpH///pFlWV6HBwCqmE9CBQCSEyAAQHIC\n",
              "BABIToAAAMkJEAAgOQECACQnQACA5AQIAJCcAAEAkhMgAEByAgQASE6AAADJCRAAIDkBAgAkJ0AA\n",
              "gOQECACQnAABAJITIABAcgIEAEhOgAAAyQkQACA5AQIAJCdAAIDkBAgAkJwAAQCSEyAAQHICBABI\n",
              "ToAAAMkJEAAgOQECACQnQACA5AQIAJCcAAEAkhMgAEByAgQASC7XAJk9e3YMHjw4CoVCPPfcc3me\n",
              "CgCoIrkGyDnnnBP/8R//EYMGDcrzNABAlemS58FPPfXUdu1XKpWiVCq12dbS0pLHSADAQSDXAGmv\n",
              "hoaGmDt3bptt48ePr9A0AHycwd9/MLdjN97wldyOzcHjoLgJdc6cOdHU1NTmUV9fX+mxAICcHBSv\n",
              "gBSLxSgWi2221dbWVmgaACBvB8UrIADAp0uuAXLppZdG//79Y/PmzfHXf/3Xccwxx+R5OgCgSuT6\n",
              "FszChQvzPDwAUKW8BQMAJCdAAIDkBAgAkJwAAQCSEyAAQHICBABIToAAAMkJEAAgOQECACQnQACA\n",
              "5AQIAJCcAAEAkhMgAEByAgQASE6AAADJCRAAIDkBAgAkJ0AAgOQECACQnAABAJITIABAcgIEAEhO\n",
              "gAAAyQkQACA5AQIAJCdAAIDkBAgAkJwAAQCSEyAAQHICBABIToAAAMkJEAAgOQECACQnQACA5AQI\n",
              "AJBcrgHyv//7v3HSSSfFsGHD4sQTT4yXXnopz9MBAFUi1wC59NJLY+bMmfHyyy/H1VdfHRdeeGGe\n",
              "pwMAqkRuAbJ169Z46qmn4oILLoiIiLPPPjteffXVWLdu3V77lkqlaG5ubvNoaWnJazQAoMIKWZZl\n",
              "eRz46aefjvPOOy/Wrl3buq2+vj5uuOGG+PKXv9xm3+uuuy7mzp3bZtuIESNiwoQJHT5XS0tLrFmz\n",
              "Jurr66O2trbDj19pnX19EZ1/jdZX/Tr7Gq2v+uW5xkGDBsV3v/vdj93voAiQUqkUpVKpzbZisRjF\n",
              "YrHD52pubo7u3btHU1NTdOvWrcOPX2mdfX0RnX+N1lf9Ovsara/6HQxr7JLXgQcMGBBbtmyJ3bt3\n",
              "R5cuXSLLsti0aVMMHDhwr33zig0A4OCU2z0gffr0ibFjx8YvfvGLiIhYunRp9O/fP4455pi8TgkA\n",
              "VIncXgGJiFi4cGFceOGFMW/evOjWrVssXrw4z9MBAFUi1wAZPnx4/Nd//VeepyhbsViMH/7wh532\n",
              "LZ/Ovr6Izr9G66t+nX2N1lf9DoY15nYTKgDA/vgodgAgOQECACQnQACA5AQIAJBcpwyQ2bNnx+DB\n",
              "g6NQKMRzzz233/0WLVoUQ4cOjaOPPjq++c1vxvvvv59uyE+oPWt87LHH4rDDDovRo0e3Pnbu3Jl2\n",
              "0AO0a9eumDJlSgwbNixGjRoVZ5555j6/RygiYsWKFTFixIgYOnRoTJ06NZqbmxNPW772rq+xsTFq\n",
              "a2vb/B2uX7++AhOX76yzzoqRI0fG6NGj45RTTolnn312n/tV83XYnjVW83X4ocWLF0ehUIj7779/\n",
              "nz+vxmvwo/7c+qr5GoyIGDx4cAwfPrx19iVLluxzv4pch1kn9Ktf/Sp79dVXs0GDBmXPPvvsPvd5\n",
              "5ZVXsr59+2ZbtmzJ9uzZk/3d3/1ddtttt6Ud9BNozxpXr16djRo1KulcHWXnzp3Zgw8+mO3ZsyfL\n",
              "sixbsGBBdtppp+2139tvv5316dMn+/3vf59lWZZ95zvfya666qqUox6Q9q5vw4YNWffu3dMO10G2\n",
              "b9/e+udly5ZlI0eO3Gufar8O27PGar4Os+yDfwb/8i//Mhs/fnx233337fXzar0GP/Rx66vmazDL\n",
              "sj/734gPVeo67JSvgJx66qnRv3//P7vPL3/5y5g0aVIcddRRUSgU4lvf+lbcc889iSb85Nqzxmp2\n",
              "6KGHxsSJE6NQKERExPjx46OxsXGv/VauXBljxoyJESNGRETEZZddVhV/j+1dXzWrq6tr/XNTU1Pr\n",
              "Wj+q2q/D9qyxmu3ZsydmzJgRCxYs2O/nRVTrNRjRvvV9GlTqOsz1g8gOZps2bYpBgwa1Ph88eHBs\n",
              "2rSpghPlY/369TF27Niora2Niy66KC677LJKj3RAbrnllpg8efJe2/f19/jR7yCqFvtbX0TEu+++\n",
              "GyeeeGK0tLTElClT4pprrqmab+icNm1arF69OiIiHnroob1+3hmuw49bY0T1Xofz58+Pk08+OcaN\n",
              "G7fffar5GmzP+iKq+xqM+OCf0SzLWr8Qtnfv3m1+Xqnr8OD+p4NPZOzYsbF58+bo3r17bN68OSZO\n",
              "nBi9evWKr33ta5UerSzz5s2LdevWxapVqyo9Si7+3Pr69u0br732WvTp0yfeeuut+PrXvx433XRT\n",
              "fO9736vApOW7++67IyLi5z//eVx99dX7/Q90Nfu4NVbrdfjiiy/G0qVL4/HHH6/0KLlo7/qq/Rp8\n",
              "/PHHY+DAgfH+++/HtddeG9OnTz9orsNO+RZMewwcODA2btzY+ryxsXGf39Rbzbp16xbdu3ePiIj+\n",
              "/fvHueeeG0888USFpyrPjTfeGMuWLYuVK1fG4YcfvtfP9/X32Ldv34P+/3l96OPWVywWo0+fPhER\n",
              "0aNHj7j44our7u8wImL69OmxevXq2LZtW5vtnek63N8aq/U6fOKJJ6KxsTGGDh0agwcPjl//+tcx\n",
              "c+bMuOOOO9rsV63XYHvXV+3X4IfX0yGHHBKXX375Pmev2HWY+10mFfTnbr5Zv379XjfdLFiwIO2A\n",
              "HeDPrfH111/PWlpasizLsubm5uykk07KFi1alHC6T+amm27Kxo4dm7311lv73ae5uTnr3bt3mxvg\n",
              "rrzyylQjfiLtWd+bb76Zvffee1mWZdmuXbuyc845J/vBD36QasQDtn379uy1115rfX7fffdl/fr1\n",
              "a73p9kPVfB22d43Vfh1+6LTTTtvnTZrVfA1+1P7WV63XYJZl2TvvvNPmRumbbropO+WUU/bar1LX\n",
              "YacMkJkzZ2b9+vXLamtrsz59+mRHH310lmVZdskll2TLly9v3e/OO+/MhgwZkg0ZMiS7+OKLW/8h\n",
              "qwbtWeOCBQuyY489Nhs5cmR27LHHZj/84Q/3+pfjwerVV1/NIiIbMmRINmrUqGzUqFFZfX19lmVZ\n",
              "9oMf/CC74447Wvddvnx5Nnz48Ozoo4/OJk+enO3YsaNSY7dbe9e3dOnS7Ljjjmv9O5w1a1a2a9eu\n",
              "So7eLo2NjdmJJ56YHX/88dnIkSOzM844ozWUO8t12N41VvN1+FEf/Q90Z7gG/9T+1let12CWfRAW\n",
              "o0ePzk444YTs+OOPzyZNmpRt2LAhy7KD4zr0ZXQAQHKf2ntAAIDKESAAQHICBABIToAAAMkJEAAg\n",
              "OQECACQnQACA5AQIAJCcAAEAkhMgAEBy/w/TEYzumfw+bgAAAABJRU5ErkJggg==\n",
              "\">\n",
              "      </div>\n",
              "      <script type=\"text/javascript\">\n",
              "        (() => {\n",
              "          const chartElement = document.getElementById(\"chart-5226375f-c113-41fa-abe7-f4ff0fe6a61a\");\n",
              "          async function getCodeForChartHandler(event) {\n",
              "            const chartCodeResponse =  await google.colab.kernel.invokeFunction(\n",
              "                'getCodeForChart', [\"chart-5226375f-c113-41fa-abe7-f4ff0fe6a61a\"], {});\n",
              "            const responseJson = chartCodeResponse.data['application/json'];\n",
              "            await google.colab.notebook.addCell(responseJson.code, 'code');\n",
              "          }\n",
              "          chartElement.onclick = getCodeForChartHandler;\n",
              "        })();\n",
              "      </script>\n",
              "      <style>\n",
              "        .colab-quickchart-chart-with-code  {\n",
              "            display: block;\n",
              "            float: left;\n",
              "            border: 1px solid transparent;\n",
              "        }\n",
              "\n",
              "        .colab-quickchart-chart-with-code:hover {\n",
              "            cursor: pointer;\n",
              "            border: 1px solid #aaa;\n",
              "        }\n",
              "      </style>"
            ]
          },
          "metadata": {}
        },
        {
          "output_type": "display_data",
          "data": {
            "text/plain": [
              "<google.colab._quickchart_helpers.SectionTitle at 0x7e96067bb700>"
            ],
            "text/html": [
              "<h4 class=\"colab-quickchart-section-title\">Categorical distributions</h4>\n",
              "<style>\n",
              "  .colab-quickchart-section-title {\n",
              "      clear: both;\n",
              "  }\n",
              "</style>"
            ]
          },
          "metadata": {}
        },
        {
          "output_type": "display_data",
          "data": {
            "text/plain": [
              "from matplotlib import pyplot as plt\n",
              "import seaborn as sns\n",
              "_df_1.groupby('prod_id').size().plot(kind='barh', color=sns.palettes.mpl_palette('Dark2'))\n",
              "plt.gca().spines[['top', 'right',]].set_visible(False)"
            ],
            "text/html": [
              "      <div class=\"colab-quickchart-chart-with-code\" id=\"chart-6be20e24-ff5e-4aa0-a10e-7fa87c531fdd\">\n",
              "        <img style=\"width: 180px;\" src=\"data:image/png;base64,iVBORw0KGgoAAAANSUhEUgAAAmAAAAGZCAYAAAAuHo2cAAAAOXRFWHRTb2Z0d2FyZQBNYXRwbG90\n",
              "bGliIHZlcnNpb24zLjcuMSwgaHR0cHM6Ly9tYXRwbG90bGliLm9yZy/bCgiHAAAACXBIWXMAAA9h\n",
              "AAAPYQGoP6dpAAAfLElEQVR4nO3de5DV9X3/8deBRapWMQEjXsCVuCaoyCJit0HRxhsBYrxATbQq\n",
              "VAek49hEG8WJqdXx2qQQtYkIVWzERBEatBqxiYlip4NCI6J1NHLZoIZbaYOVKuGyvz+s55ctCLKF\n",
              "z+HyeMycGff7OZf3fmccnvP9fs93Ky0tLS0BAKCYdrUeAABgdyPAAAAKE2AAAIUJMACAwgQYAEBh\n",
              "AgwAoDABBgBQmAADAChMgAEAFCbAdmB33HFHrUcAALYDAbYD+9WvflXrEQCA7UCAAQAUJsAAAAoT\n",
              "YAAAhQkwAIDCBBgAQGECDACgMAEGAFCYAAMAKEyAAQAUJsAAAAoTYAAAhQkwAIDCBBgAQGECDACg\n",
              "MAEGAFCYAAMAKEyAAQAUJsAAAAoTYAAAhQkwAIDCBBgAQGECDACgMAEGAFCYAAMAKEyAAQAUJsAA\n",
              "AAoTYAAAhQkwAIDCKi0tLS21HoJNO+7Ys/L5ky6t9RjAx/DX44bUegRgJ+IIGABAYQIMAKAwAQYA\n",
              "UJgAAwAoTIABABQmwAAAChNgAACFCTAAgMIEGABAYQIMAKAwAQYAUJgAAwAoTIABABQmwAAAChNg\n",
              "AACFCTAAgMIEGABAYQIMAKAwAQYAUJgAAwAoTIABABQmwAAAChNgAACFCTAAgMIEGABAYQIMAKAw\n",
              "AQYAUNh2DbArrrgi9fX1qVQqmTt37kbrkyZNSqVSyfTp06vbli9fnoEDB6ahoSFHH310Zs6c+bHW\n",
              "Tj755Bx22GFpbGxMY2Njxo0bV12bPXt2+vfvn969e6exsTE/+9nPqmtvvPFGTjvttPTu3TtHHXVU\n",
              "Hn744erasmXLcs455+SYY45Jz549853vfKe6tnr16owYMSK9evXKZz/72YwZMyYtLS3V3+vDORob\n",
              "G9OlS5ecc845/5ddCQDsQrZrgA0dOjT//M//nEMPPXSjtebm5kycODFNTU2tto8ZMyZNTU154403\n",
              "MmnSpJx//vlZu3btFteSZNy4cZk7d27mzp2br33ta0mSlpaWnH322bnhhhvy0ksvZcqUKRk+fHje\n",
              "e++9JMnw4cNz3nnn5aWXXsozzzyTq6++Om+//XaS5Morr8yRRx6ZefPmZc6cObn//vsze/bsJMkt\n",
              "t9yS9evXZ968eXn55Zfz0ksvZerUqUmSESNGVOeYO3duunbtmgsuuGAb710AYGe1XQNswIABOeSQ\n",
              "QzbavmHDhlx66aW566670rFjx1ZrU6ZMyWWXXZYk6devXw466KA8++yzW1z7KCtXrsyKFSty6qmn\n",
              "JkmOOOKI7LfffnnyySeTJC+99FIGDRqUJNl///3Tu3fv6lGw313be++9M2DAgDzwwAPVtYEDB6ZS\n",
              "qaRDhw457bTTqmu/6/nnn8/y5ctz5plnbnbONWvW5J133mn1aNmwYbOvAQB2TjW5Bmzs2LHp379/\n",
              "+vbt22r7ypUrs3bt2nTt2rW6rb6+PosXL97s2ofGjBmTXr165bzzzsvChQuTJF26dMmBBx6YKVOm\n",
              "JPngdOTrr7+e5ubmJEnfvn0zefLkJMnChQvzL//yL63WfvCDH2TDhg1ZsWJFnnrqqVZrjzzySNas\n",
              "WZN3330306dPr679rnvvvTcXXnhhOnTosNl9cuutt6ZTp06tHkuW/XLLOxMA2OkUD7BXXnkl06ZN\n",
              "y3XXXbdN3/eBBx7Ia6+9lnnz5uXEE0/MkCFDqmuPPvpo7rvvvvTp0yd33HFHTjjhhNTV1SVJ/v7v\n",
              "/z7PP/98Ghsb87WvfS2nnHJKde1v/uZv8u6776ZPnz45//zzc/LJJ1fXxowZk+7du+cP/uAPMnjw\n",
              "4Bx//PHVtQ+tXr06Dz30UC655JItzn/ttddm1apVrR4HHnDEtto9AMAOpG7LT9m2nnvuuTQ3N6eh\n",
              "oSFJsnTp0owcOTJLlizJ6NGjU1dXl6VLl1aPdDU3N6d79+7p3LnzR64lSbdu3ZIklUoll19+ef7i\n",
              "L/4iK1euTOfOndO7d+/MmDGjOkPPnj1z1FFHJfngKNq0adOqawMHDszpp5+e5IOjZ/fff3917bLL\n",
              "Lqu+bs8998wdd9xRXbvtttuqax965JFHctRRR+XII4/c4n7p2LHjRqdjK+18SRUAdkXF/4UfPXp0\n",
              "lixZkubm5jQ3N6epqSkTJkzI6NGjkyTDhg3L+PHjk3xwuvDtt9/OSSedtNm1devWZdmyZdXPmDZt\n",
              "Wg444IB07tw5SbJkyZLq2sSJE7P33nvn85//fJIPvum44X+utXrqqafy6quv5vzzz0/y/0+JJsmL\n",
              "L76Y6dOn58/+7M+SJO+8807++7//O0myaNGi3H333bnqqqta/a733nvvxzr6BQDsXrbrEbBRo0bl\n",
              "iSeeyNKlS3PGGWdkn332yfz58zf7mttvvz0XXnhhGhoasscee2Ty5MnV66c+am316tUZPHhw1qxZ\n",
              "k3bt2qVLly557LHHqu85YcKEPPjgg2lpaUnPnj3zox/9KJVKJUnyj//4j7ntttvSvn37HHTQQfnx\n",
              "j3+cPffcM0nywgsv5IorrkhdXV322WefTJkyJQceeGCSD64X++M//uPU1dWlrq4u48aNS2NjY/Uz\n",
              "X3/99cydOzc//vGPt+UuBQB2AZWWD29exQ7nuGPPyudPurTWYwAfw1+PG7LlJwH8DxcZAQAUJsAA\n",
              "AAoTYAAAhQkwAIDCBBgAQGECDACgMAEGAFCYAAMAKEyAAQAUJsAAAAoTYAAAhQkwAIDCBBgAQGEC\n",
              "DACgMAEGAFCYAAMAKEyAAQAUJsAAAAoTYAAAhQkwAIDCBBgAQGECDACgMAEGAFCYAAMAKEyAAQAU\n",
              "VlfrAfhoA07ukb8eO6TWYwAA25gjYAAAhQkwAIDCBBgAQGECDACgMAEGAFCYAAMAKEyAAQAUJsAA\n",
              "AAoTYAAAhQkwAIDCBBgAQGECDACgMAEGAFCYAAMAKEyAAQAUJsAAAAoTYAAAhQkwAIDCBBgAQGEC\n",
              "DACgMAEGAFCYAAMAKEyAAQAUJsAAAAoTYAAAhQkwAIDCBBgAQGECDACgMAEGAFCYAAMAKEyAAQAU\n",
              "JsAAAAoTYAAAhQkwAIDCBBgAQGECDACgMAEGAFCYAAMAKEyAAQAUJsAAAAoTYAAAhQkwAIDCBBgA\n",
              "QGECDACgMAEGAFCYAAMAKEyAAQAUJsAAAAoTYAAAhQkwAIDCBBgAQGECDACgMAEGAFCYAAMAKEyA\n",
              "AQAUJsAAAAoTYAAAhQkwAIDCBBgAQGECDACgMAEGAFBYpaWlpaXWQ7BpI46q5Np+GhkAtqUj7l9f\n",
              "6xEcAQMAKE2AAQAUJsAAAAoTYAAAhQkwAIDCBBgAQGECDACgMAEGAFCYAAMAKEyAAQAUJsAAAAqr\n",
              "25onL168eLPr3bt3/z8NAwCwO9iqAOvbt28qlUqSZOXKlenQoUOSZO3atencuXOWL1++7ScEANjF\n",
              "bFWArVixIklyzTXX5PDDD88ll1ySJLnvvvuyYMGCbT8dAMAuqNLS0tKytS9qbGzM3LlzW23r06dP\n",
              "XnzxxW01F0lGHFXJtf1cpgcA29IR96+v9Qhtuwj/t7/9bV5//fXqz7/85S+zZs2abTYUAMCubKtO\n",
              "QX7otttuS//+/dO7d+8kybx583Lfffdt08EAAHZVbQqwM888M6+++mqef/75JMkf/uEfpkuXLtt0\n",
              "MACAXVWbAixJPvWpT+WLX/zitpwFAGC3sFUBdtJJJ+XZZ5/NJz7xiertKJKkpaUllUol//Ef/7HN\n",
              "BwQA2NVsVYA99NBDSbLRNyABAPj4tirADjzwwCTJoYceutnnnXLKKXn66afbPhUAwC5su9xkyqlI\n",
              "AICPtl0C7HevDwMAoDW3WQcAKEyAAQAUtl0CrFu3btX/vuKKK1JfX59KpbLJb09OmjQplUol06dP\n",
              "r25bvnx5Bg4cmIaGhhx99NGZOXPmx1o7+eSTc9hhh6WxsTGNjY0ZN25cdW3EiBE55phj0tjYmH79\n",
              "+rX6ksCIESNyxBFHpHfv3unfv39mz57dasbvfe976dmzZ3r16pXevXvn/fffT5IMHz48Bx98cPXz\n",
              "vv71r1dfs7k1AGD3tlXfgvzd2NmUAQMGJEkeffTR6rahQ4fm6quvzgknnLDR85ubmzNx4sQ0NTW1\n",
              "2j5mzJg0NTVlxowZmT17ds4+++wsWrQoHTp02OxakowbNy5nnXXWRp81bty47LfffkmSF198Maec\n",
              "ckr+/d//Pe3atcvZZ5+diRMnpq6uLo8//niGDRuW5ubm6u/y4IMPZtasWenUqVNWrFhR/awk+frX\n",
              "v56vfvWrm9wfm1sDAHZfWxVgV111VZJk/fr1mTt3bnr06JFKpZIFCxaksbExv/jFLzZ6zYdR9r9t\n",
              "2LAhl156ae66667q+35oypQpmT9/fpKkX79+Oeigg/Lss8/m1FNP3eza5nwYX0myatWqVmtnnnlm\n",
              "9b+bmpry9ttvZ926damrq8u3vvWtXH/99enUqVOSZP/999/s57TVmjVrNvqD5us3bJePAgBqbKtO\n",
              "Qc6ePTuzZ89OY2NjnnrqqcyfPz9vvPFG/umf/inHHnvsVn3w2LFj079///Tt27fV9pUrV2bt2rXp\n",
              "2rVrdVt9fX0WL1682bUPjRkzJr169cp5552XhQsXtnrvMWPG5NOf/nTOOeecTJs2Le3abfzr33HH\n",
              "HRk0aFDq6j5o01dffTVz5sxJ//79c9xxx+XOO+/c6PnHHHNMhgwZstEp1s2t/W+33nprOnXq1Oox\n",
              "7983+xIAYCfVpmvA5syZk9NOO63686mnnrrRdVOb88orr2TatGm57rrr2vLxH+mBBx7Ia6+9lnnz\n",
              "5uXEE0/MkCFDWq3fdtttWbBgQaZMmZKrr746v/3tb1utT548OVOmTMmECROq29atW5dFixZl5syZ\n",
              "mTFjRu655548/vjjSZKbb745CxYsyLx583LJJZfkC1/4Qt59990trm3Ktddem1WrVrV6HOPvmwPA\n",
              "LqlNAda+ffv8/Oc/r/787LPPbvJo0kd57rnn0tzcnIaGhtTX12fWrFkZOXJk7r777nTu3Dl1dXVZ\n",
              "unRp9fnNzc3p3r37ZteS/3/xf6VSyeWXX56FCxdm5cqVG33+qaeemv/6r//Kyy+/XN328MMP54Yb\n",
              "bshPfvKTHHDAAdXt3bt3z1e+8pW0b98+Xbp0yaBBgzJr1qwkycEHH1z9vc8+++zsu+++ef3117e4\n",
              "tikdO3bMvvvu2+rR3ndUAWCX1KZ/4r/73e/m4osvzqc//en06NEjF110Ue6+++6P/frRo0dnyZIl\n",
              "aW5uTnNzc5qamjJhwoSMHj06STJs2LCMHz8+yQenPd9+++2cdNJJm11bt25dli1bVv2MadOm5YAD\n",
              "Dkjnzp2zdu3a6nVjSfLCCy9k+fLl6dGjR5IPrjm77rrr8tOf/rQacx86//zzM2PGjCTJe++9l2ee\n",
              "eSa9e/dOkrz11lvV582aNSsrV67M4YcfvsU1AGD3tlUX4X/oc5/7XBYsWJDXXnstSfLZz3621TcD\n",
              "f9eoUaPyxBNPZOnSpTnjjDOyzz77tIqhTbn99ttz4YUXpqGhIXvssUcmT55cff+PWlu9enUGDx6c\n",
              "NWvWpF27dunSpUsee+yxJMnatWtz8cUXZ9WqVamrq8vee++dqVOn5hOf+ESS5IILLkjXrl3zpS99\n",
              "qTrD008/nc6dO+fKK6/MqFGjcuSRR6ZSqeTcc8/NsGHDknxwq4lly5alffv22XPPPfPII49UL9bf\n",
              "3BoAsHurtLS0tLTlhS+88EJ++tOfJklOP/30HHfccdt0MJIRR1VybT/nIQFgWzri/vW1HqFtpyAn\n",
              "TJiQoUOHZvny5VmxYkXOPffc/N3f/d22ng0AYJfUpiNgxxxzTJ5++unqPbFWrFiRU045JfPmzdvm\n",
              "A+7OHAEDgG1vpz0ClrS+Ien2ujkpAMCuqE0B1tDQkG984xtZvHhxFi9enG9+85tpaGjY1rMBAOyS\n",
              "2hRg48ePz4IFC3Lsscemb9++mT9//lbdhgIAYHe21behWL9+fb797W/noYce2h7zAADs8rb6CNj/\n",
              "vgs+AABbp02nIAcNGpSbb745v/71r/POO+9UHwAAbFmbbkOxqb/7WKlUsn597b/WuStxGwoA2PZ2\n",
              "hNtQtOlPEW3YsGFbzwEAsNtoU4AlyeLFizNz5sxUKpUMGDAg3bp125ZzAQDsstp0fusHP/hB+vTp\n",
              "k2nTpmXq1Kk59thjfSsSAOBjatMRsBtvvDFz5szJYYcdliRpbm7OwIED8+Uvf3mbDgcAsCtq0xGw\n",
              "vfbaqxpfSVJfX5+99tprmw0FALAra1OADR48OH/1V3+Vt956K2+++WZuvPHGfPGLX3Q7CgCAj2Gb\n",
              "3Yai+oZuR7HNuA0FAGx7bkMBALAbcngFAKAwAQYAUJgAAwAoTIABABQmwAAAChNgAACFCTAAgMIE\n",
              "GABAYW26EStlfOKMr+WIsWNrPQYAsI05AgYAUJgAAwAoTIABABQmwAAAChNgAACFCTAAgMIEGABA\n",
              "YQIMAKAwAQYAUJgAAwAoTIABABQmwAAAChNgAACFCTAAgMIEGABAYQIMAKAwAQYAUJgAAwAoTIAB\n",
              "ABQmwAAAChNgAACFCTAAgMIEGABAYQIMAKAwAQYAUJgAAwAoTIABABQmwAAAChNgAACFCTAAgMIE\n",
              "GABAYQIMAKAwAQYAUJgAAwAoTIABABQmwAAAChNgAACFCTAAgMIEGABAYQIMAKAwAQYAUJgAAwAo\n",
              "TIABABQmwAAAChNgAACFCTAAgMIEGABAYQIMAKAwAQYAUJgAAwAoTIABABQmwAAAChNgAACFCTAA\n",
              "gMIEGABAYQIMAKAwAQYAUJgAAwAoTIABABQmwAAAChNgAACFVVpaWlpqPQSb9vtn9Mt+Xz6l1mMA\n",
              "wC7lrRG31XoER8AAAEoTYAAAhQkwAIDCBBgAQGECDACgMAEGAFCYAAMAKEyAAQAUJsAAAAoTYAAA\n",
              "hQkwAIDCBBgAQGECDACgMAEGAFCYAAMAKEyAAQAUJsAAAAoTYAAAhQkwAIDCBBgAQGECDACgMAEG\n",
              "AFCYAAMAKEyAAQAUJsAAAAoTYAAAhW33ALviiitSX1+fSqWSuXPnbrQ+adKkVCqVTJ8+vbpt+fLl\n",
              "GThwYBoaGnL00Udn5syZH2vt5JNPzmGHHZbGxsY0NjZm3LhxH+t1t9xySz7zmc+kXbt2reb4XT/7\n",
              "2c/Svn37fOc732m1/Xvf+1569uyZXr16pXfv3nn//fc/1hoAsPuq294fMHTo0Fx99dU54YQTNlpr\n",
              "bm7OxIkT09TU1Gr7mDFj0tTUlBkzZmT27Nk5++yzs2jRonTo0GGza0kybty4nHXWWRt91uZed+qp\n",
              "p+bLX/5y/vRP/3STv8OqVasyZsyYDBo0qNX2Rx99NA8++GBmzZqVTp06ZcWKFdU5NrcGAOzetvsR\n",
              "sAEDBuSQQw7ZaPuGDRty6aWX5q677krHjh1brU2ZMiWXXXZZkqRfv3456KCD8uyzz25xbXM297rj\n",
              "jz8+PXr0+MjXXn755bnuuuvSuXPnVtu/9a1v5frrr0+nTp2SJPvvv3/at2+/xTUAYPdWs2vAxo4d\n",
              "m/79+6dv376ttq9cuTJr165N165dq9vq6+uzePHiza59aMyYMenVq1fOO++8LFy4cIvvuSVTp05N\n",
              "u3btcuaZZ2609uqrr2bOnDnp379/jjvuuNx5550fa21T1qxZk3feeafVI+tbtjgfALDz2e6nIDfl\n",
              "lVdeybRp01pdh7UtPPDAA+nWrVtaWlry3e9+N0OGDMmrr77a5vdbunRpbrrppjzzzDObXF+3bl0W\n",
              "LVqUmTNn5j//8z9z0kknpUePHhkyZMhm1zbl1ltvzQ033NBqW4ceB7V5dgBgx1WTI2DPPfdcmpub\n",
              "09DQkPr6+syaNSsjR47M3Xffnc6dO6euri5Lly6tPr+5uTndu3ff7FqSdOvWLUlSqVRy+eWXZ+HC\n",
              "hVm5cuUWX/dR/vVf/zVLlixJY2Nj6uvrM3Xq1Nx44435xje+kSTp3r17vvKVr6R9+/bp0qVLBg0a\n",
              "lFmzZm1xbVOuvfbarFq1qtVjj8MO3Mo9CwDsDGoSYKNHj86SJUvS3Nyc5ubmNDU1ZcKECRk9enSS\n",
              "ZNiwYRk/fnySZPbs2Xn77bdz0kknbXZt3bp1WbZsWfUzpk2blgMOOKB63dbm3vOjDB48OMuWLavO\n",
              "OXTo0PzlX/5lbr755iTJ+eefnxkzZiRJ3nvvvTzzzDPp3bv3Ftc2pWPHjtl3331bPdK+shV7FQDY\n",
              "WWz3U5CjRo3KE088kaVLl+aMM87IPvvsk/nz52/2NbfffnsuvPDCNDQ0ZI899sjkyZOr3yD8qLXV\n",
              "q1dn8ODBWbNmTdq1a5cuXbrkscce+1jvedNNN2X8+PFZsWJFXnnllVx++eV58cUXs//++292ziuv\n",
              "vDKjRo3KkUcemUqlknPPPTfDhg3b4hoAsHurtLS0uNJ7B/X7Z/TLfl8+pdZjAMAu5a0Rt9V6BHfC\n",
              "BwAoTYABABQmwAAAChNgAACFCTAAgMIEGABAYQIMAKAwAQYAUJgAAwAoTIABABQmwAAAChNgAACF\n",
              "CTAAgMIEGABAYQIMAKAwAQYAUJgAAwAoTIABABQmwAAAChNgAACFCTAAgMIEGABAYQIMAKAwAQYA\n",
              "UJgAAwAorK7WA/DRRh51YsaOuK3WYwAA25gjYAAAhQkwAIDCBBgAQGECDACgMAEGAFCYAAMAKEyA\n",
              "AQAUJsAAAAoTYAAAhQkwAIDCBBgAQGECDACgMAEGAFCYAAMAKEyAAQAUJsAAAAoTYAAAhQkwAIDC\n",
              "BBgAQGECDACgMAEGAFCYAAMAKEyAAQAUJsAAAAoTYAAAhQkwAIDCBBgAQGECDACgMAEGAFCYAAMA\n",
              "KKyu1gOwaWvWrMmTTz6Z9evXp3379rUeZ6exfv36vPDCCzn++OPtt61k37Wdfdd29l3b2G9tV2Lf\n",
              "HXroofnzP//zzT6n0tLS0rJdPp3/k3feeSedOnXKqlWrsu+++9Z6nJ2G/dZ29l3b2XdtZ9+1jf3W\n",
              "djvKvnMKEgCgMAEGAFCYAAMAKEyA7aA6duyY66+/Ph07dqz1KDsV+63t7Lu2s+/azr5rG/ut7XaU\n",
              "fecifACAwhwBAwAoTIABABQmwAAAChNgO6A33ngjn/vc53LEEUekX79++bd/+7daj7RTuOKKK1Jf\n",
              "X59KpZK5c+fWepydyvvvv5+zzjorRxxxRHr37p3TTjst8+fPr/VYO4XTTz89xxxzTBobG3PiiSfm\n",
              "xRdfrPVIO51JkyalUqlk+vTptR5lp1FfX5/PfOYzaWxsTGNjYx5++OFaj7RTWLNmTS6//PI0NDSk\n",
              "V69e+ZM/+ZOazeJPEe2ARo0alZEjR2b48OGZOnVqhg8fntmzZ9d6rB3e0KFDc/XVV+eEE06o9Sg7\n",
              "pZEjR+YLX/hCKpVK/vZv/zaXXnppnnnmmVqPtcObMmVK9ttvvyTJj370owwfPjwvvfRSbYfaiTQ3\n",
              "N2fixIlpamqq9Sg7nYcffjiNjY21HmOnMmbMmFQqlfzyl79MpVLJ0qVLazaLI2A7mOXLl2fOnDnV\n",
              "Kj/33HPz5ptvOhrxMQwYMCCHHHJIrcfYKf3e7/1eBg0alEqlkiRpampKc3NzbYfaSXwYX0myatWq\n",
              "6j5kyzZs2JBLL700d911V81vCcCub/Xq1bn33ntz8803V/8/7dq1a83mEWA7mDfffDMHHnhg6uo+\n",
              "ODhZqVTSvXv3LF68uMaTsTu544478qUvfanWY+w0LrroonTr1i3f/OY388ADD9R6nJ3G2LFj079/\n",
              "//Tt27fWo+yULrroovTq1SuXXHJJVqxYUetxdngLFizIJz/5ydxyyy057rjjcuKJJ+bpp5+u2TwC\n",
              "DGjllltuyfz583PrrbfWepSdxve///28+eabuemmm3LNNdfUepydwiuvvJJp06bluuuuq/UoO6WZ\n",
              "M2dm3rx5+cUvfpEuXbrk4osvrvVIO7x169blV7/6VY488sjMmTMnd955Z84777wsW7asJvMIsB1M\n",
              "t27dsmTJkqxbty5J0tLSksWLF6d79+41nozdwbe//e38wz/8Q5588snstddetR5np3PxxRfn5z//\n",
              "eVauXFnrUXZ4zz33XJqbm9PQ0JD6+vrMmjUrI0eOzN13313r0XYKH/6b0KFDh3z1q1/Nc889V+OJ\n",
              "dnzdu3dPu3btcsEFFyRJ+vTpk8MOOywvv/xyTeYRYDuYT33qUzn22GMzefLkJMm0adNyyCGH5PDD\n",
              "D6/xZOzqxo4dmx/+8If5yU9+0uq6Jj7ab37zm/z617+u/jx9+vR07tw5n/zkJ2s41c5h9OjRWbJk\n",
              "SZqbm9Pc3JympqZMmDAho0ePrvVoO7zVq1fnN7/5TfXnH/7wh+nTp0/tBtpJdOnSJaecckqeeuqp\n",
              "JMmiRYuyaNGi9OzZsybz+BbkDuiee+7J8OHDc8stt2TffffNpEmTaj3STmHUqFF54oknsnTp0pxx\n",
              "xhnZZ599fHnhY3rrrbdy1VVXpUePHvmjP/qjJB/8vbTnn3++xpPt2FatWpVhw4blvffeS7t27bL/\n",
              "/vvn8ccfdyE+29WyZcty7rnnZv369WlpaUmPHj3y/e9/v9Zj7RTGjx+fSy65JNdcc03atWuXe+65\n",
              "JwcffHBNZvG3IAEACnMKEgCgMAEGAFCYAAMAKEyAAQAUJsAAAAoTYAAAhQkwAIDCBBgAQGECDACg\n",
              "MAEGAFCYAAMAKOz/AVL/EOC8RtvKAAAAAElFTkSuQmCC\n",
              "\">\n",
              "      </div>\n",
              "      <script type=\"text/javascript\">\n",
              "        (() => {\n",
              "          const chartElement = document.getElementById(\"chart-6be20e24-ff5e-4aa0-a10e-7fa87c531fdd\");\n",
              "          async function getCodeForChartHandler(event) {\n",
              "            const chartCodeResponse =  await google.colab.kernel.invokeFunction(\n",
              "                'getCodeForChart', [\"chart-6be20e24-ff5e-4aa0-a10e-7fa87c531fdd\"], {});\n",
              "            const responseJson = chartCodeResponse.data['application/json'];\n",
              "            await google.colab.notebook.addCell(responseJson.code, 'code');\n",
              "          }\n",
              "          chartElement.onclick = getCodeForChartHandler;\n",
              "        })();\n",
              "      </script>\n",
              "      <style>\n",
              "        .colab-quickchart-chart-with-code  {\n",
              "            display: block;\n",
              "            float: left;\n",
              "            border: 1px solid transparent;\n",
              "        }\n",
              "\n",
              "        .colab-quickchart-chart-with-code:hover {\n",
              "            cursor: pointer;\n",
              "            border: 1px solid #aaa;\n",
              "        }\n",
              "      </style>"
            ]
          },
          "metadata": {}
        },
        {
          "output_type": "display_data",
          "data": {
            "text/plain": [
              "<google.colab._quickchart_helpers.SectionTitle at 0x7e96067bb640>"
            ],
            "text/html": [
              "<h4 class=\"colab-quickchart-section-title\">Values</h4>\n",
              "<style>\n",
              "  .colab-quickchart-section-title {\n",
              "      clear: both;\n",
              "  }\n",
              "</style>"
            ]
          },
          "metadata": {}
        },
        {
          "output_type": "display_data",
          "data": {
            "text/plain": [
              "from matplotlib import pyplot as plt\n",
              "_df_2['rating'].plot(kind='line', figsize=(8, 4), title='rating')\n",
              "plt.gca().spines[['top', 'right']].set_visible(False)"
            ],
            "text/html": [
              "      <div class=\"colab-quickchart-chart-with-code\" id=\"chart-ce4011d3-2c8c-4438-8526-26c09a413721\">\n",
              "        <img style=\"width: 180px;\" src=\"data:image/png;base64,iVBORw0KGgoAAAANSUhEUgAAAqMAAAFuCAYAAAC1ARGfAAAAOXRFWHRTb2Z0d2FyZQBNYXRwbG90\n",
              "bGliIHZlcnNpb24zLjcuMSwgaHR0cHM6Ly9tYXRwbG90bGliLm9yZy/bCgiHAAAACXBIWXMAAA9h\n",
              "AAAPYQGoP6dpAABmAElEQVR4nO3deXhU9b0/8PeZJZM9IRDWkERIAJElgFAsuNVqldpIQS3WCi6A\n",
              "olzttd5rua5oK93E+nNDRaloi9QNkYqtti64FUHQuqAESQIRCJB9m+2c3x8z58yZZGYyy5k5Z2be\n",
              "r+fhkSRDcjJmMp/5bF9BkiQJREREREQ6MOl9AURERESUvhiMEhEREZFuGIwSERERkW4YjBIRERGR\n",
              "bhiMEhEREZFuGIwSERERkW4YjBIRERGRbhiMEhEREZFuGIwSERERkW4YjBIRJcA999yDc845R+/L\n",
              "ICIyHIHHgRIRaau8vBy33norFi9erPelEBEZHjOjREQRcDgcel8CEVFKYTBKRBTCGWecgeXLl2PB\n",
              "ggUYMGAArr/+elx00UUYMWIE8vLyMHbsWDz00EPK7c877zzU19dj+fLlyM3NxUknnQQAuPPOOzF7\n",
              "9my/z3vDDTfgpz/9KQoKCjBy5Eg88sgjfl973bp1qKioQF5eHubNm4fly5fjjDPOSMj3TUSUKAxG\n",
              "iYj6sW7dOixcuBDHjx/Hvffeizlz5uDzzz9Ha2srVq9ejRtvvBF///vfAQBbt25FaWkpHnzwQXR0\n",
              "dODzzz8P+nn/9Kc/YfHixWhubsYf//hHLF++HDU1NQCAd955B9dccw0eeOABtLS0YPHixXjyyScT\n",
              "8v0SESUSg1Eion5UV1djzpw5MJlMyMnJwRVXXIHCwkKYTCb88Ic/xLnnnot//OMfEX/e+fPn43vf\n",
              "+x5MJhPmz5+PoqIi7Ny5EwCwfv16XHDBBTjvvPNgNpsxZ84czJkzR+tvjYhIdwxGiYj6ccIJJyh/\n",
              "t9vtuOmmmzBmzBgUFBSgsLAQW7duRWNjY8Sfd/jw4X5v5+TkoL29HQDQ0NCAsrIyv4+Xl5dHfvFE\n",
              "RAbHYJSIqB8mk+9X5erVq/HKK6/glVdeQXNzM1paWnDeeedBvZhEfftojRgxAnV1dX7v6/02EVEq\n",
              "YDBKRBSB1tZW2Gw2FBcXQxRFPPfcc31K9EOHDsVXX30V09e57LLL8PLLL+Pvf/873G43XnvtNbz6\n",
              "6qsxfU4iIiNiMEpEFIGbbroJI0eORFlZGYYPH45//vOfmDt3rt9tbr/9drz88ssoLCzEpEmTovo6\n",
              "p59+Oh5++GFce+21KCwsxKOPPopLL70UmZmZGnwXRETGwaX3RERJYu7cuRgyZAgeffRRvS+FiEgz\n",
              "zIwSERnUCy+8gLa2NjidTmzcuBFbtmzBpZdeqvdlERFpyqL3BRARUWCvvPIKlixZAofDgbKyMjz5\n",
              "5JM47bTT9L4sIiJNsUxPRERERLphmZ6IiIiIdMNglIiIiIh0w2CUiIiIiHTDYJSIiIiIdGPIYPT+\n",
              "++/X+xKIiIiIKAEMGYzy/GUiIiKi9GDIYJSIiIiI0gODUSIiIiLSDYNRIiIiItINg1EiIiIi0g2D\n",
              "USIiIiLSDYNRIiIiItINg1EiIiIi0g2DUSIiIiLSTcTBaHl5OcaOHYuqqipUVVVh48aNAW/3xBNP\n",
              "oLKyEqNHj8aSJUvgdDpjvlgiIiIiSi1RZUY3btyI3bt3Y/fu3fjJT37S5+P79+/Hbbfdhm3btqGm\n",
              "pgZHjhzBY489FvPFEhEREVFqiUuZ/vnnn0d1dTWGDh0KQRBwzTXXYMOGDfH4UkRERESUxCzR/KOF\n",
              "CxdCkiTMmDEDv/nNb1BcXOz38fr6epSVlSlvl5eXo76+PuDnstvtsNvtfu9zu93RXFZU3vjiCNa8\n",
              "vQ/TygdgxXknJuzrRuOFnQfx/r7juGfeBNgs5qC3+6yhFb99bQ+6HYm7H4mSzfjh+VhZfRIEQdD7\n",
              "UhLug33H8cyHdbiz+iQU59n0vhwiXdQ0tuO+N/biwqklOHPcYL0vJ2Z3bv4cXx5qw7VnVuD0McX9\n",
              "/wMDiTgYfeedd1BaWgqn04lbb70VixYtwquvvhr1BaxatQorV670e9/MmTOj/nyROtZhx466ZhRk\n",
              "WRP2NaMhihLu2vIFWrud+Ol3RmJaWVHQ22786AC27T2WwKsjSj476ppx5awTUD4oR+9LSaj2Hif+\n",
              "a8MuHOuwY8KIAiw7Y7Tel0SUcP/88ghueHY3OuwuNHc6UiIY/bi+GZ8ebMWVs5MvERVxMFpaWgoA\n",
              "sFqt+PnPf44xY8YEvM2+ffuUt2tra5V/19uKFStw4403+r3vtttui/SyomY2ebIibklK2NeMxp7D\n",
              "7Wjt9gyBOd2hr7XLmxGdN2UEzjlpSNyvjSjZ3PTcp+iwu+Bwi3pfSsI98K8aHOvwVKP2NrbrfDVE\n",
              "iSVJEh5+ax/+8I+vID/td9hd+l6URuqOdwEAygcm3wvsiILRzs5OOJ1OFBYWAgA2bNiAKVOm9Lnd\n",
              "/PnzMXv2bNx5550YMmQI1qxZgwULFgT8nDabDTabf5nIbA5egtaaEoyKxg5GP/zmuPL3/uJmu8sT\n",
              "jE4sKcC5E4bF87KIktKtmz5Hh91l+Me91r452oF17+1X3t53tFPHqyFKrG6HG//z/CfY8ukhAMDJ\n",
              "ZQOwo65ZSeAks5Yuh5KwKi3K1vlqIhfRANORI0dw5plnYtKkSZg4cSLefvttrF+/HgCwePFibN68\n",
              "GQAwatQorFy5ErNmzUJFRQWKi4tx9dVXa3/1GkjKYBShr9Xu8mR7QvWVEqUzs/c3n9Ef91q7e8sX\n",
              "cLolVA7OBQDsa+yAZPCqEJEWGlq6ceGa97Hl00OwmAT8au4E3PGjkwAAXSmQGZWzooPzbMjKSL7n\n",
              "/ogyo6NGjcKuXbsCfmzt2rV+by9ZsgRLliyJ/soSJBmCUVGU8O/9Tcrb/WdG5WCUZxoQBWIxeR4b\n",
              "Rn7ca+3NPY1486ujsJoFPPjTqZjz/7ahw+7CkTY7hhZk6n15RHGzfX8Tlj2zE8c7HSjKycAjl07F\n",
              "d0YNRE1jBwCgMwUyo3VNyVuiB3gCE8yC8YNRdb8oEEYw6vQ8sGzWtP/fSxSQSc6MpklW0OEScfeW\n",
              "LwAAV8w6AWOH5qHMW8qTn5CJUtGf/12Hnz7+IY53OjB+WD42L5+F74waCADIsXkyiF2OFMiMHvO0\n",
              "3JQOTL4SPcBgFKYkGGBSl+gBlumJYiW/CBUN/CJUS396fz++OdaJQbk2/Nf3KgAAo72l+hoOMVEK\n",
              "crhE3PLSf3DLS5/BJUr44aRheH7ZKSgZ4AvWsjM8xWGnW4LDldzDjHJmtCwJ+0UBBqNJ8aTUOxjt\n",
              "71JZpicKTW7PcRn4ca+VxvYe/L9/1gAA/vfcscjL9Kyxq5D7RjnERCnmeIcdP3vi3/jzv+shCMD/\n",
              "/GAsHrxkihJ8yrJVvZXJnh2t9/aMliXpqrqolt6nErPZ2E9K6n5Rq1mA0y31O3AgT9MzGCUKTA5G\n",
              "jfwiVCu/f+0rdNhdmFxSgAunlijvH10sZ0ZZpqfU8fm3rVi6ficaWrqRa7Pgjz+pwvfHB15xaDWb\n",
              "kGExweES0elwozA5k4oAgNrjnheVyZoZZTBq8J5RuV80J8OM0oE5+PJQWxg9o97MqJVleqJATILx\n",
              "23O08MmBFjy38yAA4I7qk5S2JMCXGa05ymCUUsOWT7/FTc99gh6niPKB2Vi76GRUDM4L+W9yMsxw\n",
              "uMSknqjvdrjR2O7ZHVyWpD2jDEblDIlBn5TkEv3J5UVo6XIAiKRnlJlRokAsBq+IaEEUJdz5yucA\n",
              "PAdgTC0d4Pfx0cWect7Rdjtau52GP4WOKBhRlLD69a/x4JuedpRTKwfhwUumoiC7/5/p7AwLmruc\n",
              "Sb1rtN7bL1qQZUVhdobOVxOdtI9WjL7aSQ5GZ44aCHizOeEuvWcwShRYMvSKx2rT7gbsqm9BdoYZ\n",
              "N583rs/H8zKtGJrvWenEUj0lq/YeJ5Y+vUMJRJeeNgrrLp8eViAK+PpGO5O4Z1Qp0SdpVhRgMGro\n",
              "YFTdLzpzVBHkClvYA0ws0xMFZDLw414LHXYXfrN1DwBg+fcqMCQ/8B7RCtXye6Jks/9YJ3788Pt4\n",
              "48tGZFhMWH3xZPzfnBNhMYcf2mTbPAXiLnsSZ0a9w0vJePKSLO2DUSP3jqn7RSeMKIDc7RVqgEmS\n",
              "fCsqmBklCszoveKxeujNGjS221E2MBtXzT4h6O18E/UMRim5vPP1UVzw4LuoaezAkHwbnrv6FMxT\n",
              "DeiFKycFMqN1TZ7MaLIuvAfYMwqLMlWr84UEoO4XtZpNEOQyfYh/Y1ftSmMwShSYOQn2C0er9lgn\n",
              "ntjmOX/+1h+OD7lvWO4bZZmekoUkSXji3f2459UvIUrAlNJCPPqzaRgcJPvfH3ndUzL3jMpHgSbr\n",
              "wnuAwahq36DxolG/flFAKdOHyoz6B6Ms0xMFYuT2nFj9+tUv4XCLOLVyEL5/4uCQtx3NiXpKIj1O\n",
              "N/7vxf/gxV0NAICLppXgVz+eENNznXwKU2cST9PLwWiyrnUCGIz6yvQGi0V794sCgID+B5jk4SVB\n",
              "8OwlJaK+UjUY3bb3KF7/4ggsJgF3/Gi8Uk0JRi7TH2jqQo/TjUz2mZNBHW7twdVP78AnB1thNgm4\n",
              "9Ycn4vLvlvf7M96fZM+MOt0iGlq6AQBlLNMnL3nFi9FWO/XuFwUAhDHApOwYtZhifpASpapUDEad\n",
              "bhErX/GcP7/wlPJ+9ysCQHGuDfmZFrT1uLD/WCdOHJYf78skitjH9c24+umdONpuR2G2FQ/9dCpm\n",
              "VQzS5HPLPaPJGox+29INtygh02rC4Dyb3pcTtbRvKpQzoy6DpUZ794sCqjJ9iK5RnktP1D9ltZPB\n",
              "XoTG4ukP6lDT2IGBORm44fuVYf0bQRB8y+/ZN0oG9NcdB7Dg0Q9xtN2OMUNysfm62ZoFooBqmj5J\n",
              "B5hqVZP06kMtkk3aZ0Z9S+91vpBeeveLApGV6Tm8RBScb7WTzheikeMddtz3xtcAgJt+MDaiBfYV\n",
              "g3PxcX0LJ+rJUFxuEb9+9Uuse68WAPCDk4bg3ourkGvTNmxR9owm6Wqneu+O0dKi5C3RAwxGlWl6\n",
              "I5XrAvWLAoDJG1+Gyub4dowyGCUKxve4T41o9A//+BrtPS6cNDwfF588MqJ/yzPqyWiaOx1YvuFj\n",
              "vFfjScrccFYlbjirMi6ZP1+ZPjkzo/LwUnkST9IDDEYNufw6YL8ofJnRUHw9oyzTEwVjxMd9tD5r\n",
              "aMWzH9UDAO740UlKtSdcLNOTkXx1uB1L1u9AfVMXsjPMWH3xZJw7YVjcvp48wNSZpD2jcpk+mU9f\n",
              "AhiM+pZfG6h3LFC/KKCcBsoyPVGMfI97nS8kRpIkYeUrn0OSgB9NHo4ZJxT1/496kYPRb451wi1K\n",
              "EQezRFp57bPDuPGvu9HlcGNkURYeX3gyxg2N71CdvNqpK0lXO9V7F96XJvEkPcBgVCl9u0UJkiQZ\n",
              "YgI9UL8oAOXawirTMxglCipVyvSvfHoIH9U2I9NqwooA58+Ho2RANjIsJjhcIg42dyX1ehhKTqIo\n",
              "4YF/1Sh9z6eMGoiHLp2KopyMuH/tZM6MiqKE+qbUKNOnfcRiMfnuAiNU7IL1iwJQHQca/N9zmp6o\n",
              "f6kwwNTlcGHVq18CAK49owLDC7Oi+jxmk4BRg3gSE+mj0+7CtX/+WAlEL/9uOdZfNSMhgSjgy4x2\n",
              "J2HPaGO7HT1OEWaTEPXj3yjSPhg1qzKhRugfC9YvCvhWO4XMjDq9ZXoOMBEFlQqrnda8tQ+HWntQ\n",
              "MiALS08bFdPn4hn1pIcDTV2Y/8j7eO3zw7CaBfx2/kTcWX2SX3tavCVzZrTOO0k/ojArofdZPLBM\n",
              "r/r/Z4QnpmD9ogAiOpueZXqi4OTMqCtJm0YPNHXh0Xe+AQDcMufEmE9O4kQ9Jdr7Ncdw3V8+RnOX\n",
              "E4NybXj0sqmYVhZ5z3Os5NVOydgzWteUGsNLAINRvzK9ETKjwfpFAV+ZPlQ0yjI9Uf+UnlEDvACN\n",
              "xj2vfgm7S8Qpowbi3AlDY/58nKinRJEkCes/qMNdW76AW5QwqaQAj142DcMK9CkzK8eBOt0QRSmp\n",
              "FsfLmVEGoylAnRl16RyMhuoXBcIdYOI0PVF/lMMuDPACNFLv7zuGrZ8dhkkA7qju//z5cKiDUaMM\n",
              "clLqsbvcuH3T59i44wAAYG7VcPxm/qSYM/uxkHtGJQnocbmV4DQZyDtGy5J84T3AYNSvZ1TvJ6ZQ\n",
              "/aKAarVTiM+h7BllzyhRUMoxwEkWjLrcIlZu9pw//7OZZZqtvTlhUA5MAtDW48LRDjsG52Vq8nmJ\n",
              "ZI3tPVj2zMfYWdcMkwD88rxxWHLqKN1f+GRazBAETzDaaU+uYLQ+hcr0aR+xqHfq6V2yC9UvCvjK\n",
              "9OGtdmKZnigYizk5B5j+sr0eXx1pR2G2FTeePUazz5tpNWNkkecJjaV60tqnB1tQ/cB72FnXjLxM\n",
              "C568fDqWnjZa90AU8PSPZ1uT8xSm2mNymT75M6NRB6Pr1q2DIAjYtGlTn4/V1tbCbDajqqpK+bNv\n",
              "375YrjNuBEFQptT17hkN1S8K+LI5XHpPFBv5saT3Yz4SzZ0O3PsPz/qbX5w9BoXZ2q6+qSiWJ+o7\n",
              "Nf28lN427WrARWs+wOG2HowuzsHL183CGWMH631ZfrK95913JdFEfUuXA209nuC5tCj5M6NR5aNr\n",
              "a2vx+OOPY+bMmUFvk5eXh927d0d7XQllNgkQ3ZKuT0z99YsCYZbpmRkl6pdZddhFslj9+tdo7XZi\n",
              "3NA8XDKjVPPPP3pwLv65pxH7mBklDbhFCb97bY+y9eF74wbjjwuqkJ9p1fnK+srJMOMokiszKveL\n",
              "Ds6zISsj+Z/vI06fiaKIxYsX44EHHoDNZovHNSWc2QDnVPfXLwqoM6Oh9oyyZ5SoP2bv5GKyBKNf\n",
              "HmrDn/9dB8Bz/rwlDjsFK7jeiTTS2u3ElX/6SAlErz1jNB5feLIhA1EAyJJ3jdqTJzNap5y8lPwl\n",
              "eiCKzOjq1asxa9YsTJs2LeTtOjs7MX36dLjdbsydOxe33HILzOa+0bvdbofdbvd7n9ud2B8IswFK\n",
              "dv31iwJQmkZZpieKje9seuMHo/L586IEzJk4FKeMDtzGE6vRXO9EGqhp7MCS9Tuw/1gnMq0m/O7C\n",
              "yaiePFzvywopJyP5ekbrjsln0id/iR6IMDP62Wef4YUXXsCtt94a8nbDhg1DQ0MDPvroI7zxxhvY\n",
              "tm0b7r333oC3XbVqFQoKCvz+bN++PZLLipnJADsH++sXBdTHgXKAiSgW8us9vTdohGPrZ4fx4TdN\n",
              "sFlM+L85J8bt68jrnQ639aC9xxm3r0Op6197juDHD72H/cc6MbwgE89f813DB6KAr2c0GTOjZSnQ\n",
              "LwpEGIxu27YNtbW1qKysRHl5OT788EMsXboUjzzyiN/tbDYbBg/2NCgXFRXhyiuvxLZt2wJ+zhUr\n",
              "VqC1tdXvz4wZM6L8dqJj0XnnYDj9ooCvTB/qMnkCE1H/5DK90Vc79Tjd+PXfPOfPX336aJQMiN8T\n",
              "T0GWFcV5ntYrDjFRJCRJwsNv1eCqp3ag3e7C9PIB2Pxfs4O2nBlNMmZG6+Udo4PSsEy/bNkyLFu2\n",
              "THn7jDPOwM9//nPMnTvX73aNjY0YMGAArFYr7HY7XnzxRUyZMiXg57TZbH16TwOV8+NJ7hnV64kp\n",
              "nH5RINw9ozybnqg/yZIZffTtb9DQ0o3hBZlYdvrouH+9iuJcHG23Y19jB6pGFsb961Hy63a48b8v\n",
              "fIpXPvkWAHDJjFKsrD4JGUmUEEnG8+lr5dOX0jEzGsrtt9+ONWvWAADeffddTJkyBZMnT8bUqVMx\n",
              "dOhQ3HLLLVp9Kc3pveYlrH5RsExPpBVTEvSMftvSjUfergEArJhzYkImZkcP9mRZao6yb5T619DS\n",
              "jQvXvI9XPvkWFpOAX82dgFXzJiZVIAr4TmFKlvPpux1uNLZ7Zm1SYeE9EOMJTG+99Zby97vuukv5\n",
              "+7x58zBv3rxYPnVCKUcD6vTEFE6/KBDunlGW6Yn6o3c1JByrtu5Bj1PEjBOKcP6kYQn5mpyop3Bt\n",
              "39+EZc/sxPFOB4pyMvDwpVP7fQ4zKuV8+iTJjMonLxVkWTXfN6yX5Dn3Ko70XO0Ubr8oAN80fYhC\n",
              "Pafpifqnd594f7bvb8Irn3zrOX/+R9qcPx+OisF5AMBdoxTSX/5djzs2fwanW8KJw/Lx+MJpce1n\n",
              "jje5ZzRZyvRKiT5FsqIAg1EA+gaj4faLAmEOMCl7RlmmJwrGZIDdwsG4RQl3bv4cALBgRilOGp64\n",
              "IRB5or6uqQsOl5h05VaKL6dbxMpXPsczH9YDAH44cRh+f9GkpDrPPZCsJBtgkoeXUuHkJVly/wRp\n",
              "RM89o+H2iwLqntHgt2GZnqh/RtgtHMzGjw7gi0NtyM+04Bcanj8fjiH5NuTaLOiwu1B3vBOVQ/IS\n",
              "+vXJuI532LHszx9j+/4mCAJw0zljce0ZxjhfPlY5Sbbaqa7JkxlNlYX3gIYDTMnMrOOe0XD7RQH1\n",
              "ND3L9ESx0PMxH0prlxN/+MdXAICff38MBuYm9pQ7QRC4/J76+PzbVlQ/+B62729Crs2Cxy87Gded\n",
              "WZESgSgAZCdZZlQ+CjRVFt4DDEYB6Femj6hfFBEOMLFMTxSUEY4ADuSP//waTZ0OVA7OxWWnlOly\n",
              "DaOLvRP1DEYJwN8+PYQLH/kADS3dKB+YjZeu/S6+P36I3pelqZwkW+0kB6OpstYJYJkegH6rnSLp\n",
              "FwVUmdEg0agkSXCwTE/UL703aASy90g71n/gOX/+9h+N77dtJ17kvlGud0pvoihh9etf48E3PevF\n",
              "Tq0chAcvmYqCbGOeLx+L7CRa7eR0i2ho6QYAlKfIwnuAwSgAwGLW54kpkn5Rj9ADTHJWFGAwShSK\n",
              "strJbYxgVJIk3LXlC7hFCWePH4JTK4t1uxaud6L2Hif+e+NuvPFlIwBgyakn4OZzx8Gi0wukeMtJ\n",
              "otVODc3dcIsSMq0mDM5LbBtPPDEYhS8zmugnpkj6RQHApGRGA3/cPxhlmZ4oGLNgrMzo618cwba9\n",
              "x5BhNuHWH8bv/PlwyJnRfUc7IIqSsnmA0sP+Y51Ysn4Haho7kGExYdWPJ2L+tBK9LyuulKX3SdAz\n",
              "Kp9JX1qUnTI9uwCDUQD6lOwi7RcF+h9gkoeXBAGwmlPnh5RIa0Za7dTjdONX3vPnF596Asp0npAt\n",
              "LcpGhtmEHqeIb1u7k3p/JEXmna+PYvlfPkZbjwtD8m149LKT0+JY2Kwk6hmt9+4YLS1KnRI9wAEm\n",
              "AOphhsR9zUj7RYH+94wqO0YtppR6xUSkNYuBgtEn3t2P+qYuDMm34bozK/S+HFjMJpQP8gSgLNWn\n",
              "B0mSsHbbN7h83Xa09bgwpbQQryyfnRaBKOBbeu9wiXAmMhCIgjy8VJ5Ck/QAg1EAvpKdS0zcD2Hk\n",
              "/aK+PaPB6vQ8l54oPCaDrHY63NqDh7wDIr88b5yy71Bvo9k3mjZ6nG784rlP8Ku/fQlRAi6cVoIN\n",
              "S2ZicH6m3peWMOql/UbvG62VJ+lTLBg1xm8+nelRpo+0XxSAku0MPsDEHaNE4fAtvdf3On772h50\n",
              "OdyYWlqIuVUj9L0YFXXfKKWuw609uPrpHfjkYCvMJgG3zDkRV8wqT7vKWobFBKtZgNMtocvhQkGW\n",
              "cTcG1HsX3pem0MJ7gMEogMSX6aPpFwXC6RmVd4wyGCUKxfeY1y8a3VnXjJd2NUAQgDurTzJUAFDB\n",
              "xfcp7+P6Zlzz9E40tttRkGXFQz+ditmVg/S+LN1kZ1jQ2u009ClMoiihvik1y/QMRpH4J6Zo+kUB\n",
              "QEDopfe+nlGW6YlC0XvpvShKWPmK5/z5i6aVYFJJoS7XEQzL9KntuR0HcMtLn8HhFjFmSC4eX3iy\n",
              "7oNzesvJMKO124luA5fpG9vt6HGKMJsEDC/M0vtyNMVgFOql94n5etH0iwK+zCjL9ESx8bXm6PP1\n",
              "n995EJ8ebEWezYL/+cE4fS4ihNHFuRAEoLnLiaZOB4pyMvS+JNKAyy3i169+iXXv1QIAzhk/BKt/\n",
              "UoVcg/Qq6ylbPp/ewOud6ryT9CMKs3Q7FCNeUuu7iZL8/zRRwwzR9IsCqj2j/ZXpGYwShWTSYWhR\n",
              "1tbjxO/+vgcAcP1ZlSg24OLqrAwzRngzL8yOpobmTgcWrduuBKLXn1WJNT+bxkDUKxnOp5d3jKba\n",
              "8BLAYBQAYDF57gYxAWmSaPtFAd8AU5BYlNP0RGGSVzvp0TL6wD/34liHA6OKc7Dou+WJv4AwsVSf\n",
              "Or463I4LHnoP79UcR3aGGY9cOhU3nj2GBxqoyMGokXtG5cwog9EUJT8gXQkIRqPtFwXUZfogmVGn\n",
              "t0zPASaikPTqGd13tEPJTN12/nhkGLiKwSGm1PD3zw9j3sPvob6pCyUDsvDCsu/ivInD9L4sw/Ed\n",
              "CWrgzKi81inFFt4D7BkFAMiHFSUiMxptvygQxgATy/REYVH6xBO8Z/TuLV/AJUr43rjBOHPs4IR+\n",
              "7UgpwSjXOyUlUZTwwL9qcN8bXwMAThk1EA9dOpX9v0EoPaMGzozWp3CZnsEoALO3TJ+IJ6Zo+0WB\n",
              "cAaYWKYnCofFnPjM6L/2HMFbXx2F1SzgtvPHJ+zrRkvZNcrMaNLptLtw03OfYOtnhwEAi04pw63n\n",
              "j0+5oRct5SRBz2jtMblMz8xoSlIGmOL8xBRLvygQzgATp+mJwuHboJGYYNThEnH3Fs/581fOOgEn\n",
              "DDL+k0mFt2e0oaUbXQ6X3yk1ZFwHmrqwZP0O7DncDqtZwN0XTMCCGaV6X5bhZStlemNmRlu6HGjr\n",
              "8QTKpUWplxll1ILE9Y/F0i8KRLBnlD2jRCEpq50SFIyue28/9h/rxKBcG5Z/T//z58MxICcDA70l\n",
              "3W+Odup8NRSO9/cdQ/WD72LP4XYMyrXh2aUzGYiGKccmZ0aNGYzK/aJD8m3Iyki96iejFiQuGI2l\n",
              "XxRQncDEs+mJYmJJ4NBiY3sPHviX5/z5m88di7xM4x412Bsn6pODJEl46v1aXPbEdjR3OTFxRAE2\n",
              "L5+FaWWRV+DSVZYyTW/MMn2tPEmfgsNLAMv0ANTnVCcmGI2mXxTwrXYKdpUs0xOFR96gkYg+8d+/\n",
              "9hU67C5MHlmI+VNL4v71tDR6cC621zYxGDUwu8uNO17+HM9+dAAAcEHVcPx2/iRkWpmUiESOwcv0\n",
              "9d7MaGkKDi8BDEYBJOaJKdZ+UQCQN8L1P03PX0JEocgvQONdpv/kQAue23kQAHDnj8Yn3V5Hrncy\n",
              "tqPtdlzzzE7srGuGIAC/PHcclp42yreTmsKm7Bk16ACTsvA+BftFAQajANQLsOP3xBRrvyjgG7oI\n",
              "vmeUPaNE4fAu0IhrmV4UJdzpPX9+3tQRmFI6IG5fK1643sm4Pj3Ygquf3olDrT3Iy7TggUum4AyD\n",
              "rwszshzvaqcug652kjOjZUkw/BiNqKOWdevWQRAEbNq0KeDHt2zZgnHjxqGyshLz5s1DW1tbtF8q\n",
              "7hKx9D7WflFA1TMa5OMs0xOFRz51DYjfi9BNuxuwq74F2Rlm3Hyu8c6fD4ccjNYd74TTrcNxVRTQ\n",
              "y7sbcNGaD3CotQejinPw8nWzGIjGyOiZUV/PaGpmRqOKWmpra/H4449j5syZAT/e0dGBq666Cps2\n",
              "bcLevXsxfPhw3H333TFdaDwlomc01n5RQF2m5wATUSzMqjJmPNpzOuwu/Gar5/z55d+rwJD8TM2/\n",
              "RiIMy89EdoYZTrekLNwm/bhFCau2fokbnt0Nu0vEmWOLsem6WRjlHTSj6MmZ0W4D9ox2O9xobLcD\n",
              "SM2F90AUwagoili8eDEeeOAB2Gy2gLfZunUrpkyZgnHjPNmAa6+9Fhs2bIjtSuNIKdPHqWdUi35R\n",
              "wJfB5QlMRLFRJUbj8iL0oTdr0NhuR9nAbFw1+wTNP3+imEwCRhV7yoLsG9VXa7cTVz31ER59+xsA\n",
              "wLVnjMbaRdORn0TbGYzMyJlR+YVgQZYVhdmpeYJWxD2jq1evxqxZszBt2rSgt6mvr0dZWZnydnl5\n",
              "OQ4dOgSXywWLxf9L2u122O12v/e53Yl9ZRLvMr0W/aJqwfeM8mx6onCoy/RaB6MHmrrwxLb9AIBb\n",
              "fzg+6SsVFcW5+KyhDTWNHfjBSXpfTXqqaezA0vU78M2xTmRaTfjdhZNRPXm43peVUpRpegP2jCol\n",
              "+hTNigIRBqOfffYZXnjhBbzzzjuaXcCqVauwcuVKv/cFK//HS7wna7XoFwXUx4GyTE8UC7/MqMYV\n",
              "kTe/aoTDLWJ6+QB8/8Tk7+PjsaD6enNPI67fsAvtdheGF2TisYUna5LUIH/qzKgkSYbaSKCsdUrR\n",
              "flEgwjL9tm3bUFtbi8rKSpSXl+PDDz/E0qVL8cgjj/jdrrS0FHV1dcrbtbW1GDZsWJ+sKACsWLEC\n",
              "ra2tfn9mzJgR5bcTHVOcl95r0S8K+Kbpgw8wsUxPFA51z6jWL0KPtPUAAMYPyzfUE1q0lGCUE/UJ\n",
              "JUkSHnlrH6586iO0212YXj4ALy+fzUA0TrK9PaOi5HsuNYq6Jk9mtDwFz6SXRRS1LFu2DIcOHUJt\n",
              "bS1qa2sxc+ZMPPbYY1i2bJnf7c4991x8/PHH2LPH08D/8MMPY8GCBQE/p81mQ35+vt8fszmxmT1L\n",
              "HPeMatUvCvgGmIJnRjlNTxQOs2rfp9btOUe9gwbFeYF76pONLxjtDDo8Sdrqdrhxw7O78dvX9kCS\n",
              "gEtmlOLPi2emzM+UEWWpDgkw2ilMdSm+8B7QcM/o7bffjuHDh+Oaa65BXl4e1q5di7lz58LlcmHC\n",
              "hAl46qmntPpSmovncaBa9oua+tnt5NszyjI9USiCIMAkeLIgWmdG5WB0cF5yTtD3VjYwBxaTgA67\n",
              "C4fbejCsIEvvS0ppDS3duPrpHfisoQ0Wk4A7qk/CZTPL+v+HFBOzSUCW1YxupxtdDjdiq2NqSw5G\n",
              "U3WtExBjMPrWW28pf7/rrrv8PlZdXY3q6upYPn3CmOK42kmrflEgnD2jLNMThctsEiC6Jc0rIo0p\n",
              "lhm1mk0oHZiNb452oqaxg8FoHH1U24Rlz+zEsQ4HinIy8PClU2Nu76Lw5dg8waiRJuqdbhENLd0A\n",
              "gPIUXXgPxLD0PpVYzPFb7aRVv6gay/REsZMrIi43y/T9qSjmsaDxtmF7PX76+Ic41uHAicPy8fJ1\n",
              "sxiIJli2Ac+nb2juhluUkGk1YXAK/U7pjVELfJlRrZ+UtOwXBVQDTP3tGWWZnqhf5n6O142GW5Rw\n",
              "vNMBIMWCUZ5RHzdOt4jbNn2GFS/+B063hB9OHIYXlp2CkSlckjUqeaLeSOud5DPpS4uyU2IgMhie\n",
              "TQ9fhkTrzKjW+0VDleklSYKDZXqisMVji0ZzlwNuUYIgAANzUmc5NSfq4+N4hx3X/vljJWlx0zlj\n",
              "cN2ZFSkddBiZERff1ys7RlO3RA8wGAUQvwEmLftFgdDT9OpVFAxGifpnicPjvrHNU6IfmJMBiwaP\n",
              "eaPwZUY7db6S1PHFt21Ysn4HGlq6kWuz4L6fVOHs8UP0vqy0Jh8J2mWgYLQ2DYaXAAajAHzlOq1X\n",
              "vGjdLypncgKlRv2DUZbpifpjjsNKt6MdnmB0UG7qlOgBYLS3Z/RYhx2tXU4UZPMIylj87dNDuOm5\n",
              "T9DtdKNsYDbWLjwZlUPy9L6stKdkRo1UppeD0RRe6wSwZxRAfMr0WveLAv1lRj0PHkEArGaWeIj6\n",
              "E48tGspap/zUWOsky7FZMKzA8z3VHG3X+WqSlyhKuPcfX+G6v3yMbqcbp1YOwsvXzWIgahDKkaAG\n",
              "yozWexfel6Z4mZ7BKOJTpte6XxSA0kcUKGZWdoxaTOw3IgpDPB73je2e05eKUywzCnCIKVbtPU4s\n",
              "fXonHvhXDQBg8ewTsO7y6SjMTp3e4mSXbTNWZlQUJSUzWp7imVGW6RGfJyWt+0UB9QBT8J5RluiJ\n",
              "whOPx30qrnWSjS7Oxba9xxiMRqH2WCeWrN+BvY0dyLCYsOrHEzF/Wonel0W9yJnRbqcxgtHGdjvs\n",
              "LhFmk4Dhham935fBKOJTrovHflEBcjtB349xxyhRZOLRnpPKwaj6WFAK3ztfH8Xyv3yMth4XBufZ\n",
              "8NjCk1E1slDvy6IA5D2jRjkOtM47ST+iMEuzpJZRMRiF+mx6bT5fPPpFAUCZXwoxwGSzpvYPLJFW\n",
              "zMqLUO0+p+8o0NQNRpkZDY8kSXji3f2459UvIUpA1chCPHrZNAxJsX7iVKLsGTXI0nt5x2iqDy8B\n",
              "DEYBqDIkGmVG49EvCvjK9IHG6X09oyzTE4VDOYFJ1C4aTYfM6IHmLvQ43cjk4RpB9Tjd+L+X/oMX\n",
              "P24AAFw4rQS/mjuB95nB+XpGjZUZZTCaJkwmbVc7xaNfFGCZnkhLvheh2n3OVA5GB+ZkoCDLitZu\n",
              "J7452onxw/P1viRDOtLWg6VP78QnB1pgNgm4Zc6JuGJWOQdLk0COwY4DVdY6FaX2JD3AaXoAqmMB\n",
              "NQ5GtT5XWBlgCrH0nsEoUXiUXnGNeka7HW60ezMqqVimFwTBV6rnSUwBfVzfjB898C4+OdCCgiwr\n",
              "nrpiBq6cfQID0SRhtBOY6tOoTM/IBdouv45XvyjgW+0UODPKMj1RJCxmuWdUm9ToMe/C+0yrCbm2\n",
              "1Cw6VRSzbzSY53cexIJHP0Rjux1jhuRi8/JZmF05SO/LoggoJzAZZLVT7bH0OAoUYJkegLYrXuLV\n",
              "LwqoBpgCfMzuXUXBASai8Jg0HmBSdozm2VI2E8Yz6vtyuUXc8+oePPnefgDA2eOH4L6fVKXsC5JU\n",
              "pgwwOfXPjLZ0OdDW47mO0hQ/ChRgMAoAkNs6tQhG49UvCrBMT6QlrfeMKv2iKbjwXqYEo8yMAvAE\n",
              "DMv/sgvv1hwDAFx/ViV+flal7+hmSipGyozK/aJD8m3Iykj9iieDUQBmkyeA0zIY1bpfFPANMIVc\n",
              "7cQyPVFY4hWMDs5L3dU9cjD6zbFOuEVJuQ/T0ddH2rH4qR2ob+pCltWM1RdPxnkTh+l9WRSDLKtx\n",
              "ekZr5Un6NBheAhiMAlDvG4ztSSme/aJAfycwcZqeKBJmjQeYGlN4kl42vDALNosJdpeIA01dKB+U\n",
              "Hk+Uvf3j88P474270elwo2RAFh5feDJOHMbtAslOzoz2OEXdX2zVezOjpWkwvARwgAkAYJLL9DE+\n",
              "KcWzXxQI82x69owShUXr/cKpvNZJZjYJGJXGQ0yiKOH//XMvlj69E50ON2aOKsLm5bMZiKaIbFU5\n",
              "vEvn7Ki88D7Vz6SXMXIBYPFGo7E+KcWzXxQA5NdogY4vZJmeKDJa7xdOh2AUQNqud+q0u3DdXz7G\n",
              "6te/BgAsOqUMT1/1HRTlZOh8ZaQVm8WkvEjVe9eovPC+NA0m6QGW6QH4BphifVKKZ78o4Jv+Ddwz\n",
              "yjI9USQsWmdGO1L3KFA1eb1TOg0xHWjqwpL1O7DncDusZgF3XzABC2aU6n1ZpDFBEJCdYUZ7j0v3\n",
              "U5h8C+/TIzPKYBS+IC+WJ6V494sC6mn6vh9jZpQoMlovvW9sY2Y0Fb2/7xiu+/PHaO5yYlCuDWt+\n",
              "NhUnl8fndzzpLyfDgvYel66Z0S6HS+lBT4eF9wCDUQC+Mn0sT0rx7hcF1HtGQ5xNz55RorBoudJN\n",
              "FCVl6X3aBKONHZAkKWV3qkqShKc/rMPKV76AW5QwcUQBHr1sGoYXZul9aRRH8vn0egaj8slLBVlW\n",
              "FGanRxsIg1H4BphiKdPHu1/Ug2V6Iq1YNFzp1tLtVH5/DErhPaMAUD4oGyYBaO9x4Wi7HYPzU2+V\n",
              "lcMl4vaXP8OzHx0AAFxQNRy/nT8JmVZWnlKdfD69nuudlBJ9mmRFAQajALSZqo13vyjgK9NzgIko\n",
              "diYN94zKpy8V5WTE8cWoMdgsZpQWZaP2eBdqGjtSLhg92m7Hsmd2YkddMwQB+OW547D0tFEpmwEm\n",
              "f/KCeT0X3ytrndKkXxTgND2A2M+mT0S/KKAaYArwMZ7ARBQZc4gXd5FKh9OX1FL1WND/HGxF9YPv\n",
              "YkddM/IyLXjy8um4+vTRDETTSE6G/ovv65o8k/TlaTJJD0QRjJ5zzjmYNGkSqqqqcOqpp2LXrl19\n",
              "bvPWW28hKysLVVVVyp/u7m5NLjgezKop9Wiyo4noFwXUq536foxn0xNFRj55TYvVTumy1kk2enDq\n",
              "7Rp9eXcDLlzzPg619mBUcQ42XTcLZ44drPdlUYJlK0eC6l+mT5eF90AUZfq//vWvKCwsBAC89NJL\n",
              "uPzyy/HJJ5/0ud3YsWOxe/fuWK8vIdSnLLglCSZE9io4Mf2ivjJ9oKZRlumJIqPlAJPvKND0CEbl\n",
              "9U6pMFHvFiX87u978Ojb3wAAzhxbjPsvmYL8TKvOV0Z68GVG9SvTp9taJyCKYFQORAGgtbU1JcoX\n",
              "fsGoKCHSHvVE9IsCLNMTaUnLE5jS4ShQtYoUyYy2djtxw7O78NZXRwEAy84YjZvOGavrMZCkr2zv\n",
              "AJNeJzA53SIaWjyV5HQ6bjeqAaaFCxfizTffBAC8+uqrAW+zb98+TJ06FWazGVdccQWuvfbagLez\n",
              "2+2w2+1+73O7E/uKRP2LJ9L+sUT1iwJQ6vSBB5g4TU8UCbOGJzCla5n+SJsdbT3OpMwi7jvagSVP\n",
              "7cA3xzqRaTXht/Mn4YKqEXpfFuksR+fVTg3N3XCLEjKtprSptABRBqPr168HADz11FO4+eab+wSk\n",
              "U6dOxcGDB1FQUICDBw9izpw5GDRoEC6++OI+n2vVqlVYuXKl3/tmzpwZzWVFzaTK7kb6xJSoflGg\n",
              "nxOYlD2jLNMThUPuFdd0gClNnjzyM60YnGdDY7sd+xo7MKV0gN6XFJE39zTi+g270G53YVhBJh5f\n",
              "eHLcf39TclAyozpN08tn0pcWZadE5TlcMaXRFi1ahDfffBPHjx/3e39+fj4KCjwP7JKSElxyySXY\n",
              "tm1bwM+xYsUKtLa2+v2ZMWNGLJcVMb/MaITBaKL6RQHfAFPoE5iYGSUKRzxWO6VLMAqoJ+o7db6S\n",
              "8EmShEfe2ocrn/oI7XYXppcPwOblsxmIkiJb52n6eu+Z9GVpNEkPRBiMtrS04Ntvv1Xe3rRpEwYO\n",
              "HIiiIv/y9KFDhyCKnuCovb0dW7ZswZQpUwJ+TpvNhvz8fL8/ZnNis3tmwb9nNBKJ6hcF+tszyjI9\n",
              "USTkxz0HmKKTbH2j3Q43bnh2N3772h5IEnDJjFL8efHMtHoBQf3LUXpG9cmM1qbh8BIQYZm+tbUV\n",
              "F110Ebq7u2EymVBcXIwtW7ZAEAQsXrwY1dXVqK6uxgsvvIBHHnkEFosFLpcLF110Ea644op4fQ8x\n",
              "M5kECIIn4xjJE1NC+0Xh307Qm5IZZZmeKCxmszbBaI/TjbYeTxalODe1FsCHkkzB6Lct3Vj69A58\n",
              "1tAGi0nAHdUn4WffKU2rMiiFRz4OtFOn1U7pePoSEGEwWlZWhu3btwf82Nq1a5W/L1++HMuXL4/t\n",
              "yhLMLAhwSVJEi+8T2S8KqPeM+l+jJElwsExPFBElMxpjz6h8Jn2GxYT8rPQ51E5e72T0xfcf1TZh\n",
              "2TM7cazDgaKcDDx86dSEVLIoOemdGa1vSs8yffr85uyH2STAJUoRZUkS2S8KQIlGez93yllRgMEo\n",
              "Ubi0Wu3UqDp9KZ0ybfJEfd3xTthdbkPuON6wvR63v/wZnG4JJw7Lx2OXTcPINCt/UmT07BkVRYmZ\n",
              "0XRnjmKYIZH9okDwPaP+wajxnhCIjEir1U7pNkkvG5xnQ57Ngna7C7XHujB2aJ7el6RwukXcveUL\n",
              "rP+gDgDww4nD8PuLJimT0kTB5HhPYOrWITPa2G6H3SXCbBIwvDAr4V9fT0yjeUU6zJDoflEgeJle\n",
              "Hl4SBMBqTp/MDFEstFrtlI7DSwAgCIKSHTVSqf54hx0/W/tvJRC96ZwxePCnUxiIUliUzKgOPaN1\n",
              "3kn6EYVZiam2GggfnV7yMEO4T0yJ7hcFfKtoeqdGlR2jFlNalQmJYqHVaqd0O31JrWJwLnYfaDHM\n",
              "ENMX37ZhyfodaGjpRk6GGX9cMAVnjx+i92VREslW9YxKkpTQ59R0LdEDDEYVvsxoeLdPeL8oVHtG\n",
              "e72f59ITRc7CMn3MjDRR/+p/DuEXf/0E3U43ygZm4/GFJ2PMEOO0DlBykKfpXaIEh1tM6PNqnTK8\n",
              "xGA0bZmUJ6bwotFE94sCwfeMcscoUeS0GmBK62C0WP9gVBQl3PfG13jgXzUAgFMrB+GBS6agMDtD\n",
              "t2ui5JWtWo/YZU/sYJ6SGS1Kr0l6gMGowqI8MfV/Wz36RQEo5YJg0/Q2K4NRonCZlNVOsX2eox1y\n",
              "z2j67BiVyT2j3xzrgChKvlaiBGnvceK/N36CN748AgBYPPsE/PK8cbCkWb8dacdiNsFmMcHuEtHp\n",
              "cGFATuJe1LBMT6onpv6fmfToFwVCDDA5WaYnipRFWXofZm9OEEfb0u8oUNnIAVnIMJvQ4xTR0NKd\n",
              "0LVJdcc7sfipHdjb2IEMiwmrfjwR86eVJOzrU+rKsVlgdzkSvmu0Lk2PAgU4Ta/wrXbq/4lJj35R\n",
              "QLXaqU9mlGV6okiZNDgOVJIkJTOajsGoxWzCCYM8T5w1CZyo37b3KKoffA97GzswOM+GjUtnMhAl\n",
              "zcgT9YkMRlu6HMpJbqVpuAuX0YuXxRT+AJMe/aKAr2e0NztPXyKKmDmCx3wwrd1OOL11/kG56dmj\n",
              "KA8x7UtA36gkSVi77RssenI7WrudqBpZiFf+azamlA6I+9em9KGcwpTA9U5yiX5Ivg1ZGelX5WSZ\n",
              "3ivcNS969YsCgIDA66c4TU8UOS32jMrDS4XZ1rR9/I1O0ER9j9ONW176DC98fBAAMH9qCX794wnI\n",
              "tKbn/U7xo5xPn8DMaK1cok/D4SWAwagi3KX3evWLAr7MaJ8yvdNbpucAE1HYtDiBSX0UaLpKxHqn\n",
              "I209uPrpndh9oAUmAbjlh+Nx5axy7lWmuPCV6ROXGa33ZkZL03B4CWAwqlAyo/1kSfTqFwVCrXZi\n",
              "mZ4oUlqsdkrntU6y0cW+ntF4LAnfVd+Mq5/eicZ2OwqyrHjop1Mxu3KQpl+DSE1efN9pT1xmtK7J\n",
              "E4yWMxhNb5Ywn5j06hcFfGV6Lr0nip0WJzCl61GgaqOLcyEIQEuXE8c7HRikYZb4+Z0H8X8v/gcO\n",
              "t4gxQ3Lx+MKT03LSmBIrR4fMqDxJX5qmP98MRr1MYZTs9OwXBQCTN/HJaXqi2Fk0CEYb29N3rZMs\n",
              "02pGyYAsHGjqxr7GDk2CUZdbxKqte/DEu/sBAGePH4L7flKFXBufsij+sm06ZEaVhffpmRll9OLl\n",
              "XTkY8olJz35RQJUZDbZnlD2jRGGLZLdwMCzTeygnMWmw3qmly4Er/vSREohef1YlHv3ZNAailDBK\n",
              "ZtSZmMxol8Ol9J+XMzOa3izetGOoyVo9+0UBQD7chGV6otiZtSjTp/GOUbWKwbl486ujMQ8xfX2k\n",
              "HUvW70Dd8S5kWc249+LJmDNxmEZXSRSebGW1U2Iyo/XeftGCLCsKsq0J+ZpGw2DUSy6BhyrT69kv\n",
              "Cqin6Xk2PVGstCjT+3pG0+8oUDUtJur/8flh/PfG3eh0uFEyIAuPLzwZJw7L1+oSicKWo6x2Skxm\n",
              "NJ2PAZUxGPXqb7JW735RD3kvov97mRklipwWA0yNLNMD8AwxAdEtvpckCQ/+qwb3vv41AM/v14cv\n",
              "nYaiBJ4JTqSWlejMqLzWKU37RQEGowqzNzUa7IlJ735RQFWmZ88oUcxiXXpvd7nR0uUEkN57RgFf\n",
              "ZvTb1h502l3ICbO/s8vhwk3PfYJX/3MYALDolDLcev54XdqgiGRyz2iiMqPywvt07RcFGIwqlAGm\n",
              "IE9MeveLAlD293Ganih2sS69P97hAABYzQIK07TPS1aYnYFBuRk41uHAN0c7MbGk/xfsB5q6sGT9\n",
              "Duw53A6rWcDdF0zAghmlCbhaotCUntEEncAk94ym68J7gNP0iv6GGfTuFwXkIj0HmIi0EOvSe/Xp\n",
              "SzwJyFeqrzna3u9tP9h3HNUPvos9h9sxKDcDG5bMZCBKhqH0jCbobPp0X+sEMBhVhApGjdEv6ltF\n",
              "03eAiScwEUVKLnBEu9qJa538hTPEJEkSnv6gFpc98W80dzkxcUQBNi+fjZPL9fu9StSbnBntdsY/\n",
              "M+p0i2ho6QYAlA9imT7tKVmSAE9MRugXBdTHgfq/n2fTE0VO2TMaZWaUwai//oJRh0vEHZs/w4bt\n",
              "BwAAF1QNx2/nT0KmlRUdMhZfZjT+wWhDczfcooRMqymtT3JjMOolPzG53H2fmIzQLwqoVjshWGaU\n",
              "v9SJwmXpZ2ixP75gNL3XOsmUMn2AYPRoux3LntmJHXXNEATgl+eOw9LTRrG9gQwpR+kZjX+ZXj6T\n",
              "vrQoO60fDwxGvSwhMqNG6BcFQg0wsUxPFCl5t3C0wSiPAvUnZ0brjnfB6RaVF+7/OdiKpU/vwKHW\n",
              "HuRlWvD/LpmCM8cO1vNSiULKUs6md0MUJWUNXDzUeyfpy9J4kh6Iomf0nHPOwaRJk1BVVYVTTz0V\n",
              "u3btCni7J554ApWVlRg9ejSWLFkCp9MZ88XGU7Cdg0bpFwVUA0ycpieKWajWnHCwTO9vWEEmcjLM\n",
              "cImSMpDx8u4GXLjmfRxq7cGoQTnYdN0sBqJkeHJmFIh/32gth5cARBGM/vWvf8Wnn36K3bt348Yb\n",
              "b8Tll1/e5zb79+/Hbbfdhm3btqGmpgZHjhzBY489psX1xo28c7D3mhej9IsCqgGm3mV6Zc8oy/RE\n",
              "4bLEuNpJOQo0zXeMygRBwGhvdnTvkXb8Zuse3PDsbthdIs4cW4yXrpullPKJjCzTalLa4uK9a5Sn\n",
              "L3lEHIwWFhYqf29tbQ3Y4/D888+juroaQ4cOhSAIuOaaa7Bhw4aYLjTegq15MUq/KBBigIlleqKI\n",
              "xTrA1NjmPQo0n8GorMIbbK546T9Y8/Y+AMA1p4/G2kXTUZCV3rtYKXkIguDrG43zEFN9E8v0QJQ9\n",
              "owsXLsSbb74JAHj11Vf7fLy+vh5lZWXK2+Xl5aivrw/4uex2O+x2u9/73O7ELJpVU1Y7SYGDUb37\n",
              "RQF1mZ5n0xPFKpY9o5IkMTMagJwZbelywmYx4XcXTsIFVSN0viqiyGVnmNFhd8U1MyqqWlqYGY3C\n",
              "+vXrceDAAfzqV7/CzTffHNMFrFq1CgUFBX5/tm/fHtPnjEawPaN7vZOhk0fqW6IHVANMvd6vZEZZ\n",
              "picKWywnMLX1uODwPu7YM+ozpbQQgKd/9PlrvstAlJKWfKRtdxxPYWpst8PuEmE2CRhemBW3r5MM\n",
              "YkqlLVq0CG+++SaOHz/u9/7S0lLU1dUpb9fW1qK0NPDpGitWrEBra6vfnxkzZsRyWVEJVrKTd3jm\n",
              "hnnWcjwpq51UlyhJkvKkyMwoUfhiGWCSh5fyMy3ck6lyyqiBeOna7+Lv/31aWEeCEhlVtnI+ffyC\n",
              "0TrvJH3JgCzd2wD1FtF339LSgm+//VZ5e9OmTRg4cCCKivynzOfPn4/Nmzfj8OHDkCQJa9aswYIF\n",
              "CwJ+TpvNhvz8fL8/ZnPif7lbgpTpHW5PoJdhgEDPpOrPlUv1clYUYDBKFAlzDD2jXOsUmCAImFI6\n",
              "APmZ7A+l5CYHo11xPBJULtGXpvkkPRBhz2hraysuuugidHd3w2Qyobi4GFu2bIEgCFi8eDGqq6tR\n",
              "XV2NUaNGYeXKlZg1axYA4IwzzsDVV18dl29AK8H6x+RgL8MAr1rUo2KiBJiF3sEoMzRE4fJlRj0v\n",
              "7iJZOM21TkSpTT4SNK6ZUWV4icFoRMFoWVlZ0H7OtWvX+r29ZMkSLFmyJPorSzBTkP4xuQRuhMyo\n",
              "+rnSkxkVlOElQQCs5vQ9vYEoUmbVImu3KMESweOHpy8RpTb5SNB4nsKkDC8VpfckPRBjz2gqsQTI\n",
              "jEqS5MuMGiIYVZXpvf9VdoxaTGl9lBhRpNSnqvRuz+mPHIym81nSRKlMyYzGcbUTJ+l99I+wDEIZ\n",
              "YFI9KTlV59QboQSujjXFXj2jRrg+omRiVj2gRDHEDQNgmZ4oteVkJCIzyh2jMgajXoFWO8nDS4Ax\n",
              "hoPUeU85ZuaOUaLoqMv0rgijUe4YJUpt2d4NOl1x6hlt6XKgrccT6HKAicGoImAwqhoOMsIAkylA\n",
              "Gd63Y1T/6yNKJupgNNrMKE9fIkpN8c6MymfSD8m3ISuDlU1GMF6+YNT3PjkYtZgEv/4yvQQs0ztZ\n",
              "pieKhrpMH2nPaCPL9EQpLd49o0qJnsNLABiMKnw7B33RqJEm6YHee0Y9/2WZnig6JpOgvMCLpEzv\n",
              "dIto6nQAYJmeKFVlxzkzWi/vGOXwEgAGowrf2fS+9xk50Os7wGS8ayQyOvlFaCRl+uMdnkDUYhIw\n",
              "IDsjHpdFRDqTe0bjlhlt8gSj5QxGATAYVQRaem+ktU5Arz2j3v9ymp4oeqYgJ6+FIveLDsq1GaJ9\n",
              "h4i0F++eUblMX8pJegAMRhW+pfeqMr2BjgIFgpTpnd7sLQeYiCKmHAPsDj8Y5VGgRKkv3icw+Rbe\n",
              "MzMKMBhV+HpGfe9zGOgoUKD3aieW6YliZQ6wX7g/3DFKlPrkE5i64xCMdjlcyhBkOTOjABiMKpQT\n",
              "mKS+q50yDFICFwIOMLFMTxQtU4CVbv3h6UtEqc+XGdW+TF/v7RctyLKiINuq+edPRgxGvQKdTW+8\n",
              "aXrf3309o8YdsiIyOksUwSjXOhGlPuVs+jgMMPEY0L4YwXjJlfhAA0xGCfTUmdE+e0bZM0oUsVgy\n",
              "owxGiVJXttWTGXW4Rb8DcLRQrwSjLNHLGMF4mU2eu8L/OFDjZR3leJRleqLYKaudIukZ5VGgRClP\n",
              "fSqS1n2jtcrCe2ZGZcaJsnQWaJDBaANMgG+IyTfAZLyAmShZBDoGuD88CpQo9WVYTMpzv9Z9o3LP\n",
              "KBfe+zCC8ZLjzUBn0xulZxTwleq5Z5QoduYAveKhSJLkW+2Umxm36yIi/WXb4rNrlGud+jJOlKWz\n",
              "QGV6oy29B3xDTL49o+wZJYqWOcAWjVA67C70eB9zg/J4+hJRKsvxTtR3aVimd7pFNLR0AwDKB7Fn\n",
              "VMYIxksZYFKX6d1GLNP7P3myTE8UPfnFXbhlerlEn2uzKKtfiCg1yefTa3kkaENzN9yihEyrievh\n",
              "VBjBeMmnG7lUJ7EYMusoZ0a9b7JMTxQ9S4CKSCiN3DFKlDbk8+m1LNPLZ9KXFmX7bchJdwaKsvQl\n",
              "PykFzowaJ9CTMznyCiqjrZ8iSiaRrnZSzqVnMEqU8rKt3syohmV6+Ux6rnXyxwjGy5QsA0zwfyXF\n",
              "s+mJoqcMLobZM8odo0Tpw7f4XsPMKIeXAmIE4+U7m97YwWifASaW6YmipgwuusMMRjtYpidKF74j\n",
              "QbXMjPL0pUCME2XpzGIOvmfUSCVwQeg9wGS8ayRKFmZ5gCnMzGhjGzOjROkiPplRlukDYQTjZQqU\n",
              "GTXkNL0Hz6Ynip2y2incnlGevkSUNrTOjIqipCy8Z2bUHyMYr0AnsSiBnoH6MX3HgfY+m55leqJI\n",
              "Rbr0nj2jROkjx7vaqVujafrGdjvsLhFmk4DhhVmafM5UYZwoS2cBM6NGPA5UKdN73maZnih6kS69\n",
              "P+o9fWlwHk9fIkp18monrTKjcom+ZEAWrAaKK4wgonujp6cHc+fOxZgxYzB58mScffbZqKmp6XO7\n",
              "2tpamM1mVFVVKX/27dun2UXHg9wzqn5SMuIJTL61ZFx6TxSrQC9Cg3G5RRzvdABgZpQoHchL77Xa\n",
              "MyoPL5Vykr6PiI8QWbp0Kc477zwIgoAHH3wQixcvxltvvdXndnl5edi9e7cGl5gY8jS9y/DT9EEy\n",
              "oyzTE0XMEsGe0aZOByTJs9GiKIdHgRKlOqVnVKMTmOqa5OElBqO9RRRlZWZmYs6cOUqpeObMmait\n",
              "rY3HdSVcoOXXhh5gkjx9o0ac+CdKFoF6xYORT18alGtT/h0Rpa6cOGVGy4o4Sd9bTIcr33///bjg\n",
              "ggsCfqyzsxPTp0+H2+3G3Llzccstt8Ac4CQju90Ou93u9z63W7udXuGyBJiqNWJmVH4hIEFSsqIA\n",
              "g1GiaChl+jB6Rjm8RJRelJ5RrTKj3DEaVNQRzD333IOamhqsWrWqz8eGDRuGhoYGfPTRR3jjjTew\n",
              "bds23HvvvQE/z6pVq1BQUOD3Z/v27dFeVtQCPSkZcaG83DMqiugVjBrnGomSRSSrnRiMEqUX7TOj\n",
              "3DEaTFTB6B/+8Ae8+OKL2Lp1K7Kz+0b4NpsNgwcPBgAUFRXhyiuvxLZt2wJ+rhUrVqC1tdXvz4wZ\n",
              "M6K5rJgEKtcZMjPq/a8nM+p5tSYIgNXMsiFRpCJZ7cQdo0TpRe4Z7dJgmr6ly4G2Hk9QywGmviIu\n",
              "069evRobNmzAG2+8gcLCwoC3aWxsxIABA2C1WmG32/Hiiy9iypQpAW9rs9lgs/n/cg9Uzo+3QIMM\n",
              "RuzHlDO4kqTaMWoxKeV7IgpfRD2jbd61TvkMRonSgXICkwbBaK23RD8k34asDFYye4soyjp48CB+\n",
              "8YtfoKWlBWeeeSaqqqrwne98BwBw++23Y82aNQCAd999F1OmTMHkyZMxdepUDB06FLfccov2V68h\n",
              "k8k3pS4vlFcGmAwUjPqW3huzjYAomZiF8PeMMjNKlF58JzC5lLggWkqJnsNLAUWUGS0pKQn6P+Su\n",
              "u+5S/j5v3jzMmzcvtitLMLMqs+gWJVjMgjGX3nv/qy7TGylzS5RMIirTKz2jXHhPlA7kPaOSBPQ4\n",
              "xZgymvXyjlEOLwXEKMbLrOq5lIeYDNkzqtoz6tsxapzrI0omHGAiomCyVPu7O2McYpLL9OUMRgNi\n",
              "FOOlzoyKoufJSS7TGynzqD6b3tczyjI9UTR8+4X7v628Z3Qwg1GitGAyCb5TmGJc71TvXXhfykn6\n",
              "gIwTZelMvcTaJYpKIAoYKzOqDDCBR4ESxco3uBg6Gu20u5QhBmZGidKHum80Fr6F98yMBsIoxksd\n",
              "jIoiDBuM+mVGDTjtT5RMwl16L5foszPMyLHFdFYIESURLSbquxwupbJSzsxoQPyt6uU3wCRJEF2+\n",
              "JydDDjBxmp4oZuYwy/TyJD1L9ETpxbdrNPrMaH2TJytakGVFQbZVk+tKNQxGvUy9yvQutycYzTAb\n",
              "a4enX5ne6S3Tc4CJKCrKMcD9ZEYb2zi8RJSO5FOYYjkSlMeA9o9RjIpvstaYk/QAlNSoKLJMTxQr\n",
              "+UWo/OIzmKPtnoX3DEaJ0kuWBkeC1ivBKEv0wTCKUVFKdgbux/TtGWWZnihW4S6958J7ovSUowww\n",
              "RZ8ZrVUW3jMzGoyxIi2dKU9MomTYzKhJ9eTJaXqi2JjCPA5ULtMPzufCe6J0ki0PMNlj7xnlwvvg\n",
              "GMWoqE9jcbg9gZ7RglFBlRpV9oyyZ5QoKpYwT2BiZpQoPWmRGeVap/4xilExq7IkdgMeBQr03jPK\n",
              "Mj1RLMI9gYmnLxGlJzkz2h1lz6jTLaKhpRsAUD6IPaPBGCvS0plZNVlr1DK9jGV6othFumeUwShR\n",
              "eok1M9rQ3A23KCHTauJquBAYxajIT0wut3GDUXnNFPeMEsXOEkbPqFuUcIx7RonSku840Ogyo3Vy\n",
              "v2hRtqHWRBqNsSItnal3Dhp1ml5ehyqqz6ZnzyhRVMIZYGrqdECUPP3aRTkZibo0IjKA7Bgzo3Xy\n",
              "JD3XOoXEKEZF3TPqy4waK+uoHAcKnk1PFCuz9/EUqkwvl+gH5mTAYrAeciKKL99xoFFmRjm8FBb+\n",
              "ZlUxee8NzzS9MQeYBPiiUZbpiWJj9j6+3SGW3jcqC++51oko3SiZ0ShPYOLpS+ExVqSlM4s3GlUP\n",
              "MBkt6+hXpjfoNRIlC3MYA0wcXiJKXzkxnsDEMn14GMWoyIGe28BL76EeYOLZ9EQxkQsfoVY7ccco\n",
              "UfrKtnkyo11R9IyKoqQsvGdmNDRGMSp+PaNuY2YdTX49oyzTE8XC7K2GhJMZHZzPYJQo3fgyo5EH\n",
              "o43tdthdIswmAcMLs7S+tJRirEhLZ8oTkygpWUejZUblxRAs0xPFTs6Mhpqmb2xnZpQoXcmZ0c4o\n",
              "VjvJZ9KXDMiC1WDzJ0bDe0dFeWKSJNiNOsDkt2eU0/REsVCW3ocq07NnlChtyZlRu0uEyxsXhKv+\n",
              "uG/HKIXGKEZFGWYw8NJ7pUzvt2eUZXqiaJjD2DN6jMEoUdrKyvA9v3Y5IyvV1zXJw0sMRvtjrEhL\n",
              "Z8oCbAMfByqvdvLvGTXWNRIli3BOYJLL9Dx9iSj9ZJhNyu+JrgjXO9V6M6PlnKTvF6MYFeUEJgNP\n",
              "0ytL71mmJ4pZf2fTdzlc6PD2ijEzSpR+BEFQjgTtjHC9E8v04WMUo6J+YvJN0xurBC4E2jPKMj1R\n",
              "VMyqF6CBHGt3AAAyrSbkegcZiCi95MjrnSLMjHLHaPgYjKqo+8fkfkzDZUa9ZXojL+YnShbyY94V\n",
              "JBg92iGfvmRThgeJKL1kR7H4vqXLgbYez+2ZGe1fRFFMT08P5s6dizFjxmDy5Mk4++yzUVNTE/C2\n",
              "W7Zswbhx41BZWYl58+ahra1NkwuOp4B7Rg02TS8fWSpnRQEGo0TR6m+AqbFN7hflUaBE6SonisX3\n",
              "cr/okHyb3xAUBRZxFLN06VJ89dVX+OSTT3DBBRdg8eLFfW7T0dGBq666Cps2bcLevXsxfPhw3H33\n",
              "3ZpccDz5BaNG7Rn1ZkZ7VFN9RmslIEoW8gYNMUjPKE9fIqJoekaVEn0RS/ThiCjSyszMxJw5c5Ry\n",
              "1cyZM1FbW9vndlu3bsWUKVMwbtw4AMC1116LDRs2xH61cWYWkiAY9VYK5WBUEACrmeVDomj0W6bn\n",
              "WieitJedEXnPqDK8xLVOYYmpI//+++/HBRdc0Of99fX1KCsrU94uLy/HoUOH4HK5YLH4f0m73Q67\n",
              "3e73Prc78mO3tGBWrXYy+tL7boevX5S9bETR6W+AyVemZzBKlK6iyYz61joxGA1H1JHWPffcg5qa\n",
              "GqxatSqmC1i1ahUKCgr8/mzfvj2mzxktc4DVTjarwYJR7397lLVOLNETRUu9WzgQpUzPYJQobeVk\n",
              "RN4zWu9deF/KSfqwRBVp/eEPf8CLL76IrVu3Iju7b9RfWlqKuro65e3a2loMGzasT1YUAFasWIHW\n",
              "1la/PzNmzIjmsmJmUpXs5B2eRsuMmnqV6Tm8RBQ9327hwB9nmZ6Ism3ezGgE59PXeTOjZZykD0vE\n",
              "kczq1auxYcMGvP766ygsLAx4m3PPPRcff/wx9uzZAwB4+OGHsWDBgoC3tdlsyM/P9/tjNuuT7bMk\n",
              "wwCT4D/AZLTMLVEykXcLu4JEowxGiSjSzGiXw6Wc3MbTl8ITUc/owYMH8Ytf/AKjRo3CmWeeCcAT\n",
              "TP773//G7bffjuHDh+Oaa65BXl4e1q5di7lz58LlcmHChAl46qmn4vINaEk9WWvYYNT73x6nMZfy\n",
              "EyUT3waNvh8TRQnHOrjaiSjdyZnRcPeM1jd5sqIFWVYUZFvjdl2pJKJgtKSkBFKQ3qq77rrL7+3q\n",
              "6mpUV1dHf2U6UJfpfScwGSwYVQaYWKYnipXSJx7g91pzl0OZsh+Ym5HQ6yIi45Azo51hZkaVEj2H\n",
              "l8LGSEYl4Nn0OrUMBKOsduK59EQxU1Y7BUiNysNLRTkZsBqsd5yIEkdeWt8VZs8ojwGNHH/DqphU\n",
              "JTu70afpnZymJ4qVrzWn78fkflGudSJKb1FnRjm8FDZjRVo6k5+YnG5ROR7QeNP03jK905jBMlEy\n",
              "CXUcqLxjlMNLROkt2p5RLrwPHyMZFfmJqVt11KbhBpi8qVE7VzsRxSxUMMqjQIkIUE3Th3kCU623\n",
              "TM9J+vAxklFJhmDU1Hu1E8v0RFEzh1h6z7VORAT4TmAKZ7WT0y3i25YeABxgioSxIi2dKcGow3fu\n",
              "uzzUZBjey+lmZpQoZvKLO7co9dkU0shglIgA5NjkntH+y/QNzd1wixIyrSb2m0eAkYyK/MQk94Vk\n",
              "mI137nufPaPsGSWKmvrFZu9K/dF2T3aDwShRestRZUaDrbeU1cn9okXZhosfjIyRjIrF1Gs4yIBZ\n",
              "R98AE8v0RLEyqYLR3n2jLNMTEeBb7eQWJWXTTjBc6xQd40VbOjIpZXpvZtSAgZ78Qkveg2rEgJko\n",
              "WZj9MqOBg1GW2ojSW3aG73yg/vpGudYpOoxkVMx9so7Gu3t6J/2ZGSWKniVIZrTH6UZbj+dFaTGP\n",
              "AiVKa2aTgExvS1xnP4vvefpSdIwXbenIYvYfYDLaJD3gK9PL2DNKFD3148mlCkblrGiGxYT8zIhO\n",
              "TSaiFKSsd+o3M8oyfTQYyaiYep37brSF9wD6pEaNmL0lShZ+ZXp1MKraMcohBCIKZ/G9KErKwntm\n",
              "RiPDSEZFjj27nEmUGWWZnihq6s1t6l2j8ulLg/PZL0pE4WVGG9vtsLtEmE0ChhdmJerSUoLxoi0d\n",
              "mU2eu0POjBox69i3Z9R410iULARBCHgKE09fIiI1efF9qJ5R+eSlkgFZsBqxsmpgvLdUzPJRm95J\n",
              "dSNmRntXDNkzShQbsxAgGOVaJyJSkRffh8qM1h/37RilyDCSUTH3Om3JiMEoy/RE2vIWRBiMElFQ\n",
              "WVZvZjREz2hdkzy8xGA0UsaLtnQkl+llRhxg6pMZNWDATJRMLN7HvX8w6jl9aTDXOhERVJlRe/DM\n",
              "aK03M1rOSfqIMZJR6R17GjEz2rtrlMEoUWzkgoh6gImZUSJSU3pGQ2RGWaaPHiMZld4lcCMGo6Y+\n",
              "PaMs0xPFQm7PEVmmJ6Ig+usZlSRJGWDijtHIGS/a0lHvnlEj9mOyTE+kLbk9R156L0mSMk3Po0CJ\n",
              "CPBlRoPtGW3pcqLde2obM6ORYySj0jcYNd7d03eAyXjXSJRMzL0GmFq6nHC6PX8fmJuh12URkYEo\n",
              "e0aD9IzWeZfdD8m3ISvDeIkso2Mko5IM0/R99oyyTE8UE3m1k+jtGZWzooXZVkNWR4go8eQTmIL1\n",
              "jCrHgBaxRB8N40VbOjL37hk15DQ9M6NEWjKb/feMKv2iXHhPRF6+Mn3gzKgyvMS1TlFhJKOSFJlR\n",
              "9owSaar30vtGea0TjwIlIq9sb5k+2AlMvrVODEajwUhGJSmC0T6rnVhGJIqFycTMKBGF1t/Z9PXe\n",
              "hfelnKSPivGiLR2ZkmCASZ0ZFQTAau7dRUpEkVAyo1KvYJST9ETk1X/PqCczWsZJ+qhEFG1df/31\n",
              "KC8vhyAI2L17d8DbvPXWW8jKykJVVZXyp7u7W4trjTtLEmRG1Zdos5j69JASUWTMpt5lenmtE09f\n",
              "IiIPOTPaHSAz2uVwKb83ePpSdCyR3PjCCy/E//7v/2L27Nkhbzd27NigwaqRJdsAE0v0RLHrHYwy\n",
              "M0pEvSknMAVY7VTvXetUkGVFQbY1odeVKiIKRk877bR4XYch9C7TGzEzKvTKjBJRbJQTmFimJ6Ig\n",
              "5BOYup1uuEXJb8ZEKdFzeClqcYlm9u3bh6lTp2L69Ol4+OGHQ97Wbrejra3N74/bHbhBON56l+mN\n",
              "GOypB5hsVuNdH1GykZ9UXG7/PaMMRolIlq1aZN/t9I9R6ngMaMwiyoyGY+rUqTh48CAKCgpw8OBB\n",
              "zJkzB4MGDcLFF18c8ParVq3CypUr/d43c+ZMrS8rLH0HmIxXBvfPjBrv+oiSjXrpvd3lRkuXEwCP\n",
              "AiUiH5vFBJMAiBLQZXch1+YLnzi8FDvNU2v5+fkoKCgAAJSUlOCSSy7Btm3bgt5+xYoVaG1t9fsz\n",
              "Y8YMrS8rLH16Rg2YGe09wEREsfGtdgKOdTgAeLZUFGSx94uIPARBUIaYOnsNMck9o1x4Hz3No5lD\n",
              "hw5BFEUAQHt7O7Zs2YIpU6YEvb3NZkN+fr7fH7NZn4xfsu0ZZTBKFDu5Pcclin47RrmpgojUlPVO\n",
              "vRbf13rL9Jykj15E0czVV1+NkpISHDx4ED/4wQ9QUVEBAFi8eDE2b94MAHjhhRcwceJETJ48GTNn\n",
              "zsTZZ5+NK664Qvsrj4M+waghp+l9f2eZnih26gEmDi8RUTDKeidVz6jTLeLbFs+pbRxgil5EPaOP\n",
              "PvpowPevXbtW+fvy5cuxfPny2K5KJ0mRGRU4wESkJZPgK9PLR4EWc8coEfUSKDPa0NwNtygh02pi\n",
              "n3kMGM2omJKgZ1R9hSzTE8VOLtOLIjOjRBRcdoAjQeUSfVlRDlt7YsBoRiUZVjuZuPSeSFMmpWeU\n",
              "wSgRBZeT0TczyuElbRgv2tJRcpTpfX83YrBMlGzUZ9P7jgJlMEpE/gJlRrnWSRuMZlT67BnVaao/\n",
              "FL8yPXtGiWJmNrNMT0T9U44Edfgyo76F9wxGY8FoRqV3md6ImVF1wMwyPVHs5Mwoy/REFIp8JGiX\n",
              "PUBmlGudYmK8aEtHyTDApMYyPVHszOoBpg7fnlEiIjU5MyqX6UVRUnpGmRmNDaMZFXXPqNkk9Okh\n",
              "NQLuGSXSlvwitKnLAYfLc2AHM6NE1JuSGfWW6Rvb7bC7RJhNAoYXZul5aUmPwaiK2WT8041M3DNK\n",
              "pCm5Pedwq2fHaH6mBZlWvtAjIn++nlFPZlRe61QyIAtWAx6Sk0x476mog1Gjlui5Z5RIW6ZewSiz\n",
              "okQUiHwCU5d3tVO9t1+0lJP0MWM0o2JWZR2NeBQowD2jRFqTH+qH2zzB6GCevkREAWT1mqava+Ik\n",
              "vVaMGXHpJCkyo9wzSqQpi8nzODrU2g2AmVEiCizH5j/AVOvNjJZzkj5mjGZUkiEYVWPPKFHs5GpD\n",
              "j5PDS0QUnLz0vpNles0xmlFRD8+zTE+UHno/1BmMElEgcs9ot8MNSZJ859IzMxozY0ZcOhEE3zon\n",
              "m0GnaVmmJ9KW2eT/OOJRoEQUSLbNN03f0uVEe48nQ8rMaOwYzfQiDzHZDJoZ5TQ9kbaYGSWicCjT\n",
              "9A4X6rzL7ofk25TBJooeo5le5CSJUXtG/Y4DNWj2liiZmHudvMZglIgCkTOjTreEmsYOAEBZEUv0\n",
              "WjBmxKUj+YnJqMEoM6NE2updpudRoEQUSLYqAfTFt20AuNZJK4xmepF7Ro06wCQIxj8liiiZqB/q\n",
              "FpOAAdkZ+l0MERmWxWxSElVfHmIwqiVGM70owahBAz2/ASaW6Ylipm59GZRr83ubiEgtx9sf+uVh\n",
              "TzBaykl6TRgz4tKRMk1v1GAUzIwSaUndM8p+USIKRd412tLlBACUcZJeE4xmejF6ZtTE1U5EmlIf\n",
              "dsG1TkQUinwKk4ynL2mD0Uwvhh9g8gtGWaYnipU6GGVmlIhCkTOjAFCQZUVBtlXHq0kdxoy4dGQy\n",
              "eGZULtMLAmA1s7eNKFYMRokoXOrMKIeXtGPMiEtHFpPBl957nzdtFpPfZD0RRYfBKBGFK8vqy4zy\n",
              "GFDtGDPi0pHhM6PyCVEs0RNpQj3AxJ5RIgrFLzPK4SXNGDPi0pHZ4MGeSZUZJaLYmZgZJaIwqXtG\n",
              "S1mm10xEEc3111+P8vJyCIKA3bt3B73dE088gcrKSowePRpLliyB0+mM9ToTxujT9EqZ3mrM6yNK\n",
              "NhZ1MJqbqeOVEJHR5ajOoeckvXYiimguvPBCvPvuuygrKwt6m/379+O2227Dtm3bUFNTgyNHjuCx\n",
              "xx6L+UITxfDBKIyduSVKNuwZJaJwZdvUPaPMjGoloojrtNNOQ0lJScjbPP/886iursbQoUMhCAKu\n",
              "ueYabNiwIaaLTCTjHwfq+S/L9ETaMHkfVHk2C7Iy+CKPiIKTM6OZVhN7zDVk6f8mkamvr/fLnJaX\n",
              "l6O+vj7o7e12O+x2u9/73G631pcVNsNnRpWeVmNeH1Gykcv0zIoSUX/kzGhZUQ432mhI94hm1apV\n",
              "KCgo8Puzfft23a5neEEWAKBkQJZu1xDK8AJPT9tITvERaWJYoeexPmZIns5XQkRGJ0/QTywp0PlK\n",
              "UovmmdHS0lLs27dPebu2thalpaVBb79ixQrceOONfu+77bbbtL6ssP1m/kRcc/poTBiRr9s1hDKt\n",
              "bABeWT4bJxSzcZpIC5NLCrDlv2ZzMpaI+nVq5SBsum4WKgbn6n0pKUXzzOj8+fOxefNmHD58GJIk\n",
              "Yc2aNViwYEHQ29tsNuTn5/v9MZv169vKy7RiYkmBYdPvgiBgYkkBcm2av44gSkuCIGDCiALkZ/JY\n",
              "PyIKTRAEVI0s5HOwxiIKRq+++mqUlJTg4MGD+MEPfoCKigoAwOLFi7F582YAwKhRo7By5UrMmjUL\n",
              "FRUVKC4uxtVXX639lRMRERFR0hMkSZL0vojebrzxRqxevVrvyyAiIiKiONN9gImIiIiI0heDUSIi\n",
              "IiLSDYNRIiIiItINg1EiIiIi0g2DUSIiIiLSDYNRIiIiItINg1EiIiIi0g2DUSIiIiLSDYNRIiIi\n",
              "ItKNIU9gmjdvHsrLy/u9ndvtxvbt2zFjxgxdz7NPBryvwsf7KjK8v8LH+yoyvL/Cx/sqMry/whfq\n",
              "viorK8MNN9wQ89cwZDAarra2NhQUFKC1tRX5+fl6X46h8b4KH++ryPD+Ch/vq8jw/gof76vI8P4K\n",
              "XyLuK5bpiYiIiEg3DEaJiIiISDcMRomIiIhIN0kdjNpsNtxxxx2w2Wx6X4rh8b4KH++ryPD+Ch/v\n",
              "q8jw/gof76vI8P4KXyLuq6QeYCIiIiKi5JbUmVEiIiIiSm4MRomIiIhINwxGiYiIiEg3hgpGr7/+\n",
              "epSXl0MQBOzevRsA0NPTg7lz52LMmDGYPHkyzj77bNTU1Cj/5owzzsAJJ5yAqqoqVFVV4b777lM+\n",
              "1tjYiHPPPReVlZWYMGEC3nnnnUR/S3ET6L4CgPLycowdO1a5PzZu3Kh8bO/evfjud7+LMWPGYPr0\n",
              "6fj888/D+lgqCHR/HT9+XLmfqqqqMGbMGFgsFjQ1NQFI35+tUI+5UN93tB9LZqHuqyuuuEJ5/6xZ\n",
              "s/DRRx8p/+7yyy/HiBEjlJ+t//mf/1E+1tXVhUsuuQQVFRUYM2YMnn/++YR/X/ES6v6K9vGWjj9b\n",
              "3/nOd5T7acKECRAEAZ9++imA9P3ZOuecczBp0iRUVVXh1FNPxa5duwBE/7yX6s+Jge4vXeMtyUDe\n",
              "fvtt6cCBA1JZWZm0a9cuSZIkqbu7W/rb3/4miaIoSZIkPfDAA9Lpp5+u/JvTTz9deumllwJ+viuu\n",
              "uEK64447JEmSpO3bt0sjRoyQHA5HHL+DxAl0X0mS1OdttTPPPFNat26dJEmS9Nxzz0knn3xyWB9L\n",
              "BcHuL7Xf//730vnnn6+8na4/W6Eec6G+72g/lsxC3Vcvv/yy5HQ6JUmSpFdeeUUqKytT/t2iRYuk\n",
              "++67L+DnXLlypbRo0SJJkiTpm2++kYqLi6Vjx47F61tIqFD3V7SPt3T82VJ77rnnpAkTJihvp+vP\n",
              "VnNzs/L3F198UZo0aZIkSdE/76X6c2Kg+0vPeMtQwagsVMDw0Ucf+f1SD3Xn5OTkSIcOHVLenj59\n",
              "uvT6669reKX6CzcYPXLkiJSXl6c8OYqiKA0ZMkTau3dvyI+lmlA/W+PGjfP7WUr3ny2Z+jEX6vuO\n",
              "9mOppPfvJ9nRo0cli8WiPMZCBQzjx4+XPvjgA+Xtiy66SHr88cfjcbm6U99f0T7e0v1n69xzz/X7\n",
              "WeLPliStW7dOmjx5ctTPe+n0nChJvvurt0TGW4Yq04fj/vvvxwUXXOD3vl/+8peYOHEifvKTn+Cb\n",
              "b74B4CnBOp1ODB06VLldeXk56uvrE3q9eli4cCEmTpyIq666CkePHgUAHDhwAMOGDYPFYgEACIKA\n",
              "0tJS1NfXh/xYunj//ffR3NyM888/3+/9/NnyPeZCfd/RfizVBPr9JL9/zpw5ymNMft+kSZNw/vnn\n",
              "+7Xa1NfXo6ysTHk7Ve8roO/9FenjLd1/tg4cOIC3334bP/vZz/rcNh1/thYuXIiRI0fitttuw9NP\n",
              "Px318166PCf2vr96S2S8Zen/JsZxzz33oKamBv/85z+V9z399NMYOXIkJEnCQw89hPPPPx9ffPGF\n",
              "jlepr3feeQelpaVwOp249dZbsWjRIrz66qt6X5bhPfHEE1i4cKFfsMCfLf/HXHd3t96XY2iBfj8B\n",
              "wDPPPIO//vWvfj1Uv/71rzFs2DCYTCa89NJLOO+887B3717k5uYm+rJ10/v+4uMtuGA/W3/6059w\n",
              "/vnnY9CgQcr70vlna/369QCAp556CjfffDPuvvtuna/I2HrfX+pYIeHxVtg51AQKVEr9/e9/L02b\n",
              "Ns2vzyEQm82m9MBkZ2enfPkmVNn522+/lXJzcyVJYpleFuj+am9vl3Jzc6Uvv/wy5L9Nt5+tQI+5\n",
              "UN93tB9LBcF+Pz377LNSRUWFVFdXF/LfjxkzRtqxY4ckSelRSg3n93m4j7d0/dkSRVE64YQTpNde\n",
              "ey3kv0+3ny1ZZmamdPjwYZbpw5SZmak83vSIt5IiGL333nulqVOnSk1NTX63czqd0uHDh5W3n3/+\n",
              "eam0tFR5e9GiRX4NtcOHD0+JxnY19X3V0dHh98Nz7733Sqeeeqry9umnn+7XkD1t2rSwPpZKAgWj\n",
              "a9eulWbNmuX3vnT/2Qr2mAv1fUf7sWQX7L7auHGjVFFRIdXW1vb5NwcOHFD+/sEHH0gDBw6UWlpa\n",
              "JEmSpDvuuKPPkMnRo0fj9w0kWKD7K5bHWzr+bEmSJL3xxhvSyJEjJbfb7ff+dPzZam5ulhoaGpS3\n",
              "X3rpJWnEiBGSKIpRP++l8nNiqPtLr3jLUMHo0qVLpREjRkhms1kaPHiwNHr0aOnAgQMSAGnUqFHS\n",
              "5MmTpcmTJ0szZsyQJMkTfE2bNk2aMGGCNGnSJOl73/uetHv3buXzHT58WDr77LOliooKafz48dK/\n",
              "/vUvvb41zQW6r/bt2ydVVVVJEydOlCZMmCBVV1dL+/fvV/7Nnj17pJkzZ0qVlZXStGnTpE8//TSs\n",
              "j6WCQPeX7JRTTpGefPJJv9un889WqMdcqO872o8ls1D3lcVikUpKSpT3T548WckinHXWWdKECROk\n",
              "yZMnSzNnzvS7Pzo6OqSLL75YGjVqlFRZWSlt3LhRl+8tHoLdX7E83tLxZ0uSJOmSSy6Rbr/99j7/\n",
              "Lh1/tmpra6Xp06crPz9nnXWWknSI9nkvlZ8Tg91fesZbPJueiIiIiHSTdNP0RERERJQ6GIwSERER\n",
              "kW4YjBIRERGRbhiMEhEREZFuGIwSERERkW4YjBIRERGRbhiMEhEREZFuGIwSERERkW4YjBIRERGR\n",
              "bhiMEhEREZFuGIwSERERkW7+PwmALd5LTzCJAAAAAElFTkSuQmCC\n",
              "\">\n",
              "      </div>\n",
              "      <script type=\"text/javascript\">\n",
              "        (() => {\n",
              "          const chartElement = document.getElementById(\"chart-ce4011d3-2c8c-4438-8526-26c09a413721\");\n",
              "          async function getCodeForChartHandler(event) {\n",
              "            const chartCodeResponse =  await google.colab.kernel.invokeFunction(\n",
              "                'getCodeForChart', [\"chart-ce4011d3-2c8c-4438-8526-26c09a413721\"], {});\n",
              "            const responseJson = chartCodeResponse.data['application/json'];\n",
              "            await google.colab.notebook.addCell(responseJson.code, 'code');\n",
              "          }\n",
              "          chartElement.onclick = getCodeForChartHandler;\n",
              "        })();\n",
              "      </script>\n",
              "      <style>\n",
              "        .colab-quickchart-chart-with-code  {\n",
              "            display: block;\n",
              "            float: left;\n",
              "            border: 1px solid transparent;\n",
              "        }\n",
              "\n",
              "        .colab-quickchart-chart-with-code:hover {\n",
              "            cursor: pointer;\n",
              "            border: 1px solid #aaa;\n",
              "        }\n",
              "      </style>"
            ]
          },
          "metadata": {}
        },
        {
          "output_type": "display_data",
          "data": {
            "text/plain": [
              "<google.colab._quickchart_helpers.SectionTitle at 0x7e96067bb8e0>"
            ],
            "text/html": [
              "<h4 class=\"colab-quickchart-section-title\">Faceted distributions</h4>\n",
              "<style>\n",
              "  .colab-quickchart-section-title {\n",
              "      clear: both;\n",
              "  }\n",
              "</style>"
            ]
          },
          "metadata": {}
        },
        {
          "output_type": "display_data",
          "data": {
            "text/plain": [
              "from matplotlib import pyplot as plt\n",
              "import seaborn as sns\n",
              "figsize = (12, 1.2 * len(_df_3['prod_id'].unique()))\n",
              "plt.figure(figsize=figsize)\n",
              "sns.violinplot(_df_3, x='rating', y='prod_id', inner='stick', palette='Dark2')\n",
              "sns.despine(top=True, right=True, bottom=True, left=True)"
            ],
            "text/html": [
              "      <div class=\"colab-quickchart-chart-with-code\" id=\"chart-23102fa9-a252-4331-8626-a6e329e0cd23\">\n",
              "        <img style=\"width: 180px;\" src=\"data:image/png;base64,iVBORw0KGgoAAAANSUhEUgAABBIAAAFICAYAAADtdd3wAAAAOXRFWHRTb2Z0d2FyZQBNYXRwbG90\n",
              "bGliIHZlcnNpb24zLjcuMSwgaHR0cHM6Ly9tYXRwbG90bGliLm9yZy/bCgiHAAAACXBIWXMAAA9h\n",
              "AAAPYQGoP6dpAACBFklEQVR4nOz9eZxkZWEv/n/OWmtXL9X7Pkt3zwo9IAQFEQNEg8a4cU00ruEn\n",
              "ISG+0OR6ITFq8lLRm0RjTIxXvkq8aqIoLmS5eJUraFQEdBAQ2aen9732s1Sdc57fH6fqdFV3z0zN\n",
              "MDO9zOf9ej0+z1n7VNvTdH3qWSQhhAARERERERERUR3kjX4AIiIiIiIiIto6GCQQERERERERUd0Y\n",
              "JBARERERERFR3RgkEBEREREREVHdGCQQERERERERUd0YJBARERERERFR3RgkEBEREREREVHdGCQQ\n",
              "ERERERERUd0YJBARERERERFR3RgkEBEREREREVHdGCQQERERERERUd0YJBARERERERFR3RgkEBER\n",
              "EREREVHdGCQQERERERERUd0YJBARERERERFR3RgkEBEREREREVHdGCQQERERERERUd3UjX4AIiIi\n",
              "Itr+hBAoFouwLAu2baNYLAbFtm3Yto1SqQTHceA4DlzXrWm7rgvP84J7Vd8XACRJgqIokGUZiqLU\n",
              "tDVNg67r0DQNoVCoph0OhxGNRhEOh6Gq/NOYiKge/G1JRERERMfkui4KhQJyuVxNKRQKa0o+n0eh\n",
              "UIBhGLAsC4ZhwDRNmKYJy7KCIGCz0nUdkUgE0Wg0KIlEAvF4HA0NDUFJJBJIJBJoampCU1MTmpub\n",
              "EY/HIUnSRr8EIqKzQhLVkS4RERERbUtCCBQKBaTTaaTTaWQyGaTTaWSzWWQyGWSz2TXtbDaLQqFw\n",
              "8l9MlgBVgafIgKpAqDKgyhCqAigyhCLX1FBkCFkGFAmQJAjZr1FVC0kCJACo1Ou+SEieAITfhhCA\n",
              "5xfJ8wC3UvtF8gTguJAcr1y7gONBKu+TSo5/fR1UVUVjYyOam5vR0tKC1tZWtLa2IplMoq2tDclk\n",
              "MtgXCoVO/ntKRLSJMEggIiIi2oIcx0Emk0EqlUI6nQ7q6lK9L5PJwHXd+m6uKfB0FUJTIXQFqGoL\n",
              "XQU0FUJTghJsqwqg+WHBtiAE4HqI3fkAzJefDxQdSCUXUtGBZDuQ7FJVcVbqonPc2zY1NaGzsxMd\n",
              "HR1BqWz39PSgqamJvRuIaFPj0AYiIiKiTaASDFTe+C8vL9eEBDUlnUYum63rviKkQYRUiOaoX4c0\n",
              "CL26VoNt6OXgQN4mQcDzJfk9KwDAa4zWf53rQbJKkMwiJKsI2SxBsor+tlnEsmEj/cxTeOKJJ9a9\n",
              "PBKJoLu7Gz09PUHd09OD3t5edHd3cy4HItpw/C1EREREdAYUi8WangHVvQeqewv4wUAKuWwOJ+wo\n",
              "KkkQIRVeSIPoaFwJBiphQaUdLgcDmuoPD6CzS5EhYiGImD+EYd1+IEIARQeyUYRk2H5dsCAXbOQL\n",
              "Np4dP4pnn3127a0VBd3d3ejr60N/fz96e3vR39+PwcFBtLW1sScDEZ0VHNpAREREdBxCCJimGcwd\n",
              "UF1XSmXoQHWPAtM0T3zzIBioDgQ0iHA5GAhrNUEBdNX/lJzOqthXf4LCG1549r9w0YGctyAVbMh5\n",
              "C3LOgpw3IecsSFZpzenRaBSDg4NrCnsxENHpxiCBiIiItj3HcYKVByorC1TalTqbzQYrElTamWwW\n",
              "uWwWjnP8Me8BVfFDgcrQgdCxagYDW8mGBQnHU3LKwYIFKWdCzvpFyVn+ZJJVNE3D4OAgdu3ahZ07\n",
              "dwZ1Z2cnezAQ0SlhNElERESbhhACxWIRlmXBtm1YllVTKksJmqZZs7SgYRhBqSxFaBgG8uXatqyT\n",
              "exBZ8sMATYVoivjt6vkEqucUqJp3YNtMMkibn6bCa4nDa4nX7hfC78GQXQkX3KyBp488h6effrrm\n",
              "1Gg0il27dmH37t3YvXs3hoaGsGvXLsRisbP4QohoK2KPBCIiorNACAHP8yCEgOu6EELU7KvUq9uV\n",
              "AqBm/+rtE5XVX8fzvDVtz/Pgum7NdmWf4zhwXbemOI6zbqkcKxaLKJVKKBaLa7YrxbZtvxSLKNo2\n",
              "isXiiecJqIcs+W/uyysJ+CsLKOVwQIHQVH+7sq+yEkFlVQJFZk8BCmzKHgknSwhIRhFyxqgpStZc\n",
              "s8Rld3c3hoaGMDQ0hOHhYYyMjKC9vZ29F4gowCCBiIi2Bdd11/30uvpT7eo3rpV25Q3t6je81W98\n",
              "q980r34DHbyx9jy4rgPPXXkz7noeRNUbdiqTJX8yOkWGqLRl2X/zrsgQqhwch6qU66ptVfG3V7Wh\n",
              "rWxH/+MwjFdesNGvlLaJbREkHIvn+T0X0uVwIV2AkjbWzMGQaExgeMgPFYaHhzE8PIz+/n4oirJB\n",
              "D05EG4lDG4iIaENVJrKrjEnPZrPI5/NBqXRTr2xXd2GvLrZtn7mHlOAvhydJ/ifdsuRPkifBf1Ms\n",
              "SRCSVF4qTgJ0GZAUf1vCyjEg2LeyXf6fynnBvpX9wXXVx6o/GSy3hXSMa4CVmful2uNi9TPVtKue\n",
              "XZaC4/7rx8p+WfbPk1eKKO/32zKgrGzzk36iTUSW4TXF4DXVDmeQrKIfLqQKkFMFpNMFPPTQQ3jo\n",
              "oYeCc8LhMIaHh7Fnzx6MjIxgZGQEg4ODnNiR6BzAf+VERHTaCCGQz+eRSqWwvLy8Zkb7ymz2lRnv\n",
              "K8GB6667ONqxSRKgKfAqn0THNIimcO2n1ut9mq1UfdItyxCK/2m435ZX3gQHbb7xJaJzkwjrcDt1\n",
              "uJ1NKztLrj8cIlWAnMrDTRXwyKOP4pFHHglO0XUdQ0ND2Lt3L/bs2YM9e/YwXCDahvgvmoiIjksI\n",
              "AcMwsLi4iKWlpaAsLi5ieXkZy8vLSKVSfniQSsEprV2SbA1FhtBVeJoCNEchdBXKdAql4S4IXfHH\n",
              "qmuVce0r7cq4dr65JyLaAJoCr7UBXmvDyj7X84dEpApQlv1w4Ze/ehy//OUvg1NCoVDQc2Hv3r3Y\n",
              "u3cvh0UQbXEMEoiIzmGO42BhYQHz8/NYWFioKYuLi5ifn8fi4uKJhw1oCryQBpEIQ4TjEGG9Zib7\n",
              "1cvfrTeRXeyOn6B4aPDMvVgiIjr9FDlYPcLZ1eHvWydcePSXj+HRRx8NLotEIjXBwt69e9HT08MJ\n",
              "HYm2CAYJRETblBACy8vLmJ2dxezsLObm5jA/P4+5ubmgLC8vH3sSQEmCCGvwYhpEMgoR0f3tsA4R\n",
              "0SDCmh8YhDUueUdERCuOFS6kDcipvB8uLBdw+OGHcfjw4eCyhoaGmmBh3759aGtrY7hAtAkxSCAi\n",
              "2qJc18XS0hKmp6cxMzMTlEpwMDs7i9KxhhkoMryIDq+tASIagojo8CI6RFT3A4OIDhHSViboIyIi\n",
              "ej4UGV4yDi8Zh1PZ57iQ0waU5Tzk5Twyy3k88MADeOCBB4LLWpIt2LvHDxUq8y60tLRsyEsgohUM\n",
              "EoiINikhBLLZLKanpzE1NVVTVwIDx3HWvzaswWsIwYslIGIhiGgIXlQPaugq5xggIqKNpa4z50LJ\n",
              "gbLsT+YoLxewuJzHj370I/zoRz8KTuno6Ah6LFQmdEwkEhvwAojOXQwSiIg2kOM4mJubw+TkJKam\n",
              "poIyPT2NyakpGIXCuteJiA6vMQIvHoKIheBFy3U5NOBQAyIi2pI0FW5HI9yOxpV9dqnca8Gfc2E2\n",
              "lcLcvffi3nvvDU7p7e0Neizs3bsXIyMjiMVia+9PRKcFgwQiojPMtm1MT09jYmIiCAwmJycxOTmJ\n",
              "2dnZ9Zc+1BS4sRBEbwu8WAheLAwRL9cxBgVERHQOCWlwu5rhdjWjMmBPMouQl/PBsIiJBT+U/+53\n",
              "v+sflyT09fXVLEM5PDzMcIHoNGGQQER0GpimGYQDk5OTQWgwOTmJhYWFdSc0FBEdXksUXiwMLx6G\n",
              "iIfhxUPw4mEOPSAiIjoOEdHh9rTA7SnPlyAEJKNYnsyxAHk5j6Oz0xgfH8d3vvMdAH640NvXh717\n",
              "9mBkZCQIFxoaGo7zlYhoPQwSiIjqZBjGmqBgYmICExMTWFpaWnuBBHjRELz2RDkkCMNrCEPE/MAA\n",
              "KtfPJiIiOi0kCSIWghsLwe1N+vuEgFSw/WUoy3MujM9OY2J8HP/3//7f4NLu7m6MjIxgZGQEw8PD\n",
              "GBkZQTKZ3KAXQrQ1MEggIqpy8mGB5A896GzyexU0VAUGnKuAiIho40gSRDwMNx6G21cVLhi2P99C\n",
              "qgA5VcDU8gKmvz+N73//+8GlyWQSIyMjGBoawtDQEIaHh9Hb2wtZ5n/XiQAGCUR0DioUCjVDD4Kw\n",
              "YHICy0vLay+ohAVdTStDEMqBgYiFAP5RQUREtDVIEkQsDDe2KlywSpDLwYKSKmAxncfSj3+MH//4\n",
              "x8Gl4XAYu3fvDsKF3bt3Y9euXZx3gc5JDBKIaNupLJtYCQkqkxtWwoNUKrX2IoYFRERE5yZJ8udc\n",
              "iOhwu1cmdETRgZwuQEkbkFMFuOkCHnv8l3jsscdqLu/q6sLu3buDsmvXLvT29kJV+VaLti/+dBPR\n",
              "luR5HhYWFtYsmzg1NYWJiQnk8/m1F8lVYUFDpHbegqjOsICIiIhW6Cq89kZ47VVLUboe5KwJOWP4\n",
              "JV3AdHoJMz+cwQ9/+MPgNFXTMDgwgJ07dwZl165d6Orq4vAI2hYYJBDRplUoFDA9PY3p6WlMTU0F\n",
              "7cnJSUzPzMApldZepMpwY2GInpbyCgiR8rwFIYhICJC5EgIRERGdIkWG1xyD17xqOINd8nsulAMG\n",
              "N2PgmaNH8Mwzz9ScFgqFMDAwgMHBwaDs2LEDvb290DTtLL4QoueHQQIRbRjbtjE7O4uZmRlMT0/X\n",
              "1FNTU8hkMuteJ8IavEQIXrzR71VQXgVBxMMQYY3LJhIREdHZFdLgdjTC7ajqvVBZkjJbCRhMuBkD\n",
              "Tz33LJ566qmayxVFQU9PDwYGBtDf3x/U/f39aG5uhsS/bWiTYZBARGdMoVDA7OxsEBZU2pXtdVdB\n",
              "APy0v3q+glhopY6FAY3LJhIREdEmV70kZVfzyv4gYDDLxYCbM3F0bgbj4+NrbhOPx9Hf34++vj70\n",
              "9vait7cXfX196OvrQyKRYMhAG4JBAhGdkmKxiIWFBczPz2Nubq6mzM7OYm5ubv15CgB/roJoCF5H\n",
              "YxAO+HUIIhZirwIiIiLavmoChqbaY3YJcs6CnDODOpMz8fiTT+Dxxx9fc6t4PI6+vj50d3eju7sb\n",
              "PT096OrqQk9PDzo7OznhI50x/MkiohqVFQ8WFxexuLiIhYWFIDCYn58P2ul0+tj30FV4UR2iu9mv\n",
              "YyGIaDkoiDIoICIiIlpXSIMX0uC1NtTuFwKSWYScsyDlLch5C3LOQiZvIf/0k/jVr3615laSLKOj\n",
              "vR1dXV3o7OxEZ2cnOjo6gu2Ojg6Ew+Gz9MJou2GQQHSOcF0X6XQaS0tLWFxcxPLyck27EhosLi6i\n",
              "WCwe+0aaAjeiQ3Q2QkR0iIgOL+r3JPCiuj+hIYceEBEREZ0+kgQRDcGNhoDqeRgAP2SwS5DyNuSC\n",
              "tVIXbExnlzE7NwcIse5tGxsb0dHRgfb2drS3t9e029ra0Nraimg0ehZeIG01DBKItighBHK5HNLp\n",
              "dFBSqRTS6TSWl5exvLyMVCoVtDOZDMQx/iMCAJAkeBEdokGHiMThhfVyUKCthAURnSEBERER0WYi\n",
              "SRBhHSKsr+3JAACe35tBMmzIBbumXjaKyBxZO/ljtUgkEoQKra2taGtrQ0tLS01JJpNobGyEovDv\n",
              "xHMFgwSiTcCyLGSzWeRyOeRyOWSzWWSzWWQymXVLOp1GJpOB67onvLcIafBCKkRbA0RYK/+Hxg8H\n",
              "/G0NXkQHdJXDDYiIiIi2G9mfk0HEQvDajnFOyfEngDSLkIxy6GAWIVkl5M0ijIVZjE+MA8f5TEqW\n",
              "ZTQ1NeH1r3893vGOd5yRl0KbxxkPEt71rnfhrrvuwtGjR3H48GGMjo7WHL/99tvxjne8A9/85jfx\n",
              "6le/GgAwPz+Pt7zlLXj22WcRCoXw6U9/GpdffvkJj11xxRU4evQoGhv97j5vfetb8e53v/uE133k\n",
              "Ix/BF77wBTz99NP4xje+ETxHtf/3//4frr76avzt3/4tbrrppmD/pz/9aXzqU5+CqqqQZRk//elP\n",
              "g7FGxztG25/rurjnnnswOzuLfD6PXC6HfD4flFwuh2wui1w2h1KpVN9NJUDoGoSuQrRE/XZI9QOB\n",
              "6nZIC2rIDAeIiIiI6Dg0FaJRhdt4nGEMXnkIRTlgkKxK7RfZKmF5cRn33nsvg4RzwBkPEl7/+tfj\n",
              "ve99Ly677LI1x8bGxnDbbbfhkksuqdl/880345JLLsHdd9+NBx98EK95zWtw5MgRaJp23GMA8IlP\n",
              "fGLdIOB411111VX4nd/5nWP+wGcyGdx888245ppravZ/+9vfxpe//GXcf//9aGxsxMLCQvAcxztG\n",
              "54ZHH30U73//+9c/KEt+GKApEIkQhB4rb6tAyK+FrvrBQKUOaf6wAvYaICIiIqKzTZaC+bGOJf7N\n",
              "B8/iA9FGOuNBQuVT/9U8z8N1112HT33qU/iTP/mTmmN33HEHnnnmGQDARRddhO7ubtx333246qqr\n",
              "jnvseI533cUXX3zca2+88Ua8733vwze+8Y2a/X/913+ND3zgA0EPiLa2trqO0bnBtm0AQGlnO0o7\n",
              "2/2QQFf8WpE3+OmIiIiIiIhOzYa9m/n4xz+OSy+9FBdeeGHN/qWlJZRKJXR2dgb7BgcHMT4+ftxj\n",
              "FTfffDMOHjyIN7zhDXjuuedOeM8T+frXvw5ZlvGqV71qzbHHH38cDz30EC699FK84AUvwN///d/X\n",
              "dWw9tm0H4+IrpfJGlLY2Lx6Gl2yASEQgwjpDBCIiIiIi2tI25B3NY489hjvvvBPve9/7Tut9v/jF\n",
              "L+KJJ57AI488ghe/+MV45Stf+bzuNzs7iw996EP45Cc/ue5xx3Fw5MgR/OAHP8Ddd9+N//W//hf+\n",
              "/d///YTH1nPrrbeisbGxptx6663P6/mJiIiIiIiITrcNCRJ++MMfYmxsDENDQxgcHMT999+Pd77z\n",
              "nfinf/onJJNJqKqK2dnZ4PyxsTH09/cf9xgA9PX1AQAkScKNN96I5557DktLSye87lh+9rOfYWZm\n",
              "BqOjoxgcHMTXv/51/NVf/RX+/M//HADQ39+P3/3d34WiKGhtbcU111yD+++//4TH1nPLLbesmZn/\n",
              "lltuOcnvLBEREREREdGZtSFBwg033ICZmRmMjY1hbGwMl1xyCT772c/ihhtuAABce+21+MxnPgMA\n",
              "ePDBBzE1NYWXvOQlxz3mOA7m5uaCr3HnnXeio6MDyWTyhPc8lle84hWYm5sLnvP1r3893v/+9+PD\n",
              "H/4wAOCNb3wj7r77bgCAaZq49957cf7555/w2HpCoRASiURNCYVCJ/Fdpc1Kmc9Ae3IG6nPzUCaX\n",
              "oMxlIKcKkPIWUHQAcZx1dIiIiIiIiDaZMz7Z4vXXX4//+I//wOzsLF72spehoaEhmPTwWD72sY/h\n",
              "zW9+M4aGhqDrOr70pS8FKx4c61ihUMArXvEK2LYNWZbR2tqKu+66q657fuhDH8JnPvMZLCws4LHH\n",
              "HsONN96Iw4cPn3CCxPe85z24/vrrsW/fPkiShNe97nW49tprT3iMzg0tLS0AAHU2A3U2c/yTdRWe\n",
              "pvgrNJQL9OqVGzSu4EBEREREmxc/HDunSELw/3GiM2V6ehpzc3PI5/PI5/PI5XI17eqSyWSQy+Vg\n",
              "GEZ9N5ckiJAKrxws+KXcDpdLVRsqgwfa3GJ3/ASF//bCjX4M2iai//5zGK+8YKMfg7aJ2Fd/gsIb\n",
              "+PuJzlGuB8kqQjJLkMwiZLMIySqVS7ltlyBbJcATGBkZwRe+8IWNfmo6w854jwSic1l3dze6u7tP\n",
              "6hrHcZDL5ZDNZtfMm1Ep6XQamUwGqVQKqXQKuYUcTpgJKjK8SrAQ0SDCOrywX1e2KzVkBg5ERERE\n",
              "217JgWwUIRlFSIbthwRGEZJpl0ODEqSic9xbhMNhJJNtaGlpQUtLC37zN3/zLD08bSQGCUSbjKqq\n",
              "aG5uRnNzc93XuK6LbDaLdDqNVCqF5eXloK5uLy0tYWlpCcXl/HHvJ8IavIgOEdH9dlSHiIT87agO\n",
              "L6JzaAURERHRZiaE31ugYEM2bL8u2JAMvyhGESi5x7w80ZhAW183Wltbg9LW1oZkMonW1tYgOIhE\n",
              "ImfxRdFmwSCBaBtQFCUIH3bs2HHcc4UQKBQKQahQKQsLC0G9sLCAxcVFGKnUsW+kKvAiuh8yRHWI\n",
              "aKjcDsGLhiCiuj+cgoiIiIjOjJILOW9BKliQ87ZfF2zIeT88gOute1lDIoGuHX3o6OhAR0cH2tvb\n",
              "0dbWVtPmxO90PAwSiM4xkiQhHo8jHo9jYGDguOdWAof5+XksLCxgfn4+KAsLC5ibn0dqbvmY1wtd\n",
              "9UOFmF6uQ/BiIT9siIUAXWWvBiIiIqLjKTmQc5YfGOStoC3nLUhWad1Lmpub0b1nJ7q7u9HV1YXO\n",
              "zs6aEo1Gz/KLoO2GQQIRHVMsFkMsFkN/f/8xzykWi1hYWMDs7Czm5+cxNzcXlNnZWczOzsJIH6Nn\n",
              "g6rAjeoQ8bAfNMTLQUMsvBI0EBEREW13nvB7E+QsyDkTctYM2uuFBYqioKenB729vUHd1dWFnp4e\n",
              "dHV1MSigM45/pRPR86LrOnp6etDT07PucSEEcrkcZmdnMTMzs6aenplBbnr9oEHoajlYCMGLh+HF\n",
              "wn7YEA/7Qydk+Uy+NCIiIqLTy/VWgoKsCSlrQs4aUHIW4NVOnC3JMrq7ujAwMID+/n709vair68P\n",
              "vb296OjogKryrRxtHP70EdEZJUkSEokEEokEhoeH1z0nn89jZmYmKNPT05iensbU1BSmp6dhpdYZ\n",
              "PiFJ8KK6HyrEw/DioXLQEIYXD/uTQRIRERFtBNfzexRkDciZSjEhFyxg1UJbsXgMO/btx+DgIPr7\n",
              "+4PgoKenB7qub8zzE50AgwQi2nDxeBxDQ0MYGhpac0wIgVQqFYQLk5OTQcgwNTWF+bl5YC6z9rqw\n",
              "Bi8WhtcQLocN5V4N8TAQ0s7GyyIiIqLtTghIRhFyuuCHBWk/NFByFrBqae7mlhbsHNmPHTt2YHBw\n",
              "MCjJZBIS54yiLYZBAhFtapIkBcsLHThwYM1x27ZrQoapqSlMTk4GgYOzlFtzjdDVIFQQ5aDBi/uh\n",
              "AyeAJCIionU5rh8UpA3ImQKUtAElY6xZQjEej2PXeedh586d2LVrF3bu3ImdO3eiqalpY56b6Axg\n",
              "kEBEW1ooFMKOHTvWXfbSdV3Mzc0FwUIlZJiYmMDk5CSKy/k11whNCUIFf5hEJOjVgBBDBiIionOB\n",
              "ZJZ7GaQMyGk/NJBzZs05iqJgcHAQu3btwu7du4PS1tbGHga07TFIIKJtS1EUdHd3o7u7GxdffHHN\n",
              "Mc/zsLi4GIQKlXpychITk5OwU0trb6ipcOMhhgxERETbhRCQCjbkVAFKquDX6cKalRISjY0YfsF+\n",
              "DA0NYXh4GLt378bg4CA0jcMl6dzEIIGIzkmyLKO9vR3t7e248MILa44JIdYNGSYmJo4TMihw1xku\n",
              "IeJhiLDGkIGIiGijCQEpZ0FJ5SEv+8GBkjaAklNzWld3N0aGhzEyMhIEB+xlQFSLQQIR0SqSJKGt\n",
              "rQ1tbW244IILao4dK2SotK31QgZVgRsLrQkYvHgYIqIDMv8wISIiOq0qocFyvtzbIF8ODVbmM5Bk\n",
              "GYMDAxgZGcFwOTgYHh5GQ0PDBj440dbAIIGI6CScKGRYXl5eEzJMTU1hfGICxuQ6y1jKErxYeUWJ\n",
              "2MpSliIehhcLASqXsSQiIjouISDlLX9ownIeyrI/PKE6NJBlGTt37sTIyAj27NmDPXv2YPfu3YhE\n",
              "Ihv44ERbF4MEIqLTRJIkJJNJJJNJjI6O1hwTQiCTyQS9F2pWmJiaQmpmnZABVctYxkMQQeAQgoix\n",
              "NwMREZ2DKsstLuf93gbLeSipAqRVocGOHTuwd+/emtAgHA5v4IMTbS8MEoiIzgJJktDU1ISmpqZ1\n",
              "l7E0DANTU1NBmZ6eDurpmZl1l7GEJMGL6uVgIeT3aIiF4EV1iFioHDTIZ+HVERERnRmSWRUapApQ\n",
              "lguQ7JWJECVJwsDAAPbt24c9e/Zg7969GBoaYmhAdIYxSCAi2gSi0SiGhoYwNDS05pjrulhcXAyC\n",
              "hZmZmZV6ZhoL8wsQ89m1N5UAEdHhRUPwoiGImA4RKQcNUb+GztUmiIhok7BLVcMT/CEKklmsOaW3\n",
              "tzfoabBv3z4MDw8jFott0AMTnbsYJBARbXKKoqCjowMdHR1r5mUAgFKphLm5OUxPT2N2dhZzc3OY\n",
              "mZnB7OwsZmdnMT8/D2dxnR4NAKDI8CK6Hy5EVooXqd7W2LOBiIhOr5ILOeWHBUGPg4Jdc0p7ezv2\n",
              "/dq+IDjYu3cvEonEBj0wEVVjkEBEtMVpmobe3l709vaue9x1XSwtLWF+fh5zc3OYm5sL2pV6aWEJ\n",
              "Qohjfg0R0uCFNYiw5ocLYQ0i7IcMIuTv90Ka38OB8zYQEVE1xy2vnLAyGaKcM2tOaWpqwr4XXYi9\n",
              "e/cGwxSSyeQGPTARnQiDBCKibU5RFLS3t6O9vX3d+RkAwHEcLC8vY35+HgsLC1hYWMDi4mLQXlpa\n",
              "wuLSEnJzmeN/MakcOoQ0iJDqhwwhFQhpEPrKtt9WITQV0BQOryAi2i4cF3LagJLKQ14u+L0OsiZQ\n",
              "lVXH43Hsvegi7N27NygdHR2Q+N8Coi2DQQIREUFV1SBsOJ5isYjl5WUsLS0FJZVKYXl5GalUKmgv\n",
              "p5aRXW/ehvVIEoSuQMgyIt991G+XAwahVbdVCF0BVAVC9Y9BlSFUfx97QhARnWUlF3K63NMgVQkN\n",
              "LKCqh1s0GsWeQxcEwxNGRkbQ19fH0IBoi2OQQEREddN1HZ2dnejs7DzhuY7jIJvNIpPJIJPJIJ1O\n",
              "I51OB+1cLodcLodsNrtScjnYy/lTezjFDxWEIkOoMqDI5dDBbwultoYiQ8iVfZI/D4Qs+cdlqVxk\n",
              "iKo2JPjXyJLfi0KWICQJkLCyLyhgTwsi2j7sEpS0UQ4MyuHBquEJ0WgUI6OjGBkZCXoa9Pb2QuY8\n",
              "O0TbDoMEIiI6I1RVRUtLC1paWk7qumKxiHw+j3w+j0KhsKYuFAowDAOmacIwjJpiWRYsy4JhmrAs\n",
              "C3YmD8/zztArrFN1qLAqYBCVoKF6X2Ub5XPX24YEcaxj1eHF6vtLVdeu87Wrn1FUP2tVSCKqQpSa\n",
              "MEVe2Scqwct6wUxlW1lpB+FOJaQhoo0jBKSC7Q9PSJdDg3QBklG7ekI8HseeF7wAIyMjQU8DhgZE\n",
              "5w4GCUREtKnoun5KAcR6hBAolUowTRO2baNYLNbUlXaxWESpVFpTisUiHMepKa7r1mx7ngfXdYNS\n",
              "ve15HoQQcF133bpSPM8Lzq0EH5V2cB4AUbMtILzqewig0i7XEJ7frrqu+p6bkiwBit+TRCgShFIe\n",
              "wlLpYVLd00RTykNbZAilPNylss8TkAybQ1+IjqfkQs4YkNMG5EwBStqAkjGAkltzWltbG4YPDWNk\n",
              "ZARDQ0MYGRlBV1cXhycQncMYJBAR0bYlSRJ0XYeu6xv9KJvO6hCjEoBUgo7qfavDktWBSnW7VCrV\n",
              "1JUwpjqsqYQ36wU71cW0LFiWCTvvb5+s2L/9fGWjPK+GpylAeb4NUdMuTwKql+fk0Gu3OUyFtjTX\n",
              "g5wz/dAgU6mNNcstKoqCwcFBDA0NYffu3RgaGsLw8DCam5s36MGJaLNikEBERHQOkiQJkiRtmW7I\n",
              "nuf54UJ52Er18BbTNGGaZjDspXoITHU7n88jl8shn82jVCrV/8UlQOiaHzhUBQy1q5D4y58Gq5Xo\n",
              "qj9cg+hsclzIWdMvObOqXTsBIgAkk0ns3HdeEBgMDQ1hYGCAwSsR1YVBAhEREW16siwjEokgEomc\n",
              "lvvZth3MxZHL5YI6m82uPxFo1cShpVKdE4JqCrzqwKGm1iDCtdtQZfZ8oBMrD9uRcxbkvAkpZ5VD\n",
              "AwuysbbnTkMigd2je7Bz586a0tjYuAEPT0TbBYMEIiIiOueEQiGEQiEkk8mTvtayLGSz2WAVkspK\n",
              "JJV91auTpNJppFMpFOtZjUSR4VWChbDG4OFc5rh+WJC3IRcsSHkbct4KCry1c5y0t7dj8MAgBgdr\n",
              "S3NzM+cyIKLTjkECERER0UkIh8MIh8Nob2+v+xrTNIOQIZVK1dTV7eXUMtKpNIxU+sQ3rQ4eqkOH\n",
              "VYFDpc25HjYJIfxJDg0bklH0A4NyWy7YkAs2JLO47qWNjY3o378bfX19Qenv70dvby+i0ehZfiFE\n",
              "dC5jkEBERER0hlWGZXR1ddV1vm3bQcCwuqwOI1KpFMx6ggdJggip8HQVCKn+vA8hdWWeB10rz/eg\n",
              "+vM9VCab5FwP9RECKDqQbAeSVYRslSCZxXIp+fvMImSzBDjuurdQFAVdXV3o7u5GT09PTd3d3Y1E\n",
              "InGWXxQR0foksWnXfyIiIiKieliWhUwmU9PLYXWvh9VDLypLjZ6QIvuhguavdOG3/dUu/OU2yytd\n",
              "lEtlhYxgaU5V8cOIrRBICAE4HiTH9YcXlFxIRQfh+34F+wU7IZUcSEV/nx8alCBZJcjlAGH1hIbV\n",
              "JElCU3Mz2lpb0dnZiY6ODnR2dqK9vT3YTiaTUBTlLL5gIqJTwyCBiIiI6BzjeR7y+XwQMFQmk1zd\n",
              "rkw8mcvlkC3XzsmseFFNkvzAQZEhFAlCloOAQVSCBlmCkCX/3HItZAmQZUDC2qEZUlVDiHKBPyFh\n",
              "zbYHyfX8uQVcD5LnAW657frBgeR4x+wpcOyXJCGRSKC5uRnNzc1oampCU1MTWlpa0NraWlOam5uh\n",
              "quwMTETbA4MEIiIiIqqbZVnBKhfVS2yuLpZlBUtzVhfLsmDbNorFIuxiEcVi8dTDiVOkKAo0TYOm\n",
              "64hEIohFo4hEIoiW60qJx+NoaGhAPB5HIpEI6oaGBiQSCSQSCfYgIKJzEoMEIiIiItpQnuf5wYJt\n",
              "w3VdOI4T1NVtAKj86SqECArgLxGqKEpQV7c1TYOu69B1HZqmsWcAEdHzxCCBiIiIiIiIiOq2BWa9\n",
              "ISIiIiIiIqLNgkECEREREREREdWNQQIRERERERER1Y1BAhERERERERHVjUECEREREREREdWNQQIR\n",
              "ERERERER1Y1BAhERERERERHVjUECEREREREREdWNQQIRERERERER1Y1BAhERERERERHVjUECERER\n",
              "EREREdWNQQIRERERERER1Y1BAhERERERERHVjUECEREREREREdVN3egHICIiIiI6Fs/z4LouXNcF\n",
              "AEiSBFmWIUlSTZuIiM4eBglERERE9LwJIWBZFjKZTE0pFArI5/M1daFQgGEYsG0btm3DsqygLhbt\n",
              "cnDgBwhCiBN+bVmWoWsaNF2DrunQQyHouo5QKIRoNIpYLLamTiQSaGxsXFMikQiDCSKiE5BEPb+d\n",
              "iYiIiOicZFkW5ufnsbCwgKWlJSwvL6+pU6kUMuk0iqXSSd1bkQQ0GdAkD5okoMkCqiQgS/4xWQJk\n",
              "lOvye3shAAG/AIAnJHgCcIQER0hwBVDyJLhCQknIsF3AQ/3BQCikozXZita2NrS2tiKZTKK1tRWt\n",
              "ra3o7OxEZ2cn2tvboar8PI6Izl0MEoiIiIjOUY7jYH5+HjMzM5idnQ3KwsICFhYWMD8/j1wud9x7\n",
              "hBWBmOIiqniIqh5iiue3y9sRxUNIFghXatlDWBHQZRGEA2eSEIAjANuTYbkSip4Ey5VhVBdnpZ1z\n",
              "ZOQcBTlHhifWf0BZltDW2obOri50dnait7cXvb296OvrQ29vLxobG9mrgYi2NQYJRERERNuU53lY\n",
              "XFzE9PR0TZmamsLMzDQWFhZwrL8Eo4qHhOoioblo1FwkVA8JzUVc9RBXXTSUa22bTt3tCQTBwt8/\n",
              "04bXdmeQLilBSRUVZBxl3bAhHo+jr68PfX192LFjBwYHB7Fjxw709vayJwMRbQv8TUZERES0hbmu\n",
              "i7m5OUxMTGBycrKmTE1OrjvcQJYEGlUXChSc12SiSXPRrDto0lw0lYOD7RoQ1EuWUA5NPADARS3G\n",
              "mnM8AWRLMpaLKhaLKpaKCpaKKpbsEp55Modf/epXNeerqhqEC7t37w5KV1cXezAQ0ZbCHglERERE\n",
              "m5wQAsvLyxgfHw/KxMSEHx5MTKDkOGuuiSoeWnQHSd1Bi+6iWXPRUm4nNBeKBPzPJ9vx3pH5DXhF\n",
              "W8stj3Xh1gMzJ3WNHzIomLfVVUWD6damNNFoNAgVhoeHsWfPHuzcuRO6rp/Ol0FEdNqwRwIRERHR\n",
              "JlEqlTA5OYmxsTEcPXoU4+PjOHr0KI6OjSFfKKw5P6p46NIdJOMOWsuhQTLkIqk7iCj8rGgjyRLQ\n",
              "pLto0l0MN9jBfiGAnCNj1tIwa6mYsTTMWiU89ugjeOSRR4LzVFXFrl27MDIygj179mDPnj0YGhqC\n",
              "pmkb8XKIiGowSCAiIiI6y3K5HI4ePYqxsbGgHD16FFNTU/A8r+ZcVRJo1R0MJhy0hfzAoDXkhwYx\n",
              "lWHBViNJQELzkNDsmoDB8YAFW8WUpWHa1DBl6nju6Sfw5JNP4q677gIAaKqK4ZER7Nu3D/v27cP+\n",
              "/fvR29sLWT7Hx6EQ0VnHIIGIiIjoDBBCYGFhoSYoGBsbw9iRI1haXl5zflz1MBAuoS3k1JQmzT0r\n",
              "qxvQxlJloCvioCviAM0mAMAVwKKtYsrUMGlqmDB1PPH4Y/jlL38ZXBePx3HgwAEcPHgQBw8exP79\n",
              "+xGLxTbqZRDROYJBAhEREdHz4Loupqena3oX+OUICoXaCfokAC26g70NlaDADw7aQxyKQGspEtAR\n",
              "dtARdnBBOVxwPGDGWgkWJgwH999/P+6//34AgCRJ2LlzJw4ePIjzzjsP559/Prq7uzmZIxGdVgwS\n",
              "iIiIiOpg2zbGx8fXBAYT4+NrVkaoDEfY1eiHBe3lsCCpO+f8agj0/Kgy0BctoS9awgvhB1UFR8KE\n",
              "qWPc8MvkkWfw7LPP4lvf+hYAIJlMYnR0NAgWdu/ezWUoieh54W8QIiIioiqZTGbtcISxMczMzGD1\n",
              "YldhRaBDL6E95pR7Fvg9DFp0DkegsyemCuxpsLGnPOeCJ4BZS8VRQ8eYoeNo1sU999yDe+65BwAQ\n",
              "iURw8OBBjI6OYnR0FPv27UM4HN7Il0BEWwyDBCIiIjrnOI6D6elpf0WE6jI2hkw2u+b8hOZiZ3Rl\n",
              "OEKlh0GD6oE9xmmzkSWgO+KgO+LghUm/10K6qGCsHCyMFUp44IEH8MADDwDwJ3Hcu28fDh06FPRc\n",
              "4DwLRHQ8DBKIiIhoWxJCYHl5OVhCcWJiIlhScWpqCq7r1pwvl4cj7GtYmeiwvVyHOX8BbXFNuotR\n",
              "3cRokz/XQsGRyj0WQjhS0PHYI/7yk1/4whcgyzJGRkZw6NChIFxoaGjY4FdARJsJgwQiIiLasoQQ\n",
              "SKfTmJycxMTERFDGx8cxMTEB0zTXXBNTPfSFSmjVy8splsOCFt2Fwt4FdI6IqQL7Ejb2JfzhEEVP\n",
              "wrih4UjBDxaefuJx/OpXv8K//Mu/QJIk7N69GxdccEEQLjQ2Nm7wKyCijcQggYiIiDY113WxuLiI\n",
              "yclJTE9PY3JysqpMrFkZAQAUSaA95GB3wkEy5KBNXwkMuDoC0Vq6LLA7XsTueBEAUPKASVPHcwUd\n",
              "RwohjD37FJ5++ml89atfBQDs3LkzCBZGR0eRTCY38vGJ6CxjkEBEREQbSgiBbDaLmZkZTE9PB/XU\n",
              "1JS/PT2NkuOsuU6XBZK6gx0JfzWEFt1Fa8hBq+7gM8+14l27Fzbg1RBtD5oM7IgVsSNWBJCH4wFT\n",
              "lt9j4bmCjqNjz+K5557D17/+dQDAwMBATY+Ftra2jX0BRHRGMUggIiKiM8rzPCwtLWFubg4zMzOY\n",
              "m5vD7OwsZmZmgtow1vYqAIC46qFbd9Ac84OCFt1BUneRDDmIK5zokOhsUWVgIFrCQLSEK9oAVwBT\n",
              "5spQiKOTY/jm0aP45je/CQDo7e0NQoVDhw6hq6trg18BEZ1ODBKIiIjolLmui1QqhYWFBSwsLGBu\n",
              "bg7z8/M19cLCApx1ehQA/vKJzZrfq6BJc9Giu2jWHDTrfluXOQyBaDNSJKA/WkJ/tISXtPlLTs5Y\n",
              "WnkohI6xmQn82+Qk/u3f/g0A0NHREQyDOHToEPr7+yExCSTask4qSBgfHz/u8f7+/uf1MERERLQ5\n",
              "VAKCxcVFLC8vY3FxEYuLi1haWsLi4mIQHCwtLcHzvHXvIQNo0Fz06C4aY35Q0KS5aNbdoM3VEIi2\n",
              "B1kCeiIl9ERKeHFrAZ4A5mwVRypzLCzN4O6753D33XcDAJqbm3H++edjdHQUo6Oj2L17N1SVn3ES\n",
              "bRUn9a/1wgsvDJLDpaUlaJoGACiVSkgmk5ifnz/9T0hERETPmxAChUIBqVQK6XQ6qNPpNJaXl4OS\n",
              "SqWwtLSETCYDIY79Jl+VBBKai4Gwi4TmIqF6SGguGqtKg+pB5geOROckWQK6wg66wg5elDQgBLBY\n",
              "VIKhEGN5F/feey/uvfdeAEA0GsHBg+fhvPP8sn//fkSj0Y19EUR0TCcVJCws+JMW/Y//8T+we/du\n",
              "/P7v/z4A4POf/zyeffbZ0/90REREVEMIAdu2kc1mkc1mkcvlgjqTySCbzSKTyawt6fS6ExauFlU8\n",
              "xFUXO6IeGlQ/DGhQXTRoK9sJzUVYFpyfgIjqJklAW8hFW8jAxS3+nCjpoowxI4QxQ8dYoYSf/vSn\n",
              "+OlPfwoAkGUZw8PDQbBw3nnnob29fSNfAhFVkcTxPm44htHRUTz88MM1+w4dOoTDhw+fruciIiLa\n",
              "doQQsCwLhUIBhmEEdT6fRz6fR6FQCOpCoYBcLod8Pr+qzqFUOnEgAAASgIjiIap4iKkeYopbrsvb\n",
              "5XZcdREvbyvbJBz4n0+2470j7Cl5Ivw+1eeWx7pw64GZjX6Mbc9wJIybOo4WdBw1dExYOhxv5ZdS\n",
              "e3sbDh48DwcOHMDBgwcxPDwMXdc38ImJzl2nNBCpWCziySefxMjICADgqaeegm3bp/XBiIiINpLr\n",
              "urAsC5ZlwTAMWJYF0zTXLYZh1LQr25WwwDRNGIUCDNM85nwCx6PLAmHFQ0T20K0JhEMeIopXDglE\n",
              "0I4oHqKqHxxEFQ8RRXBoARFtGVFVYE+DjT0N/vsKxwOmLQ1HDR3jho7x1CzuuWcB99xzDwBA1zQM\n",
              "j4xg//792LdvH/bv34+enh5O4kh0FpxSkPDRj34Ul156Kc4//3wAwCOPPILPf/7zp/XBiIiITsTz\n",
              "vOO+wTdNMzi++rzq7eCcynHLQrFYfN7Pp8sCIVlAlz0kZA9tYYGw4m+HlZVjYUUgvKoOleuIsn16\n",
              "CRARnQxVXlkZAihACCBTUjBuroQLv/rlo3jssceCaxKJBuzbtx/79+/Hnj17sHfvXrS2tm7ciyDa\n",
              "pk4pSHjVq16Fxx9/PBjD9MIXvpD/QImI6ISKxWLwiX2l+35lu/IpfvAJftWn+ut96m8aBqzT1BtO\n",
              "lwV0WUCTPERkgYQioMf8N/mVY2uLVw4CRDkw8KCVg4OQLKDJ7A1ARHQ6SRLQpLto0l2c12gB8Hst\n",
              "zFgaJkwdE4aGCdPB/fffj/vvvz+4LplMYu/evdi7dy/27NmD4eFhtLa2sucC0fNwymustLe347d+\n",
              "67dO57MQEdEmJYSAaZrBOP1cLheM5189tr96jH9Q8nkUjELdY/vXo0orb+B1WSAu1/dm3w8I1h7T\n",
              "gvCAkwYSEW1Vqgz0RUvoi5aApL/PcCRMWTqmTA1TpobJ7Dz+67+W8F//9V/Bdc3NzRgZGcHQ0BCG\n",
              "h4cxPDyM3t5eKIqyQa+EaGs5qSDhJS95Ce677z40NzfXJHhCCEiShOXl5dP+gEREdHq4rot8Pr9m\n",
              "pv/K7P/VIUGl5HM55PI55POFkx7bLwHlLvr+DP+NmkAo5JU/sfcQUkRN+7tzDXhtTwah8pv/Srf/\n",
              "kOK/4Wf3fiIiqkdUFRiK2xiKr/RayzsypsvBwrSlYbrg4P77UzU9F0KhEHbt2hWU3bt3Y9euXWhu\n",
              "bt6Il0G0qZ1UkPCVr3wFANas2EBERGeP4zhBAFC93F91XV1y2Swy5aDgZPjj9V3EFIFk2ENYWRnD\n",
              "H1H8yf/C5UkAQ+W6eoz/yX7Sf99CHPsS1kl+N4iIiE4srnoYbrAx3LASLliuhBnLDxZmTA2zVhFP\n",
              "PfFLPP744zXXtrQ0Y8eOndixYwcGBwexY8cO7NixY82Hq0TnkpMKErq6ugAAAwMDxz3vyiuvDGZT\n",
              "JSKiY7MsC5lMBul0GplMJiiVUGC9cjKBQEgRiMgeEoqLjtiq2f1XzfYfCUICPwjg+H4iItrOworA\n",
              "jlgRO2Irk+t6AlgqKpi1tHJRMZd38POfpfCzn/2s5vrGRAL9AwMYGBhAf38/+vv7MTAwgJ6eHi5L\n",
              "SdveKc+RcDwc4kBE5xrP85DL5Y4bAlTvrwQH9a4MoMkCUcVDg+KhI1Ze3k+tLPFXu9xf5Rhn+yci\n",
              "Ijo5sgS0hVy0hVwcbFzpJVfygMWiinlLxbytYd5WMW+X8PhjGTz66KO195AldHR0oqenB319fejp\n",
              "6UFPTw96e3vR09ODaDR6tl8W0Wl3RoIEdvEhoq1KCAHDMNYMD1gvDAiGEmQyyOay8DxR19fw3+y7\n",
              "6FA8RBtWQoBYVTgQXdXW5DP8womIiOiYNBnoCjvoCjsAVgIGVwDpooKFoopFW8ViUcWCrWJpcRI/\n",
              "m5nBQw89tOZejYkEurq70dXVFZTOzk50dnaivb0diUSC76do0zsjQQIR0UazLGvNxIGrJxisnmjQ\n",
              "384im83BcepbWUCRRPBGfyC8KgSoCQIEoqofFEQUj0MGiIiItglFApIhF8mQCzTULklc8oBUScWS\n",
              "rWC5qGKp6Ndpu4TnnsrgiSeeWPee4VAI7R0daG9vD0pra2tQ2trakEwmoap8K0cbhz99RLTplEql\n",
              "mqUDVy8xWL2dy+WCbb+dQz6XR7FUqvvr+YGAQERx0at7iETKb/6r5xOoCQn8YIDLBhIREdGxaDLQ\n",
              "HnLQHnIA1IYMQgCGKyNVUpAuKlguKcgEpYjUtImJ8XEcr6/j8PAQPv/52xko0IY4Iz91fX19Qftd\n",
              "73oX7rrrLhw9ehSHDx/G6Ohozbm333473vGOd+Cb3/wmXv3qVwMA5ufn8Za3vAXPPvssQqEQPv3p\n",
              "T+Pyyy8/4bErrrgCR48eRWNjIwDgrW99K9797ncDAN7+9rfjZz/7GWRZhqZp+OhHP4orr7wyOPaj\n",
              "H/0IkUgE8Xgcf/d3f4eLLrooeMZPf/rT+NSnPgVVVSHLMn76058iHA7jbW97G7773e+ira0NAHD1\n",
              "1Vfjr//6rwHguMeIthPXdWFZFgzDgGmasCwrqCv7KnWlXV0KhUJtu1A4qRCgQpP9SQXDiocuTSAc\n",
              "Wpk0cPWEghHFqwoJTn51ASIiIqLnQ5KAmOohpnrojaz/d4/jAVlHQbakIOfIyDoKciW/fjYfwlNP\n",
              "PY10Oo3W1taz/PREJxkk/OAHPzju8cob+m9/+9vBvte//vV473vfi8suu2zN+WNjY7jttttwySWX\n",
              "1Oy/+eabcckll+Duu+/Ggw8+iNe85jU4cuQINE077jEA+MQnPhEEEtU+8YlPoKmpCQBw+PBhXHnl\n",
              "lVhcXIQsy3jNa16D2267Daqq4t///d9x7bXXYmxsLHgtX/7yl3H//fejsbERCwsLwdcCgP/+3/87\n",
              "brrppnW/H8c7RrRRTNPEAw88AMMwYNs2isViUGzbXlMsy6pprxQ/LCiV6hsGcCyyJBCSgZDsISR7\n",
              "aNQEQqGq5QRlAb1qmcHwOssMhmUPKucQICIiom1ElYEW3UWL7q459tWJJjyc4aSNtHFOKkj4kz/5\n",
              "EwD+J5APP/wwdu7cCUmS8Oyzz2J0dBQ///nP11xTCRdW8zwP1113HT71qU8F962444478MwzzwAA\n",
              "LrroInR3d+O+++7DVVddddxjx1MJEQAgk8nUHHvVq14VtC+55BJMTU3BcRyoqoq//uu/xgc+8IGg\n",
              "l0Olh8HpVnmjVi0UCiEUCp2Rr0fnri996Uv43Oc+d9LXqZKALgtosoAueWiQBVo0AU0HdNmDLq8c\n",
              "D5Xblf0r2wIhxQu2Q7IHVQJ7AxARERERbSEnFSQ8+OCDAIB3vOMd+NjHPoarr74aAPC9730PX/nK\n",
              "V07qC3/84x/HpZdeigsvvLBm/9LSEkqlEjo7O4N9g4ODGB8fP+6xiptvvhl/8Rd/gX379uHWW2/F\n",
              "zp07a4597WtfQyqVwp133glZXvsR5ic/+Ulcc801wVijxx9/HA899BD+8i//ErZt4y1veQve9a53\n",
              "1Zz/+c9/Hv39/fjQhz5UM3TjeMdWu/XWW/GXf/mXNfs+8IEP4IMf/OAxryE6Ffl8HgBwdXsWSd2B\n",
              "KgOaJKDKAqrkBwFaufa3/RCBEwQSERERERFwinMkPPTQQ/j85z8fbF911VVrehUcz2OPPYY777zz\n",
              "hEMlTtYXv/hF9PX1QQiBf/zHf8QrX/lKPP7448Hxj370o/joRz+K733ve3jve9+LH/3oR9B1PTj+\n",
              "pS99CXfccUfNczmOgyNHjuAHP/gBUqkUXvKSl2Dnzp145StfiQ9/+MPo6uqCLMv45je/id/8zd/E\n",
              "008/jXg8ftxj67nlllvwnve8p2YfeyPQmfSLTAQRxQ8L1HJ4oNYECAKa5M89oMoCemVfpeeB5Pc4\n",
              "0Kp6G/iBxEa/MiIiIiIiOpNOKUhQFAXf//738dKXvhQAcN9996376f6x/PCHP8TY2BiGhoYAALOz\n",
              "s3jnO9+JmZkZ3HDDDVBVFbOzs0HPg7GxMfT39wfLnKx3DFiZ5FGSJNx444340z/9UywtLSGZTNZ8\n",
              "/auuugo33ngjHn300aBHxFe/+lX85V/+Je655x50dHQE5/b39+N3f/d3oSgKWltbcc011+D+++/H\n",
              "K1/5SvT09ATnveY1r8HNN9+MJ598EhdeeOFxj62HwxjobLnwwgvx//7fPTAME+li8ZQmNjweWRLQ\n",
              "ZUCXvGB4w+qhDZXhDpV5ECrDHMKyQEgpt8u1xmCCiIiIiGhTOaUg4R//8R/xO7/zO9A0DUIIuK6L\n",
              "r371q3Vff8MNN+CGG24Itq+44grcdNNNwSSJ1157LT7zmc/ggx/8IB588EFMTU3hJS95yXGPOY6D\n",
              "paWlIAS488470dHRgWQyiVKphKNHj2L37t0AgAceeADz8/PBsIc77rgD73vf+/C9730vCCUq3vjG\n",
              "N+Luu+/Gr//6r8M0Tdx7771473vfCwCYnJxEb28vAOD+++/H0tJS8DWOd4xoI11++eU1c5d4nodS\n",
              "qXTSky3ath2sxFDdrqzaUClZw4BhmvA875SeV5GEHypIXs0ki6FyHVH8MCJSnohx9UoNIZnDMoiI\n",
              "iGh7EAKwPQlFj3/c0MY6pSDhRS96EZ599lk88cQTAIA9e/bUrGRQ7frrr8d//Md/YHZ2Fi972cvQ\n",
              "0NAQTJZ4LB/72Mfw5je/GUNDQ9B1HV/60peC+x/rWKFQwCte8QrYtg1ZltHa2oq77roLgL8m/Vvf\n",
              "+lZkMhmoqopYLIavf/3raG5uBgC86U1vQmdnJ377t387eIZ77rkHyWQS73nPe3D99ddj3759kCQJ\n",
              "r3vd63DttdcC8Jd4nJubg6IoiEQi+NrXvhZMyni8Y0SbiSzLQY+YhoaGM/I1hBBB2HDC5R/LdXXJ\n",
              "5/Mo5PPI5vOYMQwIcbxVlWtJAEKKQER2g5AhWrUcZLQqdIiu2qfLXBaSiIiIzg5PADlHRqak1JTq\n",
              "ZR+zjoJSVYhQmdeN6GyTxMn8RV7lgQcewPe+9z0AwG/8xm/gBS94wWl9MCKi9XieB9M0kc/nkcvl\n",
              "kM/na0plXzabRS6Xqy3ZLPKFQt1fS5FEOVRwEQ2CBoGo6gXbQanax3kiTs3/fLId7x2Z3+jHoG2C\n",
              "P0/14fepPrc81oVbD8xs9GPQFucKIFNSkCoqSJUUpIoqUiUF6aKCVElF1lHgHeOdmSzLSCaTaGtr\n",
              "Q2trK5LJJPbt24ff+q3fOrsvgqjslCKsz372s/jQhz6E1772tcGn9H/xF3+B66677nQ/HxFRDVmW\n",
              "EYvFEIvFauYzqZfrujVBQ6XOZDJr2pWSyWQwkc3Cddeu47weTRaIKR6iiovo6uChqh2raofY+4GI\n",
              "iGjLK3nAUlHFUlHFclHx27aC5ZKKdFHFegM9ZVlGe3s7Bjs70d7ejvb2dnR0dKCjowPt7e1oa2tD\n",
              "U1MTFEU566+H6FhOKUj4h3/4B/zsZz9DW1sbAODP/uzPcOWVVzJIIKJNT1EUNDY2nvRQIyEEDMMI\n",
              "QoZMJrOmnU6na7Yz6TSmC0Z9zyUJv7eD4vohxOpeD2q5N8SqQEJh+EBERHRWifIQhHlbxYKtYrFY\n",
              "rm0V6ZKK9ToVtLa24rzeXnR3d6O7uxtdXV1BaWtr4xAF2nJO+Se2EiKsbhMRbUeSJAU9Ibq7u+u+\n",
              "znGcNYFDJXSo3l/ZzmQyWMxm656cMiT74UNlbgc/cPCqhmJUDcmomhuCwy+IiIiOTwgg68iYszTM\n",
              "22q5aJi3NZju2iS/ra0NFw4MoK+vD319fejt7UVvOTwIh8Mb8AqIzpxTChKGhobw53/+57j++usB\n",
              "ALfddluwlCMREa1QVRXJZHLNMrTH43keCoVCTfCwXhhRPQQjnUljumDW/TW08goXEXklXKheASMi\n",
              "r0xCGa7sr1qukythEBHRdmK7EmZtFbOWhllLw5ylYtbWYLq1ybuqqugf6MeOHTswODiIwcFB9Pf3\n",
              "o6+vD9FodIOenujsO6Ug4TOf+Qz++I//GBdccAEkScJVV12Ff/qnfzrdz0ZEdE6SZRkNDQ1oaGgI\n",
              "lpGtR3Xvh+pSmQti9b5cLodsJoOFXO6klueUAH9JTtkNluNcXYcUgZC8drlOXRblYwKaxHkhiIjo\n",
              "7MuWZMxYGqZNza8tDUvF2rdFsixjYGAAu3btws6dO7Fz507s2LEDPT09HIZAhFMIElzXxd/8zd/g\n",
              "K1/5ypl4HiIiOkWn0vsBWJn/oTIJZWX1i+qy3soYuVwOhUIe8/nCSQURFTIEQgqgyx5Csoeso+D/\n",
              "O5JEqBw86LIfRvi1v129b2VbQJP9CSsVCQwniIgokC3JmDQ1TJk6pkwNU5aOvFPby6CpsREXj45g\n",
              "aGgIu3fvxq5duzA4OAhd1zfoqYk2v5MOEhRFwfe///0z8SxERLQBqud/OJWVMIQQsCwL+XwehUIh\n",
              "qAuFQhBQVPYbhhGUyvFKDSeLZwvPLwWQIaArgCZVhw0rbU0SNSGEXg4hVu/TZQFdqr2eIQUR0eZm\n",
              "uhImDB0T5eBg0tSRWxUadHd14QUjIxgeHsbIiB8etLW1QeIveKKTckr9cq655hp8+MMfxtvf/nbE\n",
              "4/FgfyKROG0PRkREW4MkSYhEIohEIs978l3XdWGaZk3gYJpmUCrbq/evLpZlwTRN5E0Dlmmh5DjP\n",
              "+3VWQgo9CCm8ml4RlX2Vtt+rwt+u7AsrlW2/1wVX3SAiOjWOB8xYGiZMHROGX68entDZ2YkX7N2L\n",
              "PXv2BOVkV20iovWdUpDwV3/1VwCAv/iLvwj2SZJU9xrrRERE61EUBfF4vCakPh0cx1kTMlS3V+8z\n",
              "DKPmWPV2JcjImiYM0zylYR0VqiwQLgcL1XNJhMtzTFRPgBkuT4AZVlYmwgxx4ksiOkdkSzLGDR3j\n",
              "po5xwx+i4HgrvwATiQa88MID2LdvH/bv34+9e/eiubl5A5+YaHs7pSDh+fzRREREdLapqhpMYHk6\n",
              "CSFQKpVqelGs7jlRKBRgmmYwhGP1sI5KSeVzME5i5Q3An/jSDxdql/uMBsuBun6teIipHmKKi5jq\n",
              "QePyn0S0iXkCmLNVjBV0HDV0HDVCSJeU4LiiKBgeGcaBAwdw4MAB7N+/Hz09PRyeQHQWnfKUo+Pj\n",
              "4/jBD34ASZJw+eWXo6+v73Q+FxER0aYnSRJ0XYeu66elu2xlaEf15JarJ7is1KtX5VjKZmHmrbq+\n",
              "TkgWiJZDhZjqoaHcjpdLg+qW234Qwb/NiehMKnoSJg0NY4aOMUPHhBmC5a784mlubsZLzjsPBw4c\n",
              "wMGDB7Fnzx6Ew+ENfGIiOqUg4V/+5V/wx3/8x7j88ssBADfddBM+9alP4Xd+53dO68MRERGdS57v\n",
              "0I5isYhsNotMJrOmpNNppNNppFKpoF5IpzGZs4//TJJAQzlUSKguGjQ/aEioHhKa6xcGDkR0EgxH\n",
              "wlFDx5gRwpGCjmlLhytWjg8ODuL888/Heeedh/POOw+9vb3sbUC0yZzyHAkPPfQQduzYAQAYGxvD\n",
              "y1/+cgYJREREG0jXdbS2tqK1tbXua0zTxPLyMlKpFJaXl2vK0tISFhcXsby0hIWlRUzmise8jyoJ\n",
              "NKgumsrhQpPmolFz0ah5aCxvRxWPYQPROShXknHE0HGkEMJYQcesrQXHVFXFvgN7cf7552N0dBQH\n",
              "Dx7khIhEW8ApBQnRaDQIEQA/NYxGo6ftoYiIiOjsiEQi6OnpQU9Pz3HPE0KgUChgcXERS0tLmJ+f\n",
              "x8LCAhYXF7GwsOCX+XkcXVyEZ6w/l5ImCzRpDprKwUKz5qJJ9+tm3UGD6nHySKJtIF1U8FzBH6Zw\n",
              "pBDCYtVqCpFwGBdffB5GR0dx/vnnY//+/RymQLQFnVKQ8IpXvAIf/OAHcd1110EIgdtvvx2/9Vu/\n",
              "hWw2C4DLQBIREW03kiQFwy4GBwePeZ7rukHQMDc3h7m5uaA9OzuL2dlZPJ1KrXutIolywOCgRXfL\n",
              "xQnqiCLWvY6INo4QQKrkBwdHCiEcKYSQqpoYMR6P47KLR3Ho0CGMjo5iZGQEqnrK07QR0SYhCSFO\n",
              "+r/Ksnzs6Z65DCQREREdj2VZmJ+fx8zMDGZnZzE9PY2ZmRnMzMxgenoaS0tL614XUTy06A6Suouk\n",
              "7tS0G9TaYRP/88l2vHdk/iy9oq2L36f63PJYF249MLPRj7EpCAEsFpVyaKDjiBFCpio4aGpsxOih\n",
              "Qzh06BAuuOAC7Ny5E4qiHOeORLQVcflHIiIiOqvC4TD6+/vR39+/7nHLsoKAYWpqClNTU5iensbk\n",
              "5CSmp6YwlVk7QaQmCyR1B626g6TuwPYkjBV0JEMO4pybgeiUCQHM22oQGhwphJBzVj5UbGlpxpWH\n",
              "LgiCgx07dnBiRKJzAPsVERER0aYSDocxODi47hAKIQSWlpYwOTm5pkxMjGM2awTn/q8j/qSTYUUg\n",
              "qZfQpjtoDTloC/mBQ2vIhS5zuARRNU8Ac7Za0+OgUBUctLW14oWHLsAFF/jhQX9/P4MDonMQgwQi\n",
              "IiLaMiRJClamGB0drTkmhEAqlcLExERNOXr0KCYmJjCVWbvqRKPmok130BYqoa0cMrSFHCRU9mKg\n",
              "c4MrgGlTK0+M6C/JaLorwUFnZycuL/c2OHToEHp6ehgcEBGDBCIiItoeJElCS0sLWlpacP7559cc\n",
              "8zwP8/PzQahw9OhRjI+PY3x8HM/OzuKZQqjm/JAs0Kr74UJ7VcCQ1B2ox54qimjTK3nAhKHjiKFj\n",
              "rBDCuKmj6K0EA729vcEwhdHRUXR1dW3g0xLRZsUggYiIiLY9WZbR2dmJzs5O/Nqv/VrNMcuyMDEx\n",
              "gbGxMYyPj2NsbAxHjx7F0aNH18zHIANo0R20h2pDhvaQgxBXlaBNKO/IOGroOGroGCvomLY0uMIP\n",
              "DiRJws6dO3Ho0CGcf/75GB0dRVtb2wY/MRFtBQwSiIiI6JwWDocxNDSEoaGhmv2e52Fubg5Hjx4N\n",
              "woWxsTEcOXIEj6fTQK72Pv4wiRLaw36wUAkZ4ionqaazwxPAgq1i3NAxbmo4aoSwYK/8ua+qKvYd\n",
              "2IvzzjsPo6OjOO+889DY2LiBT0xEWxWDBCIiIqJ1yLKMrq4udHV14ZJLLqk5lslkcOTIEYyNjdWU\n",
              "Z2Zn8Uyh9j5RxQt6MFR6L7SHHDRqLmQONafnwXQlTJRDg3FDx6QZgumu/FDFYzG86MLzcf75ftmz\n",
              "Zw/C4fAGPjERbRcMEoiIiIhOUmNjI0ZHR9dM+GiaZk3PhUrAMDE5iTHDrTlXkwVa1xkmkdQdaJyH\n",
              "gVZxPGDG0jBhapg0dUyaek1vAwAYGBjAwYMHceDAARw8eBA7duyALPOHiYhOPwYJRERERKdJJBLB\n",
              "nj17sGfPnpr9juNgcnJyTQ+Go0ePYiZj1pwrAWjWnZrlKttC/nacq0mcExwPmLM1TJnlYmmYrZrb\n",
              "AADi8Th+bXQ/9u3bh4MHD2L//v0cpkBEZw2DBCIiIqIzTFVVDA4OYnBwsGa/EAILCws1wUKlfnJx\n",
              "EU/ma+8TVvzVJJLlkKFVd4NeDGFO9rglma6EmXJQMGOpmDY1zNk63Kr/O3VNw559w9i3bx/27/fD\n",
              "g76+Pi7DSEQbhkECERER0QaRJAnt7e1ob2/HxRdfXHOsUChgfHw8WEGisqLE5OQkJletJgEAcdVD\n",
              "UnfQovvBQlJ3y7WDiCLYk2GDFT0Ji7aCOVvDvK0G4UGmpNScFw6FsO/AMEZGRrBnzx6MjIxgx44d\n",
              "UFX+2U5Emwd/IxERERFtQrFYDHv37sXevXtr9nueh4WFBYyPj2NiYgLj4+MYHx/H5OQkpqancdRw\n",
              "1twrrAg0a37I0Ky5fq27cIUE25W4dOVpIgSQc2QsFlUs2SoWiirmbRXzlop0ScXq73JHezsODA1h\n",
              "9+7dQenv74eiKOven4hos5CEEPwvBxEREdE24Lou5ubm/F4L5TI1NYWZmRlMTU2iUDDWvS6ieGjS\n",
              "XDRrDpp0FwnVQ6PmIqG5SKguGjX3nJ4A8pbHunDrgRkAgO1KSJUUpEsKUkUF6ZKKpaKCJVvFUklF\n",
              "yVvb9aO1tRU7duzA4OAgduzYgR07dmDXrl1IJBJn+6UQEZ0WDBKIiIiIzgFCCGSzWUxPTwfhwuzs\n",
              "LGZnZ4O2YawfNAD+MpYNqou4uraOqx6iqoeo4iGmeNDlrTWUQgh/6IHhysg7MnKOgmzJr3OOjAdT\n",
              "UXSFHaRLCkx3/UQlHouhr78fvb296OvrQ29vL/r7+zE4OIh4PH6WXxER0ZnFIIGIiIiIIIRALpfD\n",
              "3NwcFhYWMD8/X1MvLCxgaXER6UzmhPdSJIGoIhBVXIQVDyFZIKx4CMsCYUUgLHvQZAFdFlClci0L\n",
              "6JJfyxIgo1xXtf3nBAQQDBMQQoILwPEkOEKCK4CSJ8EVEkrloRu2J8P2JL+4fttwZRiODMOVUXDl\n",
              "mhUR1hOLRdHZ2YXOzk50dfl1R0cHurq60Nvbi8bGRk5+SETnDAYJRERERFQ3x3GQSqWwtLSE5eXl\n",
              "oGQymXVLIZ9HyVk7b8NGkyQJiYYGNDY1obGxMSjNzc1obW0NSjKZRGtrKyKRyEY/MhHRpsEggYiI\n",
              "iIjOKNu2USgUkM/ng9o0Tdi2Ddu2YVlW0LZtG67rrlsAPwCQZRmSJAVFVVXoug5d16FpWtAOhUKI\n",
              "RqOIxWI1dTQaRTwe56SGRESniEECEREREREREdXtHJ5/l4iIiIiIiIhOFoMEIiIiIiIiIqobgwQi\n",
              "IiIiIiIiqhuDBCIiIiIiIiKqG4MEIiIiIiIiIqobgwQiIiIiIiIiqhuDBCIiIiIiIiKqG4MEIiIi\n",
              "IiIiIqobgwQiIiIiIiIiqhuDBCIiIiIiIiKqG4MEIiIiIiIiIqobgwQiIiIiIiIiqhuDBCIiIiIi\n",
              "IiKqG4MEIiIiIiIiIqobgwQiIiIiIiIiqpu60Q9ARERERNuXEAK2bQfFsqya7WKxiFKpFNSVtuM4\n",
              "Qe26blB7ngfXdWuK53kQQkAIEXzNSl1pS5IEWZaPWzRNg6ZpUFUVqqqu2Q6FQmtKOByuaYfDYSiK\n",
              "smHfbyKis4FBAhEREREFPM+DYRjI5XIoFAowDAOFQqGmVPYZhgHTNNcthmHCskzYtr3RL+msC4fD\n",
              "iEQiiEajiEajNe1YLIZ4PI6GhgbE4/GgVG83NjYiEolAkqSNfilEROuSRCWmJSIiIqJtwbZt5HI5\n",
              "5HI5ZDKZoJ3L5ZDNZpHNZpHP54OSy+XKdR6GUcCp/nmoKBoUWfPrcpFldaWWVciKCkWu7Fchywpk\n",
              "WYUsKZBkOWj7+xVIkuwfk2RAkiBLMiRJKm/LkCUJkCQAEvy33eU339JKWwIgIIByDwWBSk8FASG8\n",
              "YL8nXAjP82vhwfP8+heP3YX9e18Oz3PheQ5ct1SuHb/2nGC/6xbhuiU4TtFve35bCO+kvpeapiGR\n",
              "SKCpqQmJRAKNjY1obGxEU1MTmpqa0NzcjObmZrS0tKC5uRlNTU1QVX5GSERnB3/bEBEREW1Srusi\n",
              "m80ik8kgnU4jm80GdWV/dV1pn0wvAEmSoKohqEoIqhpFU2MzNDUMRdXL+3Woqg5FWWdb8etKaLBd\n",
              "P0GXJKC7c//zuofnuXDcIlzHRsmx4VQVf9uC4xRRckyUShZKJQumYSKbnUap9GxdXyORSAThQjKZ\n",
              "RGtrK1pbW9e0Gxoatu3/V0R0djBIICIiIjoLPM9DLpdDOp1GOp0OwoFjtTOZDPL5fN29AzQtDE2N\n",
              "IBxqQTwWLm+HoaqhlXa51tQQ1PKx7RwAbCayrECXI4AWQeQkrxVCwHEsFEsWSiUTpZKJYtFAsWT4\n",
              "dbEQtGdmFnH06DiAY//c6LqO1tY2dHS0o62tDe3tK3WltLS0cK4HIjomBglEREREp8CyLGQyGaRS\n",
              "qRPWlV4Ennfi7u2yrEDTItC0CJobm6HpEf/NvxaBXt6vaf52Zb+qhhgGbGOSJAU/E0DzCc8XwkOx\n",
              "aMIu5mEXCyjaBb9tl7eLBSwvZTEzM33MoEqWZbS3t6OzsxOdnZ3o6OhAV1cXOjo6gn2RyMlGIkS0\n",
              "XTBIICIionNedW+B+oKBDCzLPOF9q98ANia6y2FAdFUoEIGuR4J9ssweAvT8SJKMUCiGUCh23POE\n",
              "8GAXDdh2Dradh2XnYNs5WHYelpVDOp3F3NwjePjhh9e9vrGxEd3d3ejq6kJXVxe6u7trtkOh0Bl4\n",
              "dUS0GTBIICIiom1FCIFCoVAzRKB66MB6wwnq7S2gKDo0LQxda0Qs2lkVAKyEA7oWhab7bVUNMxSg\n",
              "TUuSZIRDcYRD8WOeI4QH2y7AsrIw7Swsa6WYVhZPPfUMfvWrX617bTKZRE9PD3p7e9HT04Pu7u6g\n",
              "3dzczH8bRFsYgwQiIiLatFzXDVYeOFHJZrNIpdLIZNJwXfeE9/Z7C0ShaeG1vQX02l4Dlf2Kwj+d\n",
              "6NwiSTLC4QaEww1oQs+a40IIlEoGTDML08oExTKzMIw0Hn30MTzyyCNrrotEIujp6QmChr6+vqC0\n",
              "trZCluWz8fKI6BTxv4ZERER0xhWLxZqlByvtSr161YFMJots1p9ssD6S3ztADaMh3rkyZKBqToHV\n",
              "Qwo4rwDR8ydJEnQ9Bl2PobGxa81xITxYVg6GmYZppWGaGb9tpjE2NoFnnnlmzTWhUAg9PT3o6+tD\n",
              "b28v+vv70dfXh/7+fiSTSf67JdoEGCQQERHRCQkhYBgG8vk8crkc8vl80M5mszXtyvGVoCBX13wC\n",
              "FYqilScRjKKluSWYUHC9SQb9YCDMIQREm5QkyYhEGhGJNAIYqDnm92YwYZhpGGYKppmGYaRgmGlM\n",
              "jE/hueeeW3O/SCSC/v7+IFyoBAwDAwOIx489RIOITi8GCURERNtcJQQoFAo1pRIG5PP5NdsrpYB8\n",
              "3g8G6plDoEKSJGhqGIoaKs8n0LFq+cEwVC1UFQj4SxdqWgiyzD9PiM4Ffm+GKHQ9iqbG7ppjQgiU\n",
              "HKscLKRq6meeeQ5PPvnkmvu1tLRgYGAgCBoq7e7ubqgqf68QnU78F0VERLQJCSFg2zYKhQIMw1hT\n",
              "KmHA8dqVIMA0jZMKASpUNRSUxkQCqhqGqupQ1TA0NQRVCQVhgKqGoWlhqKq/rShceYCITp0kSf7k\n",
              "pY2RdUMGu1iAYSzDMFMoGMt+0GAs4+GHH8bhw4drzldVFT09PRgcHMTAwEBNaWhoOJsvi2jbYJBA\n",
              "RER0GnieB8uyat7sm6YJ0zRRKBRgmuaaMKCyrzosqJxvGKf25h8AZFmBquhQ1BBUJYrGRLMfACgh\n",
              "KOXaDwT8UEBV9JrQQFVDUBWdQQARbUqSJAWrTbQ099cc8zwXpplGoRwsFEw/ZJiZnsfRo0fX3KvS\n",
              "i6G6DA4OorOzkxM+Eh0HgwQiIjrnCCGCN/3Vb/Ar7dV1dSiw+lzD8OuTmQNgPYqiQVF0KIoGVYki\n",
              "0dAEVdHKYYAORdX8WtFXhQKV7ZVjHBpAROcqWVYQiyURiyXXHCsWDRhGCgVzGYXCcrknw/q9GHRd\n",
              "XxMuDA4Ooq+vD+Fw+Gy9HKJNi39pEBHRpieEWPOJ/rG6/B+rrA4BhBCn/DySJENVdSiyBkXRoGuN\n",
              "iIbboKiVMED3Q4ByOOAHAZWQoKpWV86VJH7yRUR0JgXzMTTVLmPpeW4w/0LBWEahsISCsYwjzx3F\n",
              "008/XXOuJEno7OwMhklUAoaBgQE0NzefzZdDtKEYJBAR0RnjOE4wid/qif5W718dDlTvM03zlLv5\n",
              "A/5Y/5VP/BvQ1JiselNffmNfCQaCT/erewj4+xXZP0+SFHb7JyLaJmRZQTzWinistWZ/9VwMlXCh\n",
              "YCxjeXkJMzM/wU9+8pOa8xsbG2t6MFTqrq4uKIpyNl8S0RnHIIGIiNbluu66s/jncrkgBKhu1878\n",
              "X0ChkIdt26f0tWs+yVfiaEw0l7vth6o+7fe78Vd/4q8qVSGA6p8ny5z0j4iITt7x5mJwnCIKxlIw\n",
              "PMIfKrGERx99DI888kjNuZqmoa+vb81kj/39/YjFYmfzJRGdNgwSiIi2Mdu2kcvlkMvlkM1m17Tz\n",
              "+Tyy2WwQClQXwzBO+uv5n+z7Y/rDoRbEo+Vx/OV9atAOrYQA5X0//8WdeOFFb4Wi6JzgioiINjVV\n",
              "1dGY6EJjoqtmv+e5MK1MMETCKPdiGB+fwnPPPbfmPm1tbWsmexwYGEB7ezv/W0ibGoMEIqJNrjI/\n",
              "QCaTQTabDerjlUwmg1wuh2KxeBJfSYKmhcpL/DWgpbm1PIO/v+Sfv8Rf9az+IX8JQLUSCoSe1x89\n",
              "siRD0ziBFRERbV2yrCAWbUEs2gK07g72CyFQLBorPRjKJZ9bxkMPPYSHHnqo5j6hUAj9/f3o7+8P\n",
              "ei+wFwNtJgwSiIjOIsdxgjf6xysr52SRzWbgOE5d95ckCZoagaqGEAkn0RAPQ9PC5Tf8YT8M0ELl\n",
              "UMA/pqr+tqJwCAAREdGZIEkSQqEYQqEYWpr7ao65bgmGma4JGIxjTPYIAMlkMggV+vr6gsChp6cH\n",
              "qsq3d3R28CeNiOgUeZ6HfD6PdDq9plQCgUq7sj+Xy9V1b6n86bymhhGPdQRtTYuUw4AwdC0ShAFa\n",
              "uVYUnWEAERHRFqIoGhribWiIt9Xs93sxFMrBQioIGAwjhcOHD+PnP/95zfmyLKOnpycIGHp7e9HX\n",
              "14e+vj50dHRwwkc6rRgkEBGVOY6DdDqNVCoVvPGvble2M5lMUNezkoAsK34AoEXQ0tTsv/Evb+vl\n",
              "2i/hYB8DASIionOb34shjtA6kz16ngvTTKNQXrayEjTMzy1jYmJizb00TUNPT08QLFSCht7eXrS3\n",
              "tzNkoJPGIIGItq1isVgTBiwvL68JCKrrfD5fx12l8pv/MBIN3dD1SiAQrQkGdD0CTfXbHDJARERE\n",
              "p5MsK4jFkojFkmuOOY5dHiqRgmGWi5HC1NQcxsbG1pyvaRq6urrQ19eHnp6eIGDo6elBV1cXdF0/\n",
              "C6+IthoGCUS0ZZRKpeBNf6VUb68+VigUTnhPSZKh61HoWhQtzUno+kogoGtRaLpf61oEmh6FpoYZ\n",
              "ChAREdGmpaohJBo6kGjoWHOsVLLK4YIfNJhWGoaRxuzsIsbHx9ecL0kS2tra0dPTjZ6eHnR3d6O3\n",
              "txfd3d3o7u5Gc3Mz/y46RzFIIKINUz2UYL0goLoXQb09BmRZKfcOiCHZ3LYSDJTDgtXBgMohBERE\n",
              "RHSO0LQwGrW1y1YCgOMUYZrpIGgwzQxMK41cNoOHFx7G4cOH11wTDkfQ3d2Frq4udHd3B3WlxOPx\n",
              "s/GyaAMwSCCi06ZUKq0ZMrB6+EB1QFBPMFDpMaBpkaDHgK5Fq3oORMv7/LCAcwsQERERnTxV1dHQ\n",
              "0I6GhvY1xzzPhWXnYJYDBsNMw7TSMK0sJiam8dxzz617z1gsjq6uTnR2+qWrqytod3Z2oqWlhX+3\n",
              "bVEMEohoXUIIGIYRTCx4rAkHq4OCkxlKUBsMRKCtCgQq2+wxQERERLSxZFlBNNKEaKRp3eOOY8O0\n",
              "MjDNrF9bGZhmBpaVxdjYBJ555pl1r9N1He3t7ejo6Kgp7e3t6OzsREdHB2Kx2Bl8ZXSqGCQQnSMs\n",
              "y1qzJGH1soTVyxZW2qVS6YT3XT2UYPXQgZW5BqLl5QpDDAaIiIiIthFVDaEh3o6G+NreDABQcmxY\n",
              "VhaW5QcNlbZl57CwkMbk5OQx7x2NRtHe3o62trZj1k1NTZBl+Uy9PFoHgwSiLcbzPOTz+SAIyGaz\n",
              "NfV6JZ1Ow7btuu6vaWFoagTRSBv0xmOtSLDSi4ArEhARERHR8WhqCFq8DQ3xtnWPe54L287DsnN+\n",
              "KYcMlpWDbecwPT2/7ooTFYqiIJlMorW1dd2STCaRTCbR1NQEVeVb4NOB30WiDeI4DrLZLLLZLHK5\n",
              "XNBevV0JCaqPeZ5X19dQ1RA0LYKQ3oyGWARaeUnCSiCgaeHyEIJIubdAhGkuEREREZ1VsqwgEmlE\n",
              "JNJ4zHM8z4FtF2DZuSB0sO08bDsHu1hALlfA0uJTeNx7/Jj3kCQJTU1NQbCQTCbR0tISlObm5qBm\n",
              "6HB8/M4QnSLP82AYBnK5HPL5PPL5fNDO5XLHLdlsDpZl1v21FFmFqoWhqWE0JrqhaRGoahh6ufeA\n",
              "VhMMRKBrYYYCRERERLRtyLJ6wrBBCAHHsWEXC37IUMzDtvMoFg0UiwXYxQKKdgFHj04ec96GaolE\n",
              "IggXmpqa0NTUhMbGxqCuBA6VfeHwubNMOIMEOucIIVAsFlEoFNYUwzCQz+dRKBTWrSvtXC4PwyhA\n",
              "CFH315UkCZoahqKGoGuNiEU6yuFAqBwMhMrDCsJQ1XAQCmhqCIqincHvCBERERHR1idJUvlv6DDi\n",
              "seRxz/U8B8Wi4YcLRQPFklEOHGrbszOLGB8fr+vvfk3TkEgk0NTUhEQigUQigcbGxqC++OKLMTIy\n",
              "crpe7oZikECbnuu6sCwLlmXBMAyYphnUq9uVMGC9UjlWKBTguu5JP4ckyVDVEFRFh6rG0NzY4m9X\n",
              "FS1oh6Fp5bq8zbkEiIiIiIg2B1lWEQ4nEA4nTniu39PBQrFkolQyUSyW65JRrv3tUsmCaZjIZadR\n",
              "LD0HoDZ8uPvuu/HlL3/5DL2is+uMBgnvete7cNddd+Ho0aM4fPgwRkdHa47ffvvteMc73oFvfvOb\n",
              "ePWrXw0AmJ+fx1ve8hY8++yzCIVC+PSnP43LL7/8hMeuuOIKHD16FI2NfleXt771rXj3u98NAHjw\n",
              "wQdx0003IZ/PQ5IkfPzjH8ev//qvAwCefvpp/OEf/iHm5+fhOA7e//734w1veAMAYG5uDjfccAOe\n",
              "eeYZlEolXH/99bjpppsAAIVCATfeeCMeeughlEolvPrVr8att94KSZJw++2345Of/GTwOicnJ3H5\n",
              "5ZfjG9/4xhn5Pm80y7JQKBRg2zYsy4Jt20Gp3rYsC6ZpBu3VxTTNoDYME5blhwPFYvF5PZ8sK1AV\n",
              "HYqiQ1FCaIg3+NtqCKqqB8dWQgK9NiBQ/PNkWWUQQERERER0jvF7OvhDietVGWZRciyUSiYefvSb\n",
              "sCzrDD7l2XVGg4TXv/71eO9734vLLrtszbGxsTHcdtttuOSSS2r233zzzbjkkktw991348EHH8Rr\n",
              "XvMaHDlyBJqmHfcYAHziE58IAokKIQRe85rX4J//+Z9x1VVX4amnnsJVV12FJ598EpFIBG9729vw\n",
              "9re/Hddddx0WFhbwghe8AJdddhl6enrwnve8B/v27cM3vvENFAoFXHrppbj00ktx0UUX4SMf+Qhc\n",
              "18UjjzwCx3Hwqle9Cl//+tdx7bXX4u1vfzve/va3B89w4MABvOlNbzr93+BN4Mknn8R1111X1zKB\n",
              "9fDf7GtQZBWKoiESjiIe08r7NCiqf1ytnKes3VYV/7xKQCDLyml5NiIiIiIionpUD7NApAmyvL0G\n",
              "A5zRV1PpLbCa53m47rrr8KlPfQp/8id/UnPsjjvuCCa+uOiii9Dd3Y377rsPV1111XGPHcvS0hIW\n",
              "FhaCc4aHh9HU1IT/83/+D1772tfiF7/4Ba655hoAQFtbG84//3x89atfxXve8x784he/wB/90R8B\n",
              "AGKxGC6//HJ88YtfxEUXXYRf/OIXeOMb31j+AdFw9dVX44tf/CKuvfbamq//05/+FPPz83jVq151\n",
              "Ct/BzW9qagqlUgmJhk7E423lAECFLPtFUTS/LreD7XJYICvaSpuf+BMREREREW16GzKl+8c//nFc\n",
              "eumluPDCC2v2Ly0toVQqobOzM9g3ODiI8fHx4x6ruPnmm3Hw4EG84Q1vwHPPPQcAaG1tRVdXF+64\n",
              "4w4A/jCHJ598MliH9MILL8SXvvQlAMBzzz2HH//4xzXH/uVf/gWe52FhYQHf+c53ao597Wtfg23b\n",
              "yOfz+Na3vrXu2qaf+9zn8OY3vznoNXEstm3XLPGXzWZh2/aJv5mbRHfXAezf8zLsGb4SQ7tegl07\n",
              "LsWOgV9Df+8F6O0+D12d+9DeNoRkyyCam3qRaOhALJZEJJyArkU4fwAREREREdEWcdaDhMceewx3\n",
              "3nkn3ve+953W+37xi1/EE088gUceeQQvfvGL8cpXvjI49u1vfxuf//zncejQIXzyk5/EZZddFqwJ\n",
              "+oUvfAE//elPMTo6ine/+9248sorg2N/+7d/i3w+j0OHDuGNb3wjrrjiiuDYzTffjP7+fvzar/0a\n",
              "XvGKV+Diiy9es85ooVDAV77yFfz+7//+CZ//1ltvRWNjY0259dZbT9e3h4iIiIiIiOi0OOsDNX74\n",
              "wx9ibGwMQ0NDAIDZ2Vm8853vxMzMDG644QaoqorZ2dmg58HY2Bj6+/uRTCaPeQwA+vr6APhjUW68\n",
              "8Ub86Z/+KZaWlpBMJnH++efj7rvvDp5h79692L9/PwC/V8Odd94ZHHv5y1+O3/iN3wDg92b453/+\n",
              "5+DYH/zBHwTXRSKRmgkVP/rRjwbHKr72ta9h//792Ldv3wm/L7fccgve85731OwLhUInvG6zKBjL\n",
              "SKUng2ENwbAFuTLMgfMUEBERERERbQdnPUi44YYbcMMNNwTbV1xxBW666aZgksRrr70Wn/nMZ/DB\n",
              "D34QDz74IKampvCSl7zkuMccx8HS0hI6OjoAAHfeeSc6OjqQTPprh87MzKCrqwsAcNtttyEWiwWr\n",
              "NszNzaGtrQ2yLOM73/kOHn/8cbzxjW8E4A+1SCQS0DQNhw8fxre+9S0cPnwYAJDNZqGqKqLRKI4c\n",
              "OYJ/+qd/wre//e2a1/q5z32urt4IgB8abKXgoKLyzBOTP8fE5M+PeZ4kybXzIlTPn1A1T0Iw2WJl\n",
              "ckVldalMrrjS5twKREREREREZ88ZDRKuv/56/Md//AdmZ2fxspe9DA0NDcFkicfysY99DG9+85sx\n",
              "NDQEXdfxpS99KZhf4FjHCoUCXvGKV8C2bciyjNbWVtx1113BPT/72c/iy1/+MoQQ2Lt3L775zW8G\n",
              "bzz/7d/+DR/96EehKAq6u7vxn//5n4hE/GU9HnjgAbzrXe+CqqpoaGjAHXfcEQQSzz33HP7bf/tv\n",
              "UFUVqqriE5/4RM3ylk8++SQefvhh/Od//ufp/JZuOhdffDH+/M//HKlU6rjLP1Zqf4lHG5Zlwrbz\n",
              "p2kJFAmqqqN6ZQe1ejWH6iUeK9uqHizrGCwFWV76UZI2ZOoQIiIiIiKiLUESQoiNfgg6dwkhqgIG\n",
              "C5ZlwTTNmrLePsMw1rQNwwiKaZo41R9tRdGgBsFCaCVwUEPlUCIETQv7x9QQtHLtlzBURWcPCaJT\n",
              "8F8/uQ2XvfD/t9GPQUS0xvfu/VtcdcWfnPhEIjpneJ6HkmOiVDJRLBoolUyUHAulkuW3S1Z5228b\n",
              "5jK6u7trhtVvZdtrMUvaciRJQjgcRjgcPq33FULAsiwYhoFCoRAEDJV2oVAISvV2Pp+HYRjI5/Pl\n",
              "soRisXjSX19Tw1BUHZrqBw6V4CHYVsNQtTA0NVzV9oMIWWaPCCIiIiKis8nzXD8UKBkoFsulVF2b\n",
              "5VDARKlkoOTUt8KeoihIJBJoax/Ay1/+8jP8Ks4eBgm0LUmShEgkgkgkEsyVcapKpVIQMuTz+aCd\n",
              "y+VQKBSQy+WCY7lcLtjO5XLIZnNIpedP6uut9HSIQNPCflHD0LRIufaDB12N+LUWhqpGGEAQERER\n",
              "EVURQqBUMmAXDRSLBdjFAop2uS6u1MWSgVLpxEOuNU1DU1MTmpsH0NjYiKamJjQ2NqK5uTlYeS+R\n",
              "SNTU0Wh0W/ZWZpBAdAKVXxhNTU2ndL3rukHgUF2y2eyaurrkcjksp+bq/jqVng6aVgkgItC0CPRV\n",
              "9cr+MGSZvwKIiIiIaGsRQqDkWLDtPGw7B9suwC7m/e1iAbadD4ICIbxj3keSJDQ1NaGzqwctLS1o\n",
              "bm4O6vVKJBLZlqHAqeC7CKIzrNKdKZFInPS1juPUhAyZTKamXV1W9qWRzdU3iaWi6NC0cFXYEF0J\n",
              "HfTqACJarsOcjJKIiIiIzhghBIpFA5adhWXngrDAqqnz8DznmPcIhUJobW1FW9suJJNJtLa2IplM\n",
              "oqWlpaZuamqCqvIt8angd41oE1NVNUhAT4Zt2zVhQzqdrqkr7er92Vw9vR8k6EFvhyh0fSVk0PVo\n",
              "EEZU75dl5dRePBERERFtO45ThGVnYVpZWFbWDwesnB8cWDnYxTw8z133WlmWkUwmsXPnCNra2tDe\n",
              "3o62trZyaNCGZDKJtrY2xGIx9hw4wxgkEG1DoVAIbW1taGtrq/sa27aDkCGVStWEDZWSSqWqtqfh\n",
              "ecfuKlbhTzZZCRiqQ4eVtq5Foen+OQweiIiIiLauUsmCaWVgWdmq2g8NLDt7zLkIZFlGa2srdnf0\n",
              "o729HZ2dnWhvbw9KW1sbWlpa2INgk+D/C0QEwA8fKr+o6+F5HnK53JqAodKu3re8vIx0eh6Z7LG7\n",
              "oFWoamhliEU5ZNDLIYO2eps9HoiIiIjOKtctwbQyMM2MX1sZWGYlNMgcczWDSCSCvr5udHV1obOz\n",
              "MygdHR3o6OhAMplkSLCF8P8pIjolsiwHs9MODAyc8HwhBAqFQk3QcLx2KlVf8KCpofIwi9qeDauH\n",
              "WjB4ICIiIjoxIQSKJQOmmYZpZmCYaZhWOggObDu/7nXRaBQDg33o7vbDgu7u7prAIJFIcLjBNsIg\n",
              "gYjOCkmSEI/HEY/H0dfXd8LzK8GD35vhWGFD9fYsXHf98XTVqoOHNXM66NGaiSd1PcKVLYiIiGjb\n",
              "EULAsnMwzbQfFJgpGEE7DdctrblGURR0dXWhp2c/enp60N3dHZSuri4GBecY/oVMRJtSdfDQ399/\n",
              "wvOFEMjn8yfs6bAy7GIOjlPPUAsdmlo9mWTVKhb6qpUutAhUNcT/iBIREdGGE0LAtnN+QGCkYJjl\n",
              "YqRgWpl1JzSMxWLYvXsnent70dPTE5Tu7m60t7dz6AEF+JNARNuCJEloaGhAQ0PDSQcP1XM5VCab\n",
              "XDvnwxIy2WIdzyEHoYJWvcJF1fbK8XL4oOgMH4iIiOikCSFQKpkwjBQK5rIfGJRDA9NMw11nicTG\n",
              "xkbs3bEHfX196OnpQW9vL/r6+tDb24vGxkb+TUJ1YZBAROekkw0eAMA0zWBFi2OtbFG9rGYmW9/K\n",
              "FpIk+yGDGq4JGPzt8EoooVaHEWEOuyAiIjpHuG6p3LNgGQVjeaWHgbG87uSG8XgcI3uGg5CguiQS\n",
              "iQ14BbTd8K9QIqI6RSIRRCIRdHd313V+ZWWLSuBQWV6z0k6n08hms6uOz9QVPgCAomjQ1HB5iU0/\n",
              "aFCDQMKvVS1UPqeyL1QefiE/n28FERERnWaVoQiFqrCgYCzDMFOwrOya8zVNQ19/H/r7+zEwMIC+\n",
              "Pr/d19eHpqYm9iygM4pBAhHRGVK9skW9vR4qQy4qAcOx6kwmg1wuh2w26+/LLtcdQAD+MpuqGqoJ\n",
              "ItbsU1f2rRwLQeFQDCIiolPm9y7wQ4JCYXmll4GZWneSw/b2Dhw8OIKBgYEgNOjv70dHRwdkmR8M\n",
              "0MZgkEBEtIlUD7no6emp+zrP82AYxkqwUA4dcrlcEDhU2qu305kFCCFO6jk1NQxF1f2AQakEDdXb\n",
              "em0Ioeg1taLo/OOHiIi2rcoSitVBQcFYCiY6XC0cjmD37p0YGBioCQz6+voQiUQ24BUQHR+DBCKi\n",
              "bUCW5WCVi3qHXlR4nodCoYBcLod8Ph8EDJWeEYVCIdifz+drSi6XQza3dFK9ISoURYOq6FAUHaqq\n",
              "wy7m8fCj3/L3qbofOlS1K+fV1OX9DCWIiGgjeJ4H08r4IUFhuWpYwjJKjrXm/La2Nhw4eFEQGAwM\n",
              "DGBwcBBtbW3s7UdbCoMEIqJznCzLQS+IUyGEgGmayOfzKBQKQfBQKYVCAYZh1ByrtCvbhpGD57lY\n",
              "WHzmFF+DWg4VtKrgQVsJG1Qdanm7OsAI2mqlrZWDCZV/0BERUcBxikFAUOldUCj4wxGEqA3TK3MX\n",
              "VEKCSt3X14dYLLZBr4Do9GKQQEREz4skSYhGo4hGo8/rPp7nwTTNmtCh0jYMIyirt9c7VjDSKJXW\n",
              "jjM9iVdV7vVQHT5U2uuEEmpVaBEEGOVzyiEGV9kgItrchBCwiwUUCktVgYEfHlh2bs35DQ0NOHBg\n",
              "fxAWVAKDrq4uqCp/59P2xp9wIiLaFGRZRiwWQywWQ1tb2/O+X6lUCsKFSkBRKZXt6rpy3upjfjuP\n",
              "dN446bkkqkmS7IcTslY1PKM2gKgM2agcD4Z0VA/xKNeyrDzv7xER0bnI8xwYZhqFwnJNLwPDWIbj\n",
              "FmvOlSQJnZ2dGBjwA4Pq0KC5uZm91+icxSCBiIi2JU3TglUzTgchBCzLWjeEWB1QVG9XhxS1x1Kw\n",
              "rLXjZ+slywpUJVQOIEK14UMwseXaSS5XT4rJYRxEtB1VJjv0Q4JUTQ8Dy8xAoDYY1nUdO3YOrDsc\n",
              "IRwOb9CrINq8GCQQERHVQZIkRCIRRCIRtLS0nJZ7uq67bvhQz7COStufY8JANrd4SpNeSpLsL+u5\n",
              "zoobWrDyRriqXX0sDFXVIUmc7JKINoa/lGJ6TWBgmCk4jr3m/JaWJPbuPRQEBZXVETo7OzlxL9FJ\n",
              "YJBARES0QRRFCVbbeL6EELBte838EqsnuFxvUszqdipdOOmvvRIuhFdqrWpbC0NTI1XtMDTNP8YQ\n",
              "gohOxPM8WHYWhrEMw0ihYKZgGCkYZgqWlV1zvqZp6C9PdlgJCirldPy+JSIGCURERNuCJEkIh8MI\n",
              "h8NIJpOnfB/XdYOeDpWQoXpp0PXqbDYb1OnMwknNJVHp2aBpYWhaJAgZVtoRqFoYuhoJ9vsBBIdj\n",
              "EG0nQniwrKzfu8BMwTDKtZmGaabXrIwAAB0dHTh4cAT9/f1BYNDf34+Ojg4oCueRITqTGCQQERFR\n",
              "QFGU57UcqOu6QQ+HbDaLXC6HXC6HbDYblMp2pc5kMv6x3FydX0Wq6tngBwy6Fim3/aKvqjUtzN4P\n",
              "RBvMdR1YVsYPByq1mYZhpGBamXXDgqamJuzefSAIC3p7e4OacxcQbRwGCURERHTaKIqCRCKBRCKB\n",
              "7u7uk7q2VCoFYUMQLpTbq0s2m0UqlUY2Ow/Hceq6v9+jIVoTOqwOHHQtCk33txVFZ88HopMghECx\n",
              "aMC0MjCtDCwzA8PywwLTzKy7hCIANDc3Y/fQAfT29qKvr6+m5lAEos2JQQIRERFtCpqmIZlMntTQ\n",
              "DCEEDMMIwoV0Oo10Oh0EDpV2pU6lUshk5uoKHyRJLgcM5fBBj6yzHV0JILQwl+Wkba0SFFh2FpaV\n",
              "LQcGWT8kKLc9b+2/LVmW0dnZiZ6ePejp6QlKb28venp6EIvFNuDVENHzwSCBiIiItixJkhCLxRCL\n",
              "xeruAVEJH6pDh3Q6XQ4ZMsH+6rKcXqjr3poagqpVBQyrw4eqXg+aFoHKXg+0iTiODcvOwbbzsOwc\n",
              "LCsLy/Jr087CtnPwPHfda5uamjAwOIzu7m50dXWhu7s7KF1dXVBVvu0g2k74L5qIiIjOKdXhQ09P\n",
              "T13XOI4TDLNIpVI1IUMlgKjdv4BStlTHs8jHnN+hMrdDzT41zMkm6aR5notisQC7WIBtF2AX87Dt\n",
              "fBAY2HYOdjEPxymue70kSUgmk9i9ex86OjrQ0dGBrq4udHZ2oru7G52dnYhGo2f5VRHRRmKQQERE\n",
              "RHQCqqqipaUFLS0t2LFjxwnPrx5ysTpoWD3kwi8ZpDOTda14IUly1RKa4arAwV9mc6UdXlkRgwHE\n",
              "tuN5LkolE8WSgWKxqpSMmtCgWCygWDKOe6/m5mb09A6ivb09KG1tbejs7ERnZyfa29uhadpZemVE\n",
              "tBUwSCAiIiI6zU5lyIXrusjn80HwUD3vQyV0qGz7vSOyJzXZJIAgUPADhlC5XS5KqBxOrGyrql5u\n",
              "a1CUEGRZYRhxmgkh4Di2X1wbpZLlF8cst81yYFBuOxZKJQOlknXCezc0NKCntwPJZBKtra1BXSkd\n",
              "HR1obW2Frutn4ZUS0XbCIIGIiIhoE1AUBY2NjWhsbKz7GiEETNNcs8pF9fKa1ctw5nI5ZDJZ5HJZ\n",
              "5FL1Lre5QpJkqKoORdGhKiEoigZV0aGoGhRFgyJrUBR9Zb+iQVZUKLIKWVb9bVmFopS3y/v9gELZ\n",
              "1EGFEAJCeHA9B57rwPNKfttz4LortesW4bhFuG5ppe2stB2nWA4OrPK2XfczaJpWXhGlF83NzWhu\n",
              "bkZLS0vQrt7X0tLC5RGJ6IyRRD196IiIiIhoW3FdF4VCAfl8Hvl8HrlcDoVCAblcLthXKBRgGAYK\n",
              "hUJNMQwD+XwepmmiVDrxXBAnQ5JkyLIfKsiSAklWIElyuUh+jap2eT8ASJCAIIdYCSQkSBAQgBAQ\n",
              "8CAEIIQHQPgBAfyQQHgePOFCeC6E8OAJD0K4x5w74FTIsox4vAHxeBwNDXE0NPjtSmloaAgCpUQi\n",
              "EbQbGxsRiUQ2bdBCROcWBglEREREdMocx4FpmjBNE4ZhwLIsGIYRbNu2XVMsy6rZLhaLKJVKQV1d\n",
              "Kvtc1yt/2u+W226w7XkePM+ra34JwH8jL8t++KAofg8IWVagKDJUVYOmqdA0DYqiQNM0aJoGVVWh\n",
              "qipCodC6JRwOB+1oNIpoNIpIJLJuOxwOMwwgoi2PQQIRERERbSv+MARR064ECERE9PwxSCAiIiIi\n",
              "IiKiujGWJSIiIiIiIqK6MUggIiIiIiIioroxSCAiIiIiIiKiujFIICIiIiIiIqK6MUggIiIiIiIi\n",
              "oroxSCAiIiIiIiKiujFIIKpi2zY++MEPwrbtjX4U2ib4M0WnE3+e6HTizxOdTvx5otOJP0+bnySE\n",
              "EBv9EESbRTabRWNjIzKZDBKJxEY/Dm0D/Jmi04k/T3Q68eeJTif+PNHpxJ+nzY89EoiIiIiIiIio\n",
              "bgwSiIiIiIiIiKhuDBKIiIiIiIiIqG4MEoiqhEIhfOADH0AoFNroR6Ftgj9TdDrx54lOJ/480enE\n",
              "nyc6nfjztPlxskUiIiIiIiIiqht7JBARERERERFR3RgkEBEREREREVHdGCQQERERERERUd0YJBCt\n",
              "4+///u9x4MABHDx4EOeddx6+9KUvbfQj0Rb09NNP40UvehGGh4dx0UUX4Ze//OVGPxJtUZZl4dWv\n",
              "fjWGh4dx/vnn4+qrr8Yzzzyz0Y9F28Dtt98OSZLwrW99a6MfhbYw27Zx4403YmhoCAcPHsTv/d7v\n",
              "bfQj0Rb2n//5n7jgggswOjqKAwcO4Atf+MJGPxKtQ93oByDajPbv348f/ehHaGxsxMTEBA4dOoQX\n",
              "vvCF2LVr10Y/Gm0h119/Pd75znfibW97G77+9a/jbW97Gx588MGNfizaot75znfiN3/zNyFJEv7h\n",
              "H/4B1113He69996NfizawsbGxnDbbbfhkksu2ehHoS3u5ptvhiRJeOqppyBJEmZnZzf6kWiLEkLg\n",
              "937v93DvvffivPPOw9jYGPbs2YPXvva1aGho2OjHoyrskUC0jiuvvBKNjY0AgL6+PnR2dmJiYmKD\n",
              "n4q2kvn5eTz00EPBpzKve93rMDExwU+R6ZSEw2Fcc801kCQJAHDJJZdgbGxsYx+KtjTP83Ddddfh\n",
              "U5/6FJdXo+elUCjgc5/7HD784Q8Hv6M6Ozs3+KloK5MkCel0GgCQzWaRTCb5e2oTYpBAdALf+973\n",
              "kEqlcNFFF230o9AWMjExga6uLqiq3/FLkiT09/djfHx8g5+MtoNPfvKT+O3f/u2Nfgzawj7+8Y/j\n",
              "0ksvxYUXXrjRj0Jb3LPPPouWlhZ85CMfwQte8AK8+MUvxj333LPRj0VblCRJ+OpXv4rXvva1GBgY\n",
              "wGWXXYYvfOEL0HV9ox+NVuHQBjonvfCFL8TTTz+97rHDhw+jr68PAPDoo4/i7W9/O7761a8iFoud\n",
              "zUckIlrXRz7yETzzzDP8Q51O2WOPPYY777wTP/jBDzb6UWgbcBwHR48exb59+/DRj34Uhw8fxtVX\n",
              "X41f/vKX6Ojo2OjHoy3GcRx86EMfwje+8Q1cfvnlePDBB/GqV70Kjz76KFpbWzf68agKgwQ6J/3k\n",
              "Jz854TmPP/44XvnKV+Lzn/88LrvssrPwVLSd9PX1YWZmBo7jQFVVCCEwPj6O/v7+jX402sL+5m/+\n",
              "Bt/4xjfwve99D9FodKMfh7aoH/7whxgbG8PQ0BAAYHZ2Fu985zsxMzODG264YYOfjraa/v5+yLKM\n",
              "N73pTQCAQ4cOYceOHXj00UcZJNBJe/jhhzE9PY3LL78cAHDRRReht7c3CKho8+DQBqJ1/OpXv8I1\n",
              "11yDz372s/ylRaekvb0dF1xwQbDix5133one3l7s3r17g5+MtqqPf/zj+Nd//Vd897vfRVNT00Y/\n",
              "Dm1hN9xwA2ZmZjA2NoaxsTFccskl+OxnP8sQgU5Ja2srrrzySnznO98BABw5cgRHjhzB3r17N/jJ\n",
              "aCuqfBDzq1/9CgDwzDPP4Nlnn8XIyMgGPxmtJgkhxEY/BNFmc/XVV+Ohhx7CwMBAsO9jH/sYXvay\n",
              "l23gU9FW8+STT+Jtb3sblpaWkEgkcPvtt+PgwYMb/Vi0BU1OTqKvrw87d+4MZq0OhUL46U9/usFP\n",
              "RtvBFVdcgZtuugmvfvWrN/pRaIt67rnn8Pu///tYXFyELMt4//vfj9e97nUb/Vi0Rf3rv/4rPvKR\n",
              "j0CWZXieh1tuuQVvfOMbN/qxaBUGCURERERERERUNw5tICIiIiIiIqK6MUggIiIiIiIioroxSCAi\n",
              "IqIt7d5778Xdd98dbE9PT+PFL37xBj4RERHR9sYggYiIiDY1x3GOe3x1kNDd3Y0f/vCHZ/qxiIiI\n",
              "zlkMEoiIiGjTkSQJH/jAB3DRRRfhlltuwaOPPorLLrsMF1xwAfbt24cPfehDAPw1xz/zmc/gy1/+\n",
              "MkZHR/FXf/VXGBsbq1kiU5IkfOQjH8HFF1+MHTt24Pbbbw+O/fjHP8bo6CgOHjyId7zjHTj//PNx\n",
              "7733nuVXS0REtLWoG/0AREREROtRFAUPPvggACCXy+Gee+5BKBSCaZp40YtehKuuugqXXHIJ/uAP\n",
              "/gDpdBp/93d/BwAYGxtbc69QKIQHHngATzzxBC666CK8+c1vhud5eMMb3oD//b//N1760pfi+9//\n",
              "fk3IQEREROtjkEBERESb0jve8Y6gbZom/vAP/xAPP/wwZFnGxMQEHn74YVxyySV13etNb3oTAGDP\n",
              "nj1QVRWzs7NYXl6Gqqp46UtfCgB46Utfil27dp3+F0JERLTNMEggIiKiTSkejwftP/uzP0NraysO\n",
              "Hz4MVVXx2te+FpZl1X2vcDgctBVFOea8C5IknfoDExERnSM4RwIRERFteqlUCr29vVBVFU8++SS+\n",
              "+93vBscSiQQymcxJ33NkZASlUgn33XcfAOC+++7DM888c9qemYiIaLtijwQiIiLa9N73vvfhzW9+\n",
              "M77whS9g165d+PVf//Xg2Gte8xp88YtfxOjoKF772tfiLW95S133DIVC+MpXvoI/+qM/gud5uPDC\n",
              "CzEyMlIzUSMRERGtJQkhxEY/BBEREdFGyOVyaGhoAAA8+OCDeNWrXoVnn30W0Wh0g5+MiIho82KP\n",
              "BCIiIjpn3XnnnfjEJz4BIf7/7dxBEQAwDMOwPcqfRIFuEGYAEgxfLvfMzNldEQEAPiwSAAAAgMzZ\n",
              "IgAAAJAJCQAAAEAmJAAAAACZkAAAAABkQgIAAACQCQkAAABAJiQAAAAAmZAAAAAAZEICAAAAkD21\n",
              "PUmBL2BtyAAAAABJRU5ErkJggg==\n",
              "\">\n",
              "      </div>\n",
              "      <script type=\"text/javascript\">\n",
              "        (() => {\n",
              "          const chartElement = document.getElementById(\"chart-23102fa9-a252-4331-8626-a6e329e0cd23\");\n",
              "          async function getCodeForChartHandler(event) {\n",
              "            const chartCodeResponse =  await google.colab.kernel.invokeFunction(\n",
              "                'getCodeForChart', [\"chart-23102fa9-a252-4331-8626-a6e329e0cd23\"], {});\n",
              "            const responseJson = chartCodeResponse.data['application/json'];\n",
              "            await google.colab.notebook.addCell(responseJson.code, 'code');\n",
              "          }\n",
              "          chartElement.onclick = getCodeForChartHandler;\n",
              "        })();\n",
              "      </script>\n",
              "      <style>\n",
              "        .colab-quickchart-chart-with-code  {\n",
              "            display: block;\n",
              "            float: left;\n",
              "            border: 1px solid transparent;\n",
              "        }\n",
              "\n",
              "        .colab-quickchart-chart-with-code:hover {\n",
              "            cursor: pointer;\n",
              "            border: 1px solid #aaa;\n",
              "        }\n",
              "      </style>"
            ]
          },
          "metadata": {}
        }
      ],
      "source": [
        "# Print a few rows of the imported dataset\n",
        "df_final.head(15)"
      ]
    },
    {
      "cell_type": "markdown",
      "metadata": {
        "id": "GuPoy_XfxhXZ"
      },
      "source": [
        "## **Exploratory Data Analysis**"
      ]
    },
    {
      "cell_type": "markdown",
      "metadata": {
        "id": "s0d0bWeG-sVB"
      },
      "source": [
        "### **Shape of the data**"
      ]
    },
    {
      "cell_type": "markdown",
      "metadata": {
        "id": "qyBVTRDTyek0"
      },
      "source": [
        "### **Check the number of rows and columns and provide observations.**"
      ]
    },
    {
      "cell_type": "code",
      "execution_count": 10,
      "metadata": {
        "id": "fJ4eQKaY5JtQ",
        "colab": {
          "base_uri": "https://localhost:8080/"
        },
        "outputId": "f4ae6984-0bbf-4bb2-b345-38dc388ed421"
      },
      "outputs": [
        {
          "output_type": "execute_result",
          "data": {
            "text/plain": [
              "(65290, 3)"
            ]
          },
          "metadata": {},
          "execution_count": 10
        }
      ],
      "source": [
        "# Check the number of rows and columns and provide observations\n",
        "df_final.shape\n"
      ]
    },
    {
      "cell_type": "markdown",
      "metadata": {
        "id": "Slp-fgWQ-sVD"
      },
      "source": [
        "**Write your observations here:**\n",
        "\n",
        "The data consists of  65290 raws and 3 columns."
      ]
    },
    {
      "cell_type": "markdown",
      "metadata": {
        "id": "lAMWm0nC-sVF"
      },
      "source": [
        "### **Data types**"
      ]
    },
    {
      "cell_type": "code",
      "execution_count": 11,
      "metadata": {
        "id": "SVrgMkye5JtQ",
        "colab": {
          "base_uri": "https://localhost:8080/"
        },
        "outputId": "0927a7b3-e27d-4a82-b8f0-08b659a25a23"
      },
      "outputs": [
        {
          "output_type": "stream",
          "name": "stdout",
          "text": [
            "<class 'pandas.core.frame.DataFrame'>\n",
            "Index: 65290 entries, 1310 to 7824427\n",
            "Data columns (total 3 columns):\n",
            " #   Column   Non-Null Count  Dtype  \n",
            "---  ------   --------------  -----  \n",
            " 0   user_id  65290 non-null  object \n",
            " 1   prod_id  65290 non-null  object \n",
            " 2   rating   65290 non-null  float64\n",
            "dtypes: float64(1), object(2)\n",
            "memory usage: 2.0+ MB\n"
          ]
        }
      ],
      "source": [
        "# Check Data types and provide observations\n",
        "df_final.info()"
      ]
    },
    {
      "cell_type": "markdown",
      "source": [
        "**There are 2 columns with the data type 'Object' and 1 column with the data type 'float'.**."
      ],
      "metadata": {
        "id": "GAOs40exW1R8"
      }
    },
    {
      "cell_type": "markdown",
      "metadata": {
        "id": "lTMpOROT-sVG"
      },
      "source": [
        "### **Checking for missing values**"
      ]
    },
    {
      "cell_type": "code",
      "execution_count": 12,
      "metadata": {
        "id": "vt-VEjMA5JtQ",
        "colab": {
          "base_uri": "https://localhost:8080/",
          "height": 178
        },
        "outputId": "613f5491-fe55-420c-8403-f83b088a7101"
      },
      "outputs": [
        {
          "output_type": "execute_result",
          "data": {
            "text/plain": [
              "user_id    0\n",
              "prod_id    0\n",
              "rating     0\n",
              "dtype: int64"
            ],
            "text/html": [
              "<table border=\"1\" class=\"dataframe\">\n",
              "  <thead>\n",
              "    <tr style=\"text-align: right;\">\n",
              "      <th></th>\n",
              "      <th>0</th>\n",
              "    </tr>\n",
              "  </thead>\n",
              "  <tbody>\n",
              "    <tr>\n",
              "      <th>user_id</th>\n",
              "      <td>0</td>\n",
              "    </tr>\n",
              "    <tr>\n",
              "      <th>prod_id</th>\n",
              "      <td>0</td>\n",
              "    </tr>\n",
              "    <tr>\n",
              "      <th>rating</th>\n",
              "      <td>0</td>\n",
              "    </tr>\n",
              "  </tbody>\n",
              "</table><br><label><b>dtype:</b> int64</label>"
            ]
          },
          "metadata": {},
          "execution_count": 12
        }
      ],
      "source": [
        "# Check for missing values present and provide observations\n",
        "df_final.isnull().sum()"
      ]
    },
    {
      "cell_type": "markdown",
      "source": [
        "***There is no missing data.***"
      ],
      "metadata": {
        "id": "VOLyQcaYXQhj"
      }
    },
    {
      "cell_type": "markdown",
      "metadata": {
        "id": "wETrCg48-sVG"
      },
      "source": [
        "### **Summary Statistics**"
      ]
    },
    {
      "cell_type": "code",
      "execution_count": 13,
      "metadata": {
        "id": "tYm30MXR5JtR",
        "colab": {
          "base_uri": "https://localhost:8080/",
          "height": 300
        },
        "outputId": "efc86579-98c0-452d-a415-2737d8c873bb"
      },
      "outputs": [
        {
          "output_type": "execute_result",
          "data": {
            "text/plain": [
              "             rating\n",
              "count  65290.000000\n",
              "mean       4.294808\n",
              "std        0.988915\n",
              "min        1.000000\n",
              "25%        4.000000\n",
              "50%        5.000000\n",
              "75%        5.000000\n",
              "max        5.000000"
            ],
            "text/html": [
              "\n",
              "  <div id=\"df-27422a58-0af5-424d-9fc3-bf2c6378eb6c\" class=\"colab-df-container\">\n",
              "    <div>\n",
              "<style scoped>\n",
              "    .dataframe tbody tr th:only-of-type {\n",
              "        vertical-align: middle;\n",
              "    }\n",
              "\n",
              "    .dataframe tbody tr th {\n",
              "        vertical-align: top;\n",
              "    }\n",
              "\n",
              "    .dataframe thead th {\n",
              "        text-align: right;\n",
              "    }\n",
              "</style>\n",
              "<table border=\"1\" class=\"dataframe\">\n",
              "  <thead>\n",
              "    <tr style=\"text-align: right;\">\n",
              "      <th></th>\n",
              "      <th>rating</th>\n",
              "    </tr>\n",
              "  </thead>\n",
              "  <tbody>\n",
              "    <tr>\n",
              "      <th>count</th>\n",
              "      <td>65290.000000</td>\n",
              "    </tr>\n",
              "    <tr>\n",
              "      <th>mean</th>\n",
              "      <td>4.294808</td>\n",
              "    </tr>\n",
              "    <tr>\n",
              "      <th>std</th>\n",
              "      <td>0.988915</td>\n",
              "    </tr>\n",
              "    <tr>\n",
              "      <th>min</th>\n",
              "      <td>1.000000</td>\n",
              "    </tr>\n",
              "    <tr>\n",
              "      <th>25%</th>\n",
              "      <td>4.000000</td>\n",
              "    </tr>\n",
              "    <tr>\n",
              "      <th>50%</th>\n",
              "      <td>5.000000</td>\n",
              "    </tr>\n",
              "    <tr>\n",
              "      <th>75%</th>\n",
              "      <td>5.000000</td>\n",
              "    </tr>\n",
              "    <tr>\n",
              "      <th>max</th>\n",
              "      <td>5.000000</td>\n",
              "    </tr>\n",
              "  </tbody>\n",
              "</table>\n",
              "</div>\n",
              "    <div class=\"colab-df-buttons\">\n",
              "\n",
              "  <div class=\"colab-df-container\">\n",
              "    <button class=\"colab-df-convert\" onclick=\"convertToInteractive('df-27422a58-0af5-424d-9fc3-bf2c6378eb6c')\"\n",
              "            title=\"Convert this dataframe to an interactive table.\"\n",
              "            style=\"display:none;\">\n",
              "\n",
              "  <svg xmlns=\"http://www.w3.org/2000/svg\" height=\"24px\" viewBox=\"0 -960 960 960\">\n",
              "    <path d=\"M120-120v-720h720v720H120Zm60-500h600v-160H180v160Zm220 220h160v-160H400v160Zm0 220h160v-160H400v160ZM180-400h160v-160H180v160Zm440 0h160v-160H620v160ZM180-180h160v-160H180v160Zm440 0h160v-160H620v160Z\"/>\n",
              "  </svg>\n",
              "    </button>\n",
              "\n",
              "  <style>\n",
              "    .colab-df-container {\n",
              "      display:flex;\n",
              "      gap: 12px;\n",
              "    }\n",
              "\n",
              "    .colab-df-convert {\n",
              "      background-color: #E8F0FE;\n",
              "      border: none;\n",
              "      border-radius: 50%;\n",
              "      cursor: pointer;\n",
              "      display: none;\n",
              "      fill: #1967D2;\n",
              "      height: 32px;\n",
              "      padding: 0 0 0 0;\n",
              "      width: 32px;\n",
              "    }\n",
              "\n",
              "    .colab-df-convert:hover {\n",
              "      background-color: #E2EBFA;\n",
              "      box-shadow: 0px 1px 2px rgba(60, 64, 67, 0.3), 0px 1px 3px 1px rgba(60, 64, 67, 0.15);\n",
              "      fill: #174EA6;\n",
              "    }\n",
              "\n",
              "    .colab-df-buttons div {\n",
              "      margin-bottom: 4px;\n",
              "    }\n",
              "\n",
              "    [theme=dark] .colab-df-convert {\n",
              "      background-color: #3B4455;\n",
              "      fill: #D2E3FC;\n",
              "    }\n",
              "\n",
              "    [theme=dark] .colab-df-convert:hover {\n",
              "      background-color: #434B5C;\n",
              "      box-shadow: 0px 1px 3px 1px rgba(0, 0, 0, 0.15);\n",
              "      filter: drop-shadow(0px 1px 2px rgba(0, 0, 0, 0.3));\n",
              "      fill: #FFFFFF;\n",
              "    }\n",
              "  </style>\n",
              "\n",
              "    <script>\n",
              "      const buttonEl =\n",
              "        document.querySelector('#df-27422a58-0af5-424d-9fc3-bf2c6378eb6c button.colab-df-convert');\n",
              "      buttonEl.style.display =\n",
              "        google.colab.kernel.accessAllowed ? 'block' : 'none';\n",
              "\n",
              "      async function convertToInteractive(key) {\n",
              "        const element = document.querySelector('#df-27422a58-0af5-424d-9fc3-bf2c6378eb6c');\n",
              "        const dataTable =\n",
              "          await google.colab.kernel.invokeFunction('convertToInteractive',\n",
              "                                                    [key], {});\n",
              "        if (!dataTable) return;\n",
              "\n",
              "        const docLinkHtml = 'Like what you see? Visit the ' +\n",
              "          '<a target=\"_blank\" href=https://colab.research.google.com/notebooks/data_table.ipynb>data table notebook</a>'\n",
              "          + ' to learn more about interactive tables.';\n",
              "        element.innerHTML = '';\n",
              "        dataTable['output_type'] = 'display_data';\n",
              "        await google.colab.output.renderOutput(dataTable, element);\n",
              "        const docLink = document.createElement('div');\n",
              "        docLink.innerHTML = docLinkHtml;\n",
              "        element.appendChild(docLink);\n",
              "      }\n",
              "    </script>\n",
              "  </div>\n",
              "\n",
              "\n",
              "<div id=\"df-b36a5ef6-1144-4bee-8c70-5a6dee574ce8\">\n",
              "  <button class=\"colab-df-quickchart\" onclick=\"quickchart('df-b36a5ef6-1144-4bee-8c70-5a6dee574ce8')\"\n",
              "            title=\"Suggest charts\"\n",
              "            style=\"display:none;\">\n",
              "\n",
              "<svg xmlns=\"http://www.w3.org/2000/svg\" height=\"24px\"viewBox=\"0 0 24 24\"\n",
              "     width=\"24px\">\n",
              "    <g>\n",
              "        <path d=\"M19 3H5c-1.1 0-2 .9-2 2v14c0 1.1.9 2 2 2h14c1.1 0 2-.9 2-2V5c0-1.1-.9-2-2-2zM9 17H7v-7h2v7zm4 0h-2V7h2v10zm4 0h-2v-4h2v4z\"/>\n",
              "    </g>\n",
              "</svg>\n",
              "  </button>\n",
              "\n",
              "<style>\n",
              "  .colab-df-quickchart {\n",
              "      --bg-color: #E8F0FE;\n",
              "      --fill-color: #1967D2;\n",
              "      --hover-bg-color: #E2EBFA;\n",
              "      --hover-fill-color: #174EA6;\n",
              "      --disabled-fill-color: #AAA;\n",
              "      --disabled-bg-color: #DDD;\n",
              "  }\n",
              "\n",
              "  [theme=dark] .colab-df-quickchart {\n",
              "      --bg-color: #3B4455;\n",
              "      --fill-color: #D2E3FC;\n",
              "      --hover-bg-color: #434B5C;\n",
              "      --hover-fill-color: #FFFFFF;\n",
              "      --disabled-bg-color: #3B4455;\n",
              "      --disabled-fill-color: #666;\n",
              "  }\n",
              "\n",
              "  .colab-df-quickchart {\n",
              "    background-color: var(--bg-color);\n",
              "    border: none;\n",
              "    border-radius: 50%;\n",
              "    cursor: pointer;\n",
              "    display: none;\n",
              "    fill: var(--fill-color);\n",
              "    height: 32px;\n",
              "    padding: 0;\n",
              "    width: 32px;\n",
              "  }\n",
              "\n",
              "  .colab-df-quickchart:hover {\n",
              "    background-color: var(--hover-bg-color);\n",
              "    box-shadow: 0 1px 2px rgba(60, 64, 67, 0.3), 0 1px 3px 1px rgba(60, 64, 67, 0.15);\n",
              "    fill: var(--button-hover-fill-color);\n",
              "  }\n",
              "\n",
              "  .colab-df-quickchart-complete:disabled,\n",
              "  .colab-df-quickchart-complete:disabled:hover {\n",
              "    background-color: var(--disabled-bg-color);\n",
              "    fill: var(--disabled-fill-color);\n",
              "    box-shadow: none;\n",
              "  }\n",
              "\n",
              "  .colab-df-spinner {\n",
              "    border: 2px solid var(--fill-color);\n",
              "    border-color: transparent;\n",
              "    border-bottom-color: var(--fill-color);\n",
              "    animation:\n",
              "      spin 1s steps(1) infinite;\n",
              "  }\n",
              "\n",
              "  @keyframes spin {\n",
              "    0% {\n",
              "      border-color: transparent;\n",
              "      border-bottom-color: var(--fill-color);\n",
              "      border-left-color: var(--fill-color);\n",
              "    }\n",
              "    20% {\n",
              "      border-color: transparent;\n",
              "      border-left-color: var(--fill-color);\n",
              "      border-top-color: var(--fill-color);\n",
              "    }\n",
              "    30% {\n",
              "      border-color: transparent;\n",
              "      border-left-color: var(--fill-color);\n",
              "      border-top-color: var(--fill-color);\n",
              "      border-right-color: var(--fill-color);\n",
              "    }\n",
              "    40% {\n",
              "      border-color: transparent;\n",
              "      border-right-color: var(--fill-color);\n",
              "      border-top-color: var(--fill-color);\n",
              "    }\n",
              "    60% {\n",
              "      border-color: transparent;\n",
              "      border-right-color: var(--fill-color);\n",
              "    }\n",
              "    80% {\n",
              "      border-color: transparent;\n",
              "      border-right-color: var(--fill-color);\n",
              "      border-bottom-color: var(--fill-color);\n",
              "    }\n",
              "    90% {\n",
              "      border-color: transparent;\n",
              "      border-bottom-color: var(--fill-color);\n",
              "    }\n",
              "  }\n",
              "</style>\n",
              "\n",
              "  <script>\n",
              "    async function quickchart(key) {\n",
              "      const quickchartButtonEl =\n",
              "        document.querySelector('#' + key + ' button');\n",
              "      quickchartButtonEl.disabled = true;  // To prevent multiple clicks.\n",
              "      quickchartButtonEl.classList.add('colab-df-spinner');\n",
              "      try {\n",
              "        const charts = await google.colab.kernel.invokeFunction(\n",
              "            'suggestCharts', [key], {});\n",
              "      } catch (error) {\n",
              "        console.error('Error during call to suggestCharts:', error);\n",
              "      }\n",
              "      quickchartButtonEl.classList.remove('colab-df-spinner');\n",
              "      quickchartButtonEl.classList.add('colab-df-quickchart-complete');\n",
              "    }\n",
              "    (() => {\n",
              "      let quickchartButtonEl =\n",
              "        document.querySelector('#df-b36a5ef6-1144-4bee-8c70-5a6dee574ce8 button');\n",
              "      quickchartButtonEl.style.display =\n",
              "        google.colab.kernel.accessAllowed ? 'block' : 'none';\n",
              "    })();\n",
              "  </script>\n",
              "</div>\n",
              "\n",
              "    </div>\n",
              "  </div>\n"
            ],
            "application/vnd.google.colaboratory.intrinsic+json": {
              "type": "dataframe",
              "summary": "{\n  \"name\": \"df_final\",\n  \"rows\": 8,\n  \"fields\": [\n    {\n      \"column\": \"rating\",\n      \"properties\": {\n        \"dtype\": \"number\",\n        \"std\": 23082.22391319823,\n        \"min\": 0.9889148020336815,\n        \"max\": 65290.0,\n        \"num_unique_values\": 6,\n        \"samples\": [\n          65290.0,\n          4.294807780670853,\n          5.0\n        ],\n        \"semantic_type\": \"\",\n        \"description\": \"\"\n      }\n    }\n  ]\n}"
            }
          },
          "metadata": {},
          "execution_count": 13
        }
      ],
      "source": [
        "# Summary statistics of 'rating' variable and provide observations\n",
        "df_final.describe()\n"
      ]
    },
    {
      "cell_type": "markdown",
      "metadata": {
        "id": "VqW50EIJxhXc"
      },
      "source": [
        "**Write your observations here:**\n",
        "\n",
        "The mean rating is 4.29 with a standard deviation of 0.988915, indicating a relatively high overall rating with a small variation. Additionally, a rating of 5.0 is the most common, with over 75% of the ratings being 5.0. This suggests that users are generally very satisfied with the products, as evidenced by the prevalence of positive ratings."
      ]
    },
    {
      "cell_type": "markdown",
      "metadata": {
        "id": "ywyFrZIf5JtR"
      },
      "source": [
        "### **Checking the rating distribution**"
      ]
    },
    {
      "cell_type": "code",
      "execution_count": null,
      "metadata": {
        "id": "QbqhbEVe-sVH",
        "colab": {
          "base_uri": "https://localhost:8080/",
          "height": 449
        },
        "outputId": "50b677bc-9bb9-49be-cfb9-23a6cd2fa71a"
      },
      "outputs": [
        {
          "output_type": "display_data",
          "data": {
            "text/plain": [
              "<Figure size 640x480 with 1 Axes>"
            ],
            "image/png": "[encoded data removed]"
          },
          "metadata": {}
        }
      ],
      "source": [
        "# Create the bar plot and provide observations\n",
        "custom_palette = [\"#FF6347\", \"#FFD700\", \"#ADFF2F\", \"#40E0D0\", \"#1E90FF\"]\n",
        "\n",
        "with sns.axes_style('white'):\n",
        "    g = sns.countplot(x=\"rating\", data=df_final, palette=custom_palette)\n",
        "    plt.show()"
      ]
    },
    {
      "cell_type": "markdown",
      "metadata": {
        "id": "t0jONrQv-sVH"
      },
      "source": [
        "**5 rating is the most dominant**."
      ]
    },
    {
      "cell_type": "markdown",
      "source": [
        "**It seems 5 rating is dominant.**"
      ],
      "metadata": {
        "id": "WIsCygfMZsIM"
      }
    },
    {
      "cell_type": "markdown",
      "metadata": {
        "id": "HefpLdLJxhXd"
      },
      "source": [
        "### **Checking the number of unique users and items in the dataset**"
      ]
    },
    {
      "cell_type": "code",
      "execution_count": 15,
      "metadata": {
        "id": "NbSom7195JtR",
        "colab": {
          "base_uri": "https://localhost:8080/"
        },
        "outputId": "35b06a16-09f4-4414-c6e4-fe398b84b198"
      },
      "outputs": [
        {
          "output_type": "stream",
          "name": "stdout",
          "text": [
            "Total number of users in the data :  65290\n",
            "Total number of Products in the data :  65290\n",
            "Number of unique users in Raw data =  1540\n",
            "Number of unique product in Raw data =  5689\n"
          ]
        }
      ],
      "source": [
        "# Number of total rows in the data and number of unique user id and product id in the data\n",
        "print('Total number of users in the data : ',df_final['user_id'].value_counts().sum())\n",
        "\n",
        "#Total Products in the data\n",
        "print('Total number of Products in the data : ',df_final['prod_id'].value_counts().sum())\n",
        "\n",
        "# Number of unique user id  in the data\n",
        "print('Number of unique users in Raw data = ', df_final['user_id'].nunique())\n",
        "# Number of unique product id  in the data\n",
        "print('Number of unique product in Raw data = ', df_final['prod_id'].nunique())"
      ]
    },
    {
      "cell_type": "markdown",
      "metadata": {
        "id": "Qwgz6CUt-sVI"
      },
      "source": [
        "**Write your observations here:**\n",
        "\n",
        "The dataset comprises 65,290 user-product interactions, with 1,540 unique users and 5,689 unique products. This indicates many users have rated multiple products, and each product has received ratings from multiple users, suggesting significant user engagement and product feedback."
      ]
    },
    {
      "cell_type": "markdown",
      "metadata": {
        "id": "RfDnhSS4-sVI"
      },
      "source": [
        "### **Users with the most number of ratings**"
      ]
    },
    {
      "cell_type": "code",
      "execution_count": 16,
      "metadata": {
        "id": "n7MX452q5JtR",
        "colab": {
          "base_uri": "https://localhost:8080/",
          "height": 428
        },
        "outputId": "cf6d675f-8cc5-4331-a601-6b7bc84cc63f"
      },
      "outputs": [
        {
          "output_type": "execute_result",
          "data": {
            "text/plain": [
              "user_id\n",
              "ADLVFFE4VBT8      295\n",
              "A3OXHLG6DIBRW8    230\n",
              "A1ODOGXEYECQQ8    217\n",
              "A36K2N527TXXJN    212\n",
              "A25C2M3QF9G7OQ    203\n",
              "A680RUE1FDO8B     196\n",
              "A22CW0ZHY3NJH8    193\n",
              "A1UQBFCERIP7VJ    193\n",
              "AWPODHOB4GFWL     184\n",
              "A3LGT6UZL99IW1    179\n",
              "dtype: int64"
            ],
            "text/html": [
              "<table border=\"1\" class=\"dataframe\">\n",
              "  <thead>\n",
              "    <tr style=\"text-align: right;\">\n",
              "      <th></th>\n",
              "      <th>0</th>\n",
              "    </tr>\n",
              "    <tr>\n",
              "      <th>user_id</th>\n",
              "      <th></th>\n",
              "    </tr>\n",
              "  </thead>\n",
              "  <tbody>\n",
              "    <tr>\n",
              "      <th>ADLVFFE4VBT8</th>\n",
              "      <td>295</td>\n",
              "    </tr>\n",
              "    <tr>\n",
              "      <th>A3OXHLG6DIBRW8</th>\n",
              "      <td>230</td>\n",
              "    </tr>\n",
              "    <tr>\n",
              "      <th>A1ODOGXEYECQQ8</th>\n",
              "      <td>217</td>\n",
              "    </tr>\n",
              "    <tr>\n",
              "      <th>A36K2N527TXXJN</th>\n",
              "      <td>212</td>\n",
              "    </tr>\n",
              "    <tr>\n",
              "      <th>A25C2M3QF9G7OQ</th>\n",
              "      <td>203</td>\n",
              "    </tr>\n",
              "    <tr>\n",
              "      <th>A680RUE1FDO8B</th>\n",
              "      <td>196</td>\n",
              "    </tr>\n",
              "    <tr>\n",
              "      <th>A22CW0ZHY3NJH8</th>\n",
              "      <td>193</td>\n",
              "    </tr>\n",
              "    <tr>\n",
              "      <th>A1UQBFCERIP7VJ</th>\n",
              "      <td>193</td>\n",
              "    </tr>\n",
              "    <tr>\n",
              "      <th>AWPODHOB4GFWL</th>\n",
              "      <td>184</td>\n",
              "    </tr>\n",
              "    <tr>\n",
              "      <th>A3LGT6UZL99IW1</th>\n",
              "      <td>179</td>\n",
              "    </tr>\n",
              "  </tbody>\n",
              "</table><br><label><b>dtype:</b> int64</label>"
            ]
          },
          "metadata": {},
          "execution_count": 16
        }
      ],
      "source": [
        "# Top 10 users based on the number of ratings\n",
        "df_final.groupby('user_id').size().sort_values(ascending=False)[:10]"
      ]
    },
    {
      "cell_type": "markdown",
      "metadata": {
        "id": "1X2w_jt9-sVI"
      },
      "source": [
        "**Write your observations here:**\n",
        "\n",
        "The user `ADLVFFE4VBT8` has the highest number of interactions with 295, followed by `A3OXHLG6DIBRW8` with 230, and `A1ODOGXEYECQQ8` with 217. The least active among the top ten is `A3LGT6UZL99IW1` with 179 interactions, indicating varying levels of user engagement."
      ]
    },
    {
      "cell_type": "markdown",
      "metadata": {
        "id": "EnYTx-Ol-sVg"
      },
      "source": [
        "**Now that we have explored and prepared the data, let's build the first recommendation system.**"
      ]
    },
    {
      "cell_type": "markdown",
      "metadata": {
        "id": "6xYGrGVy5JtS"
      },
      "source": [
        "## **Model 1: Rank Based Recommendation System**"
      ]
    },
    {
      "cell_type": "code",
      "source": [
        "mean_ratings = df_final.groupby('prod_id')['rating'].mean()\n",
        "\n",
        "# Select the first ten results\n",
        "first_ten_mean_ratings = mean_ratings.head(10)\n",
        "\n",
        "# Display the results\n",
        "print(first_ten_mean_ratings)"
      ],
      "metadata": {
        "colab": {
          "base_uri": "https://localhost:8080/"
        },
        "id": "sq_Xwy4Pc57j",
        "outputId": "4523541f-2450-4b95-fcd8-00520918726a"
      },
      "execution_count": 65,
      "outputs": [
        {
          "output_type": "stream",
          "name": "stdout",
          "text": [
            "prod_id\n",
            "1400501466    3.333333\n",
            "1400532655    3.833333\n",
            "1400599997    4.000000\n",
            "9983891212    4.875000\n",
            "B00000DM9W    5.000000\n",
            "B00000J1V5    4.571429\n",
            "B00000JDF5    4.714286\n",
            "B00000JDF6    4.571429\n",
            "B00000K135    4.800000\n",
            "B00000K4KH    5.000000\n",
            "Name: rating, dtype: float64\n"
          ]
        }
      ]
    },
    {
      "cell_type": "code",
      "source": [
        "# Calculate the count of ratings for each product\n",
        "ratings=df_final.groupby('prod_id')['rating'].count().sort_values(ascending = False)\n",
        "\n",
        "# Select the first ten results\n",
        "first_ten_ratings = ratings.head(10)\n",
        "\n",
        "# Display the results\n",
        "print(first_ten_ratings)"
      ],
      "metadata": {
        "colab": {
          "base_uri": "https://localhost:8080/"
        },
        "id": "8z4g1wbGdD6W",
        "outputId": "10020bf3-167b-43ca-9ee8-6478e6321cc8"
      },
      "execution_count": 66,
      "outputs": [
        {
          "output_type": "stream",
          "name": "stdout",
          "text": [
            "prod_id\n",
            "B0088CJT4U    206\n",
            "B003ES5ZUU    184\n",
            "B000N99BBC    167\n",
            "B007WTAJTO    164\n",
            "B00829TIEK    149\n",
            "B00829THK0    137\n",
            "B008DWCRQW    137\n",
            "B002R5AM7C    128\n",
            "B004CLYEDC    118\n",
            "B002SZEOLG    113\n",
            "Name: rating, dtype: int64\n"
          ]
        }
      ]
    },
    {
      "cell_type": "code",
      "source": [
        "# Create a dataframe with calculated average and count of ratings\n",
        "final_rating_df = pd.DataFrame()\n",
        "final_rating_df['avg_rating'] = pd.DataFrame(df_final.groupby('prod_id')['rating'].mean())"
      ],
      "metadata": {
        "id": "djSfuF1idNkU"
      },
      "execution_count": 64,
      "outputs": []
    },
    {
      "cell_type": "code",
      "source": [
        "#Adding rating_counts to the new df i.e. final_rating_df\n",
        "final_rating_df['rating_counts'] = pd.DataFrame(df_final.groupby('prod_id')['rating'].count().sort_values(ascending = False))"
      ],
      "metadata": {
        "id": "-E5sPQYydQ2y"
      },
      "execution_count": 20,
      "outputs": []
    },
    {
      "cell_type": "code",
      "source": [
        "final_rating_df.head(10)"
      ],
      "metadata": {
        "colab": {
          "base_uri": "https://localhost:8080/",
          "height": 394
        },
        "id": "sOPLrgMJde2Q",
        "outputId": "bb0a76f4-80cf-4989-9c9d-52faac5e4eb5"
      },
      "execution_count": 21,
      "outputs": [
        {
          "output_type": "execute_result",
          "data": {
            "text/plain": [
              "            avg_rating  rating_counts\n",
              "prod_id                              \n",
              "1400501466    3.333333              6\n",
              "1400532655    3.833333              6\n",
              "1400599997    4.000000              5\n",
              "9983891212    4.875000              8\n",
              "B00000DM9W    5.000000              5\n",
              "B00000J1V5    4.571429              7\n",
              "B00000JDF5    4.714286              7\n",
              "B00000JDF6    4.571429              7\n",
              "B00000K135    4.800000              5\n",
              "B00000K4KH    5.000000              5"
            ],
            "text/html": [
              "\n",
              "  <div id=\"df-40268b27-e2b9-4134-bb9c-d4bfd555edd2\" class=\"colab-df-container\">\n",
              "    <div>\n",
              "<style scoped>\n",
              "    .dataframe tbody tr th:only-of-type {\n",
              "        vertical-align: middle;\n",
              "    }\n",
              "\n",
              "    .dataframe tbody tr th {\n",
              "        vertical-align: top;\n",
              "    }\n",
              "\n",
              "    .dataframe thead th {\n",
              "        text-align: right;\n",
              "    }\n",
              "</style>\n",
              "<table border=\"1\" class=\"dataframe\">\n",
              "  <thead>\n",
              "    <tr style=\"text-align: right;\">\n",
              "      <th></th>\n",
              "      <th>avg_rating</th>\n",
              "      <th>rating_counts</th>\n",
              "    </tr>\n",
              "    <tr>\n",
              "      <th>prod_id</th>\n",
              "      <th></th>\n",
              "      <th></th>\n",
              "    </tr>\n",
              "  </thead>\n",
              "  <tbody>\n",
              "    <tr>\n",
              "      <th>1400501466</th>\n",
              "      <td>3.333333</td>\n",
              "      <td>6</td>\n",
              "    </tr>\n",
              "    <tr>\n",
              "      <th>1400532655</th>\n",
              "      <td>3.833333</td>\n",
              "      <td>6</td>\n",
              "    </tr>\n",
              "    <tr>\n",
              "      <th>1400599997</th>\n",
              "      <td>4.000000</td>\n",
              "      <td>5</td>\n",
              "    </tr>\n",
              "    <tr>\n",
              "      <th>9983891212</th>\n",
              "      <td>4.875000</td>\n",
              "      <td>8</td>\n",
              "    </tr>\n",
              "    <tr>\n",
              "      <th>B00000DM9W</th>\n",
              "      <td>5.000000</td>\n",
              "      <td>5</td>\n",
              "    </tr>\n",
              "    <tr>\n",
              "      <th>B00000J1V5</th>\n",
              "      <td>4.571429</td>\n",
              "      <td>7</td>\n",
              "    </tr>\n",
              "    <tr>\n",
              "      <th>B00000JDF5</th>\n",
              "      <td>4.714286</td>\n",
              "      <td>7</td>\n",
              "    </tr>\n",
              "    <tr>\n",
              "      <th>B00000JDF6</th>\n",
              "      <td>4.571429</td>\n",
              "      <td>7</td>\n",
              "    </tr>\n",
              "    <tr>\n",
              "      <th>B00000K135</th>\n",
              "      <td>4.800000</td>\n",
              "      <td>5</td>\n",
              "    </tr>\n",
              "    <tr>\n",
              "      <th>B00000K4KH</th>\n",
              "      <td>5.000000</td>\n",
              "      <td>5</td>\n",
              "    </tr>\n",
              "  </tbody>\n",
              "</table>\n",
              "</div>\n",
              "    <div class=\"colab-df-buttons\">\n",
              "\n",
              "  <div class=\"colab-df-container\">\n",
              "    <button class=\"colab-df-convert\" onclick=\"convertToInteractive('df-40268b27-e2b9-4134-bb9c-d4bfd555edd2')\"\n",
              "            title=\"Convert this dataframe to an interactive table.\"\n",
              "            style=\"display:none;\">\n",
              "\n",
              "  <svg xmlns=\"http://www.w3.org/2000/svg\" height=\"24px\" viewBox=\"0 -960 960 960\">\n",
              "    <path d=\"M120-120v-720h720v720H120Zm60-500h600v-160H180v160Zm220 220h160v-160H400v160Zm0 220h160v-160H400v160ZM180-400h160v-160H180v160Zm440 0h160v-160H620v160ZM180-180h160v-160H180v160Zm440 0h160v-160H620v160Z\"/>\n",
              "  </svg>\n",
              "    </button>\n",
              "\n",
              "  <style>\n",
              "    .colab-df-container {\n",
              "      display:flex;\n",
              "      gap: 12px;\n",
              "    }\n",
              "\n",
              "    .colab-df-convert {\n",
              "      background-color: #E8F0FE;\n",
              "      border: none;\n",
              "      border-radius: 50%;\n",
              "      cursor: pointer;\n",
              "      display: none;\n",
              "      fill: #1967D2;\n",
              "      height: 32px;\n",
              "      padding: 0 0 0 0;\n",
              "      width: 32px;\n",
              "    }\n",
              "\n",
              "    .colab-df-convert:hover {\n",
              "      background-color: #E2EBFA;\n",
              "      box-shadow: 0px 1px 2px rgba(60, 64, 67, 0.3), 0px 1px 3px 1px rgba(60, 64, 67, 0.15);\n",
              "      fill: #174EA6;\n",
              "    }\n",
              "\n",
              "    .colab-df-buttons div {\n",
              "      margin-bottom: 4px;\n",
              "    }\n",
              "\n",
              "    [theme=dark] .colab-df-convert {\n",
              "      background-color: #3B4455;\n",
              "      fill: #D2E3FC;\n",
              "    }\n",
              "\n",
              "    [theme=dark] .colab-df-convert:hover {\n",
              "      background-color: #434B5C;\n",
              "      box-shadow: 0px 1px 3px 1px rgba(0, 0, 0, 0.15);\n",
              "      filter: drop-shadow(0px 1px 2px rgba(0, 0, 0, 0.3));\n",
              "      fill: #FFFFFF;\n",
              "    }\n",
              "  </style>\n",
              "\n",
              "    <script>\n",
              "      const buttonEl =\n",
              "        document.querySelector('#df-40268b27-e2b9-4134-bb9c-d4bfd555edd2 button.colab-df-convert');\n",
              "      buttonEl.style.display =\n",
              "        google.colab.kernel.accessAllowed ? 'block' : 'none';\n",
              "\n",
              "      async function convertToInteractive(key) {\n",
              "        const element = document.querySelector('#df-40268b27-e2b9-4134-bb9c-d4bfd555edd2');\n",
              "        const dataTable =\n",
              "          await google.colab.kernel.invokeFunction('convertToInteractive',\n",
              "                                                    [key], {});\n",
              "        if (!dataTable) return;\n",
              "\n",
              "        const docLinkHtml = 'Like what you see? Visit the ' +\n",
              "          '<a target=\"_blank\" href=https://colab.research.google.com/notebooks/data_table.ipynb>data table notebook</a>'\n",
              "          + ' to learn more about interactive tables.';\n",
              "        element.innerHTML = '';\n",
              "        dataTable['output_type'] = 'display_data';\n",
              "        await google.colab.output.renderOutput(dataTable, element);\n",
              "        const docLink = document.createElement('div');\n",
              "        docLink.innerHTML = docLinkHtml;\n",
              "        element.appendChild(docLink);\n",
              "      }\n",
              "    </script>\n",
              "  </div>\n",
              "\n",
              "\n",
              "<div id=\"df-13c0e074-2ef0-4cf8-8723-935d2b53d9a1\">\n",
              "  <button class=\"colab-df-quickchart\" onclick=\"quickchart('df-13c0e074-2ef0-4cf8-8723-935d2b53d9a1')\"\n",
              "            title=\"Suggest charts\"\n",
              "            style=\"display:none;\">\n",
              "\n",
              "<svg xmlns=\"http://www.w3.org/2000/svg\" height=\"24px\"viewBox=\"0 0 24 24\"\n",
              "     width=\"24px\">\n",
              "    <g>\n",
              "        <path d=\"M19 3H5c-1.1 0-2 .9-2 2v14c0 1.1.9 2 2 2h14c1.1 0 2-.9 2-2V5c0-1.1-.9-2-2-2zM9 17H7v-7h2v7zm4 0h-2V7h2v10zm4 0h-2v-4h2v4z\"/>\n",
              "    </g>\n",
              "</svg>\n",
              "  </button>\n",
              "\n",
              "<style>\n",
              "  .colab-df-quickchart {\n",
              "      --bg-color: #E8F0FE;\n",
              "      --fill-color: #1967D2;\n",
              "      --hover-bg-color: #E2EBFA;\n",
              "      --hover-fill-color: #174EA6;\n",
              "      --disabled-fill-color: #AAA;\n",
              "      --disabled-bg-color: #DDD;\n",
              "  }\n",
              "\n",
              "  [theme=dark] .colab-df-quickchart {\n",
              "      --bg-color: #3B4455;\n",
              "      --fill-color: #D2E3FC;\n",
              "      --hover-bg-color: #434B5C;\n",
              "      --hover-fill-color: #FFFFFF;\n",
              "      --disabled-bg-color: #3B4455;\n",
              "      --disabled-fill-color: #666;\n",
              "  }\n",
              "\n",
              "  .colab-df-quickchart {\n",
              "    background-color: var(--bg-color);\n",
              "    border: none;\n",
              "    border-radius: 50%;\n",
              "    cursor: pointer;\n",
              "    display: none;\n",
              "    fill: var(--fill-color);\n",
              "    height: 32px;\n",
              "    padding: 0;\n",
              "    width: 32px;\n",
              "  }\n",
              "\n",
              "  .colab-df-quickchart:hover {\n",
              "    background-color: var(--hover-bg-color);\n",
              "    box-shadow: 0 1px 2px rgba(60, 64, 67, 0.3), 0 1px 3px 1px rgba(60, 64, 67, 0.15);\n",
              "    fill: var(--button-hover-fill-color);\n",
              "  }\n",
              "\n",
              "  .colab-df-quickchart-complete:disabled,\n",
              "  .colab-df-quickchart-complete:disabled:hover {\n",
              "    background-color: var(--disabled-bg-color);\n",
              "    fill: var(--disabled-fill-color);\n",
              "    box-shadow: none;\n",
              "  }\n",
              "\n",
              "  .colab-df-spinner {\n",
              "    border: 2px solid var(--fill-color);\n",
              "    border-color: transparent;\n",
              "    border-bottom-color: var(--fill-color);\n",
              "    animation:\n",
              "      spin 1s steps(1) infinite;\n",
              "  }\n",
              "\n",
              "  @keyframes spin {\n",
              "    0% {\n",
              "      border-color: transparent;\n",
              "      border-bottom-color: var(--fill-color);\n",
              "      border-left-color: var(--fill-color);\n",
              "    }\n",
              "    20% {\n",
              "      border-color: transparent;\n",
              "      border-left-color: var(--fill-color);\n",
              "      border-top-color: var(--fill-color);\n",
              "    }\n",
              "    30% {\n",
              "      border-color: transparent;\n",
              "      border-left-color: var(--fill-color);\n",
              "      border-top-color: var(--fill-color);\n",
              "      border-right-color: var(--fill-color);\n",
              "    }\n",
              "    40% {\n",
              "      border-color: transparent;\n",
              "      border-right-color: var(--fill-color);\n",
              "      border-top-color: var(--fill-color);\n",
              "    }\n",
              "    60% {\n",
              "      border-color: transparent;\n",
              "      border-right-color: var(--fill-color);\n",
              "    }\n",
              "    80% {\n",
              "      border-color: transparent;\n",
              "      border-right-color: var(--fill-color);\n",
              "      border-bottom-color: var(--fill-color);\n",
              "    }\n",
              "    90% {\n",
              "      border-color: transparent;\n",
              "      border-bottom-color: var(--fill-color);\n",
              "    }\n",
              "  }\n",
              "</style>\n",
              "\n",
              "  <script>\n",
              "    async function quickchart(key) {\n",
              "      const quickchartButtonEl =\n",
              "        document.querySelector('#' + key + ' button');\n",
              "      quickchartButtonEl.disabled = true;  // To prevent multiple clicks.\n",
              "      quickchartButtonEl.classList.add('colab-df-spinner');\n",
              "      try {\n",
              "        const charts = await google.colab.kernel.invokeFunction(\n",
              "            'suggestCharts', [key], {});\n",
              "      } catch (error) {\n",
              "        console.error('Error during call to suggestCharts:', error);\n",
              "      }\n",
              "      quickchartButtonEl.classList.remove('colab-df-spinner');\n",
              "      quickchartButtonEl.classList.add('colab-df-quickchart-complete');\n",
              "    }\n",
              "    (() => {\n",
              "      let quickchartButtonEl =\n",
              "        document.querySelector('#df-13c0e074-2ef0-4cf8-8723-935d2b53d9a1 button');\n",
              "      quickchartButtonEl.style.display =\n",
              "        google.colab.kernel.accessAllowed ? 'block' : 'none';\n",
              "    })();\n",
              "  </script>\n",
              "</div>\n",
              "\n",
              "    </div>\n",
              "  </div>\n"
            ],
            "application/vnd.google.colaboratory.intrinsic+json": {
              "type": "dataframe",
              "variable_name": "final_rating_df",
              "summary": "{\n  \"name\": \"final_rating_df\",\n  \"rows\": 5689,\n  \"fields\": [\n    {\n      \"column\": \"prod_id\",\n      \"properties\": {\n        \"dtype\": \"string\",\n        \"num_unique_values\": 5689,\n        \"samples\": [\n          \"B005EOWBHC\",\n          \"B00BB72WX4\",\n          \"B00B9AB26G\"\n        ],\n        \"semantic_type\": \"\",\n        \"description\": \"\"\n      }\n    },\n    {\n      \"column\": \"avg_rating\",\n      \"properties\": {\n        \"dtype\": \"number\",\n        \"std\": 0.5244418871974895,\n        \"min\": 1.375,\n        \"max\": 5.0,\n        \"num_unique_values\": 509,\n        \"samples\": [\n          3.5714285714285716,\n          4.58,\n          4.589743589743589\n        ],\n        \"semantic_type\": \"\",\n        \"description\": \"\"\n      }\n    },\n    {\n      \"column\": \"rating_counts\",\n      \"properties\": {\n        \"dtype\": \"number\",\n        \"std\": 11,\n        \"min\": 5,\n        \"max\": 206,\n        \"num_unique_values\": 93,\n        \"samples\": [\n          52,\n          60,\n          53\n        ],\n        \"semantic_type\": \"\",\n        \"description\": \"\"\n      }\n    }\n  ]\n}"
            }
          },
          "metadata": {},
          "execution_count": 21
        }
      ]
    },
    {
      "cell_type": "code",
      "execution_count": 22,
      "metadata": {
        "id": "zKU__5s1xhXi"
      },
      "outputs": [],
      "source": [
        "# Defining a function to get the top n products based on the highest average rating and minimum interactions\n",
        "\n",
        "# Finding products with minimum number of interactions\n",
        "\n",
        "# Sorting values with respect to average rating\n",
        "def top_n_products(final_rating, n, min_interaction):\n",
        "\n",
        "    #Finding movies with minimum number of interactions\n",
        "    recommendations = final_rating_df[final_rating_df['rating_counts'] >= min_interaction]\n",
        "\n",
        "    #Sorting values w.r.t average rating\n",
        "    recommendations = recommendations.sort_values(by='avg_rating', ascending=False)\n",
        "\n",
        "    return recommendations.index[:n]\n"
      ]
    },
    {
      "cell_type": "markdown",
      "metadata": {
        "id": "F8l6373PxhXi"
      },
      "source": [
        "### **Recommending top 5 products with 50 minimum interactions based on popularity**"
      ]
    },
    {
      "cell_type": "code",
      "execution_count": 23,
      "metadata": {
        "id": "dBxdLiM_xhXi",
        "colab": {
          "base_uri": "https://localhost:8080/"
        },
        "outputId": "bed0d4ee-3489-4fae-927b-b242f4597fc1"
      },
      "outputs": [
        {
          "output_type": "execute_result",
          "data": {
            "text/plain": [
              "['B001TH7GUU', 'B003ES5ZUU', 'B0019EHU8G', 'B006W8U2MU', 'B000QUUFRW']"
            ]
          },
          "metadata": {},
          "execution_count": 23
        }
      ],
      "source": [
        "list(top_n_products(final_rating_df, 5, 50))"
      ]
    },
    {
      "cell_type": "markdown",
      "metadata": {
        "id": "l9_xW_UMxhXj"
      },
      "source": [
        "### **Recommending top 5 products with 100 minimum interactions based on popularity**"
      ]
    },
    {
      "cell_type": "code",
      "execution_count": 24,
      "metadata": {
        "id": "dZgGZCUoxhXj",
        "colab": {
          "base_uri": "https://localhost:8080/"
        },
        "outputId": "77c8f81d-4f71-4fe9-ec22-0f213b7da93b"
      },
      "outputs": [
        {
          "output_type": "execute_result",
          "data": {
            "text/plain": [
              "['B003ES5ZUU', 'B000N99BBC', 'B002WE6D44', 'B007WTAJTO', 'B002V88HFE']"
            ]
          },
          "metadata": {},
          "execution_count": 24
        }
      ],
      "source": [
        "list(top_n_products(final_rating_df, 5, 100))"
      ]
    },
    {
      "cell_type": "markdown",
      "metadata": {
        "id": "BL-m68a15JtT",
        "outputId": "69132b0f-8d3f-4798-f6a0-249e17a3c822"
      },
      "source": [
        "We have recommended the **top 5** products by using the popularity recommendation system. Now, let's build a recommendation system using **collaborative filtering.**"
      ]
    },
    {
      "cell_type": "markdown",
      "metadata": {
        "id": "sJI5kiiGvOOK"
      },
      "source": [
        "## **Model 2: Collaborative Filtering Recommendation System**"
      ]
    },
    {
      "cell_type": "markdown",
      "metadata": {
        "id": "skzc0N1_nVNB"
      },
      "source": [
        "### **Building a baseline user-user similarity based recommendation system**"
      ]
    },
    {
      "cell_type": "markdown",
      "metadata": {
        "id": "d4Uo_MYMnVNB"
      },
      "source": [
        "- Below, we are building **similarity-based recommendation systems** using `cosine` similarity and using **KNN to find similar users** which are the nearest neighbor to the given user.  \n",
        "- We will be using a new library, called `surprise`, to build the remaining models. Let's first import the necessary classes and functions from this library."
      ]
    },
    {
      "cell_type": "code",
      "execution_count": 25,
      "metadata": {
        "id": "UJ1wEylUpexj"
      },
      "outputs": [],
      "source": [
        "# To compute the accuracy of models\n",
        "from surprise import accuracy\n",
        "\n",
        "# Class is used to parse a file containing ratings, data should be in structure - user ; item ; rating\n",
        "from surprise.reader import Reader\n",
        "\n",
        "# Class for loading datasets\n",
        "from surprise.dataset import Dataset\n",
        "\n",
        "# For tuning model hyperparameters\n",
        "from surprise.model_selection import GridSearchCV\n",
        "\n",
        "# For splitting the rating data in train and test datasets\n",
        "from surprise.model_selection import train_test_split\n",
        "\n",
        "# For implementing similarity-based recommendation system\n",
        "from surprise.prediction_algorithms.knns import KNNBasic\n",
        "\n",
        "# For implementing matrix factorization based recommendation system\n",
        "from surprise.prediction_algorithms.matrix_factorization import SVD\n",
        "\n",
        "# for implementing K-Fold cross-validation\n",
        "from surprise.model_selection import KFold\n",
        "\n",
        "# For implementing clustering-based recommendation system\n",
        "from surprise import CoClustering"
      ]
    },
    {
      "cell_type": "markdown",
      "metadata": {
        "id": "54MqVAtDTsnl"
      },
      "source": [
        "**Before building the recommendation systems, let's  go over some basic terminologies we are going to use:**"
      ]
    },
    {
      "cell_type": "markdown",
      "metadata": {
        "id": "Qsxb3xhnTsnl"
      },
      "source": [
        "**Relevant item:** An item (product in this case) that is actually **rated higher than the threshold rating** is relevant, if the **actual rating is below the threshold then it is a non-relevant item**.  \n",
        "\n",
        "**Recommended item:** An item that's **predicted rating is higher than the threshold is a recommended item**, if the **predicted rating is below the threshold then that product will not be recommended to the user**.  \n"
      ]
    },
    {
      "cell_type": "markdown",
      "metadata": {
        "id": "moyLUHCuTsnl"
      },
      "source": [
        "**False Negative (FN):** It is the **frequency of relevant items that are not recommended to the user**. If the relevant items are not recommended to the user, then the user might not buy the product/item. This would result in the **loss of opportunity for the service provider**, which they would like to minimize.\n",
        "\n",
        "**False Positive (FP):** It is the **frequency of recommended items that are actually not relevant**. In this case, the recommendation system is not doing a good job of finding and recommending the relevant items to the user. This would result in **loss of resources for the service provider**, which they would also like to minimize."
      ]
    },
    {
      "cell_type": "markdown",
      "metadata": {
        "id": "Yuvc2VaZTsnl"
      },
      "source": [
        "**Recall:** It is the **fraction of actually relevant items that are recommended to the user**, i.e., if out of 10 relevant products, 6 are recommended to the user then recall is 0.60. Higher the value of recall better is the model. It is one of the metrics to do the performance assessment of classification models.\n",
        "\n",
        "**Precision:** It is the **fraction of recommended items that are relevant actually**, i.e., if out of 10 recommended items, 6 are found relevant by the user then precision is 0.60. The higher the value of precision better is the model. It is one of the metrics to do the performance assessment of classification models."
      ]
    },
    {
      "cell_type": "markdown",
      "metadata": {
        "id": "8NLc36Y8Tsnm"
      },
      "source": [
        "**While making a recommendation system, it becomes customary to look at the performance of the model. In terms of how many recommendations are relevant and vice-versa, below are some most used performance metrics used in the assessment of recommendation systems.**"
      ]
    },
    {
      "cell_type": "markdown",
      "metadata": {
        "id": "cqF8fRBqTsnm"
      },
      "source": [
        "### **Precision@k, Recall@ k, and F1-score@k**"
      ]
    },
    {
      "cell_type": "markdown",
      "metadata": {
        "id": "imMJNF0HTsnm"
      },
      "source": [
        "**Precision@k** - It is the **fraction of recommended items that are relevant in `top k` predictions**. The value of k is the number of recommendations to be provided to the user. One can choose a variable number of recommendations to be given to a unique user.  \n",
        "\n",
        "\n",
        "**Recall@k** - It is the **fraction of relevant items that are recommended to the user in `top k` predictions**.\n",
        "\n",
        "**F1-score@k** - It is the **harmonic mean of Precision@k and Recall@k**. When **precision@k and recall@k both seem to be important** then it is useful to use this metric because it is representative of both of them."
      ]
    },
    {
      "cell_type": "markdown",
      "metadata": {
        "id": "jBW4BUhWTsnm"
      },
      "source": [
        "### **Some useful functions**"
      ]
    },
    {
      "cell_type": "markdown",
      "metadata": {
        "id": "QOBHKh0eTsnm"
      },
      "source": [
        "- Below function takes the **recommendation model** as input and gives the **precision@k, recall@k, and F1-score@k** for that model.  \n",
        "- To compute **precision and recall**, **top k** predictions are taken under consideration for each user.\n",
        "- We will use the precision and recall to compute the F1-score."
      ]
    },
    {
      "cell_type": "code",
      "execution_count": 26,
      "metadata": {
        "id": "Rxn-GahOTsnm"
      },
      "outputs": [],
      "source": [
        "def precision_recall_at_k(model, k = 10, threshold = 3.5):\n",
        "    \"\"\"Return precision and recall at k metrics for each user\"\"\"\n",
        "\n",
        "    # First map the predictions to each user\n",
        "    user_est_true = defaultdict(list)\n",
        "\n",
        "    # Making predictions on the test data\n",
        "    predictions = model.test(testset)\n",
        "\n",
        "    for uid, _, true_r, est, _ in predictions:\n",
        "        user_est_true[uid].append((est, true_r))\n",
        "\n",
        "    precisions = dict()\n",
        "    recalls = dict()\n",
        "    for uid, user_ratings in user_est_true.items():\n",
        "\n",
        "        # Sort user ratings by estimated value\n",
        "        user_ratings.sort(key = lambda x: x[0], reverse = True)\n",
        "\n",
        "        # Number of relevant items\n",
        "        n_rel = sum((true_r >= threshold) for (_, true_r) in user_ratings)\n",
        "\n",
        "        # Number of recommended items in top k\n",
        "        n_rec_k = sum((est >= threshold) for (est, _) in user_ratings[:k])\n",
        "\n",
        "        # Number of relevant and recommended items in top k\n",
        "        n_rel_and_rec_k = sum(((true_r >= threshold) and (est >= threshold))\n",
        "                              for (est, true_r) in user_ratings[:k])\n",
        "\n",
        "        # Precision@K: Proportion of recommended items that are relevant\n",
        "        # When n_rec_k is 0, Precision is undefined. Therefore, we are setting Precision to 0 when n_rec_k is 0\n",
        "\n",
        "        precisions[uid] = n_rel_and_rec_k / n_rec_k if n_rec_k != 0 else 0\n",
        "\n",
        "        # Recall@K: Proportion of relevant items that are recommended\n",
        "        # When n_rel is 0, Recall is undefined. Therefore, we are setting Recall to 0 when n_rel is 0\n",
        "\n",
        "        recalls[uid] = n_rel_and_rec_k / n_rel if n_rel != 0 else 0\n",
        "\n",
        "    # Mean of all the predicted precisions are calculated.\n",
        "    precision = round((sum(prec for prec in precisions.values()) / len(precisions)), 3)\n",
        "\n",
        "    # Mean of all the predicted recalls are calculated.\n",
        "    recall = round((sum(rec for rec in recalls.values()) / len(recalls)), 3)\n",
        "\n",
        "    accuracy.rmse(predictions)\n",
        "\n",
        "    print('Precision: ', precision) # Command to print the overall precision\n",
        "\n",
        "    print('Recall: ', recall) # Command to print the overall recall\n",
        "\n",
        "    print('F_1 score: ', round((2*precision*recall)/(precision+recall), 3)) # Formula to compute the F-1 score"
      ]
    },
    {
      "cell_type": "markdown",
      "metadata": {
        "id": "_ZmsamDVyek-"
      },
      "source": [
        "**Hints:**\n",
        "\n",
        "- To compute **precision and recall**, a **threshold of 3.5 and k value of 10 can be considered for the recommended and relevant ratings**.\n",
        "- Think about the performance metric to choose."
      ]
    },
    {
      "cell_type": "markdown",
      "metadata": {
        "id": "8hxjJMTwnVNB"
      },
      "source": [
        "Below we are loading the **`rating` dataset**, which is a **pandas DataFrame**, into a **different format called `surprise.dataset.DatasetAutoFolds`**, which is required by this library. To do this, we will be **using the classes `Reader` and `Dataset`.**"
      ]
    },
    {
      "cell_type": "code",
      "execution_count": 27,
      "metadata": {
        "id": "rGfYDiOCpe4X"
      },
      "outputs": [],
      "source": [
        "# Instantiating Reader scale with expected rating scale\n",
        "reader = Reader(rating_scale=(0, 5))\n",
        "# Loading the rating dataset\n",
        "data = Dataset.load_from_df(df_final[['user_id', 'prod_id', 'rating']], reader)\n",
        "# Splitting the data into train and test datasets\n",
        "trainset, testset = train_test_split(data, test_size=0.2, random_state=42)"
      ]
    },
    {
      "cell_type": "markdown",
      "metadata": {
        "id": "DmHTEt7TnVNC"
      },
      "source": [
        "Now, we are **ready to build the first baseline similarity-based recommendation system** using the cosine similarity."
      ]
    },
    {
      "cell_type": "markdown",
      "metadata": {
        "id": "SVDfVHB4tQfU"
      },
      "source": [
        "### **Building the user-user Similarity-based Recommendation System**"
      ]
    },
    {
      "cell_type": "code",
      "execution_count": 28,
      "metadata": {
        "id": "vO3FL7iape8A",
        "scrolled": false,
        "colab": {
          "base_uri": "https://localhost:8080/"
        },
        "outputId": "2dd582e8-4c4b-40c7-b92b-42942b823b52"
      },
      "outputs": [
        {
          "output_type": "stream",
          "name": "stdout",
          "text": [
            "RMSE: 1.0012\n",
            "Precision:  0.855\n",
            "Recall:  0.858\n",
            "F_1 score:  0.856\n"
          ]
        }
      ],
      "source": [
        "# Declaring the similarity options\n",
        "from surprise import KNNBasic\n",
        "algo = KNNBasic()\n",
        "sim_options = {'name': 'cosine',\n",
        "               'user_based': True}\n",
        "\n",
        "\n",
        "# Initialize the KNNBasic model using sim_options declared, Verbose = False, and setting random_state = 1\n",
        "knnBasic_init = KNNBasic(sim_options=sim_options,verbose=False, random_state = 1)\n",
        "\n",
        "# Fit the model on the training data\n",
        "knnBasic_init.fit(trainset)\n",
        "\n",
        "# Let us compute precision@k, recall@k, and f_1 score using the precision_recall_at_k function defined above\n",
        "precision_recall_at_k(knnBasic_init, 10, 3.5)\n"
      ]
    },
    {
      "cell_type": "markdown",
      "metadata": {
        "id": "nEuJK_A9Tsnn"
      },
      "source": [
        "**Write your observations here:**\n",
        "\n",
        "The RMSE of 1.0012 is relatively low, which means that the model is generally making accurate predictions. The precision of 0.855 and recall of 0.858 are also both good, which means that the model is correctly identifying both the relevant and non-relevant items. The F_1 score of 0.856 is a good indication that the model is performing well overall"
      ]
    },
    {
      "cell_type": "markdown",
      "metadata": {
        "id": "reFD0-nsnVNC"
      },
      "source": [
        "Let's now **predict rating for a user with `userId=A3LDPF5FMB782Z` and `productId=1400501466`** as shown below. Here the user has already interacted or watched the product with productId '1400501466' and given a rating of 5."
      ]
    },
    {
      "cell_type": "code",
      "execution_count": 29,
      "metadata": {
        "id": "Sxd23bZ9pe_x",
        "colab": {
          "base_uri": "https://localhost:8080/"
        },
        "outputId": "b90505ec-f072-4dbc-d63c-0289c01bf74a"
      },
      "outputs": [
        {
          "output_type": "stream",
          "name": "stdout",
          "text": [
            "user: A3LDPF5FMB782Z item: 1400501466 r_ui = 5.00   est = 3.40   {'actual_k': 5, 'was_impossible': False}\n"
          ]
        },
        {
          "output_type": "execute_result",
          "data": {
            "text/plain": [
              "Prediction(uid='A3LDPF5FMB782Z', iid='1400501466', r_ui=5, est=3.4, details={'actual_k': 5, 'was_impossible': False})"
            ]
          },
          "metadata": {},
          "execution_count": 29
        }
      ],
      "source": [
        "# Predicting rating for a sample user with an interacted product\n",
        "knnBasic_init.predict('A3LDPF5FMB782Z', '1400501466', r_ui=5, verbose=True)"
      ]
    },
    {
      "cell_type": "markdown",
      "metadata": {
        "id": "ENJcqG_wemRH"
      },
      "source": [
        "**Write your observations here**\n",
        "\n",
        "The model predicted a rating of 3.4 for user `A3LDPF5FMB782Z` on item `1400501466`, while the actual rating provided by the user was 5."
      ]
    },
    {
      "cell_type": "markdown",
      "metadata": {
        "id": "cj6ecbglTsno"
      },
      "source": [
        "Below is the **list of users who have not seen the product with product id \"1400501466\"**."
      ]
    },
    {
      "cell_type": "code",
      "execution_count": 30,
      "metadata": {
        "id": "xCRBMD-RTsno"
      },
      "outputs": [],
      "source": [
        "# Find unique user_id where prod_id is not equal to \"1400501466\"\n",
        "filtered_df = df_final[df_final[\"prod_id\"] != \"1400501466\"]\n"
      ]
    },
    {
      "cell_type": "code",
      "source": [
        "filtered_df"
      ],
      "metadata": {
        "colab": {
          "base_uri": "https://localhost:8080/",
          "height": 423
        },
        "id": "_sBFT7Ty_FVi",
        "outputId": "2fced441-df31-41fa-ffa5-d20feb146b86"
      },
      "execution_count": 31,
      "outputs": [
        {
          "output_type": "execute_result",
          "data": {
            "text/plain": [
              "                user_id     prod_id  rating\n",
              "2082     A2ZR3YTMEEIIZ4  1400532655     5.0\n",
              "2150     A3CLWR1UUZT6TG  1400532655     5.0\n",
              "2162      A5JLAU2ARJ0BO  1400532655     1.0\n",
              "2228     A1P4XD7IORSEFN  1400532655     4.0\n",
              "2363     A341HCMGNZCBIT  1400532655     5.0\n",
              "...                 ...         ...     ...\n",
              "7824423  A34BZM6S9L7QI4  B00LGQ6HL8     5.0\n",
              "7824424  A1G650TTTHEAL5  B00LGQ6HL8     5.0\n",
              "7824425  A25C2M3QF9G7OQ  B00LGQ6HL8     5.0\n",
              "7824426   A1E1LEVQ9VQNK  B00LGQ6HL8     5.0\n",
              "7824427  A2NYK9KWFMJV4Y  B00LGQ6HL8     5.0\n",
              "\n",
              "[65284 rows x 3 columns]"
            ],
            "text/html": [
              "\n",
              "  <div id=\"df-5a3a4ccf-5bbc-4a23-85a9-c6f6be5bef01\" class=\"colab-df-container\">\n",
              "    <div>\n",
              "<style scoped>\n",
              "    .dataframe tbody tr th:only-of-type {\n",
              "        vertical-align: middle;\n",
              "    }\n",
              "\n",
              "    .dataframe tbody tr th {\n",
              "        vertical-align: top;\n",
              "    }\n",
              "\n",
              "    .dataframe thead th {\n",
              "        text-align: right;\n",
              "    }\n",
              "</style>\n",
              "<table border=\"1\" class=\"dataframe\">\n",
              "  <thead>\n",
              "    <tr style=\"text-align: right;\">\n",
              "      <th></th>\n",
              "      <th>user_id</th>\n",
              "      <th>prod_id</th>\n",
              "      <th>rating</th>\n",
              "    </tr>\n",
              "  </thead>\n",
              "  <tbody>\n",
              "    <tr>\n",
              "      <th>2082</th>\n",
              "      <td>A2ZR3YTMEEIIZ4</td>\n",
              "      <td>1400532655</td>\n",
              "      <td>5.0</td>\n",
              "    </tr>\n",
              "    <tr>\n",
              "      <th>2150</th>\n",
              "      <td>A3CLWR1UUZT6TG</td>\n",
              "      <td>1400532655</td>\n",
              "      <td>5.0</td>\n",
              "    </tr>\n",
              "    <tr>\n",
              "      <th>2162</th>\n",
              "      <td>A5JLAU2ARJ0BO</td>\n",
              "      <td>1400532655</td>\n",
              "      <td>1.0</td>\n",
              "    </tr>\n",
              "    <tr>\n",
              "      <th>2228</th>\n",
              "      <td>A1P4XD7IORSEFN</td>\n",
              "      <td>1400532655</td>\n",
              "      <td>4.0</td>\n",
              "    </tr>\n",
              "    <tr>\n",
              "      <th>2363</th>\n",
              "      <td>A341HCMGNZCBIT</td>\n",
              "      <td>1400532655</td>\n",
              "      <td>5.0</td>\n",
              "    </tr>\n",
              "    <tr>\n",
              "      <th>...</th>\n",
              "      <td>...</td>\n",
              "      <td>...</td>\n",
              "      <td>...</td>\n",
              "    </tr>\n",
              "    <tr>\n",
              "      <th>7824423</th>\n",
              "      <td>A34BZM6S9L7QI4</td>\n",
              "      <td>B00LGQ6HL8</td>\n",
              "      <td>5.0</td>\n",
              "    </tr>\n",
              "    <tr>\n",
              "      <th>7824424</th>\n",
              "      <td>A1G650TTTHEAL5</td>\n",
              "      <td>B00LGQ6HL8</td>\n",
              "      <td>5.0</td>\n",
              "    </tr>\n",
              "    <tr>\n",
              "      <th>7824425</th>\n",
              "      <td>A25C2M3QF9G7OQ</td>\n",
              "      <td>B00LGQ6HL8</td>\n",
              "      <td>5.0</td>\n",
              "    </tr>\n",
              "    <tr>\n",
              "      <th>7824426</th>\n",
              "      <td>A1E1LEVQ9VQNK</td>\n",
              "      <td>B00LGQ6HL8</td>\n",
              "      <td>5.0</td>\n",
              "    </tr>\n",
              "    <tr>\n",
              "      <th>7824427</th>\n",
              "      <td>A2NYK9KWFMJV4Y</td>\n",
              "      <td>B00LGQ6HL8</td>\n",
              "      <td>5.0</td>\n",
              "    </tr>\n",
              "  </tbody>\n",
              "</table>\n",
              "<p>65284 rows × 3 columns</p>\n",
              "</div>\n",
              "    <div class=\"colab-df-buttons\">\n",
              "\n",
              "  <div class=\"colab-df-container\">\n",
              "    <button class=\"colab-df-convert\" onclick=\"convertToInteractive('df-5a3a4ccf-5bbc-4a23-85a9-c6f6be5bef01')\"\n",
              "            title=\"Convert this dataframe to an interactive table.\"\n",
              "            style=\"display:none;\">\n",
              "\n",
              "  <svg xmlns=\"http://www.w3.org/2000/svg\" height=\"24px\" viewBox=\"0 -960 960 960\">\n",
              "    <path d=\"M120-120v-720h720v720H120Zm60-500h600v-160H180v160Zm220 220h160v-160H400v160Zm0 220h160v-160H400v160ZM180-400h160v-160H180v160Zm440 0h160v-160H620v160ZM180-180h160v-160H180v160Zm440 0h160v-160H620v160Z\"/>\n",
              "  </svg>\n",
              "    </button>\n",
              "\n",
              "  <style>\n",
              "    .colab-df-container {\n",
              "      display:flex;\n",
              "      gap: 12px;\n",
              "    }\n",
              "\n",
              "    .colab-df-convert {\n",
              "      background-color: #E8F0FE;\n",
              "      border: none;\n",
              "      border-radius: 50%;\n",
              "      cursor: pointer;\n",
              "      display: none;\n",
              "      fill: #1967D2;\n",
              "      height: 32px;\n",
              "      padding: 0 0 0 0;\n",
              "      width: 32px;\n",
              "    }\n",
              "\n",
              "    .colab-df-convert:hover {\n",
              "      background-color: #E2EBFA;\n",
              "      box-shadow: 0px 1px 2px rgba(60, 64, 67, 0.3), 0px 1px 3px 1px rgba(60, 64, 67, 0.15);\n",
              "      fill: #174EA6;\n",
              "    }\n",
              "\n",
              "    .colab-df-buttons div {\n",
              "      margin-bottom: 4px;\n",
              "    }\n",
              "\n",
              "    [theme=dark] .colab-df-convert {\n",
              "      background-color: #3B4455;\n",
              "      fill: #D2E3FC;\n",
              "    }\n",
              "\n",
              "    [theme=dark] .colab-df-convert:hover {\n",
              "      background-color: #434B5C;\n",
              "      box-shadow: 0px 1px 3px 1px rgba(0, 0, 0, 0.15);\n",
              "      filter: drop-shadow(0px 1px 2px rgba(0, 0, 0, 0.3));\n",
              "      fill: #FFFFFF;\n",
              "    }\n",
              "  </style>\n",
              "\n",
              "    <script>\n",
              "      const buttonEl =\n",
              "        document.querySelector('#df-5a3a4ccf-5bbc-4a23-85a9-c6f6be5bef01 button.colab-df-convert');\n",
              "      buttonEl.style.display =\n",
              "        google.colab.kernel.accessAllowed ? 'block' : 'none';\n",
              "\n",
              "      async function convertToInteractive(key) {\n",
              "        const element = document.querySelector('#df-5a3a4ccf-5bbc-4a23-85a9-c6f6be5bef01');\n",
              "        const dataTable =\n",
              "          await google.colab.kernel.invokeFunction('convertToInteractive',\n",
              "                                                    [key], {});\n",
              "        if (!dataTable) return;\n",
              "\n",
              "        const docLinkHtml = 'Like what you see? Visit the ' +\n",
              "          '<a target=\"_blank\" href=https://colab.research.google.com/notebooks/data_table.ipynb>data table notebook</a>'\n",
              "          + ' to learn more about interactive tables.';\n",
              "        element.innerHTML = '';\n",
              "        dataTable['output_type'] = 'display_data';\n",
              "        await google.colab.output.renderOutput(dataTable, element);\n",
              "        const docLink = document.createElement('div');\n",
              "        docLink.innerHTML = docLinkHtml;\n",
              "        element.appendChild(docLink);\n",
              "      }\n",
              "    </script>\n",
              "  </div>\n",
              "\n",
              "\n",
              "<div id=\"df-75ac926a-36e0-42d2-a493-2fb243acf00b\">\n",
              "  <button class=\"colab-df-quickchart\" onclick=\"quickchart('df-75ac926a-36e0-42d2-a493-2fb243acf00b')\"\n",
              "            title=\"Suggest charts\"\n",
              "            style=\"display:none;\">\n",
              "\n",
              "<svg xmlns=\"http://www.w3.org/2000/svg\" height=\"24px\"viewBox=\"0 0 24 24\"\n",
              "     width=\"24px\">\n",
              "    <g>\n",
              "        <path d=\"M19 3H5c-1.1 0-2 .9-2 2v14c0 1.1.9 2 2 2h14c1.1 0 2-.9 2-2V5c0-1.1-.9-2-2-2zM9 17H7v-7h2v7zm4 0h-2V7h2v10zm4 0h-2v-4h2v4z\"/>\n",
              "    </g>\n",
              "</svg>\n",
              "  </button>\n",
              "\n",
              "<style>\n",
              "  .colab-df-quickchart {\n",
              "      --bg-color: #E8F0FE;\n",
              "      --fill-color: #1967D2;\n",
              "      --hover-bg-color: #E2EBFA;\n",
              "      --hover-fill-color: #174EA6;\n",
              "      --disabled-fill-color: #AAA;\n",
              "      --disabled-bg-color: #DDD;\n",
              "  }\n",
              "\n",
              "  [theme=dark] .colab-df-quickchart {\n",
              "      --bg-color: #3B4455;\n",
              "      --fill-color: #D2E3FC;\n",
              "      --hover-bg-color: #434B5C;\n",
              "      --hover-fill-color: #FFFFFF;\n",
              "      --disabled-bg-color: #3B4455;\n",
              "      --disabled-fill-color: #666;\n",
              "  }\n",
              "\n",
              "  .colab-df-quickchart {\n",
              "    background-color: var(--bg-color);\n",
              "    border: none;\n",
              "    border-radius: 50%;\n",
              "    cursor: pointer;\n",
              "    display: none;\n",
              "    fill: var(--fill-color);\n",
              "    height: 32px;\n",
              "    padding: 0;\n",
              "    width: 32px;\n",
              "  }\n",
              "\n",
              "  .colab-df-quickchart:hover {\n",
              "    background-color: var(--hover-bg-color);\n",
              "    box-shadow: 0 1px 2px rgba(60, 64, 67, 0.3), 0 1px 3px 1px rgba(60, 64, 67, 0.15);\n",
              "    fill: var(--button-hover-fill-color);\n",
              "  }\n",
              "\n",
              "  .colab-df-quickchart-complete:disabled,\n",
              "  .colab-df-quickchart-complete:disabled:hover {\n",
              "    background-color: var(--disabled-bg-color);\n",
              "    fill: var(--disabled-fill-color);\n",
              "    box-shadow: none;\n",
              "  }\n",
              "\n",
              "  .colab-df-spinner {\n",
              "    border: 2px solid var(--fill-color);\n",
              "    border-color: transparent;\n",
              "    border-bottom-color: var(--fill-color);\n",
              "    animation:\n",
              "      spin 1s steps(1) infinite;\n",
              "  }\n",
              "\n",
              "  @keyframes spin {\n",
              "    0% {\n",
              "      border-color: transparent;\n",
              "      border-bottom-color: var(--fill-color);\n",
              "      border-left-color: var(--fill-color);\n",
              "    }\n",
              "    20% {\n",
              "      border-color: transparent;\n",
              "      border-left-color: var(--fill-color);\n",
              "      border-top-color: var(--fill-color);\n",
              "    }\n",
              "    30% {\n",
              "      border-color: transparent;\n",
              "      border-left-color: var(--fill-color);\n",
              "      border-top-color: var(--fill-color);\n",
              "      border-right-color: var(--fill-color);\n",
              "    }\n",
              "    40% {\n",
              "      border-color: transparent;\n",
              "      border-right-color: var(--fill-color);\n",
              "      border-top-color: var(--fill-color);\n",
              "    }\n",
              "    60% {\n",
              "      border-color: transparent;\n",
              "      border-right-color: var(--fill-color);\n",
              "    }\n",
              "    80% {\n",
              "      border-color: transparent;\n",
              "      border-right-color: var(--fill-color);\n",
              "      border-bottom-color: var(--fill-color);\n",
              "    }\n",
              "    90% {\n",
              "      border-color: transparent;\n",
              "      border-bottom-color: var(--fill-color);\n",
              "    }\n",
              "  }\n",
              "</style>\n",
              "\n",
              "  <script>\n",
              "    async function quickchart(key) {\n",
              "      const quickchartButtonEl =\n",
              "        document.querySelector('#' + key + ' button');\n",
              "      quickchartButtonEl.disabled = true;  // To prevent multiple clicks.\n",
              "      quickchartButtonEl.classList.add('colab-df-spinner');\n",
              "      try {\n",
              "        const charts = await google.colab.kernel.invokeFunction(\n",
              "            'suggestCharts', [key], {});\n",
              "      } catch (error) {\n",
              "        console.error('Error during call to suggestCharts:', error);\n",
              "      }\n",
              "      quickchartButtonEl.classList.remove('colab-df-spinner');\n",
              "      quickchartButtonEl.classList.add('colab-df-quickchart-complete');\n",
              "    }\n",
              "    (() => {\n",
              "      let quickchartButtonEl =\n",
              "        document.querySelector('#df-75ac926a-36e0-42d2-a493-2fb243acf00b button');\n",
              "      quickchartButtonEl.style.display =\n",
              "        google.colab.kernel.accessAllowed ? 'block' : 'none';\n",
              "    })();\n",
              "  </script>\n",
              "</div>\n",
              "\n",
              "  <div id=\"id_4a3fafad-d901-4afb-89dd-2abac56f3da8\">\n",
              "    <style>\n",
              "      .colab-df-generate {\n",
              "        background-color: #E8F0FE;\n",
              "        border: none;\n",
              "        border-radius: 50%;\n",
              "        cursor: pointer;\n",
              "        display: none;\n",
              "        fill: #1967D2;\n",
              "        height: 32px;\n",
              "        padding: 0 0 0 0;\n",
              "        width: 32px;\n",
              "      }\n",
              "\n",
              "      .colab-df-generate:hover {\n",
              "        background-color: #E2EBFA;\n",
              "        box-shadow: 0px 1px 2px rgba(60, 64, 67, 0.3), 0px 1px 3px 1px rgba(60, 64, 67, 0.15);\n",
              "        fill: #174EA6;\n",
              "      }\n",
              "\n",
              "      [theme=dark] .colab-df-generate {\n",
              "        background-color: #3B4455;\n",
              "        fill: #D2E3FC;\n",
              "      }\n",
              "\n",
              "      [theme=dark] .colab-df-generate:hover {\n",
              "        background-color: #434B5C;\n",
              "        box-shadow: 0px 1px 3px 1px rgba(0, 0, 0, 0.15);\n",
              "        filter: drop-shadow(0px 1px 2px rgba(0, 0, 0, 0.3));\n",
              "        fill: #FFFFFF;\n",
              "      }\n",
              "    </style>\n",
              "    <button class=\"colab-df-generate\" onclick=\"generateWithVariable('filtered_df')\"\n",
              "            title=\"Generate code using this dataframe.\"\n",
              "            style=\"display:none;\">\n",
              "\n",
              "  <svg xmlns=\"http://www.w3.org/2000/svg\" height=\"24px\"viewBox=\"0 0 24 24\"\n",
              "       width=\"24px\">\n",
              "    <path d=\"M7,19H8.4L18.45,9,17,7.55,7,17.6ZM5,21V16.75L18.45,3.32a2,2,0,0,1,2.83,0l1.4,1.43a1.91,1.91,0,0,1,.58,1.4,1.91,1.91,0,0,1-.58,1.4L9.25,21ZM18.45,9,17,7.55Zm-12,3A5.31,5.31,0,0,0,4.9,8.1,5.31,5.31,0,0,0,1,6.5,5.31,5.31,0,0,0,4.9,4.9,5.31,5.31,0,0,0,6.5,1,5.31,5.31,0,0,0,8.1,4.9,5.31,5.31,0,0,0,12,6.5,5.46,5.46,0,0,0,6.5,12Z\"/>\n",
              "  </svg>\n",
              "    </button>\n",
              "    <script>\n",
              "      (() => {\n",
              "      const buttonEl =\n",
              "        document.querySelector('#id_4a3fafad-d901-4afb-89dd-2abac56f3da8 button.colab-df-generate');\n",
              "      buttonEl.style.display =\n",
              "        google.colab.kernel.accessAllowed ? 'block' : 'none';\n",
              "\n",
              "      buttonEl.onclick = () => {\n",
              "        google.colab.notebook.generateWithVariable('filtered_df');\n",
              "      }\n",
              "      })();\n",
              "    </script>\n",
              "  </div>\n",
              "\n",
              "    </div>\n",
              "  </div>\n"
            ],
            "application/vnd.google.colaboratory.intrinsic+json": {
              "type": "dataframe",
              "variable_name": "filtered_df",
              "summary": "{\n  \"name\": \"filtered_df\",\n  \"rows\": 65284,\n  \"fields\": [\n    {\n      \"column\": \"user_id\",\n      \"properties\": {\n        \"dtype\": \"category\",\n        \"num_unique_values\": 1540,\n        \"samples\": [\n          \"A1RPTVW5VEOSI\",\n          \"A3JLOIXFM75QNV\",\n          \"A2HRHF83I3NDGT\"\n        ],\n        \"semantic_type\": \"\",\n        \"description\": \"\"\n      }\n    },\n    {\n      \"column\": \"prod_id\",\n      \"properties\": {\n        \"dtype\": \"category\",\n        \"num_unique_values\": 5688,\n        \"samples\": [\n          \"B005EOWBHC\",\n          \"B0081TXIXI\",\n          \"B00862522A\"\n        ],\n        \"semantic_type\": \"\",\n        \"description\": \"\"\n      }\n    },\n    {\n      \"column\": \"rating\",\n      \"properties\": {\n        \"dtype\": \"number\",\n        \"std\": 0.9887675410255227,\n        \"min\": 1.0,\n        \"max\": 5.0,\n        \"num_unique_values\": 5,\n        \"samples\": [\n          1.0,\n          2.0,\n          4.0\n        ],\n        \"semantic_type\": \"\",\n        \"description\": \"\"\n      }\n    }\n  ]\n}"
            }
          },
          "metadata": {},
          "execution_count": 31
        }
      ]
    },
    {
      "cell_type": "markdown",
      "metadata": {
        "id": "KT42ecaSTsno"
      },
      "source": [
        "* It can be observed from the above list that **user \"A34BZM6S9L7QI4\" has not seen the product with productId \"1400501466\"** as this userId is a part of the above list."
      ]
    },
    {
      "cell_type": "markdown",
      "metadata": {
        "id": "EXSgq8OEnVNE"
      },
      "source": [
        "**Below we are predicting rating for `userId=A34BZM6S9L7QI4` and `prod_id=1400501466`.**"
      ]
    },
    {
      "cell_type": "code",
      "execution_count": 34,
      "metadata": {
        "id": "PbFcBj1PpfEV",
        "colab": {
          "base_uri": "https://localhost:8080/"
        },
        "outputId": "ac083586-0c88-43f5-94e7-2956ba52640f"
      },
      "outputs": [
        {
          "output_type": "stream",
          "name": "stdout",
          "text": [
            "['A2ZR3YTMEEIIZ4' 'A3CLWR1UUZT6TG' 'A5JLAU2ARJ0BO' ... 'A215WH6RUDUCMP'\n",
            " 'A38C12950IM24P' 'A2J4XMWKR8PPD0']\n"
          ]
        }
      ],
      "source": [
        "# Predicting rating for a sample user with a non interacted product\n",
        "# Predicting rating for a sample user with a non interacted product\n",
        "unique_user_ids = filtered_df[\"user_id\"].unique()\n",
        "\n",
        "print(unique_user_ids)\n"
      ]
    },
    {
      "cell_type": "markdown",
      "metadata": {
        "id": "02rwld8yemRI"
      },
      "source": [
        "**Write your observations here:**\n",
        "\n",
        "The model predicted the user would rate the item at 4.29, while the actual rating was 5, indicating the model underestimated the user's rating. Due to insufficient data (reason='Not enough neighbors'), the model couldn't make a prediction due to a lack of shared ratings between users and items."
      ]
    },
    {
      "cell_type": "markdown",
      "metadata": {
        "id": "ejjof6csnVNF"
      },
      "source": [
        "### **Improving similarity-based recommendation system by tuning its hyperparameters**"
      ]
    },
    {
      "cell_type": "markdown",
      "metadata": {
        "id": "p2j4VvfQnVNF"
      },
      "source": [
        "Below, we will be tuning hyperparameters for the `KNNBasic` algorithm. Let's try to understand some of the hyperparameters of the KNNBasic algorithm:\n",
        "\n",
        "- **k** (int) – The (max) number of neighbors to take into account for aggregation. Default is 40.\n",
        "- **min_k** (int) – The minimum number of neighbors to take into account for aggregation. If there are not enough neighbors, the prediction is set to the global mean of all ratings. Default is 1.\n",
        "- **sim_options** (dict) – A dictionary of options for the similarity measure. And there are four similarity measures available in surprise -\n",
        "    - cosine\n",
        "    - msd (default)\n",
        "    - Pearson\n",
        "    - Pearson baseline"
      ]
    },
    {
      "cell_type": "code",
      "execution_count": 33,
      "metadata": {
        "id": "9LmPbSUSTsnp",
        "colab": {
          "base_uri": "https://localhost:8080/"
        },
        "outputId": "48d18517-826d-4807-ba16-7fd3dd91d39a"
      },
      "outputs": [
        {
          "output_type": "stream",
          "name": "stdout",
          "text": [
            "0.972076951591753\n",
            "{'k': 30, 'min_k': 6, 'sim_options': {'name': 'cosine', 'user_based': True}}\n"
          ]
        }
      ],
      "source": [
        "# Setting up parameter grid to tune the hyperparameters\n",
        "param_grid = {'k': [20, 30, 40], 'min_k': [3, 6, 9],'sim_options': {'name': ['msd', 'cosine','pearson'],'user_based': [True]}}\n",
        "# Performing 3-fold cross-validation to tune the hyperparameters\n",
        "fold3_grid = GridSearchCV(KNNBasic, param_grid, measures=['rmse', 'mae'], cv=3, n_jobs=-1)\n",
        "# Fitting the data\n",
        "fold3_grid.fit(data)\n",
        "# Best RMSE score\n",
        "print(fold3_grid.best_score['rmse'])\n",
        "# Combination of parameters that gave the best RMSE score\n",
        "print(fold3_grid.best_params['rmse'])\n"
      ]
    },
    {
      "cell_type": "markdown",
      "metadata": {
        "id": "L2fHNvu7nVNF"
      },
      "source": [
        "Once the grid search is **complete**, we can get the **optimal values for each of those hyperparameters**."
      ]
    },
    {
      "cell_type": "markdown",
      "metadata": {
        "id": "NHWgxu_YnVNG"
      },
      "source": [
        "Now, let's build the **final model by using tuned values of the hyperparameters**, which we received by using **grid search cross-validation**."
      ]
    },
    {
      "cell_type": "code",
      "execution_count": 35,
      "metadata": {
        "id": "PujRJA8X_JEJ",
        "colab": {
          "base_uri": "https://localhost:8080/"
        },
        "outputId": "44a47175-9935-4888-fdf1-3abefc9e8c70"
      },
      "outputs": [
        {
          "output_type": "stream",
          "name": "stdout",
          "text": [
            "RMSE: 0.9593\n",
            "Precision:  0.855\n",
            "Recall:  0.881\n",
            "F_1 score:  0.868\n"
          ]
        }
      ],
      "source": [
        "# Using the optimal similarity measure for user-user based collaborative filtering\n",
        "sim_options = {'name': 'msd',\n",
        "               'user_based': True}\n",
        "# Creating an instance of KNNBasic with optimal hyperparameter values\n",
        "optimized_sim_user = KNNBasic(sim_options=sim_options, k=20, min_k=3,verbose=False)\n",
        "# Training the algorithm on the trainset\n",
        "optimized_sim_user.fit(trainset)\n",
        "# Let us compute precision@k and recall@k also with k =10\n",
        "precision_recall_at_k(optimized_sim_user , 10, 3.5)"
      ]
    },
    {
      "cell_type": "markdown",
      "metadata": {
        "id": "yHsWvFjKTsnp"
      },
      "source": [
        "**Write your observations here:**\n",
        "\n",
        "The model achieved an RMSE of 0.9593, indicating its average prediction error in rating. It attained a precision of 0.855, showing the proportion of recommended items that were relevant, along with a recall of 0.881, indicating the proportion of relevant items successfully recommended. The F1 score, combining precision and recall, was 0.868, suggesting overall good performance in rating prediction and recommendation relevance.**bold text** **bold text**"
      ]
    },
    {
      "cell_type": "markdown",
      "metadata": {
        "id": "YhcAXK0CnVNG"
      },
      "source": [
        "### **Steps:**\n",
        "- **Predict rating for the user with `userId=\"A3LDPF5FMB782Z\"`, and `prod_id= \"1400501466\"` using the optimized model**\n",
        "- **Predict rating for `userId=\"A34BZM6S9L7QI4\"` who has not interacted with `prod_id =\"1400501466\"`, by using the optimized model**\n",
        "- **Compare the output with the output from the baseline model**"
      ]
    },
    {
      "cell_type": "code",
      "execution_count": 36,
      "metadata": {
        "id": "FgV63lHiq1TV",
        "colab": {
          "base_uri": "https://localhost:8080/"
        },
        "outputId": "4a758af3-fb0d-4f02-d2f4-ff6f067efb96"
      },
      "outputs": [
        {
          "output_type": "stream",
          "name": "stdout",
          "text": [
            "user: A3LDPF5FMB782Z item: 1400501466 r_ui = 5.00   est = 4.85   {'actual_k': 5, 'was_impossible': False}\n"
          ]
        },
        {
          "output_type": "execute_result",
          "data": {
            "text/plain": [
              "Prediction(uid='A3LDPF5FMB782Z', iid='1400501466', r_ui=5, est=4.849056603773586, details={'actual_k': 5, 'was_impossible': False})"
            ]
          },
          "metadata": {},
          "execution_count": 36
        }
      ],
      "source": [
        "\n",
        "optimized_sim_user.predict('A3LDPF5FMB782Z', '1400501466', r_ui=5, verbose=True)\n",
        "\n"
      ]
    },
    {
      "cell_type": "code",
      "execution_count": 37,
      "metadata": {
        "id": "HXO2Ztjhq1bN",
        "colab": {
          "base_uri": "https://localhost:8080/"
        },
        "outputId": "51bb478c-a359-4b74-cf4a-a62f360e2d27"
      },
      "outputs": [
        {
          "output_type": "stream",
          "name": "stdout",
          "text": [
            "user: A34BZM6S9L7QI4 item: 1400501466 r_ui = 5.00   est = 4.29   {'was_impossible': True, 'reason': 'Not enough neighbors.'}\n"
          ]
        },
        {
          "output_type": "execute_result",
          "data": {
            "text/plain": [
              "Prediction(uid='A34BZM6S9L7QI4', iid='1400501466', r_ui=5, est=4.292024046561495, details={'was_impossible': True, 'reason': 'Not enough neighbors.'})"
            ]
          },
          "metadata": {},
          "execution_count": 37
        }
      ],
      "source": [
        "# Use sim_user_user_optimized model to recommend for userId \"A34BZM6S9L7QI4\" and productId \"1400501466\"\n",
        "optimized_sim_user.predict('A34BZM6S9L7QI4', '1400501466', r_ui=5, verbose=True)"
      ]
    },
    {
      "cell_type": "markdown",
      "metadata": {
        "id": "s5i-OPprNF2e"
      },
      "source": [
        "**Write your observations here:**\n",
        "\n",
        "From the True Rating 5 , our base model has predicted 3.4. But, our Optimized model has predicted as 4.85. There is defintely significant increase"
      ]
    },
    {
      "cell_type": "markdown",
      "metadata": {
        "id": "op_zwO_FnVNH"
      },
      "source": [
        "### **Identifying similar users to a given user (nearest neighbors)**"
      ]
    },
    {
      "cell_type": "markdown",
      "metadata": {
        "id": "o2QsfqhanVNH"
      },
      "source": [
        "We can also find out **similar users to a given user** or its **nearest neighbors** based on this KNNBasic algorithm. Below, we are finding the 5 most similar users to the first user in the list with internal id 0, based on the `msd` distance metric."
      ]
    },
    {
      "cell_type": "code",
      "execution_count": 38,
      "metadata": {
        "id": "TbFle7cKmBJG",
        "colab": {
          "base_uri": "https://localhost:8080/"
        },
        "outputId": "acc890e8-157c-425c-ebe0-1becf07983db"
      },
      "outputs": [
        {
          "output_type": "execute_result",
          "data": {
            "text/plain": [
              "[6, 42, 44, 54, 66]"
            ]
          },
          "metadata": {},
          "execution_count": 38
        }
      ],
      "source": [
        "# 0 is the inner id of the above user\n",
        "optimized_sim_user.get_neighbors(0, k=5)"
      ]
    },
    {
      "cell_type": "markdown",
      "metadata": {
        "id": "Z0NsrX_anVNH"
      },
      "source": [
        "### **Implementing the recommendation algorithm based on optimized KNNBasic model**"
      ]
    },
    {
      "cell_type": "markdown",
      "metadata": {
        "id": "U3ESobDynVNI"
      },
      "source": [
        "Below we will be implementing a function where the input parameters are:\n",
        "\n",
        "- data: A **rating** dataset\n",
        "- user_id: A user id **against which we want the recommendations**\n",
        "- top_n: The **number of products we want to recommend**\n",
        "- algo: the algorithm we want to use **for predicting the ratings**\n",
        "- The output of the function is a **set of top_n items** recommended for the given user_id based on the given algorithm"
      ]
    },
    {
      "cell_type": "code",
      "execution_count": 39,
      "metadata": {
        "id": "vW9V1Tk65HlY"
      },
      "outputs": [],
      "source": [
        "def get_recommendations(data, user_id, top_n, algo):\n",
        "\n",
        "    # Creating an empty list to store the recommended product ids\n",
        "    recommendations = []\n",
        "\n",
        "    # Creating an user item interactions matrix\n",
        "    user_item_interactions_matrix = data.pivot(index = 'user_id', columns = 'prod_id', values = 'rating')\n",
        "\n",
        "    # Extracting those product ids which the user_id has not interacted yet\n",
        "    non_interacted_products = user_item_interactions_matrix.loc[user_id][user_item_interactions_matrix.loc[user_id].isnull()].index.tolist()\n",
        "\n",
        "    # Looping through each of the product ids which user_id has not interacted yet\n",
        "    for item_id in non_interacted_products:\n",
        "\n",
        "        # Predicting the ratings for those non interacted product ids by this user\n",
        "        est = algo.predict(user_id, item_id).est\n",
        "\n",
        "        # Appending the predicted ratings\n",
        "        recommendations.append((item_id, est))\n",
        "\n",
        "    # Sorting the predicted ratings in descending order\n",
        "    recommendations.sort(key = lambda x: x[1], reverse = True)\n",
        "\n",
        "    return recommendations[:top_n] # Returing top n highest predicted rating products for this user"
      ]
    },
    {
      "cell_type": "markdown",
      "metadata": {
        "id": "Oj_S7kh4nVNI"
      },
      "source": [
        "**Predicting top 5 products for userId = \"A3LDPF5FMB782Z\" with similarity based recommendation system**"
      ]
    },
    {
      "cell_type": "code",
      "execution_count": 40,
      "metadata": {
        "id": "qWbR85mI5Hrk",
        "colab": {
          "base_uri": "https://localhost:8080/"
        },
        "outputId": "d9277942-96df-4a9a-8cf8-a1bde622738c"
      },
      "outputs": [
        {
          "output_type": "stream",
          "name": "stdout",
          "text": [
            "[('B00005LENO', 5), ('B000067RT6', 5), ('B00006HSML', 5), ('B00006I53X', 5), ('B00006I5J7', 5)]\n"
          ]
        }
      ],
      "source": [
        "# Making top 5 recommendations for user_id \"A3LDPF5FMB782Z\" with a similarity-based recommendation engine\n",
        "recommendations = get_recommendations(df_final, 'A3LDPF5FMB782Z', 5, optimized_sim_user)\n",
        "print(recommendations)"
      ]
    },
    {
      "cell_type": "code",
      "execution_count": 41,
      "metadata": {
        "id": "b5WfIX0Z6_q2",
        "colab": {
          "base_uri": "https://localhost:8080/",
          "height": 206
        },
        "outputId": "9ac67dfc-1ad0-4bf6-eeef-a1b7a8c5e134"
      },
      "outputs": [
        {
          "output_type": "execute_result",
          "data": {
            "text/plain": [
              "      prod_id  predicted_ratings\n",
              "0  B00005LENO                  5\n",
              "1  B000067RT6                  5\n",
              "2  B00006HSML                  5\n",
              "3  B00006I53X                  5\n",
              "4  B00006I5J7                  5"
            ],
            "text/html": [
              "\n",
              "  <div id=\"df-917b48b5-3497-4dc1-9672-d589e63e2a1b\" class=\"colab-df-container\">\n",
              "    <div>\n",
              "<style scoped>\n",
              "    .dataframe tbody tr th:only-of-type {\n",
              "        vertical-align: middle;\n",
              "    }\n",
              "\n",
              "    .dataframe tbody tr th {\n",
              "        vertical-align: top;\n",
              "    }\n",
              "\n",
              "    .dataframe thead th {\n",
              "        text-align: right;\n",
              "    }\n",
              "</style>\n",
              "<table border=\"1\" class=\"dataframe\">\n",
              "  <thead>\n",
              "    <tr style=\"text-align: right;\">\n",
              "      <th></th>\n",
              "      <th>prod_id</th>\n",
              "      <th>predicted_ratings</th>\n",
              "    </tr>\n",
              "  </thead>\n",
              "  <tbody>\n",
              "    <tr>\n",
              "      <th>0</th>\n",
              "      <td>B00005LENO</td>\n",
              "      <td>5</td>\n",
              "    </tr>\n",
              "    <tr>\n",
              "      <th>1</th>\n",
              "      <td>B000067RT6</td>\n",
              "      <td>5</td>\n",
              "    </tr>\n",
              "    <tr>\n",
              "      <th>2</th>\n",
              "      <td>B00006HSML</td>\n",
              "      <td>5</td>\n",
              "    </tr>\n",
              "    <tr>\n",
              "      <th>3</th>\n",
              "      <td>B00006I53X</td>\n",
              "      <td>5</td>\n",
              "    </tr>\n",
              "    <tr>\n",
              "      <th>4</th>\n",
              "      <td>B00006I5J7</td>\n",
              "      <td>5</td>\n",
              "    </tr>\n",
              "  </tbody>\n",
              "</table>\n",
              "</div>\n",
              "    <div class=\"colab-df-buttons\">\n",
              "\n",
              "  <div class=\"colab-df-container\">\n",
              "    <button class=\"colab-df-convert\" onclick=\"convertToInteractive('df-917b48b5-3497-4dc1-9672-d589e63e2a1b')\"\n",
              "            title=\"Convert this dataframe to an interactive table.\"\n",
              "            style=\"display:none;\">\n",
              "\n",
              "  <svg xmlns=\"http://www.w3.org/2000/svg\" height=\"24px\" viewBox=\"0 -960 960 960\">\n",
              "    <path d=\"M120-120v-720h720v720H120Zm60-500h600v-160H180v160Zm220 220h160v-160H400v160Zm0 220h160v-160H400v160ZM180-400h160v-160H180v160Zm440 0h160v-160H620v160ZM180-180h160v-160H180v160Zm440 0h160v-160H620v160Z\"/>\n",
              "  </svg>\n",
              "    </button>\n",
              "\n",
              "  <style>\n",
              "    .colab-df-container {\n",
              "      display:flex;\n",
              "      gap: 12px;\n",
              "    }\n",
              "\n",
              "    .colab-df-convert {\n",
              "      background-color: #E8F0FE;\n",
              "      border: none;\n",
              "      border-radius: 50%;\n",
              "      cursor: pointer;\n",
              "      display: none;\n",
              "      fill: #1967D2;\n",
              "      height: 32px;\n",
              "      padding: 0 0 0 0;\n",
              "      width: 32px;\n",
              "    }\n",
              "\n",
              "    .colab-df-convert:hover {\n",
              "      background-color: #E2EBFA;\n",
              "      box-shadow: 0px 1px 2px rgba(60, 64, 67, 0.3), 0px 1px 3px 1px rgba(60, 64, 67, 0.15);\n",
              "      fill: #174EA6;\n",
              "    }\n",
              "\n",
              "    .colab-df-buttons div {\n",
              "      margin-bottom: 4px;\n",
              "    }\n",
              "\n",
              "    [theme=dark] .colab-df-convert {\n",
              "      background-color: #3B4455;\n",
              "      fill: #D2E3FC;\n",
              "    }\n",
              "\n",
              "    [theme=dark] .colab-df-convert:hover {\n",
              "      background-color: #434B5C;\n",
              "      box-shadow: 0px 1px 3px 1px rgba(0, 0, 0, 0.15);\n",
              "      filter: drop-shadow(0px 1px 2px rgba(0, 0, 0, 0.3));\n",
              "      fill: #FFFFFF;\n",
              "    }\n",
              "  </style>\n",
              "\n",
              "    <script>\n",
              "      const buttonEl =\n",
              "        document.querySelector('#df-917b48b5-3497-4dc1-9672-d589e63e2a1b button.colab-df-convert');\n",
              "      buttonEl.style.display =\n",
              "        google.colab.kernel.accessAllowed ? 'block' : 'none';\n",
              "\n",
              "      async function convertToInteractive(key) {\n",
              "        const element = document.querySelector('#df-917b48b5-3497-4dc1-9672-d589e63e2a1b');\n",
              "        const dataTable =\n",
              "          await google.colab.kernel.invokeFunction('convertToInteractive',\n",
              "                                                    [key], {});\n",
              "        if (!dataTable) return;\n",
              "\n",
              "        const docLinkHtml = 'Like what you see? Visit the ' +\n",
              "          '<a target=\"_blank\" href=https://colab.research.google.com/notebooks/data_table.ipynb>data table notebook</a>'\n",
              "          + ' to learn more about interactive tables.';\n",
              "        element.innerHTML = '';\n",
              "        dataTable['output_type'] = 'display_data';\n",
              "        await google.colab.output.renderOutput(dataTable, element);\n",
              "        const docLink = document.createElement('div');\n",
              "        docLink.innerHTML = docLinkHtml;\n",
              "        element.appendChild(docLink);\n",
              "      }\n",
              "    </script>\n",
              "  </div>\n",
              "\n",
              "\n",
              "<div id=\"df-829d44f3-c5da-424b-861c-eb953809bd7a\">\n",
              "  <button class=\"colab-df-quickchart\" onclick=\"quickchart('df-829d44f3-c5da-424b-861c-eb953809bd7a')\"\n",
              "            title=\"Suggest charts\"\n",
              "            style=\"display:none;\">\n",
              "\n",
              "<svg xmlns=\"http://www.w3.org/2000/svg\" height=\"24px\"viewBox=\"0 0 24 24\"\n",
              "     width=\"24px\">\n",
              "    <g>\n",
              "        <path d=\"M19 3H5c-1.1 0-2 .9-2 2v14c0 1.1.9 2 2 2h14c1.1 0 2-.9 2-2V5c0-1.1-.9-2-2-2zM9 17H7v-7h2v7zm4 0h-2V7h2v10zm4 0h-2v-4h2v4z\"/>\n",
              "    </g>\n",
              "</svg>\n",
              "  </button>\n",
              "\n",
              "<style>\n",
              "  .colab-df-quickchart {\n",
              "      --bg-color: #E8F0FE;\n",
              "      --fill-color: #1967D2;\n",
              "      --hover-bg-color: #E2EBFA;\n",
              "      --hover-fill-color: #174EA6;\n",
              "      --disabled-fill-color: #AAA;\n",
              "      --disabled-bg-color: #DDD;\n",
              "  }\n",
              "\n",
              "  [theme=dark] .colab-df-quickchart {\n",
              "      --bg-color: #3B4455;\n",
              "      --fill-color: #D2E3FC;\n",
              "      --hover-bg-color: #434B5C;\n",
              "      --hover-fill-color: #FFFFFF;\n",
              "      --disabled-bg-color: #3B4455;\n",
              "      --disabled-fill-color: #666;\n",
              "  }\n",
              "\n",
              "  .colab-df-quickchart {\n",
              "    background-color: var(--bg-color);\n",
              "    border: none;\n",
              "    border-radius: 50%;\n",
              "    cursor: pointer;\n",
              "    display: none;\n",
              "    fill: var(--fill-color);\n",
              "    height: 32px;\n",
              "    padding: 0;\n",
              "    width: 32px;\n",
              "  }\n",
              "\n",
              "  .colab-df-quickchart:hover {\n",
              "    background-color: var(--hover-bg-color);\n",
              "    box-shadow: 0 1px 2px rgba(60, 64, 67, 0.3), 0 1px 3px 1px rgba(60, 64, 67, 0.15);\n",
              "    fill: var(--button-hover-fill-color);\n",
              "  }\n",
              "\n",
              "  .colab-df-quickchart-complete:disabled,\n",
              "  .colab-df-quickchart-complete:disabled:hover {\n",
              "    background-color: var(--disabled-bg-color);\n",
              "    fill: var(--disabled-fill-color);\n",
              "    box-shadow: none;\n",
              "  }\n",
              "\n",
              "  .colab-df-spinner {\n",
              "    border: 2px solid var(--fill-color);\n",
              "    border-color: transparent;\n",
              "    border-bottom-color: var(--fill-color);\n",
              "    animation:\n",
              "      spin 1s steps(1) infinite;\n",
              "  }\n",
              "\n",
              "  @keyframes spin {\n",
              "    0% {\n",
              "      border-color: transparent;\n",
              "      border-bottom-color: var(--fill-color);\n",
              "      border-left-color: var(--fill-color);\n",
              "    }\n",
              "    20% {\n",
              "      border-color: transparent;\n",
              "      border-left-color: var(--fill-color);\n",
              "      border-top-color: var(--fill-color);\n",
              "    }\n",
              "    30% {\n",
              "      border-color: transparent;\n",
              "      border-left-color: var(--fill-color);\n",
              "      border-top-color: var(--fill-color);\n",
              "      border-right-color: var(--fill-color);\n",
              "    }\n",
              "    40% {\n",
              "      border-color: transparent;\n",
              "      border-right-color: var(--fill-color);\n",
              "      border-top-color: var(--fill-color);\n",
              "    }\n",
              "    60% {\n",
              "      border-color: transparent;\n",
              "      border-right-color: var(--fill-color);\n",
              "    }\n",
              "    80% {\n",
              "      border-color: transparent;\n",
              "      border-right-color: var(--fill-color);\n",
              "      border-bottom-color: var(--fill-color);\n",
              "    }\n",
              "    90% {\n",
              "      border-color: transparent;\n",
              "      border-bottom-color: var(--fill-color);\n",
              "    }\n",
              "  }\n",
              "</style>\n",
              "\n",
              "  <script>\n",
              "    async function quickchart(key) {\n",
              "      const quickchartButtonEl =\n",
              "        document.querySelector('#' + key + ' button');\n",
              "      quickchartButtonEl.disabled = true;  // To prevent multiple clicks.\n",
              "      quickchartButtonEl.classList.add('colab-df-spinner');\n",
              "      try {\n",
              "        const charts = await google.colab.kernel.invokeFunction(\n",
              "            'suggestCharts', [key], {});\n",
              "      } catch (error) {\n",
              "        console.error('Error during call to suggestCharts:', error);\n",
              "      }\n",
              "      quickchartButtonEl.classList.remove('colab-df-spinner');\n",
              "      quickchartButtonEl.classList.add('colab-df-quickchart-complete');\n",
              "    }\n",
              "    (() => {\n",
              "      let quickchartButtonEl =\n",
              "        document.querySelector('#df-829d44f3-c5da-424b-861c-eb953809bd7a button');\n",
              "      quickchartButtonEl.style.display =\n",
              "        google.colab.kernel.accessAllowed ? 'block' : 'none';\n",
              "    })();\n",
              "  </script>\n",
              "</div>\n",
              "\n",
              "    </div>\n",
              "  </div>\n"
            ],
            "application/vnd.google.colaboratory.intrinsic+json": {
              "type": "dataframe",
              "variable_name": "recommendations_df",
              "summary": "{\n  \"name\": \"recommendations_df\",\n  \"rows\": 5,\n  \"fields\": [\n    {\n      \"column\": \"prod_id\",\n      \"properties\": {\n        \"dtype\": \"string\",\n        \"num_unique_values\": 5,\n        \"samples\": [\n          \"B000067RT6\",\n          \"B00006I5J7\",\n          \"B00006HSML\"\n        ],\n        \"semantic_type\": \"\",\n        \"description\": \"\"\n      }\n    },\n    {\n      \"column\": \"predicted_ratings\",\n      \"properties\": {\n        \"dtype\": \"number\",\n        \"std\": 0,\n        \"min\": 5,\n        \"max\": 5,\n        \"num_unique_values\": 1,\n        \"samples\": [\n          5\n        ],\n        \"semantic_type\": \"\",\n        \"description\": \"\"\n      }\n    }\n  ]\n}"
            }
          },
          "metadata": {},
          "execution_count": 41
        }
      ],
      "source": [
        "# Building the dataframe for above recommendations with columns \"prod_id\" and \"predicted_ratings\"\n",
        "recommendations_df = pd.DataFrame(recommendations, columns=['prod_id', 'predicted_ratings'])\n",
        "recommendations_df.head()"
      ]
    },
    {
      "cell_type": "markdown",
      "metadata": {
        "id": "QgbzJKk7Tsnr"
      },
      "source": [
        "### **Item-Item Similarity-based Collaborative Filtering Recommendation System**"
      ]
    },
    {
      "cell_type": "markdown",
      "metadata": {
        "id": "qTJu_2hcTsnr"
      },
      "source": [
        "* Above we have seen **similarity-based collaborative filtering** where similarity is calculated **between users**. Now let us look into similarity-based collaborative filtering where similarity is seen **between items**."
      ]
    },
    {
      "cell_type": "code",
      "execution_count": 42,
      "metadata": {
        "id": "W5RMcdzjTsns",
        "scrolled": false,
        "colab": {
          "base_uri": "https://localhost:8080/"
        },
        "outputId": "0e0afdf3-c48e-4672-d7fc-6c272c151d7d"
      },
      "outputs": [
        {
          "output_type": "stream",
          "name": "stdout",
          "text": [
            "RMSE: 0.9950\n",
            "Precision:  0.838\n",
            "Recall:  0.845\n",
            "F_1 score:  0.841\n"
          ]
        }
      ],
      "source": [
        "# Declaring the similarity options\n",
        "sim_options = {'name': 'cosine',\n",
        "               'user_based': False}\n",
        "# KNN algorithm is used to find desired similar items. Use random_state=1\n",
        "knn_item_item = KNNBasic(sim_options=sim_options,verbose=False)\n",
        "# Train the algorithm on the trainset, and predict ratings for the test set\n",
        "knn_item_item.fit(trainset)\n",
        "# Let us compute precision@k, recall@k, and f_1 score with k = 10\n",
        "precision_recall_at_k(knn_item_item , 10, 3.5)"
      ]
    },
    {
      "cell_type": "markdown",
      "metadata": {
        "id": "ni9LoeUVTsns"
      },
      "source": [
        "**Write your observations here:**\n",
        "\n",
        "The model achieved an RMSE of 0.9950, indicating its average prediction error in rating. It also attained a precision of 0.838, which measures the proportion of recommended items that were relevant, and a recall of 0.845, indicating the proportion of relevant items successfully recommended. The F1 score, which combines precision and recall, was 0.841, indicating a balanced performance in predicting ratings and recommending relevant items, though there may be slight room for improvement in overall accuracy."
      ]
    },
    {
      "cell_type": "markdown",
      "metadata": {
        "id": "jFbcDQmxTsns"
      },
      "source": [
        "Let's now **predict a rating for a user with `userId = A3LDPF5FMB782Z` and `prod_Id = 1400501466`** as shown below. Here the user has already interacted or watched the product with productId \"1400501466\"."
      ]
    },
    {
      "cell_type": "code",
      "execution_count": 43,
      "metadata": {
        "id": "JsF-aaWYTsns",
        "colab": {
          "base_uri": "https://localhost:8080/"
        },
        "outputId": "648a0ffb-cd2f-45fe-b47c-63d807a8fb98"
      },
      "outputs": [
        {
          "output_type": "stream",
          "name": "stdout",
          "text": [
            "user: A3LDPF5FMB782Z item: 1400501466 r_ui = 5.00   est = 4.27   {'actual_k': 22, 'was_impossible': False}\n"
          ]
        },
        {
          "output_type": "execute_result",
          "data": {
            "text/plain": [
              "Prediction(uid='A3LDPF5FMB782Z', iid='1400501466', r_ui=5, est=4.2727272727272725, details={'actual_k': 22, 'was_impossible': False})"
            ]
          },
          "metadata": {},
          "execution_count": 43
        }
      ],
      "source": [
        "# Predicting rating for a sample user with an interacted product\n",
        "# Predicting rating for a sample user with an interacted product\n",
        "knn_item_item.predict('A3LDPF5FMB782Z', '1400501466', r_ui=5, verbose=True)"
      ]
    },
    {
      "cell_type": "markdown",
      "metadata": {
        "id": "2h0OyDMFTsns"
      },
      "source": [
        "**Write your observations here:**\n",
        "The prediction for user `A3LDPF5FMB782Z` on item `1400501466` was based on 22 nearest neighbors (`actual_k=22`). The user's actual rating (`r_ui`) was 5.00, while the model's estimated rating (`est`) was 4.27. This indicates the model closely approximated the user's rating, with a relatively small difference of approximately 0.73 between the estimated and actual ratings. The prediction was successful (`was_impossible=False`), meaning there were sufficient neighbors with similar ratings to make a reliable prediction."
      ]
    },
    {
      "cell_type": "markdown",
      "metadata": {
        "id": "BqKGZoAtTsns"
      },
      "source": [
        "Below we are **predicting rating for the `userId = A34BZM6S9L7QI4` and `prod_id = 1400501466`**."
      ]
    },
    {
      "cell_type": "code",
      "execution_count": 44,
      "metadata": {
        "id": "5yILOxXRTsns",
        "colab": {
          "base_uri": "https://localhost:8080/"
        },
        "outputId": "9dc1d52e-4a55-464f-fa60-ef982fb52e05"
      },
      "outputs": [
        {
          "output_type": "stream",
          "name": "stdout",
          "text": [
            "user: A34BZM6S9L7QI4 item: 1400501466 r_ui = 5.00   est = 4.29   {'was_impossible': True, 'reason': 'Not enough neighbors.'}\n"
          ]
        },
        {
          "output_type": "execute_result",
          "data": {
            "text/plain": [
              "Prediction(uid='A34BZM6S9L7QI4', iid='1400501466', r_ui=5, est=4.292024046561495, details={'was_impossible': True, 'reason': 'Not enough neighbors.'})"
            ]
          },
          "metadata": {},
          "execution_count": 44
        }
      ],
      "source": [
        "#Predicting rating for a sample user with a non interacted product\n",
        "knn_item_item.predict('A34BZM6S9L7QI4', '1400501466', r_ui=5, verbose=True)\n"
      ]
    },
    {
      "cell_type": "markdown",
      "metadata": {
        "id": "sDKaAveJTsns"
      },
      "source": [
        "For user `A34BZM6S9L7QI4` and item `1400501466`, the model attempted to predict a rating (`est`) of 4.29, while the user's actual rating (`r_ui`) was 5.00. However, the prediction was marked as impossible (`was_impossible=True`) due to insufficient data (`reason='Not enough neighbors.'`). This means there were not enough other users who had rated both the item and the user, which can occur when a user has rated very few items or when the item is relatively new and has not yet received enough ratings from other users."
      ]
    },
    {
      "cell_type": "markdown",
      "metadata": {
        "id": "meSvpNLj_EjD"
      },
      "source": [
        "### **Hyperparameter tuning the item-item similarity-based model**\n",
        "- Use the following values for the param_grid and tune the model.\n",
        "  - 'k': [10, 20, 30]\n",
        "  - 'min_k': [3, 6, 9]\n",
        "  - 'sim_options': {'name': ['msd', 'cosine']\n",
        "  - 'user_based': [False]\n",
        "- Use GridSearchCV() to tune the model using the 'rmse' measure\n",
        "- Print the best score and best parameters"
      ]
    },
    {
      "cell_type": "code",
      "execution_count": 45,
      "metadata": {
        "id": "f5bcZ3HgTsnt",
        "colab": {
          "base_uri": "https://localhost:8080/"
        },
        "outputId": "59a82358-1983-4c91-c56a-9b7215edaf52"
      },
      "outputs": [
        {
          "output_type": "stream",
          "name": "stdout",
          "text": [
            "0.9874869221960578\n",
            "{'k': 20, 'min_k': 3, 'sim_options': {'name': 'msd', 'user_based': False}}\n"
          ]
        }
      ],
      "source": [
        "# Setting up parameter grid to tune the hyperparameters\n",
        "param_grid = {'k': [20, 30], 'min_k': [3],'sim_options': {'name': ['msd', 'cosine',],'user_based': [False]}}\n",
        "# Performing 3-fold cross validation to tune the hyperparameters\n",
        "fold3_grid_item = GridSearchCV(KNNBasic, param_grid, measures=['rmse', 'mae'], cv=3, n_jobs=-1)\n",
        "# Fitting the data\n",
        "fold3_grid_item.fit(data)\n",
        "# Find the best RMSE score\n",
        "print(fold3_grid_item.best_score['rmse'])\n",
        "# Find the combination of parameters that gave the best RMSE score\n",
        "print(fold3_grid_item.best_params['rmse'])"
      ]
    },
    {
      "cell_type": "markdown",
      "metadata": {
        "id": "1psOlx6zTsnt"
      },
      "source": [
        "Once the **grid search** is complete, we can get the **optimal values for each of those hyperparameters as shown above.**"
      ]
    },
    {
      "cell_type": "markdown",
      "metadata": {
        "id": "JrSTaQemTsnt"
      },
      "source": [
        "Now let's build the **final model** by using **tuned values of the hyperparameters** which we received by using grid search cross-validation."
      ]
    },
    {
      "cell_type": "markdown",
      "metadata": {
        "id": "kOS9Dwnd_LN6"
      },
      "source": [
        "### **Use the best parameters from GridSearchCV to build the optimized item-item similarity-based model. Compare the performance of the optimized model with the baseline model.**"
      ]
    },
    {
      "cell_type": "code",
      "execution_count": 46,
      "metadata": {
        "id": "dSeiM1qeTsnt",
        "colab": {
          "base_uri": "https://localhost:8080/"
        },
        "outputId": "57291ad2-3238-4786-e4ec-fca2eb538f95"
      },
      "outputs": [
        {
          "output_type": "stream",
          "name": "stdout",
          "text": [
            "RMSE: 0.9646\n",
            "Precision:  0.841\n",
            "Recall:  0.867\n",
            "F_1 score:  0.854\n"
          ]
        }
      ],
      "source": [
        "# Using the optimal similarity measure for item-item based collaborative filtering\n",
        "sim_options={'name': 'msd', 'user_based': False}\n",
        "# Creating an instance of KNNBasic with optimal hyperparameter values\n",
        "sim_item_item_optimized = KNNBasic(sim_options=sim_options, k=30, min_k=3,verbose=False)\n",
        "# Training the algorithm on the trainset\n",
        "sim_item_item_optimized.fit(trainset)\n",
        "# predicting ratings for the testset\n",
        "predictions = sim_item_item_optimized.test(testset)\n",
        "# Let us compute precision@k and recall@k, f1_score and RMSE\n",
        "precision_recall_at_k(sim_item_item_optimized, 10, 3.5)"
      ]
    },
    {
      "cell_type": "markdown",
      "metadata": {
        "id": "ZCXKnMI8Tsnt"
      },
      "source": [
        "**Write your observations here:**\n",
        "\n",
        "The model attempted to predict a rating of 4.29 for user `A34BZM6S9L7QI4` on item `1400501466`, but marked the prediction as impossible (`was_impossible=True`). This was due to insufficient data (`reason='Not enough neighbors.'`), indicating that there were not enough similar user-item interactions available to make a reliable prediction. Therefore, the model could not generate a rating estimate based on the limited information available for this user-item pair."
      ]
    },
    {
      "cell_type": "markdown",
      "metadata": {
        "id": "Sbcj_H94Tsnt"
      },
      "source": [
        "### **Steps:**\n",
        "- **Predict rating for the user with `userId=\"A3LDPF5FMB782Z\"`, and `prod_id= \"1400501466\"` using the optimized model**\n",
        "- **Predict rating for `userId=\"A34BZM6S9L7QI4\"` who has not interacted with `prod_id =\"1400501466\"`, by using the optimized model**\n",
        "- **Compare the output with the output from the baseline model**"
      ]
    },
    {
      "cell_type": "code",
      "execution_count": 47,
      "metadata": {
        "id": "gIBRRvdoTsnt",
        "colab": {
          "base_uri": "https://localhost:8080/"
        },
        "outputId": "9bf3f7c8-0ede-49c8-f2fe-2465e25a61df"
      },
      "outputs": [
        {
          "output_type": "stream",
          "name": "stdout",
          "text": [
            "user: A3LDPF5FMB782Z item: 1400501466 r_ui = 5.00   est = 4.67   {'actual_k': 22, 'was_impossible': False}\n"
          ]
        },
        {
          "output_type": "execute_result",
          "data": {
            "text/plain": [
              "Prediction(uid='A3LDPF5FMB782Z', iid='1400501466', r_ui=5, est=4.67427701674277, details={'actual_k': 22, 'was_impossible': False})"
            ]
          },
          "metadata": {},
          "execution_count": 47
        }
      ],
      "source": [
        "# Use sim_item_item_optimized model to recommend for userId \"A3LDPF5FMB782Z\" and productId \"1400501466\"\n",
        "sim_item_item_optimized.predict('A3LDPF5FMB782Z', '1400501466', r_ui=5, verbose=True)"
      ]
    },
    {
      "cell_type": "code",
      "execution_count": 48,
      "metadata": {
        "colab": {
          "base_uri": "https://localhost:8080/"
        },
        "id": "VcfdbOMlOnFK",
        "outputId": "3fe87a2b-8dd3-4e70-df29-a6f356904c18"
      },
      "outputs": [
        {
          "output_type": "stream",
          "name": "stdout",
          "text": [
            "user: A34BZM6S9L7QI4 item: 1400501466 r_ui = 5.00   est = 4.29   {'was_impossible': True, 'reason': 'Not enough neighbors.'}\n"
          ]
        },
        {
          "output_type": "execute_result",
          "data": {
            "text/plain": [
              "Prediction(uid='A34BZM6S9L7QI4', iid='1400501466', r_ui=5, est=4.292024046561495, details={'was_impossible': True, 'reason': 'Not enough neighbors.'})"
            ]
          },
          "metadata": {},
          "execution_count": 48
        }
      ],
      "source": [
        "# Use sim_item_item_optimized model to recommend for userId \"A34BZM6S9L7QI4\" and productId \"1400501466\"\n",
        "sim_item_item_optimized.predict('A34BZM6S9L7QI4', '1400501466', r_ui=5, verbose=True)"
      ]
    },
    {
      "cell_type": "markdown",
      "metadata": {
        "id": "DVhw4ZvKOnFL"
      },
      "source": [
        "**Write your observations here:**\n",
        "\n",
        "There was minimal improvement observed compared to previous models."
      ]
    },
    {
      "cell_type": "markdown",
      "metadata": {
        "id": "MDlNB7tnTsnu"
      },
      "source": [
        "### **Identifying similar items to a given item (nearest neighbors)**"
      ]
    },
    {
      "cell_type": "markdown",
      "metadata": {
        "id": "RLdDiFA6Tsnu"
      },
      "source": [
        "We can also find out **similar items** to a given item or its nearest neighbors based on this **KNNBasic algorithm**. Below we are finding the 5 most similar items to the item with internal id 0 based on the `msd` distance metric."
      ]
    },
    {
      "cell_type": "code",
      "execution_count": 49,
      "metadata": {
        "id": "ZRJS4oDFTsnu",
        "colab": {
          "base_uri": "https://localhost:8080/"
        },
        "outputId": "b89b60d3-2068-4c1d-c1bd-d46cd580a35a"
      },
      "outputs": [
        {
          "output_type": "execute_result",
          "data": {
            "text/plain": [
              "[29, 53, 67, 106, 151]"
            ]
          },
          "metadata": {},
          "execution_count": 49
        }
      ],
      "source": [
        "sim_item_item_optimized.get_neighbors(0, k=5)"
      ]
    },
    {
      "cell_type": "markdown",
      "metadata": {
        "id": "LwGRqlL1OnFL"
      },
      "source": [
        "**Predicting top 5 products for userId = \"A1A5KUIIIHFF4U\" with similarity based recommendation system.**\n",
        "\n",
        "**Hint:** Use the get_recommendations() function."
      ]
    },
    {
      "cell_type": "code",
      "execution_count": null,
      "metadata": {
        "id": "rzoEbuZFTsnu",
        "colab": {
          "base_uri": "https://localhost:8080/"
        },
        "outputId": "1b948c95-3a02-49b3-8305-ecfb35cbcd66"
      },
      "outputs": [
        {
          "output_type": "stream",
          "name": "stdout",
          "text": [
            "[('B0000X0VCY', 5), ('B00029U1DK', 5), ('B0019EHU8G', 5), ('B001MSU1FS', 5), ('B001SJVU6K', 5)]\n"
          ]
        }
      ],
      "source": [
        "# Making top 5 recommendations for user_id A1A5KUIIIHFF4U with similarity-based recommendation engine.\n",
        "recommendations = get_recommendations(df_final, 'A1A5KUIIIHFF4U', 5, sim_item_item_optimized)\n",
        "print(recommendations)"
      ]
    },
    {
      "cell_type": "code",
      "execution_count": 50,
      "metadata": {
        "id": "_kXVTiysTsnv",
        "colab": {
          "base_uri": "https://localhost:8080/",
          "height": 206
        },
        "outputId": "fa524164-f0c3-4a1f-bb7f-aa925464bdcf"
      },
      "outputs": [
        {
          "output_type": "execute_result",
          "data": {
            "text/plain": [
              "      prod_id  predicted_ratings\n",
              "0  B00005LENO                  5\n",
              "1  B000067RT6                  5\n",
              "2  B00006HSML                  5\n",
              "3  B00006I53X                  5\n",
              "4  B00006I5J7                  5"
            ],
            "text/html": [
              "\n",
              "  <div id=\"df-072cab5b-d25b-4339-aa13-53b2ff12fb57\" class=\"colab-df-container\">\n",
              "    <div>\n",
              "<style scoped>\n",
              "    .dataframe tbody tr th:only-of-type {\n",
              "        vertical-align: middle;\n",
              "    }\n",
              "\n",
              "    .dataframe tbody tr th {\n",
              "        vertical-align: top;\n",
              "    }\n",
              "\n",
              "    .dataframe thead th {\n",
              "        text-align: right;\n",
              "    }\n",
              "</style>\n",
              "<table border=\"1\" class=\"dataframe\">\n",
              "  <thead>\n",
              "    <tr style=\"text-align: right;\">\n",
              "      <th></th>\n",
              "      <th>prod_id</th>\n",
              "      <th>predicted_ratings</th>\n",
              "    </tr>\n",
              "  </thead>\n",
              "  <tbody>\n",
              "    <tr>\n",
              "      <th>0</th>\n",
              "      <td>B00005LENO</td>\n",
              "      <td>5</td>\n",
              "    </tr>\n",
              "    <tr>\n",
              "      <th>1</th>\n",
              "      <td>B000067RT6</td>\n",
              "      <td>5</td>\n",
              "    </tr>\n",
              "    <tr>\n",
              "      <th>2</th>\n",
              "      <td>B00006HSML</td>\n",
              "      <td>5</td>\n",
              "    </tr>\n",
              "    <tr>\n",
              "      <th>3</th>\n",
              "      <td>B00006I53X</td>\n",
              "      <td>5</td>\n",
              "    </tr>\n",
              "    <tr>\n",
              "      <th>4</th>\n",
              "      <td>B00006I5J7</td>\n",
              "      <td>5</td>\n",
              "    </tr>\n",
              "  </tbody>\n",
              "</table>\n",
              "</div>\n",
              "    <div class=\"colab-df-buttons\">\n",
              "\n",
              "  <div class=\"colab-df-container\">\n",
              "    <button class=\"colab-df-convert\" onclick=\"convertToInteractive('df-072cab5b-d25b-4339-aa13-53b2ff12fb57')\"\n",
              "            title=\"Convert this dataframe to an interactive table.\"\n",
              "            style=\"display:none;\">\n",
              "\n",
              "  <svg xmlns=\"http://www.w3.org/2000/svg\" height=\"24px\" viewBox=\"0 -960 960 960\">\n",
              "    <path d=\"M120-120v-720h720v720H120Zm60-500h600v-160H180v160Zm220 220h160v-160H400v160Zm0 220h160v-160H400v160ZM180-400h160v-160H180v160Zm440 0h160v-160H620v160ZM180-180h160v-160H180v160Zm440 0h160v-160H620v160Z\"/>\n",
              "  </svg>\n",
              "    </button>\n",
              "\n",
              "  <style>\n",
              "    .colab-df-container {\n",
              "      display:flex;\n",
              "      gap: 12px;\n",
              "    }\n",
              "\n",
              "    .colab-df-convert {\n",
              "      background-color: #E8F0FE;\n",
              "      border: none;\n",
              "      border-radius: 50%;\n",
              "      cursor: pointer;\n",
              "      display: none;\n",
              "      fill: #1967D2;\n",
              "      height: 32px;\n",
              "      padding: 0 0 0 0;\n",
              "      width: 32px;\n",
              "    }\n",
              "\n",
              "    .colab-df-convert:hover {\n",
              "      background-color: #E2EBFA;\n",
              "      box-shadow: 0px 1px 2px rgba(60, 64, 67, 0.3), 0px 1px 3px 1px rgba(60, 64, 67, 0.15);\n",
              "      fill: #174EA6;\n",
              "    }\n",
              "\n",
              "    .colab-df-buttons div {\n",
              "      margin-bottom: 4px;\n",
              "    }\n",
              "\n",
              "    [theme=dark] .colab-df-convert {\n",
              "      background-color: #3B4455;\n",
              "      fill: #D2E3FC;\n",
              "    }\n",
              "\n",
              "    [theme=dark] .colab-df-convert:hover {\n",
              "      background-color: #434B5C;\n",
              "      box-shadow: 0px 1px 3px 1px rgba(0, 0, 0, 0.15);\n",
              "      filter: drop-shadow(0px 1px 2px rgba(0, 0, 0, 0.3));\n",
              "      fill: #FFFFFF;\n",
              "    }\n",
              "  </style>\n",
              "\n",
              "    <script>\n",
              "      const buttonEl =\n",
              "        document.querySelector('#df-072cab5b-d25b-4339-aa13-53b2ff12fb57 button.colab-df-convert');\n",
              "      buttonEl.style.display =\n",
              "        google.colab.kernel.accessAllowed ? 'block' : 'none';\n",
              "\n",
              "      async function convertToInteractive(key) {\n",
              "        const element = document.querySelector('#df-072cab5b-d25b-4339-aa13-53b2ff12fb57');\n",
              "        const dataTable =\n",
              "          await google.colab.kernel.invokeFunction('convertToInteractive',\n",
              "                                                    [key], {});\n",
              "        if (!dataTable) return;\n",
              "\n",
              "        const docLinkHtml = 'Like what you see? Visit the ' +\n",
              "          '<a target=\"_blank\" href=https://colab.research.google.com/notebooks/data_table.ipynb>data table notebook</a>'\n",
              "          + ' to learn more about interactive tables.';\n",
              "        element.innerHTML = '';\n",
              "        dataTable['output_type'] = 'display_data';\n",
              "        await google.colab.output.renderOutput(dataTable, element);\n",
              "        const docLink = document.createElement('div');\n",
              "        docLink.innerHTML = docLinkHtml;\n",
              "        element.appendChild(docLink);\n",
              "      }\n",
              "    </script>\n",
              "  </div>\n",
              "\n",
              "\n",
              "<div id=\"df-c022d682-a39d-4162-85ef-0adbc2869af0\">\n",
              "  <button class=\"colab-df-quickchart\" onclick=\"quickchart('df-c022d682-a39d-4162-85ef-0adbc2869af0')\"\n",
              "            title=\"Suggest charts\"\n",
              "            style=\"display:none;\">\n",
              "\n",
              "<svg xmlns=\"http://www.w3.org/2000/svg\" height=\"24px\"viewBox=\"0 0 24 24\"\n",
              "     width=\"24px\">\n",
              "    <g>\n",
              "        <path d=\"M19 3H5c-1.1 0-2 .9-2 2v14c0 1.1.9 2 2 2h14c1.1 0 2-.9 2-2V5c0-1.1-.9-2-2-2zM9 17H7v-7h2v7zm4 0h-2V7h2v10zm4 0h-2v-4h2v4z\"/>\n",
              "    </g>\n",
              "</svg>\n",
              "  </button>\n",
              "\n",
              "<style>\n",
              "  .colab-df-quickchart {\n",
              "      --bg-color: #E8F0FE;\n",
              "      --fill-color: #1967D2;\n",
              "      --hover-bg-color: #E2EBFA;\n",
              "      --hover-fill-color: #174EA6;\n",
              "      --disabled-fill-color: #AAA;\n",
              "      --disabled-bg-color: #DDD;\n",
              "  }\n",
              "\n",
              "  [theme=dark] .colab-df-quickchart {\n",
              "      --bg-color: #3B4455;\n",
              "      --fill-color: #D2E3FC;\n",
              "      --hover-bg-color: #434B5C;\n",
              "      --hover-fill-color: #FFFFFF;\n",
              "      --disabled-bg-color: #3B4455;\n",
              "      --disabled-fill-color: #666;\n",
              "  }\n",
              "\n",
              "  .colab-df-quickchart {\n",
              "    background-color: var(--bg-color);\n",
              "    border: none;\n",
              "    border-radius: 50%;\n",
              "    cursor: pointer;\n",
              "    display: none;\n",
              "    fill: var(--fill-color);\n",
              "    height: 32px;\n",
              "    padding: 0;\n",
              "    width: 32px;\n",
              "  }\n",
              "\n",
              "  .colab-df-quickchart:hover {\n",
              "    background-color: var(--hover-bg-color);\n",
              "    box-shadow: 0 1px 2px rgba(60, 64, 67, 0.3), 0 1px 3px 1px rgba(60, 64, 67, 0.15);\n",
              "    fill: var(--button-hover-fill-color);\n",
              "  }\n",
              "\n",
              "  .colab-df-quickchart-complete:disabled,\n",
              "  .colab-df-quickchart-complete:disabled:hover {\n",
              "    background-color: var(--disabled-bg-color);\n",
              "    fill: var(--disabled-fill-color);\n",
              "    box-shadow: none;\n",
              "  }\n",
              "\n",
              "  .colab-df-spinner {\n",
              "    border: 2px solid var(--fill-color);\n",
              "    border-color: transparent;\n",
              "    border-bottom-color: var(--fill-color);\n",
              "    animation:\n",
              "      spin 1s steps(1) infinite;\n",
              "  }\n",
              "\n",
              "  @keyframes spin {\n",
              "    0% {\n",
              "      border-color: transparent;\n",
              "      border-bottom-color: var(--fill-color);\n",
              "      border-left-color: var(--fill-color);\n",
              "    }\n",
              "    20% {\n",
              "      border-color: transparent;\n",
              "      border-left-color: var(--fill-color);\n",
              "      border-top-color: var(--fill-color);\n",
              "    }\n",
              "    30% {\n",
              "      border-color: transparent;\n",
              "      border-left-color: var(--fill-color);\n",
              "      border-top-color: var(--fill-color);\n",
              "      border-right-color: var(--fill-color);\n",
              "    }\n",
              "    40% {\n",
              "      border-color: transparent;\n",
              "      border-right-color: var(--fill-color);\n",
              "      border-top-color: var(--fill-color);\n",
              "    }\n",
              "    60% {\n",
              "      border-color: transparent;\n",
              "      border-right-color: var(--fill-color);\n",
              "    }\n",
              "    80% {\n",
              "      border-color: transparent;\n",
              "      border-right-color: var(--fill-color);\n",
              "      border-bottom-color: var(--fill-color);\n",
              "    }\n",
              "    90% {\n",
              "      border-color: transparent;\n",
              "      border-bottom-color: var(--fill-color);\n",
              "    }\n",
              "  }\n",
              "</style>\n",
              "\n",
              "  <script>\n",
              "    async function quickchart(key) {\n",
              "      const quickchartButtonEl =\n",
              "        document.querySelector('#' + key + ' button');\n",
              "      quickchartButtonEl.disabled = true;  // To prevent multiple clicks.\n",
              "      quickchartButtonEl.classList.add('colab-df-spinner');\n",
              "      try {\n",
              "        const charts = await google.colab.kernel.invokeFunction(\n",
              "            'suggestCharts', [key], {});\n",
              "      } catch (error) {\n",
              "        console.error('Error during call to suggestCharts:', error);\n",
              "      }\n",
              "      quickchartButtonEl.classList.remove('colab-df-spinner');\n",
              "      quickchartButtonEl.classList.add('colab-df-quickchart-complete');\n",
              "    }\n",
              "    (() => {\n",
              "      let quickchartButtonEl =\n",
              "        document.querySelector('#df-c022d682-a39d-4162-85ef-0adbc2869af0 button');\n",
              "      quickchartButtonEl.style.display =\n",
              "        google.colab.kernel.accessAllowed ? 'block' : 'none';\n",
              "    })();\n",
              "  </script>\n",
              "</div>\n",
              "\n",
              "    </div>\n",
              "  </div>\n"
            ],
            "application/vnd.google.colaboratory.intrinsic+json": {
              "type": "dataframe",
              "variable_name": "recommendations_df1",
              "summary": "{\n  \"name\": \"recommendations_df1\",\n  \"rows\": 5,\n  \"fields\": [\n    {\n      \"column\": \"prod_id\",\n      \"properties\": {\n        \"dtype\": \"string\",\n        \"num_unique_values\": 5,\n        \"samples\": [\n          \"B000067RT6\",\n          \"B00006I5J7\",\n          \"B00006HSML\"\n        ],\n        \"semantic_type\": \"\",\n        \"description\": \"\"\n      }\n    },\n    {\n      \"column\": \"predicted_ratings\",\n      \"properties\": {\n        \"dtype\": \"number\",\n        \"std\": 0,\n        \"min\": 5,\n        \"max\": 5,\n        \"num_unique_values\": 1,\n        \"samples\": [\n          5\n        ],\n        \"semantic_type\": \"\",\n        \"description\": \"\"\n      }\n    }\n  ]\n}"
            }
          },
          "metadata": {},
          "execution_count": 50
        }
      ],
      "source": [
        "# Building the dataframe for above recommendations with columns \"prod_id\" and \"predicted_ratings\"\n",
        "recommendations_df1 = pd.DataFrame(recommendations, columns=['prod_id', 'predicted_ratings'])\n",
        "recommendations_df1.head()"
      ]
    },
    {
      "cell_type": "markdown",
      "metadata": {
        "id": "DHzmYvs0Tsnv"
      },
      "source": [
        "Now as we have seen **similarity-based collaborative filtering algorithms**, let us now get into **model-based collaborative filtering algorithms**."
      ]
    },
    {
      "cell_type": "markdown",
      "metadata": {
        "id": "rKgJpSA9vOOL"
      },
      "source": [
        "### **Model 3: Model-Based Collaborative Filtering - Matrix Factorization**"
      ]
    },
    {
      "cell_type": "markdown",
      "metadata": {
        "id": "YF6ZGyqhCAob"
      },
      "source": [
        "Model-based Collaborative Filtering is a **personalized recommendation system**, the recommendations are based on the past behavior of the user and it is not dependent on any additional information. We use **latent features** to find recommendations for each user."
      ]
    },
    {
      "cell_type": "markdown",
      "metadata": {
        "id": "n4Otha8ovOOL"
      },
      "source": [
        "### Singular Value Decomposition (SVD)"
      ]
    },
    {
      "cell_type": "markdown",
      "metadata": {
        "id": "3sGl3QkLvOOL"
      },
      "source": [
        "SVD is used to **compute the latent features** from the **user-item matrix**. But SVD does not work when we **miss values** in the **user-item matrix**."
      ]
    },
    {
      "cell_type": "code",
      "execution_count": 51,
      "metadata": {
        "id": "07-2PT5Ssjqm",
        "colab": {
          "base_uri": "https://localhost:8080/"
        },
        "outputId": "f8f04f03-5c19-4e6d-be5e-e936871dcbe8"
      },
      "outputs": [
        {
          "output_type": "stream",
          "name": "stdout",
          "text": [
            "RMSE: 0.8922\n",
            "Precision:  0.851\n",
            "Recall:  0.878\n",
            "F_1 score:  0.864\n"
          ]
        }
      ],
      "source": [
        "# Using SVD matrix factorization. Use random_state = 1\n",
        "svd_factorization = SVD()\n",
        "# Training the algorithm on the trainset\n",
        "svd_factorization.fit(trainset)\n",
        "# predicting ratings for the testset\n",
        "predictions = svd_factorization.test(testset)\n",
        "# Use the function precision_recall_at_k to compute precision@k, recall@k, F1-Score, and RMSE\n",
        "precision_recall_at_k(svd_factorization, 10, 3.5)"
      ]
    },
    {
      "cell_type": "markdown",
      "metadata": {
        "id": "BQ6fTuCDnVNL"
      },
      "source": [
        "**Write your observations here:**\n",
        "The model achieved an RMSE of 0.8918, reflecting its average prediction error in rating. It demonstrated a precision of 0.852, indicating the proportion of recommended items that were relevant, and a recall of 0.877, showing the proportion of relevant items successfully recommended. The F1 score, combining precision and recall, was 0.864, suggesting overall effective performance in rating prediction and recommendation relevance."
      ]
    },
    {
      "cell_type": "markdown",
      "metadata": {
        "id": "D1F9XK1BOnFM"
      },
      "source": [
        "**Let's now predict the rating for a user with `userId = \"A3LDPF5FMB782Z\"` and `prod_id = \"1400501466`.**"
      ]
    },
    {
      "cell_type": "code",
      "execution_count": 52,
      "metadata": {
        "id": "yWIhfdxXsjqm",
        "colab": {
          "base_uri": "https://localhost:8080/"
        },
        "outputId": "919a742a-e582-4bc0-fc36-6d37a9c46f7e"
      },
      "outputs": [
        {
          "output_type": "stream",
          "name": "stdout",
          "text": [
            "user: A3LDPF5FMB782Z item: 1400501466 r_ui = 5.00   est = 4.13   {'was_impossible': False}\n"
          ]
        },
        {
          "output_type": "execute_result",
          "data": {
            "text/plain": [
              "Prediction(uid='A3LDPF5FMB782Z', iid='1400501466', r_ui=5, est=4.131737672678774, details={'was_impossible': False})"
            ]
          },
          "metadata": {},
          "execution_count": 52
        }
      ],
      "source": [
        "# Making prediction\n",
        "svd_factorization.predict('A3LDPF5FMB782Z', '1400501466', r_ui=5, verbose=True)\n"
      ]
    },
    {
      "cell_type": "markdown",
      "metadata": {
        "id": "oIjzqDY5nVNM"
      },
      "source": [
        "**Write your observations here:**\n",
        "\n",
        "The model predicted a rating of 4.20 for the item, while the user actually rated it 5. This indicates the model underestimated the user's rating. The prediction was successful (`was_impossible=False`), indicating the model was able to make a valid prediction for this user-item pair."
      ]
    },
    {
      "cell_type": "markdown",
      "metadata": {
        "id": "I1aYxVeMnVNM"
      },
      "source": [
        "**Below we are predicting rating for the `userId = \"A34BZM6S9L7QI4\"` and `productId = \"1400501466\"`.**"
      ]
    },
    {
      "cell_type": "code",
      "execution_count": 53,
      "metadata": {
        "id": "APm-uMSvcAMf",
        "colab": {
          "base_uri": "https://localhost:8080/"
        },
        "outputId": "61bc1329-87a1-4819-c866-aa9106650f04"
      },
      "outputs": [
        {
          "output_type": "stream",
          "name": "stdout",
          "text": [
            "user: A34BZM6S9L7QI4 item: 1400501466 r_ui = 5.00   est = 4.24   {'was_impossible': False}\n"
          ]
        },
        {
          "output_type": "execute_result",
          "data": {
            "text/plain": [
              "Prediction(uid='A34BZM6S9L7QI4', iid='1400501466', r_ui=5, est=4.241351107814052, details={'was_impossible': False})"
            ]
          },
          "metadata": {},
          "execution_count": 53
        }
      ],
      "source": [
        "# Making prediction\n",
        "svd_factorization.predict('A34BZM6S9L7QI4', '1400501466', r_ui=5, verbose=True)"
      ]
    },
    {
      "cell_type": "markdown",
      "metadata": {
        "id": "NEL6dy3wnVNM"
      },
      "source": [
        "**Write your observations here:**\n",
        "\n",
        "The model's estimate for the item was 4.17, whereas the user rated it 5, indicating the model underestimated the user's rating. This prediction was successful (`was_impossible=False`), indicating the model successfully generated a rating estimate for this user-item interaction."
      ]
    },
    {
      "cell_type": "markdown",
      "metadata": {
        "id": "x13Eb9Owvpcw"
      },
      "source": [
        "### **Improving Matrix Factorization based recommendation system by tuning its hyperparameters**"
      ]
    },
    {
      "cell_type": "markdown",
      "metadata": {
        "id": "iQcDPhhcnVNN"
      },
      "source": [
        "Below we will be tuning only three hyperparameters:\n",
        "- **n_epochs**: The number of iterations of the SGD algorithm.\n",
        "- **lr_all**: The learning rate for all parameters.\n",
        "- **reg_all**: The regularization term for all parameters."
      ]
    },
    {
      "cell_type": "code",
      "execution_count": 54,
      "metadata": {
        "id": "4bM81V_hvtwv",
        "colab": {
          "base_uri": "https://localhost:8080/"
        },
        "outputId": "9897aba5-0c81-47d5-9fad-7267aae6fc76"
      },
      "outputs": [
        {
          "output_type": "stream",
          "name": "stdout",
          "text": [
            "1.0445783907404156\n",
            "{'n_epochs': 10, 'lr_all': 0.001, 'reg_all': 0.2}\n"
          ]
        }
      ],
      "source": [
        "# Set the parameter space to tune\n",
        "param_grid = {'n_epochs': [10, 20, 30], 'lr_all': [0.001, 0.005, 0.01],\n",
        "              'reg_all': [0.2, 0.4, 0.6]}\n",
        "# Performing 3-fold gridsearch cross-validation\n",
        "fold3_gs = GridSearchCV(KNNBasic, param_grid, measures=['rmse', 'mae'], cv=3, n_jobs=-1)\n",
        "# Fitting data\n",
        "fold3_gs.fit(data)\n",
        "# Best RMSE score\n",
        "print(fold3_gs.best_score['rmse'])\n",
        "# Combination of parameters that gave the best RMSE score\n",
        "print(fold3_gs.best_params['rmse'])"
      ]
    },
    {
      "cell_type": "markdown",
      "metadata": {
        "id": "KzY78HsrnVNO"
      },
      "source": [
        "Now, we will **the build final model** by using **tuned values** of the hyperparameters, which we received using grid search cross-validation above."
      ]
    },
    {
      "cell_type": "code",
      "execution_count": 56,
      "metadata": {
        "id": "TA_7xe-nnhuu",
        "colab": {
          "base_uri": "https://localhost:8080/"
        },
        "outputId": "ca0d83a1-44b5-4e14-e3e9-d30765d02d31"
      },
      "outputs": [
        {
          "output_type": "stream",
          "name": "stdout",
          "text": [
            "RMSE: 0.8814\n",
            "Precision:  0.853\n",
            "Recall:  0.874\n",
            "F_1 score:  0.863\n"
          ]
        }
      ],
      "source": [
        "# Build the optimized SVD model using optimal hyperparameter search. Use random_state=1\n",
        "svd_factor_optimized = SVD(n_epochs=30, lr_all=0.01, reg_all=0.2, random_state=1)\n",
        "# Train the algorithm on the trainset\n",
        "svd_factor_optimized.fit(trainset)\n",
        " # predicting ratings for the testset\n",
        "predictions = svd_factor_optimized.test(testset)\n",
        "# Use the function precision_recall_at_k to compute precision@k, recall@k, F1-Score, and RMSE\n",
        "precision_recall_at_k(svd_factor_optimized, 10, 3.5)"
      ]
    },
    {
      "cell_type": "markdown",
      "metadata": {
        "id": "9HJvPsjITsny"
      },
      "source": [
        "**Write your observations here:**\n",
        "\n",
        "The RMSE of 0.8814 indicates the model's predictions are quite accurate. With a precision of 0.853 and recall of 0.874, the model effectively identifies both relevant and non-relevant items. The F1 score of 0.863 further confirms the model's strong overall performance."
      ]
    },
    {
      "cell_type": "markdown",
      "metadata": {
        "id": "mg7bo_NuOnFN"
      },
      "source": [
        "### **Steps:**\n",
        "- **Predict rating for the user with `userId=\"A3LDPF5FMB782Z\"`, and `prod_id= \"1400501466\"` using the optimized model**\n",
        "- **Predict rating for `userId=\"A34BZM6S9L7QI4\"` who has not interacted with `prod_id =\"1400501466\"`, by using the optimized model**\n",
        "- **Compare the output with the output from the baseline model**"
      ]
    },
    {
      "cell_type": "code",
      "execution_count": 57,
      "metadata": {
        "colab": {
          "base_uri": "https://localhost:8080/"
        },
        "id": "HT_aqh-pOnFN",
        "outputId": "c9deb849-09e4-4f38-b00e-8cae0852c220"
      },
      "outputs": [
        {
          "output_type": "stream",
          "name": "stdout",
          "text": [
            "user: A3LDPF5FMB782Z item: 1400501466 r_ui = 5.00   est = 4.24   {'was_impossible': False}\n"
          ]
        },
        {
          "output_type": "execute_result",
          "data": {
            "text/plain": [
              "Prediction(uid='A3LDPF5FMB782Z', iid='1400501466', r_ui=5, est=4.238900563954771, details={'was_impossible': False})"
            ]
          },
          "metadata": {},
          "execution_count": 57
        }
      ],
      "source": [
        "# Use svd_algo_optimized model to recommend for userId \"A3LDPF5FMB782Z\" and productId \"1400501466\"\n",
        "svd_factor_optimized.predict('A3LDPF5FMB782Z', '1400501466', r_ui=5, verbose=True)"
      ]
    },
    {
      "cell_type": "code",
      "execution_count": 58,
      "metadata": {
        "colab": {
          "base_uri": "https://localhost:8080/"
        },
        "id": "-dyTQ_SOOnFN",
        "outputId": "b169a02d-2f22-4977-d13a-6abff60c241a"
      },
      "outputs": [
        {
          "output_type": "stream",
          "name": "stdout",
          "text": [
            "user: A34BZM6S9L7QI4 item: 1400501466 r_ui = 5.00   est = 4.20   {'was_impossible': False}\n"
          ]
        },
        {
          "output_type": "execute_result",
          "data": {
            "text/plain": [
              "Prediction(uid='A34BZM6S9L7QI4', iid='1400501466', r_ui=5, est=4.204418940307481, details={'was_impossible': False})"
            ]
          },
          "metadata": {},
          "execution_count": 58
        }
      ],
      "source": [
        "# Use svd_algo_optimized model to recommend for userId \"A34BZM6S9L7QI4\" and productId \"1400501466\"\n",
        "svd_factor_optimized.predict('A34BZM6S9L7QI4', '1400501466', r_ui=5, verbose=True)"
      ]
    },
    {
      "cell_type": "markdown",
      "metadata": {
        "id": "nnwPwgjB8DwS"
      },
      "source": [
        "### **Conclusion and Recommendations**\n",
        "\n",
        "We experimented with three different recommendation systems: rank-based using averages, similarity-based collaborative filtering (both user-user and item-item), and model-based collaborative filtering using matrix factorization. We evaluated these models by predicting user ratings.\n",
        "\n",
        "After hyperparameter tuning and optimization, the user-user collaborative filtering model achieved the best RMSE of 4.85, closely approximating the true rating of 5. This model demonstrated superior prediction accuracy compared to the other two.\n",
        "\n",
        "However, when considering RMSE alone, the matrix factorization model performed best with an RMSE of 0.88, outperforming the other models. Despite attempts to optimize the item-item similarity model and matrix factorization, they did not significantly enhance prediction accuracy.\n",
        "\n",
        "Overall, all recommendation systems showed reasonable predictive capability, but none emerged as a standout model to rely on exclusively."
      ]
    }
  ],
  "metadata": {
    "colab": {
      "provenance": [],
      "include_colab_link": true
    },
    "kernelspec": {
      "display_name": "Python 3 (ipykernel)",
      "language": "python",
      "name": "python3"
    },
    "language_info": {
      "codemirror_mode": {
        "name": "ipython",
        "version": 3
      },
      "file_extension": ".py",
      "mimetype": "text/x-python",
      "name": "python",
      "nbconvert_exporter": "python",
      "pygments_lexer": "ipython3",
      "version": "3.9.7"
    }
  },
  "nbformat": 4,
  "nbformat_minor": 0
}